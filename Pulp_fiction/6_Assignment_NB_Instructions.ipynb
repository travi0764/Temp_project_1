{
 "cells": [
  {
   "cell_type": "markdown",
   "metadata": {
    "colab_type": "text",
    "id": "Dnubs-Nnb3cw"
   },
   "source": [
    "# Assignment 6: Apply NB"
   ]
  },
  {
   "cell_type": "markdown",
   "metadata": {
    "colab_type": "text",
    "id": "12krXa2pb3c1"
   },
   "source": [
    "<ol>\n",
    "    <li><strong>Apply Multinomial NB on these feature sets</strong>\n",
    "        <ul>\n",
    "            <li><font color='red'>Set 1</font>: categorical, numerical features + preprocessed_eassay (BOW)</li>\n",
    "            <li><font color='red'>Set 2</font>: categorical, numerical features + preprocessed_eassay (TFIDF)</li>\n",
    "        </ul>\n",
    "    </li>\n",
    "    <li><strong>The hyper paramter tuning(find best alpha:smoothing parameter)</strong>\n",
    "        <ul>\n",
    "    <li>Find the best hyper parameter which will give the maximum <a href='https://www.appliedaicourse.com/course/applied-ai-course-online/lessons/receiver-operating-characteristic-curve-roc-curve-and-auc-1/'>AUC</a> value</li>\n",
    "    <li>find the best hyper paramter using k-fold cross validation(use GridsearchCV or RandomsearchCV)/simple cross validation data (write for loop to iterate over hyper parameter values)</li>\n",
    "    <li></li>\n",
    "        </ul>\n",
    "    </li>\n",
    "    <li>\n",
    "    <strong>Representation of results</strong>\n",
    "        <ul>\n",
    "    <li>You need to plot the performance of model both on train data and cross validation data for each hyper parameter, like shown in the figure\n",
    "    <img src='https://i.imgur.com/hUv6aEy.jpg' width=300px></li>\n",
    "    <li>Once after you found the best hyper parameter, you need to train your model with it, and find the AUC on test data and plot the ROC curve on both train and test.\n",
    "    <img src='https://i.imgur.com/wMQDTFe.jpg' width=300px></li>\n",
    "    <li>Along with plotting ROC curve, you need to print the <a href='https://www.appliedaicourse.com/course/applied-ai-course-online/lessons/confusion-matrix-tpr-fpr-fnr-tnr-1/'>confusion matrix</a> with predicted and original labels of test data points\n",
    "    <img src='https://i.imgur.com/IdN5Ctv.png' width=300px></li>\n",
    "        </ul>\n",
    "    </li>\n",
    "    <li>\n",
    "fine the top 20 features from either from feature <font color='red'>Set 1</font> or feature <font color='red'>Set 2</font> using absolute values of `feature_log_prob_ ` parameter of `MultinomialNB` \n",
    "(https://scikit-learn.org/stable/modules/generated/sklearn.naive_bayes.MultinomialNB.html) and print their corresponding feature names\n",
    "    </li>\n",
    "    <li>You need to summarize the results at the end of the notebook, summarize it in the table format\n",
    "        <img src='http://i.imgur.com/YVpIGGE.jpg' width=400px>\n",
    "    </li>\n",
    "</ol>"
   ]
  },
  {
   "cell_type": "markdown",
   "metadata": {
    "colab_type": "text",
    "id": "inzYCIaib3c3"
   },
   "source": [
    "<h1>2. Naive Bayes </h1>"
   ]
  },
  {
   "cell_type": "markdown",
   "metadata": {
    "colab_type": "text",
    "id": "FYqCIxzFb3c5"
   },
   "source": [
    "## 1.1 Loading Data"
   ]
  },
  {
   "cell_type": "code",
   "execution_count": 1,
   "metadata": {},
   "outputs": [
    {
     "ename": "ModuleNotFoundError",
     "evalue": "No module named 'chart_studio'",
     "output_type": "error",
     "traceback": [
      "\u001b[0;31m---------------------------------------------------------------------------\u001b[0m",
      "\u001b[0;31mModuleNotFoundError\u001b[0m                       Traceback (most recent call last)",
      "\u001b[0;32m/var/folders/h5/l574k7xd1rz2s2cg4wvtt1q00000gn/T/ipykernel_9536/1114925783.py\u001b[0m in \u001b[0;36m<module>\u001b[0;34m\u001b[0m\n\u001b[1;32m     21\u001b[0m \u001b[0;32mfrom\u001b[0m \u001b[0mtqdm\u001b[0m \u001b[0;32mimport\u001b[0m \u001b[0mtqdm\u001b[0m\u001b[0;34m\u001b[0m\u001b[0;34m\u001b[0m\u001b[0m\n\u001b[1;32m     22\u001b[0m \u001b[0;32mimport\u001b[0m \u001b[0mos\u001b[0m\u001b[0;34m\u001b[0m\u001b[0;34m\u001b[0m\u001b[0m\n\u001b[0;32m---> 23\u001b[0;31m \u001b[0;32mimport\u001b[0m \u001b[0mchart_studio\u001b[0m\u001b[0;34m.\u001b[0m\u001b[0mplotly\u001b[0m\u001b[0;34m\u001b[0m\u001b[0;34m\u001b[0m\u001b[0m\n\u001b[0m\u001b[1;32m     24\u001b[0m \u001b[0;32mimport\u001b[0m \u001b[0mplotly\u001b[0m\u001b[0;34m\u001b[0m\u001b[0;34m\u001b[0m\u001b[0m\n\u001b[1;32m     25\u001b[0m \u001b[0;32mimport\u001b[0m \u001b[0mplotly\u001b[0m\u001b[0;34m.\u001b[0m\u001b[0moffline\u001b[0m \u001b[0;32mas\u001b[0m \u001b[0moffline\u001b[0m\u001b[0;34m\u001b[0m\u001b[0;34m\u001b[0m\u001b[0m\n",
      "\u001b[0;31mModuleNotFoundError\u001b[0m: No module named 'chart_studio'"
     ]
    }
   ],
   "source": [
    "%matplotlib inline\n",
    "import warnings\n",
    "warnings.filterwarnings(\"ignore\")\n",
    "\n",
    "import pandas as pd\n",
    "import numpy as np\n",
    "import nltk\n",
    "import matplotlib.pyplot as plt\n",
    "import seaborn as sns\n",
    "from sklearn.feature_extraction.text import TfidfVectorizer\n",
    "from sklearn.feature_extraction.text import CountVectorizer\n",
    "from sklearn.metrics import confusion_matrix\n",
    "from sklearn import metrics\n",
    "from sklearn.metrics import roc_curve, auc\n",
    "from sklearn.naive_bayes import MultinomialNB\n",
    "\n",
    "import re\n",
    "# Tutorial about Python regular expressions: https://pymotw.com/2/re/\n",
    "\n",
    "import pickle\n",
    "from tqdm import tqdm\n",
    "import os\n",
    "import chart_studio.plotly\n",
    "import plotly\n",
    "import plotly.offline as offline\n",
    "import plotly.graph_objs as go\n",
    "offline.init_notebook_mode()\n",
    "from collections import Counter"
   ]
  },
  {
   "cell_type": "code",
   "execution_count": 2,
   "metadata": {
    "colab": {},
    "colab_type": "code",
    "id": "dA1jknyqb3c_"
   },
   "outputs": [],
   "source": [
    "import pandas\n",
    "data = pandas.read_csv('preprocessed_data.csv')"
   ]
  },
  {
   "cell_type": "markdown",
   "metadata": {
    "colab_type": "text",
    "id": "WtVV13Fyb3dH"
   },
   "source": [
    "<h2>1.2 Splitting data into Train and cross validation(or test): Stratified Sampling</h2>"
   ]
  },
  {
   "cell_type": "code",
   "execution_count": 3,
   "metadata": {
    "colab": {},
    "colab_type": "code",
    "id": "i-PyprDNb3dI"
   },
   "outputs": [
    {
     "name": "stdout",
     "output_type": "stream",
     "text": [
      "(61452, 8) (61452,)\n",
      "(20484, 8) (20484,)\n",
      "(27312, 8) (27312,)\n"
     ]
    }
   ],
   "source": [
    "# please write all the code with proper documentation, and proper titles for each subsection\n",
    "# go through documentations and blogs before you start coding\n",
    "# first figure out what to do, and then think about how to do.\n",
    "# reading and understanding error messages will be very much helpfull in debugging your code\n",
    "# when you plot any graph make sure you use \n",
    "    # a. Title, that describes your plot, this will be very helpful to the reader\n",
    "    # b. Legends if needed\n",
    "    # c. X-axis label\n",
    "    # d. Y-axis label\n",
    "y=data['project_is_approved']\n",
    "x=data.drop(['project_is_approved'],axis=1)\n",
    "\n",
    "from sklearn.model_selection import train_test_split\n",
    "X_train, X_test, y_train, y_test = train_test_split(x, y, test_size=0.25, stratify=y)\n",
    "X_train, X_cv, y_train, y_cv = train_test_split(X_train, y_train, test_size=0.25, stratify=y_train)\n",
    "\n",
    "print(X_train.shape, y_train.shape)\n",
    "print(X_cv.shape, y_cv.shape)\n",
    "print(X_test.shape, y_test.shape)"
   ]
  },
  {
   "cell_type": "markdown",
   "metadata": {
    "colab_type": "text",
    "id": "EnZwVNULb3dO"
   },
   "source": [
    "<h2>1.3 Make Data Model Ready: encoding eassay, and project_title</h2>"
   ]
  },
  {
   "cell_type": "code",
   "execution_count": 4,
   "metadata": {
    "colab": {},
    "colab_type": "code",
    "id": "-SczZKiab3dR"
   },
   "outputs": [
    {
     "name": "stdout",
     "output_type": "stream",
     "text": [
      "After BOW vectorizations\n",
      "(61452, 211837) (61452,)\n",
      "(20484, 211837) (20484,)\n",
      "(27312, 211837) (27312,)\n",
      "====================================================================================================\n",
      "After TFIDF vectorizations\n",
      "(61452, 211837) (61452,)\n",
      "(20484, 211837) (20484,)\n",
      "(27312, 211837) (27312,)\n",
      "====================================================================================================\n"
     ]
    }
   ],
   "source": [
    "# please write all the code with proper documentation, and proper titles for each subsection\n",
    "# go through documentations and blogs before you start coding\n",
    "# first figure out what to do, and then think about how to do.\n",
    "# reading and understanding error messages will be very much helpfull in debugging your code\n",
    "# make sure you featurize train and test data separatly\n",
    "\n",
    "# when you plot any graph make sure you use \n",
    "    # a. Title, that describes your plot, this will be very helpful to the reader\n",
    "    # b. Legends if needed\n",
    "    # c. X-axis label\n",
    "    # d. Y-axis label\n",
    "vectorizer1 = CountVectorizer(min_df=10,ngram_range=(1,4))\n",
    "vectorizer1.fit(X_train['essay'].values) # fit has to happen only on train data\n",
    "\n",
    "\n",
    "X_train_essay_bow = vectorizer1.transform(X_train['essay'].values)\n",
    "X_cv_essay_bow = vectorizer1.transform(X_cv['essay'].values)\n",
    "X_test_essay_bow = vectorizer1.transform(X_test['essay'].values)\n",
    "\n",
    "print(\"After BOW vectorizations\")\n",
    "print(X_train_essay_bow.shape, y_train.shape)\n",
    "print(X_cv_essay_bow.shape, y_cv.shape)\n",
    "print(X_test_essay_bow.shape, y_test.shape)\n",
    "print(\"=\"*100)\n",
    "\n",
    "###############################################################################\n",
    "#fitting tfidf vectorizer for set 2\n",
    "vectorizer_tfidf1 = TfidfVectorizer(min_df=10,ngram_range=(1,4))\n",
    "vectorizer_tfidf1.fit(X_train['essay'].values) \n",
    "\n",
    "\n",
    "X_train_essay_tfidf = vectorizer_tfidf1.transform(X_train['essay'].values)\n",
    "X_cv_essay_tfidf = vectorizer_tfidf1.transform(X_cv['essay'].values)\n",
    "X_test_essay_tfidf = vectorizer_tfidf1.transform(X_test['essay'].values)\n",
    "\n",
    "print(\"After TFIDF vectorizations\")\n",
    "print(X_train_essay_tfidf.shape, y_train.shape)\n",
    "print(X_cv_essay_tfidf.shape, y_cv.shape)\n",
    "print(X_test_essay_tfidf.shape, y_test.shape)\n",
    "print(\"=\"*100)"
   ]
  },
  {
   "cell_type": "markdown",
   "metadata": {
    "colab_type": "text",
    "id": "bGy86kgHb3dX"
   },
   "source": [
    "<h2>1.4 Make Data Model Ready: encoding numerical, categorical features</h2>"
   ]
  },
  {
   "cell_type": "code",
   "execution_count": 34,
   "metadata": {
    "colab": {},
    "colab_type": "code",
    "id": "EfXkofX1b3da"
   },
   "outputs": [
    {
     "name": "stdout",
     "output_type": "stream",
     "text": [
      "After BOW vectorizations\n",
      "(61452, 51) (61452,)\n",
      "(20484, 51) (20484,)\n",
      "(27312, 51) (27312,)\n",
      "['ak', 'al', 'ar', 'az', 'ca', 'co', 'ct', 'dc', 'de', 'fl', 'ga', 'hi', 'ia', 'id', 'il', 'in', 'ks', 'ky', 'la', 'ma', 'md', 'me', 'mi', 'mn', 'mo', 'ms', 'mt', 'nc', 'nd', 'ne', 'nh', 'nj', 'nm', 'nv', 'ny', 'oh', 'ok', 'or', 'pa', 'ri', 'sc', 'sd', 'tn', 'tx', 'ut', 'va', 'vt', 'wa', 'wi', 'wv', 'wy']\n",
      "====================================================================================================\n",
      "After TFIDF vectorizations\n",
      "(61452, 51) (61452,)\n",
      "(20484, 51) (20484,)\n",
      "(27312, 51) (27312,)\n",
      "['ak', 'al', 'ar', 'az', 'ca', 'co', 'ct', 'dc', 'de', 'fl', 'ga', 'hi', 'ia', 'id', 'il', 'in', 'ks', 'ky', 'la', 'ma', 'md', 'me', 'mi', 'mn', 'mo', 'ms', 'mt', 'nc', 'nd', 'ne', 'nh', 'nj', 'nm', 'nv', 'ny', 'oh', 'ok', 'or', 'pa', 'ri', 'sc', 'sd', 'tn', 'tx', 'ut', 'va', 'vt', 'wa', 'wi', 'wv', 'wy']\n",
      "====================================================================================================\n"
     ]
    }
   ],
   "source": [
    "# please write all the code with proper documentation, and proper titles for each subsection\n",
    "# go through documentations and blogs before you start coding \n",
    "# first figure out what to do, and then think about how to do.\n",
    "# reading and understanding error messages will be very much helpfull in debugging your code\n",
    "# make sure you featurize train and test data separatly\n",
    "\n",
    "# when you plot any graph make sure you use \n",
    "    # a. Title, that describes your plot, this will be very helpful to the reader\n",
    "    # b. Legends if needed\n",
    "    # c. X-axis label\n",
    "    # d. Y-axis label\n",
    "vectorizer2 = CountVectorizer()\n",
    "vectorizer2.fit(X_train['school_state'].values) \n",
    "\n",
    "\n",
    "X_train_state_ohe_bow = vectorizer2.transform(X_train['school_state'].values)\n",
    "X_cv_state_ohe_bow = vectorizer2.transform(X_cv['school_state'].values)\n",
    "X_test_state_ohe_bow = vectorizer2.transform(X_test['school_state'].values)\n",
    "\n",
    "print(\"After BOW vectorizations\")\n",
    "print(X_train_state_ohe_bow.shape, y_train.shape)\n",
    "print(X_cv_state_ohe_bow.shape, y_cv.shape)\n",
    "print(X_test_state_ohe_bow.shape, y_test.shape)\n",
    "print(vectorizer2.get_feature_names())\n",
    "print(\"=\"*100)\n",
    "\n",
    "###############################################################################\n",
    "#fitting tfidf vectorizer for set 2\n",
    "\n",
    "vectorizer_tfidf2 = TfidfVectorizer()\n",
    "vectorizer_tfidf2.fit(X_train['school_state'].values)\n",
    "\n",
    "X_train_state_ohe_tfidf = vectorizer_tfidf2.transform(X_train['school_state'].values)\n",
    "X_cv_state_ohe_tfidf = vectorizer_tfidf2.transform(X_cv['school_state'].values)\n",
    "X_test_state_ohe_tfidf = vectorizer_tfidf2.transform(X_test['school_state'].values)\n",
    "\n",
    "print(\"After TFIDF vectorizations\")\n",
    "print(X_train_state_ohe_tfidf.shape, y_train.shape)\n",
    "print(X_cv_state_ohe_tfidf.shape, y_cv.shape)\n",
    "print(X_test_state_ohe_tfidf.shape, y_test.shape)\n",
    "print(vectorizer_tfidf2.get_feature_names())\n",
    "print(\"=\"*100)\n",
    "z2=X_train_essay_bow.shape[1]+X_train_state_ohe_bow.shape[1]"
   ]
  },
  {
   "cell_type": "markdown",
   "metadata": {},
   "source": [
    "# encoding teacher prefix both in bow and tfidf"
   ]
  },
  {
   "cell_type": "code",
   "execution_count": 35,
   "metadata": {},
   "outputs": [
    {
     "name": "stdout",
     "output_type": "stream",
     "text": [
      "After BOW vectorizations\n",
      "(61452, 5) (61452,)\n",
      "(20484, 5) (20484,)\n",
      "(27312, 5) (27312,)\n",
      "['dr', 'mr', 'mrs', 'ms', 'teacher']\n",
      "====================================================================================================\n",
      "After TFIDF vectorizations\n",
      "(61452, 5) (61452,)\n",
      "(20484, 5) (20484,)\n",
      "(27312, 5) (27312,)\n",
      "['dr', 'mr', 'mrs', 'ms', 'teacher']\n",
      "====================================================================================================\n"
     ]
    }
   ],
   "source": [
    "vectorizer3 = CountVectorizer()\n",
    "vectorizer3.fit(X_train['teacher_prefix'].values) \n",
    "\n",
    "\n",
    "X_train_teacher_ohe_bow = vectorizer3.transform(X_train['teacher_prefix'].values)\n",
    "X_cv_teacher_ohe_bow = vectorizer3.transform(X_cv['teacher_prefix'].values)\n",
    "X_test_teacher_ohe_bow = vectorizer3.transform(X_test['teacher_prefix'].values)\n",
    "\n",
    "print(\"After BOW vectorizations\")\n",
    "print(X_train_teacher_ohe_bow.shape, y_train.shape)\n",
    "print(X_cv_teacher_ohe_bow.shape, y_cv.shape)\n",
    "print(X_test_teacher_ohe_bow.shape, y_test.shape)\n",
    "print(vectorizer3.get_feature_names())\n",
    "print(\"=\"*100)\n",
    "\n",
    "\n",
    "###############################################################################\n",
    "#fitting tfidf vectorizer for set 2\n",
    "\n",
    "vectorizer_tfidf3 = TfidfVectorizer()\n",
    "vectorizer_tfidf3.fit(X_train['teacher_prefix'].values) \n",
    "\n",
    "\n",
    "X_train_teacher_ohe_tfidf = vectorizer_tfidf3.transform(X_train['teacher_prefix'].values)\n",
    "X_cv_teacher_ohe_tfidf = vectorizer_tfidf3.transform(X_cv['teacher_prefix'].values)\n",
    "X_test_teacher_ohe_tfidf = vectorizer_tfidf3.transform(X_test['teacher_prefix'].values)\n",
    "\n",
    "print(\"After TFIDF vectorizations\")\n",
    "print(X_train_teacher_ohe_tfidf.shape, y_train.shape)\n",
    "print(X_cv_teacher_ohe_tfidf.shape, y_cv.shape)\n",
    "print(X_test_teacher_ohe_tfidf.shape, y_test.shape)\n",
    "print(vectorizer_tfidf3.get_feature_names())\n",
    "print(\"=\"*100)\n",
    "z3=z2+X_train_teacher_ohe_bow.shape[1]"
   ]
  },
  {
   "cell_type": "markdown",
   "metadata": {},
   "source": [
    "# encoding project_grade_category"
   ]
  },
  {
   "cell_type": "code",
   "execution_count": 36,
   "metadata": {},
   "outputs": [
    {
     "name": "stdout",
     "output_type": "stream",
     "text": [
      "After BOW vectorizations\n",
      "(61452, 4) (61452,)\n",
      "(20484, 4) (20484,)\n",
      "(27312, 4) (27312,)\n",
      "['grades_3_5', 'grades_6_8', 'grades_9_12', 'grades_prek_2']\n",
      "====================================================================================================\n",
      "After TFIDF vectorizations\n",
      "(61452, 4) (61452,)\n",
      "(20484, 4) (20484,)\n",
      "(27312, 4) (27312,)\n",
      "['grades_3_5', 'grades_6_8', 'grades_9_12', 'grades_prek_2']\n",
      "====================================================================================================\n"
     ]
    }
   ],
   "source": [
    "vectorizer4 = CountVectorizer()\n",
    "vectorizer4.fit(X_train['project_grade_category'].values) \n",
    "\n",
    "\n",
    "X_train_grade_ohe_bow = vectorizer4.transform(X_train['project_grade_category'].values)\n",
    "X_cv_grade_ohe_bow = vectorizer4.transform(X_cv['project_grade_category'].values)\n",
    "X_test_grade_ohe_bow = vectorizer4.transform(X_test['project_grade_category'].values)\n",
    "\n",
    "print(\"After BOW vectorizations\")\n",
    "print(X_train_grade_ohe_bow.shape, y_train.shape)\n",
    "print(X_cv_grade_ohe_bow.shape, y_cv.shape)\n",
    "print(X_test_grade_ohe_bow.shape, y_test.shape)\n",
    "print(vectorizer4.get_feature_names())\n",
    "print(\"=\"*100)\n",
    "\n",
    "###############################################################################\n",
    "#fitting tfidf vectorizer for set 2\n",
    "\n",
    "vectorizer_tfidf4 = TfidfVectorizer()\n",
    "vectorizer_tfidf4.fit(X_train['project_grade_category'].values) \n",
    "\n",
    "\n",
    "X_train_grade_ohe_tfidf = vectorizer_tfidf4.transform(X_train['project_grade_category'].values)\n",
    "X_cv_grade_ohe_tfidf = vectorizer_tfidf4.transform(X_cv['project_grade_category'].values)\n",
    "X_test_grade_ohe_tfidf = vectorizer_tfidf4.transform(X_test['project_grade_category'].values)\n",
    "\n",
    "print(\"After TFIDF vectorizations\")\n",
    "print(X_train_grade_ohe_tfidf.shape, y_train.shape)\n",
    "print(X_cv_grade_ohe_tfidf.shape, y_cv.shape)\n",
    "print(X_test_grade_ohe_tfidf.shape, y_test.shape)\n",
    "print(vectorizer_tfidf4.get_feature_names())\n",
    "print(\"=\"*100)\n",
    "z4=z3+X_train_grade_ohe_bow.shape[1]"
   ]
  },
  {
   "cell_type": "markdown",
   "metadata": {},
   "source": [
    "# encoding clean categories"
   ]
  },
  {
   "cell_type": "code",
   "execution_count": 37,
   "metadata": {},
   "outputs": [
    {
     "name": "stdout",
     "output_type": "stream",
     "text": [
      "After BOW vectorizations\n",
      "(61452, 9) (61452,)\n",
      "(20484, 9) (20484,)\n",
      "(27312, 9) (27312,)\n",
      "['appliedlearning', 'care_hunger', 'health_sports', 'history_civics', 'literacy_language', 'math_science', 'music_arts', 'specialneeds', 'warmth']\n",
      "====================================================================================================\n",
      "After TFIDF vectorizations\n",
      "(61452, 9) (61452,)\n",
      "(20484, 9) (20484,)\n",
      "(27312, 9) (27312,)\n",
      "['appliedlearning', 'care_hunger', 'health_sports', 'history_civics', 'literacy_language', 'math_science', 'music_arts', 'specialneeds', 'warmth']\n",
      "====================================================================================================\n"
     ]
    }
   ],
   "source": [
    "vectorizer5 = CountVectorizer()\n",
    "vectorizer5.fit(X_train['clean_categories'].values) \n",
    "\n",
    "\n",
    "X_train_clean_categories_ohe_bow = vectorizer5.transform(X_train['clean_categories'].values)\n",
    "X_cv_clean_categories_ohe_bow = vectorizer5.transform(X_cv['clean_categories'].values)\n",
    "X_test_clean_categories_ohe_bow = vectorizer5.transform(X_test['clean_categories'].values)\n",
    "\n",
    "print(\"After BOW vectorizations\")\n",
    "print(X_train_clean_categories_ohe_bow.shape, y_train.shape)\n",
    "print(X_cv_clean_categories_ohe_bow.shape, y_cv.shape)\n",
    "print(X_test_clean_categories_ohe_bow.shape, y_test.shape)\n",
    "print(vectorizer5.get_feature_names())\n",
    "print(\"=\"*100)\n",
    "\n",
    "###############################################################################\n",
    "#fitting tfidf vectorizer for set 2\n",
    "\n",
    "vectorizer_tfidf5 = TfidfVectorizer()\n",
    "vectorizer_tfidf5.fit(X_train['clean_categories'].values) \n",
    "\n",
    "\n",
    "X_train_clean_categories_ohe_tfidf = vectorizer_tfidf5.transform(X_train['clean_categories'].values)\n",
    "X_cv_clean_categories_ohe_tfidf = vectorizer_tfidf5.transform(X_cv['clean_categories'].values)\n",
    "X_test_clean_categories_ohe_tfidf = vectorizer_tfidf5.transform(X_test['clean_categories'].values)\n",
    "\n",
    "print(\"After TFIDF vectorizations\")\n",
    "print(X_train_clean_categories_ohe_tfidf.shape, y_train.shape)\n",
    "print(X_cv_clean_categories_ohe_tfidf.shape, y_cv.shape)\n",
    "print(X_test_clean_categories_ohe_tfidf.shape, y_test.shape)\n",
    "print(vectorizer_tfidf5.get_feature_names())\n",
    "print(\"=\"*100)\n",
    "z5=z4+X_train_clean_categories_ohe_bow.shape[1]"
   ]
  },
  {
   "cell_type": "markdown",
   "metadata": {},
   "source": [
    "# encoding clean_subcategories"
   ]
  },
  {
   "cell_type": "code",
   "execution_count": 38,
   "metadata": {},
   "outputs": [
    {
     "name": "stdout",
     "output_type": "stream",
     "text": [
      "After BOW vectorizations\n",
      "(61452, 30) (61452,)\n",
      "(20484, 30) (20484,)\n",
      "(27312, 30) (27312,)\n",
      "['appliedsciences', 'care_hunger', 'charactereducation', 'civics_government', 'college_careerprep', 'communityservice', 'earlydevelopment', 'economics', 'environmentalscience', 'esl', 'extracurricular', 'financialliteracy', 'foreignlanguages', 'gym_fitness', 'health_lifescience', 'health_wellness', 'history_geography', 'literacy', 'literature_writing', 'mathematics', 'music', 'nutritioneducation', 'other', 'parentinvolvement', 'performingarts', 'socialsciences', 'specialneeds', 'teamsports', 'visualarts', 'warmth']\n",
      "====================================================================================================\n",
      "After TFIDF vectorizations\n",
      "(61452, 30) (61452,)\n",
      "(20484, 30) (20484,)\n",
      "(27312, 30) (27312,)\n",
      "['appliedsciences', 'care_hunger', 'charactereducation', 'civics_government', 'college_careerprep', 'communityservice', 'earlydevelopment', 'economics', 'environmentalscience', 'esl', 'extracurricular', 'financialliteracy', 'foreignlanguages', 'gym_fitness', 'health_lifescience', 'health_wellness', 'history_geography', 'literacy', 'literature_writing', 'mathematics', 'music', 'nutritioneducation', 'other', 'parentinvolvement', 'performingarts', 'socialsciences', 'specialneeds', 'teamsports', 'visualarts', 'warmth']\n",
      "====================================================================================================\n"
     ]
    }
   ],
   "source": [
    "vectorizer6 = CountVectorizer()\n",
    "vectorizer6.fit(X_train['clean_subcategories'].values) \n",
    "\n",
    "\n",
    "X_train_clean_subcategories_ohe_bow = vectorizer6.transform(X_train['clean_subcategories'].values)\n",
    "X_cv_clean_subcategories_ohe_bow = vectorizer6.transform(X_cv['clean_subcategories'].values)\n",
    "X_test_clean_subcategories_ohe_bow = vectorizer6.transform(X_test['clean_subcategories'].values)\n",
    "\n",
    "print(\"After BOW vectorizations\")\n",
    "print(X_train_clean_subcategories_ohe_bow.shape, y_train.shape)\n",
    "print(X_cv_clean_subcategories_ohe_bow.shape, y_cv.shape)\n",
    "print(X_test_clean_subcategories_ohe_bow.shape, y_test.shape)\n",
    "print(vectorizer6.get_feature_names())\n",
    "print(\"=\"*100)\n",
    "\n",
    "###############################################################################\n",
    "#fitting tfidf vectorizer for set 2\n",
    "\n",
    "vectorizer_tfidf6 = TfidfVectorizer()\n",
    "vectorizer_tfidf6.fit(X_train['clean_subcategories'].values) \n",
    "\n",
    "\n",
    "X_train_clean_subcategories_ohe_tfidf = vectorizer_tfidf6.transform(X_train['clean_subcategories'].values)\n",
    "X_cv_clean_subcategories_ohe_tfidf = vectorizer_tfidf6.transform(X_cv['clean_subcategories'].values)\n",
    "X_test_clean_subcategories_ohe_tfidf = vectorizer_tfidf6.transform(X_test['clean_subcategories'].values)\n",
    "\n",
    "print(\"After TFIDF vectorizations\")\n",
    "print(X_train_clean_subcategories_ohe_tfidf.shape, y_train.shape)\n",
    "print(X_cv_clean_subcategories_ohe_tfidf.shape, y_cv.shape)\n",
    "print(X_test_clean_subcategories_ohe_tfidf.shape, y_test.shape)\n",
    "print(vectorizer_tfidf6.get_feature_names())\n",
    "print(\"=\"*100)\n",
    "z6=z5+X_train_clean_subcategories_ohe_bow.shape[1]"
   ]
  },
  {
   "cell_type": "markdown",
   "metadata": {},
   "source": [
    "# Normalizing price"
   ]
  },
  {
   "cell_type": "code",
   "execution_count": 10,
   "metadata": {},
   "outputs": [
    {
     "name": "stdout",
     "output_type": "stream",
     "text": [
      "After BOW vectorizations\n",
      "(61452, 1) (61452,)\n",
      "(20484, 1) (20484,)\n",
      "(27312, 1) (27312,)\n",
      "====================================================================================================\n",
      "After TFIDF vectorizations\n",
      "(61452, 1) (61452,)\n",
      "(20484, 1) (20484,)\n",
      "(27312, 1) (27312,)\n",
      "====================================================================================================\n"
     ]
    }
   ],
   "source": [
    "from sklearn.preprocessing import Normalizer\n",
    "normalizer = Normalizer()\n",
    "normalizer.fit(X_train['price'].values.reshape(-1,1))\n",
    "\n",
    "X_train_price_norm_bow = normalizer.transform(X_train['price'].values.reshape(-1,1))\n",
    "X_cv_price_norm_bow = normalizer.transform(X_cv['price'].values.reshape(-1,1))\n",
    "X_test_price_norm_bow = normalizer.transform(X_test['price'].values.reshape(-1,1))\n",
    "\n",
    "\n",
    "\n",
    "print(\"After BOW vectorizations\")\n",
    "print(X_train_price_norm_bow.shape, y_train.shape)\n",
    "print(X_cv_price_norm_bow.shape, y_cv.shape)\n",
    "print(X_test_price_norm_bow.shape, y_test.shape)\n",
    "print(\"=\"*100)\n",
    "\n",
    "###############################################################################\n",
    "#fitting normalizer for encoding of numerical values for set 2\n",
    "\n",
    "X_train_price_norm_tfidf = normalizer.transform(X_train['price'].values.reshape(-1,1))\n",
    "X_cv_price_norm_tfidf = normalizer.transform(X_cv['price'].values.reshape(-1,1))\n",
    "X_test_price_norm_tfidf = normalizer.transform(X_test['price'].values.reshape(-1,1))\n",
    "\n",
    "\n",
    "\n",
    "print(\"After TFIDF vectorizations\")\n",
    "print(X_train_price_norm_tfidf.shape, y_train.shape)\n",
    "print(X_cv_price_norm_tfidf.shape, y_cv.shape)\n",
    "print(X_test_price_norm_tfidf.shape, y_test.shape)\n",
    "print(\"=\"*100)"
   ]
  },
  {
   "cell_type": "markdown",
   "metadata": {},
   "source": [
    "# Normalizing teacher_number_of_previously_posted_projects"
   ]
  },
  {
   "cell_type": "code",
   "execution_count": 11,
   "metadata": {},
   "outputs": [
    {
     "name": "stdout",
     "output_type": "stream",
     "text": [
      "After BOW vectorizations\n",
      "(61452, 1) (61452,)\n",
      "(20484, 1) (20484,)\n",
      "(27312, 1) (27312,)\n",
      "====================================================================================================\n",
      "After TFIDF vectorizations\n",
      "(61452, 1) (61452,)\n",
      "(20484, 1) (20484,)\n",
      "(27312, 1) (27312,)\n",
      "====================================================================================================\n"
     ]
    }
   ],
   "source": [
    "normalizer = Normalizer()\n",
    "normalizer.fit(X_train['teacher_number_of_previously_posted_projects'].values.reshape(-1,1))\n",
    "\n",
    "X_train_teacher_posted_projects_norm_bow = normalizer.transform(X_train['teacher_number_of_previously_posted_projects'].values.reshape(-1,1))\n",
    "X_cv_teacher_posted_projects_norm_bow = normalizer.transform(X_cv['teacher_number_of_previously_posted_projects'].values.reshape(-1,1))\n",
    "X_test_teacher_posted_projects_norm_bow = normalizer.transform(X_test['teacher_number_of_previously_posted_projects'].values.reshape(-1,1))\n",
    "\n",
    "\n",
    "\n",
    "print(\"After BOW vectorizations\")\n",
    "print(X_train_teacher_posted_projects_norm_bow.shape, y_train.shape)\n",
    "print(X_cv_teacher_posted_projects_norm_bow.shape, y_cv.shape)\n",
    "print(X_test_teacher_posted_projects_norm_bow.shape, y_test.shape)\n",
    "print(\"=\"*100)\n",
    "\n",
    "###############################################################################\n",
    "#fitting normalizer for encoding of numerical values for set 2\n",
    "\n",
    "X_train_teacher_posted_projects_norm_tfidf = normalizer.transform(X_train['teacher_number_of_previously_posted_projects'].values.reshape(-1,1))\n",
    "X_cv_teacher_posted_projects_norm_tfidf = normalizer.transform(X_cv['teacher_number_of_previously_posted_projects'].values.reshape(-1,1))\n",
    "X_test_teacher_posted_projects_norm_tfidf = normalizer.transform(X_test['teacher_number_of_previously_posted_projects'].values.reshape(-1,1))\n",
    "\n",
    "\n",
    "\n",
    "print(\"After TFIDF vectorizations\")\n",
    "print(X_train_teacher_posted_projects_norm_tfidf.shape, y_train.shape)\n",
    "print(X_cv_teacher_posted_projects_norm_tfidf.shape, y_cv.shape)\n",
    "print(X_test_teacher_posted_projects_norm_tfidf.shape, y_test.shape)\n",
    "print(\"=\"*100)"
   ]
  },
  {
   "cell_type": "markdown",
   "metadata": {},
   "source": [
    "# Concatinating all the features"
   ]
  },
  {
   "cell_type": "code",
   "execution_count": 12,
   "metadata": {},
   "outputs": [
    {
     "name": "stdout",
     "output_type": "stream",
     "text": [
      "Final Data matrix AFTER BOW VECTORIZATION\n",
      "(61452, 211938) (61452,)\n",
      "(20484, 211938) (20484,)\n",
      "(27312, 211938) (27312,)\n",
      "====================================================================================================\n",
      "Final Data matrix AFTER TFIDF VECTORIZATION\n",
      "(61452, 211938) (61452,)\n",
      "(20484, 211938) (20484,)\n",
      "(27312, 211938) (27312,)\n",
      "====================================================================================================\n"
     ]
    }
   ],
   "source": [
    "from scipy.sparse import hstack\n",
    "X_tr_bow = hstack((X_train_essay_bow, X_train_state_ohe_bow, X_train_teacher_ohe_bow, X_train_grade_ohe_bow, X_train_price_norm_bow,X_train_clean_subcategories_ohe_bow,X_train_clean_categories_ohe_bow,X_train_teacher_posted_projects_norm_bow)).tocsr()\n",
    "X_cr_bow = hstack((X_cv_essay_bow, X_cv_state_ohe_bow, X_cv_teacher_ohe_bow, X_cv_grade_ohe_bow, X_cv_price_norm_bow,X_cv_clean_subcategories_ohe_bow,X_cv_clean_categories_ohe_bow,X_cv_teacher_posted_projects_norm_bow)).tocsr()\n",
    "X_te_bow = hstack((X_test_essay_bow, X_test_state_ohe_bow, X_test_teacher_ohe_bow, X_test_grade_ohe_bow, X_test_price_norm_bow,X_test_clean_subcategories_ohe_bow,X_test_clean_categories_ohe_bow,X_test_teacher_posted_projects_norm_bow)).tocsr()\n",
    "\n",
    "print(\"Final Data matrix AFTER BOW VECTORIZATION\")\n",
    "print(X_tr_bow.shape, y_train.shape)\n",
    "print(X_cr_bow.shape, y_cv.shape)\n",
    "print(X_te_bow.shape, y_test.shape)\n",
    "print(\"=\"*100)\n",
    "\n",
    "\n",
    "X_tr_tfidf = hstack((X_train_essay_tfidf, X_train_state_ohe_tfidf, X_train_teacher_ohe_tfidf, X_train_grade_ohe_tfidf, X_train_price_norm_tfidf,X_train_clean_subcategories_ohe_tfidf,X_train_clean_categories_ohe_tfidf,X_train_teacher_posted_projects_norm_tfidf)).tocsr()\n",
    "X_cr_tfidf = hstack((X_cv_essay_tfidf, X_cv_state_ohe_tfidf, X_cv_teacher_ohe_tfidf, X_cv_grade_ohe_tfidf, X_cv_price_norm_tfidf,X_cv_clean_subcategories_ohe_tfidf,X_cv_clean_categories_ohe_tfidf,X_cv_teacher_posted_projects_norm_tfidf)).tocsr()\n",
    "X_te_tfidf = hstack((X_test_essay_tfidf, X_test_state_ohe_tfidf, X_test_teacher_ohe_tfidf, X_test_grade_ohe_tfidf, X_test_price_norm_tfidf,X_test_clean_subcategories_ohe_tfidf,X_test_clean_categories_ohe_tfidf,X_test_teacher_posted_projects_norm_tfidf)).tocsr()\n",
    "\n",
    "print(\"Final Data matrix AFTER TFIDF VECTORIZATION\")\n",
    "print(X_tr_tfidf.shape, y_train.shape)\n",
    "print(X_cr_tfidf.shape, y_cv.shape)\n",
    "print(X_te_tfidf.shape, y_test.shape)\n",
    "print(\"=\"*100)"
   ]
  },
  {
   "cell_type": "markdown",
   "metadata": {
    "colab_type": "text",
    "id": "yYHPYadYb3dh"
   },
   "source": [
    "<h2>1.5 Appling NB on different kind of featurization as mentioned in the instructions</h2>\n",
    "\n",
    "<br>Apply NB on different kind of featurization as mentioned in the instructions\n",
    "<br> For Every model that you work on make sure you do the step 2 and step 3 of instrucations"
   ]
  },
  {
   "cell_type": "markdown",
   "metadata": {},
   "source": [
    "# Applying Random search for bow for alpha"
   ]
  },
  {
   "cell_type": "code",
   "execution_count": 13,
   "metadata": {
    "colab": {},
    "colab_type": "code",
    "id": "DNwqilFxb3di"
   },
   "outputs": [
    {
     "name": "stdout",
     "output_type": "stream",
     "text": [
      "   mean_fit_time  std_fit_time  mean_score_time  std_score_time param_alpha  \\\n",
      "0       0.477222      0.067994         0.054909        0.010341           5   \n",
      "1       0.540680      0.053800         0.059434        0.014907           1   \n",
      "\n",
      "         params  split0_test_score  split1_test_score  split2_test_score  \\\n",
      "0  {'alpha': 5}           0.664095           0.657730           0.654857   \n",
      "1  {'alpha': 1}           0.710510           0.684726           0.693267   \n",
      "\n",
      "   split3_test_score  ...  split2_train_score  split3_train_score  \\\n",
      "0           0.650780  ...            0.838087            0.836030   \n",
      "1           0.688119  ...            0.931330            0.932803   \n",
      "\n",
      "   split4_train_score  split5_train_score  split6_train_score  \\\n",
      "0            0.838059            0.838163            0.836980   \n",
      "1            0.931208            0.932310            0.931828   \n",
      "\n",
      "   split7_train_score  split8_train_score  split9_train_score  \\\n",
      "0            0.837213            0.837601            0.838937   \n",
      "1            0.931569            0.931790            0.931362   \n",
      "\n",
      "   mean_train_score  std_train_score  \n",
      "0          0.837369         0.001039  \n",
      "1          0.931743         0.000743  \n",
      "\n",
      "[2 rows x 31 columns]\n"
     ]
    },
    {
     "data": {
      "image/png": "[encoded data removed]",
      "text/plain": [
       "<Figure size 432x288 with 1 Axes>"
      ]
     },
     "metadata": {
      "needs_background": "light"
     },
     "output_type": "display_data"
    },
    {
     "data": {
      "text/html": [
       "<div>\n",
       "<style scoped>\n",
       "    .dataframe tbody tr th:only-of-type {\n",
       "        vertical-align: middle;\n",
       "    }\n",
       "\n",
       "    .dataframe tbody tr th {\n",
       "        vertical-align: top;\n",
       "    }\n",
       "\n",
       "    .dataframe thead th {\n",
       "        text-align: right;\n",
       "    }\n",
       "</style>\n",
       "<table border=\"1\" class=\"dataframe\">\n",
       "  <thead>\n",
       "    <tr style=\"text-align: right;\">\n",
       "      <th></th>\n",
       "      <th>mean_fit_time</th>\n",
       "      <th>std_fit_time</th>\n",
       "      <th>mean_score_time</th>\n",
       "      <th>std_score_time</th>\n",
       "      <th>param_alpha</th>\n",
       "      <th>params</th>\n",
       "      <th>split0_test_score</th>\n",
       "      <th>split1_test_score</th>\n",
       "      <th>split2_test_score</th>\n",
       "      <th>split3_test_score</th>\n",
       "      <th>...</th>\n",
       "      <th>split2_train_score</th>\n",
       "      <th>split3_train_score</th>\n",
       "      <th>split4_train_score</th>\n",
       "      <th>split5_train_score</th>\n",
       "      <th>split6_train_score</th>\n",
       "      <th>split7_train_score</th>\n",
       "      <th>split8_train_score</th>\n",
       "      <th>split9_train_score</th>\n",
       "      <th>mean_train_score</th>\n",
       "      <th>std_train_score</th>\n",
       "    </tr>\n",
       "  </thead>\n",
       "  <tbody>\n",
       "    <tr>\n",
       "      <td>6</td>\n",
       "      <td>0.531798</td>\n",
       "      <td>0.061279</td>\n",
       "      <td>0.053621</td>\n",
       "      <td>0.007774</td>\n",
       "      <td>0</td>\n",
       "      <td>{'alpha': 0}</td>\n",
       "      <td>0.536683</td>\n",
       "      <td>0.539935</td>\n",
       "      <td>0.538537</td>\n",
       "      <td>0.543898</td>\n",
       "      <td>...</td>\n",
       "      <td>0.990812</td>\n",
       "      <td>0.990494</td>\n",
       "      <td>0.990184</td>\n",
       "      <td>0.990697</td>\n",
       "      <td>0.990725</td>\n",
       "      <td>0.990581</td>\n",
       "      <td>0.990050</td>\n",
       "      <td>0.990707</td>\n",
       "      <td>0.990419</td>\n",
       "      <td>0.000362</td>\n",
       "    </tr>\n",
       "    <tr>\n",
       "      <td>1</td>\n",
       "      <td>0.540680</td>\n",
       "      <td>0.053800</td>\n",
       "      <td>0.059434</td>\n",
       "      <td>0.014907</td>\n",
       "      <td>1</td>\n",
       "      <td>{'alpha': 1}</td>\n",
       "      <td>0.710510</td>\n",
       "      <td>0.684726</td>\n",
       "      <td>0.693267</td>\n",
       "      <td>0.688119</td>\n",
       "      <td>...</td>\n",
       "      <td>0.931330</td>\n",
       "      <td>0.932803</td>\n",
       "      <td>0.931208</td>\n",
       "      <td>0.932310</td>\n",
       "      <td>0.931828</td>\n",
       "      <td>0.931569</td>\n",
       "      <td>0.931790</td>\n",
       "      <td>0.931362</td>\n",
       "      <td>0.931743</td>\n",
       "      <td>0.000743</td>\n",
       "    </tr>\n",
       "    <tr>\n",
       "      <td>8</td>\n",
       "      <td>0.543469</td>\n",
       "      <td>0.117130</td>\n",
       "      <td>0.056776</td>\n",
       "      <td>0.010710</td>\n",
       "      <td>1</td>\n",
       "      <td>{'alpha': 1}</td>\n",
       "      <td>0.710510</td>\n",
       "      <td>0.684726</td>\n",
       "      <td>0.693267</td>\n",
       "      <td>0.688119</td>\n",
       "      <td>...</td>\n",
       "      <td>0.931330</td>\n",
       "      <td>0.932803</td>\n",
       "      <td>0.931208</td>\n",
       "      <td>0.932310</td>\n",
       "      <td>0.931828</td>\n",
       "      <td>0.931569</td>\n",
       "      <td>0.931790</td>\n",
       "      <td>0.931362</td>\n",
       "      <td>0.931743</td>\n",
       "      <td>0.000743</td>\n",
       "    </tr>\n",
       "    <tr>\n",
       "      <td>3</td>\n",
       "      <td>0.594516</td>\n",
       "      <td>0.060338</td>\n",
       "      <td>0.058502</td>\n",
       "      <td>0.006518</td>\n",
       "      <td>2</td>\n",
       "      <td>{'alpha': 2}</td>\n",
       "      <td>0.708384</td>\n",
       "      <td>0.686159</td>\n",
       "      <td>0.691030</td>\n",
       "      <td>0.686843</td>\n",
       "      <td>...</td>\n",
       "      <td>0.913396</td>\n",
       "      <td>0.915034</td>\n",
       "      <td>0.913021</td>\n",
       "      <td>0.914292</td>\n",
       "      <td>0.913555</td>\n",
       "      <td>0.913800</td>\n",
       "      <td>0.913867</td>\n",
       "      <td>0.913393</td>\n",
       "      <td>0.913724</td>\n",
       "      <td>0.000848</td>\n",
       "    </tr>\n",
       "    <tr>\n",
       "      <td>4</td>\n",
       "      <td>0.612267</td>\n",
       "      <td>0.080684</td>\n",
       "      <td>0.059721</td>\n",
       "      <td>0.007691</td>\n",
       "      <td>3</td>\n",
       "      <td>{'alpha': 3}</td>\n",
       "      <td>0.703144</td>\n",
       "      <td>0.682319</td>\n",
       "      <td>0.687747</td>\n",
       "      <td>0.684799</td>\n",
       "      <td>...</td>\n",
       "      <td>0.896403</td>\n",
       "      <td>0.897627</td>\n",
       "      <td>0.895913</td>\n",
       "      <td>0.897491</td>\n",
       "      <td>0.896201</td>\n",
       "      <td>0.896670</td>\n",
       "      <td>0.897077</td>\n",
       "      <td>0.896570</td>\n",
       "      <td>0.896596</td>\n",
       "      <td>0.000810</td>\n",
       "    </tr>\n",
       "  </tbody>\n",
       "</table>\n",
       "<p>5 rows × 31 columns</p>\n",
       "</div>"
      ],
      "text/plain": [
       "   mean_fit_time  std_fit_time  mean_score_time  std_score_time param_alpha  \\\n",
       "6       0.531798      0.061279         0.053621        0.007774           0   \n",
       "1       0.540680      0.053800         0.059434        0.014907           1   \n",
       "8       0.543469      0.117130         0.056776        0.010710           1   \n",
       "3       0.594516      0.060338         0.058502        0.006518           2   \n",
       "4       0.612267      0.080684         0.059721        0.007691           3   \n",
       "\n",
       "         params  split0_test_score  split1_test_score  split2_test_score  \\\n",
       "6  {'alpha': 0}           0.536683           0.539935           0.538537   \n",
       "1  {'alpha': 1}           0.710510           0.684726           0.693267   \n",
       "8  {'alpha': 1}           0.710510           0.684726           0.693267   \n",
       "3  {'alpha': 2}           0.708384           0.686159           0.691030   \n",
       "4  {'alpha': 3}           0.703144           0.682319           0.687747   \n",
       "\n",
       "   split3_test_score  ...  split2_train_score  split3_train_score  \\\n",
       "6           0.543898  ...            0.990812            0.990494   \n",
       "1           0.688119  ...            0.931330            0.932803   \n",
       "8           0.688119  ...            0.931330            0.932803   \n",
       "3           0.686843  ...            0.913396            0.915034   \n",
       "4           0.684799  ...            0.896403            0.897627   \n",
       "\n",
       "   split4_train_score  split5_train_score  split6_train_score  \\\n",
       "6            0.990184            0.990697            0.990725   \n",
       "1            0.931208            0.932310            0.931828   \n",
       "8            0.931208            0.932310            0.931828   \n",
       "3            0.913021            0.914292            0.913555   \n",
       "4            0.895913            0.897491            0.896201   \n",
       "\n",
       "   split7_train_score  split8_train_score  split9_train_score  \\\n",
       "6            0.990581            0.990050            0.990707   \n",
       "1            0.931569            0.931790            0.931362   \n",
       "8            0.931569            0.931790            0.931362   \n",
       "3            0.913800            0.913867            0.913393   \n",
       "4            0.896670            0.897077            0.896570   \n",
       "\n",
       "   mean_train_score  std_train_score  \n",
       "6          0.990419         0.000362  \n",
       "1          0.931743         0.000743  \n",
       "8          0.931743         0.000743  \n",
       "3          0.913724         0.000848  \n",
       "4          0.896596         0.000810  \n",
       "\n",
       "[5 rows x 31 columns]"
      ]
     },
     "execution_count": 13,
     "metadata": {},
     "output_type": "execute_result"
    }
   ],
   "source": [
    "# please write all the code with proper documentation, and proper titles for each subsection\n",
    "# go through documentations and blogs before you start coding\n",
    "# first figure out what to do, and then think about how to do.\n",
    "# reading and understanding error messages will be very much helpfull in debugging your code\n",
    "# when you plot any graph make sure you use \n",
    "    # a. Title, that describes your plot, this will be very helpful to the reader\n",
    "    # b. Legends if needed\n",
    "    # c. X-axis label\n",
    "    # d. Y-axis label\n",
    "from sklearn.model_selection import GridSearchCV\n",
    "from scipy.stats import randint as sp_randint\n",
    "from sklearn.model_selection import RandomizedSearchCV\n",
    "\n",
    "nb = MultinomialNB()\n",
    "parameters = {'alpha':sp_randint(0.01, 10)}\n",
    "\n",
    "clf = RandomizedSearchCV(nb, parameters, cv=10, scoring='roc_auc',return_train_score=True)\n",
    "clf.fit(X_tr_bow, y_train)\n",
    "\n",
    "results = pd.DataFrame.from_dict(clf.cv_results_)\n",
    "print(results.head(2))\n",
    "results = results.sort_values(['param_alpha'])\n",
    "\n",
    "train_auc= results['mean_train_score']\n",
    "train_auc_std= results['std_train_score']\n",
    "cv_auc = results['mean_test_score'] \n",
    "cv_auc_std= results['std_test_score']\n",
    "alpha =  results['param_alpha']\n",
    "\n",
    "plt.plot(alpha, train_auc, label='Train AUC')\n",
    "\n",
    "\n",
    "plt.plot(alpha, cv_auc, label='CV AUC')\n",
    "\n",
    "plt.scatter(alpha, train_auc, label='Train AUC points')\n",
    "plt.scatter(alpha, cv_auc, label='CV AUC points')\n",
    "\n",
    "\n",
    "plt.legend()\n",
    "plt.xlabel(\"alpha : hyperparameter\")\n",
    "plt.ylabel(\"AUC\")\n",
    "plt.title(\"Hyper parameter Vs AUC plot\")\n",
    "plt.grid()\n",
    "plt.show()\n",
    "\n",
    "results.head()"
   ]
  },
  {
   "cell_type": "markdown",
   "metadata": {},
   "source": [
    "# Applying Random search for tfidf for alpha"
   ]
  },
  {
   "cell_type": "code",
   "execution_count": 14,
   "metadata": {},
   "outputs": [
    {
     "name": "stdout",
     "output_type": "stream",
     "text": [
      "   mean_fit_time  std_fit_time  mean_score_time  std_score_time param_alpha  \\\n",
      "0       0.840894      0.848011         0.075070        0.024857           9   \n",
      "1       0.603151      0.083315         0.058772        0.010634           5   \n",
      "\n",
      "         params  split0_test_score  split1_test_score  split2_test_score  \\\n",
      "0  {'alpha': 9}           0.588536           0.601645           0.587072   \n",
      "1  {'alpha': 5}           0.599554           0.610647           0.596767   \n",
      "\n",
      "   split3_test_score  ...  split2_train_score  split3_train_score  \\\n",
      "0           0.582908  ...            0.619117            0.619703   \n",
      "1           0.590438  ...            0.649191            0.649813   \n",
      "\n",
      "   split4_train_score  split5_train_score  split6_train_score  \\\n",
      "0            0.619253            0.620251            0.621093   \n",
      "1            0.649375            0.650255            0.650930   \n",
      "\n",
      "   split7_train_score  split8_train_score  split9_train_score  \\\n",
      "0            0.619262            0.621284            0.618917   \n",
      "1            0.649484            0.651249            0.649005   \n",
      "\n",
      "   mean_train_score  std_train_score  \n",
      "0          0.619588         0.000964  \n",
      "1          0.649650         0.000885  \n",
      "\n",
      "[2 rows x 31 columns]\n"
     ]
    },
    {
     "data": {
      "image/png": "[encoded data removed]",
      "text/plain": [
       "<Figure size 432x288 with 1 Axes>"
      ]
     },
     "metadata": {
      "needs_background": "light"
     },
     "output_type": "display_data"
    },
    {
     "data": {
      "text/html": [
       "<div>\n",
       "<style scoped>\n",
       "    .dataframe tbody tr th:only-of-type {\n",
       "        vertical-align: middle;\n",
       "    }\n",
       "\n",
       "    .dataframe tbody tr th {\n",
       "        vertical-align: top;\n",
       "    }\n",
       "\n",
       "    .dataframe thead th {\n",
       "        text-align: right;\n",
       "    }\n",
       "</style>\n",
       "<table border=\"1\" class=\"dataframe\">\n",
       "  <thead>\n",
       "    <tr style=\"text-align: right;\">\n",
       "      <th></th>\n",
       "      <th>mean_fit_time</th>\n",
       "      <th>std_fit_time</th>\n",
       "      <th>mean_score_time</th>\n",
       "      <th>std_score_time</th>\n",
       "      <th>param_alpha</th>\n",
       "      <th>params</th>\n",
       "      <th>split0_test_score</th>\n",
       "      <th>split1_test_score</th>\n",
       "      <th>split2_test_score</th>\n",
       "      <th>split3_test_score</th>\n",
       "      <th>...</th>\n",
       "      <th>split2_train_score</th>\n",
       "      <th>split3_train_score</th>\n",
       "      <th>split4_train_score</th>\n",
       "      <th>split5_train_score</th>\n",
       "      <th>split6_train_score</th>\n",
       "      <th>split7_train_score</th>\n",
       "      <th>split8_train_score</th>\n",
       "      <th>split9_train_score</th>\n",
       "      <th>mean_train_score</th>\n",
       "      <th>std_train_score</th>\n",
       "    </tr>\n",
       "  </thead>\n",
       "  <tbody>\n",
       "    <tr>\n",
       "      <td>3</td>\n",
       "      <td>0.597187</td>\n",
       "      <td>0.068562</td>\n",
       "      <td>0.059167</td>\n",
       "      <td>0.005195</td>\n",
       "      <td>0</td>\n",
       "      <td>{'alpha': 0}</td>\n",
       "      <td>0.638609</td>\n",
       "      <td>0.615254</td>\n",
       "      <td>0.626446</td>\n",
       "      <td>0.633339</td>\n",
       "      <td>...</td>\n",
       "      <td>0.994436</td>\n",
       "      <td>0.994675</td>\n",
       "      <td>0.994438</td>\n",
       "      <td>0.994613</td>\n",
       "      <td>0.994529</td>\n",
       "      <td>0.994561</td>\n",
       "      <td>0.994326</td>\n",
       "      <td>0.994804</td>\n",
       "      <td>0.994528</td>\n",
       "      <td>0.000136</td>\n",
       "    </tr>\n",
       "    <tr>\n",
       "      <td>6</td>\n",
       "      <td>0.555313</td>\n",
       "      <td>0.050235</td>\n",
       "      <td>0.061300</td>\n",
       "      <td>0.008257</td>\n",
       "      <td>0</td>\n",
       "      <td>{'alpha': 0}</td>\n",
       "      <td>0.638609</td>\n",
       "      <td>0.615254</td>\n",
       "      <td>0.626446</td>\n",
       "      <td>0.633339</td>\n",
       "      <td>...</td>\n",
       "      <td>0.994436</td>\n",
       "      <td>0.994675</td>\n",
       "      <td>0.994438</td>\n",
       "      <td>0.994613</td>\n",
       "      <td>0.994529</td>\n",
       "      <td>0.994561</td>\n",
       "      <td>0.994326</td>\n",
       "      <td>0.994804</td>\n",
       "      <td>0.994528</td>\n",
       "      <td>0.000136</td>\n",
       "    </tr>\n",
       "    <tr>\n",
       "      <td>2</td>\n",
       "      <td>0.549250</td>\n",
       "      <td>0.079276</td>\n",
       "      <td>0.058154</td>\n",
       "      <td>0.005428</td>\n",
       "      <td>1</td>\n",
       "      <td>{'alpha': 1}</td>\n",
       "      <td>0.646849</td>\n",
       "      <td>0.645581</td>\n",
       "      <td>0.636913</td>\n",
       "      <td>0.625986</td>\n",
       "      <td>...</td>\n",
       "      <td>0.799092</td>\n",
       "      <td>0.798538</td>\n",
       "      <td>0.799302</td>\n",
       "      <td>0.799298</td>\n",
       "      <td>0.799509</td>\n",
       "      <td>0.799452</td>\n",
       "      <td>0.799410</td>\n",
       "      <td>0.799273</td>\n",
       "      <td>0.799094</td>\n",
       "      <td>0.000408</td>\n",
       "    </tr>\n",
       "    <tr>\n",
       "      <td>4</td>\n",
       "      <td>0.638242</td>\n",
       "      <td>0.102916</td>\n",
       "      <td>0.062503</td>\n",
       "      <td>0.006701</td>\n",
       "      <td>4</td>\n",
       "      <td>{'alpha': 4}</td>\n",
       "      <td>0.604605</td>\n",
       "      <td>0.614725</td>\n",
       "      <td>0.601331</td>\n",
       "      <td>0.594006</td>\n",
       "      <td>...</td>\n",
       "      <td>0.664317</td>\n",
       "      <td>0.664933</td>\n",
       "      <td>0.664546</td>\n",
       "      <td>0.665328</td>\n",
       "      <td>0.665941</td>\n",
       "      <td>0.664666</td>\n",
       "      <td>0.666290</td>\n",
       "      <td>0.664165</td>\n",
       "      <td>0.664768</td>\n",
       "      <td>0.000836</td>\n",
       "    </tr>\n",
       "    <tr>\n",
       "      <td>5</td>\n",
       "      <td>0.628369</td>\n",
       "      <td>0.090979</td>\n",
       "      <td>0.066217</td>\n",
       "      <td>0.014279</td>\n",
       "      <td>4</td>\n",
       "      <td>{'alpha': 4}</td>\n",
       "      <td>0.604605</td>\n",
       "      <td>0.614725</td>\n",
       "      <td>0.601331</td>\n",
       "      <td>0.594006</td>\n",
       "      <td>...</td>\n",
       "      <td>0.664317</td>\n",
       "      <td>0.664933</td>\n",
       "      <td>0.664546</td>\n",
       "      <td>0.665328</td>\n",
       "      <td>0.665941</td>\n",
       "      <td>0.664666</td>\n",
       "      <td>0.666290</td>\n",
       "      <td>0.664165</td>\n",
       "      <td>0.664768</td>\n",
       "      <td>0.000836</td>\n",
       "    </tr>\n",
       "  </tbody>\n",
       "</table>\n",
       "<p>5 rows × 31 columns</p>\n",
       "</div>"
      ],
      "text/plain": [
       "   mean_fit_time  std_fit_time  mean_score_time  std_score_time param_alpha  \\\n",
       "3       0.597187      0.068562         0.059167        0.005195           0   \n",
       "6       0.555313      0.050235         0.061300        0.008257           0   \n",
       "2       0.549250      0.079276         0.058154        0.005428           1   \n",
       "4       0.638242      0.102916         0.062503        0.006701           4   \n",
       "5       0.628369      0.090979         0.066217        0.014279           4   \n",
       "\n",
       "         params  split0_test_score  split1_test_score  split2_test_score  \\\n",
       "3  {'alpha': 0}           0.638609           0.615254           0.626446   \n",
       "6  {'alpha': 0}           0.638609           0.615254           0.626446   \n",
       "2  {'alpha': 1}           0.646849           0.645581           0.636913   \n",
       "4  {'alpha': 4}           0.604605           0.614725           0.601331   \n",
       "5  {'alpha': 4}           0.604605           0.614725           0.601331   \n",
       "\n",
       "   split3_test_score  ...  split2_train_score  split3_train_score  \\\n",
       "3           0.633339  ...            0.994436            0.994675   \n",
       "6           0.633339  ...            0.994436            0.994675   \n",
       "2           0.625986  ...            0.799092            0.798538   \n",
       "4           0.594006  ...            0.664317            0.664933   \n",
       "5           0.594006  ...            0.664317            0.664933   \n",
       "\n",
       "   split4_train_score  split5_train_score  split6_train_score  \\\n",
       "3            0.994438            0.994613            0.994529   \n",
       "6            0.994438            0.994613            0.994529   \n",
       "2            0.799302            0.799298            0.799509   \n",
       "4            0.664546            0.665328            0.665941   \n",
       "5            0.664546            0.665328            0.665941   \n",
       "\n",
       "   split7_train_score  split8_train_score  split9_train_score  \\\n",
       "3            0.994561            0.994326            0.994804   \n",
       "6            0.994561            0.994326            0.994804   \n",
       "2            0.799452            0.799410            0.799273   \n",
       "4            0.664666            0.666290            0.664165   \n",
       "5            0.664666            0.666290            0.664165   \n",
       "\n",
       "   mean_train_score  std_train_score  \n",
       "3          0.994528         0.000136  \n",
       "6          0.994528         0.000136  \n",
       "2          0.799094         0.000408  \n",
       "4          0.664768         0.000836  \n",
       "5          0.664768         0.000836  \n",
       "\n",
       "[5 rows x 31 columns]"
      ]
     },
     "execution_count": 14,
     "metadata": {},
     "output_type": "execute_result"
    }
   ],
   "source": [
    "from sklearn.model_selection import GridSearchCV\n",
    "from scipy.stats import randint as sp_randint\n",
    "from sklearn.model_selection import RandomizedSearchCV\n",
    "\n",
    "nb = MultinomialNB()\n",
    "parameters = {'alpha':sp_randint(0.01, 10)}\n",
    "\n",
    "clf = RandomizedSearchCV(nb, parameters, cv=10, scoring='roc_auc',return_train_score=True)\n",
    "clf.fit(X_tr_tfidf, y_train)\n",
    "\n",
    "results = pd.DataFrame.from_dict(clf.cv_results_)\n",
    "print(results.head(2))\n",
    "results = results.sort_values(['param_alpha'])\n",
    "\n",
    "train_auc= results['mean_train_score']\n",
    "train_auc_std= results['std_train_score']\n",
    "cv_auc = results['mean_test_score'] \n",
    "cv_auc_std= results['std_test_score']\n",
    "alpha =  results['param_alpha']\n",
    "\n",
    "plt.plot(alpha, train_auc, label='Train AUC')\n",
    "\n",
    "plt.plot(alpha, cv_auc, label='CV AUC')\n",
    "\n",
    "\n",
    "plt.scatter(alpha, train_auc, label='Train AUC points')\n",
    "plt.scatter(alpha, cv_auc, label='CV AUC points')\n",
    "\n",
    "\n",
    "plt.legend()\n",
    "plt.xlabel(\"alpha : hyperparameter\")\n",
    "plt.ylabel(\"AUC\")\n",
    "plt.title(\"Hyper parameter Vs AUC plot\")\n",
    "plt.grid()\n",
    "plt.show()\n",
    "\n",
    "results.head()"
   ]
  },
  {
   "cell_type": "code",
   "execution_count": 48,
   "metadata": {},
   "outputs": [],
   "source": [
    "best_alpha_bow=2\n",
    "best_alpha_tfidf=1"
   ]
  },
  {
   "cell_type": "code",
   "execution_count": 30,
   "metadata": {},
   "outputs": [],
   "source": [
    "def batch_predict(clf, data):\n",
    "    # roc_auc_score(y_true, y_score) the 2nd parameter should be probability estimates of the positive class\n",
    "    # not the predicted outputs\n",
    "\n",
    "    y_data_pred = []\n",
    "    tr_loop = data.shape[0] - data.shape[0]%1000\n",
    "    # consider you X_tr shape is 49041, then your tr_loop will be 49041 - 49041%1000 = 49000\n",
    "    # in this for loop we will iterate unti the last 1000 multiplier\n",
    "    for i in range(0, tr_loop, 1000):\n",
    "        y_data_pred.extend(clf.predict_proba(data[i:i+1000])[:,1])\n",
    "    # we will be predicting for the last data points\n",
    "    if data.shape[0]%1000 !=0:\n",
    "        y_data_pred.extend(clf.predict_proba(data[tr_loop:])[:,1])\n",
    "    \n",
    "    return y_data_pred"
   ]
  },
  {
   "cell_type": "markdown",
   "metadata": {},
   "source": [
    "# Testing the performance of the model on test data, plotting ROC Curves for bow"
   ]
  },
  {
   "cell_type": "code",
   "execution_count": 31,
   "metadata": {},
   "outputs": [
    {
     "data": {
      "image/png": "[encoded data removed]",
      "text/plain": [
       "<Figure size 432x288 with 1 Axes>"
      ]
     },
     "metadata": {
      "needs_background": "light"
     },
     "output_type": "display_data"
    }
   ],
   "source": [
    "from sklearn.metrics import roc_curve, auc\n",
    "\n",
    "\n",
    "nb = MultinomialNB(alpha=best_alpha_bow)\n",
    "nb.fit(X_tr_bow, y_train)\n",
    "\n",
    "\n",
    "y_train_pred = batch_predict(nb, X_tr_bow)    \n",
    "y_test_pred = batch_predict(nb, X_te_bow)\n",
    "\n",
    "train_fpr_bow, train_tpr_bow, tr_thresholds_bow = roc_curve(y_train, y_train_pred)\n",
    "test_fpr_bow, test_tpr_bow, te_thresholds_bow = roc_curve(y_test, y_test_pred)\n",
    "\n",
    "plt.plot(train_fpr_bow, train_tpr_bow, label=\"train AUC =\"+str(auc(train_fpr_bow, train_tpr_bow)))\n",
    "plt.plot(test_fpr_bow, test_tpr_bow, label=\"test AUC =\"+str(auc(test_fpr_bow, test_tpr_bow)))\n",
    "plt.legend()\n",
    "plt.xlabel(\"alpha : hyperparameter\")\n",
    "plt.ylabel(\"AUC\")\n",
    "plt.title(\"ERROR PLOTS\")\n",
    "plt.grid()\n",
    "plt.show()"
   ]
  },
  {
   "cell_type": "markdown",
   "metadata": {},
   "source": [
    "# Testing the performance of the model on test data, plotting ROC Curve for tfidf "
   ]
  },
  {
   "cell_type": "code",
   "execution_count": 32,
   "metadata": {},
   "outputs": [
    {
     "data": {
      "image/png": "[encoded data removed]",
      "text/plain": [
       "<Figure size 432x288 with 1 Axes>"
      ]
     },
     "metadata": {
      "needs_background": "light"
     },
     "output_type": "display_data"
    }
   ],
   "source": [
    "from sklearn.metrics import roc_curve, auc\n",
    "\n",
    "\n",
    "nb1 = MultinomialNB(alpha=best_alpha_tfidf)\n",
    "nb1.fit(X_tr_tfidf, y_train)\n",
    "\n",
    "\n",
    "y_train_pred = batch_predict(nb1, X_tr_tfidf)    \n",
    "y_test_pred = batch_predict(nb1, X_te_tfidf)\n",
    "\n",
    "train_fpr_tfidf, train_tpr_tfidf, tr_thresholds_tfidf = roc_curve(y_train, y_train_pred)\n",
    "test_fpr_tfidf, test_tpr_tfidf, te_thresholds_tfidf= roc_curve(y_test, y_test_pred)\n",
    "\n",
    "plt.plot(train_fpr_tfidf, train_tpr_tfidf, label=\"train AUC =\"+str(auc(train_fpr_tfidf, train_tpr_tfidf)))\n",
    "plt.plot(test_fpr_tfidf, test_tpr_tfidf, label=\"test AUC =\"+str(auc(test_fpr_tfidf, test_tpr_tfidf)))\n",
    "plt.legend()\n",
    "plt.xlabel(\"alpha : hyperparameter\")\n",
    "plt.ylabel(\"AUC\")\n",
    "plt.title(\"ERROR PLOTS\")\n",
    "plt.grid()\n",
    "plt.show()"
   ]
  },
  {
   "cell_type": "markdown",
   "metadata": {},
   "source": [
    "# printing Confusion Matrix for BOW"
   ]
  },
  {
   "cell_type": "code",
   "execution_count": 19,
   "metadata": {},
   "outputs": [
    {
     "name": "stdout",
     "output_type": "stream",
     "text": [
      "====================================================================================================\n",
      "the maximum value of tpr*(1-fpr) 0.7286342404491284 for threshold 0.853\n",
      "Train confusion matrix\n",
      "[[   72  9233]\n",
      " [  238 51909]]\n",
      "Test confusion matrix\n",
      "[[   15  4120]\n",
      " [  105 23072]]\n"
     ]
    }
   ],
   "source": [
    "# we are writing our own function for predict, with defined thresould\n",
    "# we will pick a threshold that will give the least fpr\n",
    "def find_best_threshold(threshould, fpr, tpr):\n",
    "    t = threshould[np.argmax(tpr*(1-fpr))]\n",
    "    # (tpr*(1-fpr)) will be maximum if your fpr is very low and tpr is very high\n",
    "    print(\"the maximum value of tpr*(1-fpr)\", max(tpr*(1-fpr)), \"for threshold\", np.round(t,3))\n",
    "    return t\n",
    "\n",
    "def predict_with_best_t(proba, threshould):\n",
    "    predictions = []\n",
    "    for i in proba:\n",
    "        if i>=threshould:\n",
    "            predictions.append(1)\n",
    "        else:\n",
    "            predictions.append(0)\n",
    "    return predictions\n",
    "print(\"=\"*100)\n",
    "from sklearn.metrics import confusion_matrix\n",
    "best_t = find_best_threshold(tr_thresholds_bow, train_fpr_bow, train_tpr_bow)\n",
    "print(\"Train confusion matrix\")\n",
    "print(confusion_matrix(y_train, predict_with_best_t(y_train_pred, best_t)))\n",
    "print(\"Test confusion matrix\")\n",
    "print(confusion_matrix(y_test, predict_with_best_t(y_test_pred, best_t)))"
   ]
  },
  {
   "cell_type": "markdown",
   "metadata": {},
   "source": [
    "# printing Confusion Matrix for tfidf"
   ]
  },
  {
   "cell_type": "code",
   "execution_count": 28,
   "metadata": {},
   "outputs": [
    {
     "name": "stdout",
     "output_type": "stream",
     "text": [
      "====================================================================================================\n",
      "the maximum value of tpr*(1-fpr) 0.5351730244411884 for threshold 0.998\n",
      "Train confusion matrix\n",
      "[[ 8540   765]\n",
      " [12351 39796]]\n",
      "Test confusion matrix\n",
      "[[ 2411  1724]\n",
      " [ 6752 16425]]\n"
     ]
    }
   ],
   "source": [
    "print(\"=\"*100)\n",
    "from sklearn.metrics import confusion_matrix\n",
    "best_t = find_best_threshold(tr_thresholds_tfidf, train_fpr_tfidf, train_tpr_tfidf)\n",
    "print(\"Train confusion matrix\")\n",
    "print(confusion_matrix(y_train, predict_with_best_t(y_train_pred, best_t)))\n",
    "print(\"Test confusion matrix\")\n",
    "print(confusion_matrix(y_test, predict_with_best_t(y_test_pred, best_t)))"
   ]
  },
  {
   "cell_type": "markdown",
   "metadata": {},
   "source": [
    "# Printing top 20 features of BOW"
   ]
  },
  {
   "cell_type": "code",
   "execution_count": 41,
   "metadata": {},
   "outputs": [
    {
     "name": "stdout",
     "output_type": "stream",
     "text": [
      "165008 students\n",
      "147602 school\n",
      "93921 learning\n",
      "113599 my\n",
      "29019 classroom\n",
      "120381 not\n",
      "91395 learn\n",
      "185946 they\n",
      "75160 help\n",
      "182680 the\n",
      "114431 my students\n",
      "116113 nannan\n",
      "105622 many\n",
      "201384 we\n",
      "116477 need\n",
      "206185 work\n",
      "32349 come\n",
      "101509 love\n"
     ]
    }
   ],
   "source": [
    "z1=X_train_essay_bow.shape[1]\n",
    "a=np.argsort(nb.feature_log_prob_[0])\n",
    "b=a[::-1]\n",
    "l=[]\n",
    "for i in range(20):\n",
    "    l.append(b[i])\n",
    "for i in l:\n",
    "    if i<=z1:\n",
    "        print(i,vectorizer1.get_feature_names()[i])\n",
    "    elif i>z1 and i<=z2:\n",
    "        print(i,vectorizer2.get_feature_names()[i])\n",
    "    elif i>z2 and i<=z3:\n",
    "        print(i,vectorizer3.get_feature_names()[i])\n",
    "    elif i>z3 and i<z4:\n",
    "        print(i,vectorizer4.get_feature_names()[i])\n",
    "    elif i>z4 and i<=z5:\n",
    "        print(i,vectorizer5.get_feature_names()[i])\n",
    "    elif i>z5 and i<=z6:\n",
    "        print(i,vectorizer6.get_feature_names()[i])"
   ]
  },
  {
   "cell_type": "markdown",
   "metadata": {},
   "source": [
    "#  Printing top 20 features for tfidf"
   ]
  },
  {
   "cell_type": "code",
   "execution_count": 47,
   "metadata": {},
   "outputs": [
    {
     "name": "stdout",
     "output_type": "stream",
     "text": [
      "211837 211888 211893 211897 211906 211936\n",
      "[211897, 211937, 211890, 211896, 211891, 211933, 211893, 211932, 211917, 211915, 211894, 211916, 211841, 211930, 211935, 211928, 211924, 211895, 211889, 211898]\n",
      "grades_prek_2\n",
      "mr\n",
      "grades_9_12\n",
      "mrs\n",
      "specialneeds\n",
      "teacher\n",
      "socialsciences\n",
      "extracurricular\n",
      "environmentalscience\n",
      "grades_3_5\n",
      "esl\n",
      "az\n",
      "parentinvolvement\n",
      "visualarts\n",
      "nutritioneducation\n",
      "literacy\n",
      "grades_6_8\n",
      "dr\n",
      "appliedlearning\n"
     ]
    }
   ],
   "source": [
    "z1=X_train_essay_bow.shape[1]\n",
    "print(z1,z2,z3,z4,z5,z6)\n",
    "a=np.argsort(nb1.feature_log_prob_[0])\n",
    "b=a[::-1]\n",
    "l=[]\n",
    "for i in range(20):\n",
    "    l.append(b[i])\n",
    "print(l)\n",
    "for i in l:\n",
    "    if i<=z1:\n",
    "        print(vectorizer_tfidf1.get_feature_names()[i])\n",
    "    elif i>z1 and i<=z2:\n",
    "        print(vectorizer_tfidf2.get_feature_names()[i-z1-1])\n",
    "    elif i>z2 and i<=z3:\n",
    "        print(vectorizer_tfidf3.get_feature_names()[i-z2-1])\n",
    "    elif i>z3 and i<=z4:\n",
    "        print(vectorizer_tfidf4.get_feature_names()[i-z3-1])\n",
    "    elif i>z4 and i<=z5:\n",
    "        print(vectorizer_tfidf5.get_feature_names()[i-z4-1])\n",
    "    elif i>z5 and i<=z6:\n",
    "        print(vectorizer_tfidf6.get_feature_names()[i-z5-1])\n",
    "    "
   ]
  },
  {
   "cell_type": "markdown",
   "metadata": {},
   "source": [
    "# Printing Table as summary"
   ]
  },
  {
   "cell_type": "code",
   "execution_count": 52,
   "metadata": {},
   "outputs": [
    {
     "name": "stdout",
     "output_type": "stream",
     "text": [
      "+------------+---------------+-----------------+--------------------+\n",
      "| Vectorizer |     Model     | Hyper Parameter |        AUC         |\n",
      "+------------+---------------+-----------------+--------------------+\n",
      "|    BOW     | MultinomialNB |        2        | 0.6964657661331786 |\n",
      "|   TFIDF    | MultinomialNB |        1        | 0.628526722406856  |\n",
      "+------------+---------------+-----------------+--------------------+\n"
     ]
    }
   ],
   "source": [
    "from prettytable import PrettyTable\n",
    "\n",
    "x=PrettyTable()\n",
    "x.field_names=['Vectorizer','Model','Hyper Parameter',\"AUC\"]\n",
    "x.add_row([\"BOW\",\"MultinomialNB\",best_alpha_bow,auc(test_fpr_bow, test_tpr_bow)])\n",
    "x.add_row([\"TFIDF\",\"MultinomialNB\",best_alpha_tfidf,auc(test_fpr_tfidf, test_tpr_tfidf)])\n",
    "print(x)"
   ]
  },
  {
   "cell_type": "code",
   "execution_count": null,
   "metadata": {},
   "outputs": [],
   "source": []
  },
  {
   "cell_type": "code",
   "execution_count": null,
   "metadata": {},
   "outputs": [],
   "source": []
  },
  {
   "cell_type": "code",
   "execution_count": null,
   "metadata": {},
   "outputs": [],
   "source": []
  },
  {
   "cell_type": "code",
   "execution_count": null,
   "metadata": {},
   "outputs": [],
   "source": []
  },
  {
   "cell_type": "code",
   "execution_count": null,
   "metadata": {},
   "outputs": [],
   "source": []
  },
  {
   "cell_type": "code",
   "execution_count": null,
   "metadata": {},
   "outputs": [],
   "source": []
  },
  {
   "cell_type": "code",
   "execution_count": null,
   "metadata": {},
   "outputs": [],
   "source": []
  },
  {
   "cell_type": "code",
   "execution_count": null,
   "metadata": {},
   "outputs": [],
   "source": []
  },
  {
   "cell_type": "code",
   "execution_count": null,
   "metadata": {},
   "outputs": [],
   "source": []
  },
  {
   "cell_type": "code",
   "execution_count": null,
   "metadata": {},
   "outputs": [],
   "source": []
  },
  {
   "cell_type": "code",
   "execution_count": null,
   "metadata": {},
   "outputs": [],
   "source": []
  },
  {
   "cell_type": "code",
   "execution_count": null,
   "metadata": {},
   "outputs": [],
   "source": []
  },
  {
   "cell_type": "code",
   "execution_count": null,
   "metadata": {},
   "outputs": [],
   "source": []
  },
  {
   "cell_type": "code",
   "execution_count": null,
   "metadata": {},
   "outputs": [],
   "source": []
  },
  {
   "cell_type": "code",
   "execution_count": null,
   "metadata": {},
   "outputs": [],
   "source": []
  },
  {
   "cell_type": "code",
   "execution_count": null,
   "metadata": {},
   "outputs": [],
   "source": []
  },
  {
   "cell_type": "code",
   "execution_count": null,
   "metadata": {},
   "outputs": [],
   "source": []
  },
  {
   "cell_type": "code",
   "execution_count": null,
   "metadata": {},
   "outputs": [],
   "source": []
  },
  {
   "cell_type": "code",
   "execution_count": null,
   "metadata": {},
   "outputs": [],
   "source": []
  },
  {
   "cell_type": "code",
   "execution_count": null,
   "metadata": {},
   "outputs": [],
   "source": []
  },
  {
   "cell_type": "code",
   "execution_count": null,
   "metadata": {},
   "outputs": [],
   "source": []
  },
  {
   "cell_type": "code",
   "execution_count": null,
   "metadata": {},
   "outputs": [],
   "source": []
  },
  {
   "cell_type": "code",
   "execution_count": null,
   "metadata": {},
   "outputs": [],
   "source": []
  },
  {
   "cell_type": "code",
   "execution_count": null,
   "metadata": {},
   "outputs": [],
   "source": []
  },
  {
   "cell_type": "code",
   "execution_count": null,
   "metadata": {},
   "outputs": [],
   "source": []
  },
  {
   "cell_type": "code",
   "execution_count": null,
   "metadata": {},
   "outputs": [],
   "source": []
  },
  {
   "cell_type": "code",
   "execution_count": null,
   "metadata": {},
   "outputs": [],
   "source": []
  },
  {
   "cell_type": "code",
   "execution_count": null,
   "metadata": {},
   "outputs": [],
   "source": []
  },
  {
   "cell_type": "code",
   "execution_count": null,
   "metadata": {},
   "outputs": [],
   "source": []
  },
  {
   "cell_type": "code",
   "execution_count": null,
   "metadata": {},
   "outputs": [],
   "source": []
  },
  {
   "cell_type": "code",
   "execution_count": null,
   "metadata": {},
   "outputs": [],
   "source": []
  },
  {
   "cell_type": "code",
   "execution_count": null,
   "metadata": {},
   "outputs": [],
   "source": []
  },
  {
   "cell_type": "code",
   "execution_count": null,
   "metadata": {},
   "outputs": [],
   "source": []
  },
  {
   "cell_type": "code",
   "execution_count": null,
   "metadata": {},
   "outputs": [],
   "source": []
  },
  {
   "cell_type": "code",
   "execution_count": null,
   "metadata": {},
   "outputs": [],
   "source": []
  },
  {
   "cell_type": "code",
   "execution_count": null,
   "metadata": {},
   "outputs": [],
   "source": []
  },
  {
   "cell_type": "code",
   "execution_count": null,
   "metadata": {},
   "outputs": [],
   "source": []
  }
 ],
 "metadata": {
  "colab": {
   "collapsed_sections": [],
   "name": "6_Assignment_NB_Instructions.ipynb",
   "provenance": [],
   "version": "0.3.2"
  },
  "kernelspec": {
   "display_name": "Python 3 (ipykernel)",
   "language": "python",
   "name": "python3"
  },
  "language_info": {
   "codemirror_mode": {
    "name": "ipython",
    "version": 3
   },
   "file_extension": ".py",
   "mimetype": "text/x-python",
   "name": "python",
   "nbconvert_exporter": "python",
   "pygments_lexer": "ipython3",
   "version": "3.7.11"
  }
 },
 "nbformat": 4,
 "nbformat_minor": 1
}
