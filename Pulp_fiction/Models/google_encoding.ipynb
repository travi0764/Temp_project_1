{
 "cells": [
  {
   "cell_type": "code",
   "execution_count": 1,
   "id": "x8QOon-2myVx",
   "metadata": {
    "id": "x8QOon-2myVx"
   },
   "outputs": [],
   "source": [
    "import pandas as pd\n",
    "import numpy as np\n",
    "import matplotlib.pyplot as plt\n",
    "import seaborn as sns\n",
    "import re"
   ]
  },
  {
   "cell_type": "code",
   "execution_count": 2,
   "id": "aiKnne4sdukI",
   "metadata": {
    "id": "aiKnne4sdukI"
   },
   "outputs": [],
   "source": [
    "import io\n",
    "data = pd.read_csv('DATASET_Preprocessed.csv')"
   ]
  },
  {
   "cell_type": "code",
   "execution_count": 3,
   "id": "TjK7ab98dug2",
   "metadata": {
    "colab": {
     "base_uri": "https://localhost:8080/",
     "height": 419
    },
    "id": "TjK7ab98dug2",
    "outputId": "93792d8d-328b-46ac-b25e-a6873cf431e8"
   },
   "outputs": [
    {
     "data": {
      "text/html": [
       "<div>\n",
       "<style scoped>\n",
       "    .dataframe tbody tr th:only-of-type {\n",
       "        vertical-align: middle;\n",
       "    }\n",
       "\n",
       "    .dataframe tbody tr th {\n",
       "        vertical-align: top;\n",
       "    }\n",
       "\n",
       "    .dataframe thead th {\n",
       "        text-align: right;\n",
       "    }\n",
       "</style>\n",
       "<table border=\"1\" class=\"dataframe\">\n",
       "  <thead>\n",
       "    <tr style=\"text-align: right;\">\n",
       "      <th></th>\n",
       "      <th>Unnamed: 0</th>\n",
       "      <th>tweet</th>\n",
       "      <th>label</th>\n",
       "    </tr>\n",
       "  </thead>\n",
       "  <tbody>\n",
       "    <tr>\n",
       "      <th>0</th>\n",
       "      <td>0</td>\n",
       "      <td>a a woman you should not complain about cleani...</td>\n",
       "      <td>2</td>\n",
       "    </tr>\n",
       "    <tr>\n",
       "      <th>1</th>\n",
       "      <td>1</td>\n",
       "      <td>boy dat cold tyga dwn bad for cuffin dat hoe i...</td>\n",
       "      <td>1</td>\n",
       "    </tr>\n",
       "    <tr>\n",
       "      <th>2</th>\n",
       "      <td>2</td>\n",
       "      <td>dawg you ever fuck a bitch and she sta to cry ...</td>\n",
       "      <td>1</td>\n",
       "    </tr>\n",
       "    <tr>\n",
       "      <th>3</th>\n",
       "      <td>3</td>\n",
       "      <td>she look like a tranny</td>\n",
       "      <td>1</td>\n",
       "    </tr>\n",
       "    <tr>\n",
       "      <th>4</th>\n",
       "      <td>4</td>\n",
       "      <td>the shit you hear about me might be true or it...</td>\n",
       "      <td>1</td>\n",
       "    </tr>\n",
       "    <tr>\n",
       "      <th>...</th>\n",
       "      <td>...</td>\n",
       "      <td>...</td>\n",
       "      <td>...</td>\n",
       "    </tr>\n",
       "    <tr>\n",
       "      <th>50501</th>\n",
       "      <td>50501</td>\n",
       "      <td>get this worse than scum out of our country bu...</td>\n",
       "      <td>0</td>\n",
       "    </tr>\n",
       "    <tr>\n",
       "      <th>50502</th>\n",
       "      <td>50502</td>\n",
       "      <td>let this hoe touch this kid i swear to fucking...</td>\n",
       "      <td>0</td>\n",
       "    </tr>\n",
       "    <tr>\n",
       "      <th>50503</th>\n",
       "      <td>50503</td>\n",
       "      <td>that is what happens when illegal alien have a...</td>\n",
       "      <td>0</td>\n",
       "    </tr>\n",
       "    <tr>\n",
       "      <th>50504</th>\n",
       "      <td>50504</td>\n",
       "      <td>stopimmigration</td>\n",
       "      <td>0</td>\n",
       "    </tr>\n",
       "    <tr>\n",
       "      <th>50505</th>\n",
       "      <td>50505</td>\n",
       "      <td>that bitch on the spoiled whore list thought s...</td>\n",
       "      <td>0</td>\n",
       "    </tr>\n",
       "  </tbody>\n",
       "</table>\n",
       "<p>50506 rows × 3 columns</p>\n",
       "</div>"
      ],
      "text/plain": [
       "       Unnamed: 0                                              tweet  label\n",
       "0               0  a a woman you should not complain about cleani...      2\n",
       "1               1  boy dat cold tyga dwn bad for cuffin dat hoe i...      1\n",
       "2               2  dawg you ever fuck a bitch and she sta to cry ...      1\n",
       "3               3                             she look like a tranny      1\n",
       "4               4  the shit you hear about me might be true or it...      1\n",
       "...           ...                                                ...    ...\n",
       "50501       50501  get this worse than scum out of our country bu...      0\n",
       "50502       50502  let this hoe touch this kid i swear to fucking...      0\n",
       "50503       50503  that is what happens when illegal alien have a...      0\n",
       "50504       50504                                    stopimmigration      0\n",
       "50505       50505  that bitch on the spoiled whore list thought s...      0\n",
       "\n",
       "[50506 rows x 3 columns]"
      ]
     },
     "execution_count": 3,
     "metadata": {},
     "output_type": "execute_result"
    }
   ],
   "source": [
    "data"
   ]
  },
  {
   "cell_type": "code",
   "execution_count": 4,
   "id": "9ec6ff5c",
   "metadata": {
    "colab": {
     "base_uri": "https://localhost:8080/",
     "height": 419
    },
    "id": "9ec6ff5c",
    "outputId": "b0dfd73c-9ac6-4e41-8e63-d3b8b7df8100"
   },
   "outputs": [
    {
     "data": {
      "text/html": [
       "<div>\n",
       "<style scoped>\n",
       "    .dataframe tbody tr th:only-of-type {\n",
       "        vertical-align: middle;\n",
       "    }\n",
       "\n",
       "    .dataframe tbody tr th {\n",
       "        vertical-align: top;\n",
       "    }\n",
       "\n",
       "    .dataframe thead th {\n",
       "        text-align: right;\n",
       "    }\n",
       "</style>\n",
       "<table border=\"1\" class=\"dataframe\">\n",
       "  <thead>\n",
       "    <tr style=\"text-align: right;\">\n",
       "      <th></th>\n",
       "      <th>tweet</th>\n",
       "      <th>label</th>\n",
       "    </tr>\n",
       "  </thead>\n",
       "  <tbody>\n",
       "    <tr>\n",
       "      <th>0</th>\n",
       "      <td>a a woman you should not complain about cleani...</td>\n",
       "      <td>2</td>\n",
       "    </tr>\n",
       "    <tr>\n",
       "      <th>1</th>\n",
       "      <td>boy dat cold tyga dwn bad for cuffin dat hoe i...</td>\n",
       "      <td>1</td>\n",
       "    </tr>\n",
       "    <tr>\n",
       "      <th>2</th>\n",
       "      <td>dawg you ever fuck a bitch and she sta to cry ...</td>\n",
       "      <td>1</td>\n",
       "    </tr>\n",
       "    <tr>\n",
       "      <th>3</th>\n",
       "      <td>she look like a tranny</td>\n",
       "      <td>1</td>\n",
       "    </tr>\n",
       "    <tr>\n",
       "      <th>4</th>\n",
       "      <td>the shit you hear about me might be true or it...</td>\n",
       "      <td>1</td>\n",
       "    </tr>\n",
       "    <tr>\n",
       "      <th>...</th>\n",
       "      <td>...</td>\n",
       "      <td>...</td>\n",
       "    </tr>\n",
       "    <tr>\n",
       "      <th>50501</th>\n",
       "      <td>get this worse than scum out of our country bu...</td>\n",
       "      <td>0</td>\n",
       "    </tr>\n",
       "    <tr>\n",
       "      <th>50502</th>\n",
       "      <td>let this hoe touch this kid i swear to fucking...</td>\n",
       "      <td>0</td>\n",
       "    </tr>\n",
       "    <tr>\n",
       "      <th>50503</th>\n",
       "      <td>that is what happens when illegal alien have a...</td>\n",
       "      <td>0</td>\n",
       "    </tr>\n",
       "    <tr>\n",
       "      <th>50504</th>\n",
       "      <td>stopimmigration</td>\n",
       "      <td>0</td>\n",
       "    </tr>\n",
       "    <tr>\n",
       "      <th>50505</th>\n",
       "      <td>that bitch on the spoiled whore list thought s...</td>\n",
       "      <td>0</td>\n",
       "    </tr>\n",
       "  </tbody>\n",
       "</table>\n",
       "<p>50506 rows × 2 columns</p>\n",
       "</div>"
      ],
      "text/plain": [
       "                                                   tweet  label\n",
       "0      a a woman you should not complain about cleani...      2\n",
       "1      boy dat cold tyga dwn bad for cuffin dat hoe i...      1\n",
       "2      dawg you ever fuck a bitch and she sta to cry ...      1\n",
       "3                                 she look like a tranny      1\n",
       "4      the shit you hear about me might be true or it...      1\n",
       "...                                                  ...    ...\n",
       "50501  get this worse than scum out of our country bu...      0\n",
       "50502  let this hoe touch this kid i swear to fucking...      0\n",
       "50503  that is what happens when illegal alien have a...      0\n",
       "50504                                    stopimmigration      0\n",
       "50505  that bitch on the spoiled whore list thought s...      0\n",
       "\n",
       "[50506 rows x 2 columns]"
      ]
     },
     "execution_count": 4,
     "metadata": {},
     "output_type": "execute_result"
    }
   ],
   "source": [
    "data.drop(\"Unnamed: 0\",axis=1,inplace=True)\n",
    "data"
   ]
  },
  {
   "cell_type": "code",
   "execution_count": 5,
   "id": "54d210d7",
   "metadata": {
    "colab": {
     "base_uri": "https://localhost:8080/"
    },
    "id": "54d210d7",
    "outputId": "011958ad-89f7-4271-a023-f68d85ad67e9"
   },
   "outputs": [
    {
     "data": {
      "text/plain": [
       "(50456, 2)"
      ]
     },
     "execution_count": 5,
     "metadata": {},
     "output_type": "execute_result"
    }
   ],
   "source": [
    "data.dropna(inplace=True)\n",
    "data.shape"
   ]
  },
  {
   "cell_type": "code",
   "execution_count": 6,
   "id": "xfrFLG4knq8-",
   "metadata": {
    "colab": {
     "base_uri": "https://localhost:8080/"
    },
    "id": "xfrFLG4knq8-",
    "outputId": "b84091d6-8c76-4562-d07d-e7367697b879"
   },
   "outputs": [
    {
     "data": {
      "text/plain": [
       "1    26531\n",
       "2    13651\n",
       "0     8160\n",
       "3     2114\n",
       "Name: label, dtype: int64"
      ]
     },
     "execution_count": 6,
     "metadata": {},
     "output_type": "execute_result"
    }
   ],
   "source": [
    "data.label.value_counts()"
   ]
  },
  {
   "cell_type": "code",
   "execution_count": 7,
   "id": "23db7793",
   "metadata": {
    "id": "23db7793"
   },
   "outputs": [],
   "source": [
    "import tensorflow as tf\n",
    "import tensorflow_hub as hub"
   ]
  },
  {
   "cell_type": "code",
   "execution_count": 8,
   "id": "64d6c4af",
   "metadata": {
    "colab": {
     "base_uri": "https://localhost:8080/"
    },
    "id": "64d6c4af",
    "outputId": "a546f03c-931e-44fe-f046-ba173521632d"
   },
   "outputs": [
    {
     "name": "stderr",
     "output_type": "stream",
     "text": [
      "2021-10-12 18:50:41.468209: I tensorflow/core/platform/cpu_feature_guard.cc:145] This TensorFlow binary is optimized with Intel(R) MKL-DNN to use the following CPU instructions in performance critical operations:  SSE4.1 SSE4.2\n",
      "To enable them in non-MKL-DNN operations, rebuild TensorFlow with the appropriate compiler flags.\n",
      "2021-10-12 18:50:41.469702: I tensorflow/core/common_runtime/process_util.cc:115] Creating new thread pool with default inter op setting: 8. Tune using inter_op_parallelism_threads for best performance.\n"
     ]
    },
    {
     "name": "stdout",
     "output_type": "stream",
     "text": [
      "module https://tfhub.dev/google/universal-sentence-encoder/4 loaded\n"
     ]
    }
   ],
   "source": [
    "module_url = \"https://tfhub.dev/google/universal-sentence-encoder/4\" #@param [\"https://tfhub.dev/google/universal-sentence-encoder/4\", \"https://tfhub.dev/google/universal-sentence-encoder-large/5\"]\n",
    "model = hub.load(module_url)\n",
    "print (\"module %s loaded\" % module_url)\n",
    "def embed(text):\n",
    "    return model(text)"
   ]
  },
  {
   "cell_type": "code",
   "execution_count": 9,
   "id": "4168003a",
   "metadata": {
    "id": "4168003a"
   },
   "outputs": [],
   "source": [
    "y=data['label']\n",
    "x=data['tweet']"
   ]
  },
  {
   "cell_type": "code",
   "execution_count": 10,
   "id": "1e220def",
   "metadata": {
    "colab": {
     "base_uri": "https://localhost:8080/"
    },
    "id": "1e220def",
    "outputId": "2ec31712-e5ab-41fd-f4ee-b916ddbd3ccf"
   },
   "outputs": [
    {
     "name": "stdout",
     "output_type": "stream",
     "text": [
      "(37842,) (37842,)\n",
      "(12614,) (12614,)\n"
     ]
    }
   ],
   "source": [
    "from sklearn.model_selection import train_test_split\n",
    "X_train, X_test, y_train, y_test = train_test_split(x, y, test_size=0.25, stratify=y)\n",
    "\n",
    "\n",
    "print(X_train.shape, y_train.shape)\n",
    "\n",
    "print(X_test.shape, y_test.shape)\n"
   ]
  },
  {
   "cell_type": "code",
   "execution_count": 11,
   "id": "0449013a",
   "metadata": {
    "id": "0449013a"
   },
   "outputs": [],
   "source": [
    "from sklearn.feature_extraction.text import TfidfVectorizer\n",
    "from sklearn.feature_extraction.text import CountVectorizer\n",
    "from sklearn.metrics import confusion_matrix\n",
    "from sklearn import metrics\n",
    "from sklearn.metrics import roc_curve, auc\n",
    "from sklearn.naive_bayes import MultinomialNB\n"
   ]
  },
  {
   "cell_type": "code",
   "execution_count": 12,
   "id": "652d574a",
   "metadata": {
    "colab": {
     "base_uri": "https://localhost:8080/"
    },
    "id": "652d574a",
    "outputId": "0e4f17da-1f95-4863-86c7-c441b088d325"
   },
   "outputs": [
    {
     "name": "stdout",
     "output_type": "stream",
     "text": [
      "After BOW vectorizations\n",
      "(37842, 512) (37842,)\n",
      "(12614, 512) (12614,)\n",
      "====================================================================================================\n"
     ]
    }
   ],
   "source": [
    "X_train_tweet = embed(list(X_train))\n",
    "\n",
    "X_test_tweet = embed(list(X_test))\n",
    "\n",
    "print(\"After Embedding vectorizations\")\n",
    "print(X_train_tweet.shape, y_train.shape)\n",
    "\n",
    "print(X_test_tweet.shape, y_test.shape)\n",
    "print(\"=\"*100)"
   ]
  },
  {
   "cell_type": "code",
   "execution_count": 13,
   "id": "6b4ac9ec",
   "metadata": {
    "id": "6b4ac9ec"
   },
   "outputs": [],
   "source": [
    "from sklearn.multiclass import OneVsRestClassifier\n",
    "from sklearn.naive_bayes import MultinomialNB\n",
    "from sklearn.linear_model import LogisticRegression\n",
    "from sklearn.svm import LinearSVC\n",
    "from sklearn.ensemble import RandomForestRegressor\n",
    "from sklearn.ensemble import RandomForestClassifier\n",
    "from sklearn.metrics import confusion_matrix\n",
    "import joblib\n",
    "from sklearn.svm import SVC\n",
    "from sklearn.metrics import f1_score\n",
    "from sklearn.model_selection import GridSearchCV\n",
    "\n",
    "from sklearn.feature_extraction.text import CountVectorizer, TfidfVectorizer\n",
    "from sklearn import preprocessing\n",
    "from sklearn.model_selection import train_test_split, StratifiedKFold, KFold\n",
    "\n",
    "from sklearn.naive_bayes import MultinomialNB\n",
    "from sklearn.linear_model import SGDClassifier\n",
    "from sklearn.linear_model import LogisticRegression\n",
    "from sklearn.svm import LinearSVC\n",
    "from sklearn.ensemble import RandomForestClassifier, GradientBoostingClassifier\n",
    "\n",
    "from sklearn.metrics import classification_report\n",
    "from sklearn.metrics import confusion_matrix\n",
    "from sklearn.metrics import plot_confusion_matrix\n",
    "from sklearn.metrics import precision_recall_fscore_support as score"
   ]
  },
  {
   "cell_type": "code",
   "execution_count": 14,
   "id": "e2ed159e",
   "metadata": {
    "id": "e2ed159e"
   },
   "outputs": [],
   "source": [
    "def train_test_model(model, X_train, X_test, y_train, y_test,labels):\n",
    "    print('Start training...', end='')\n",
    "    model.fit(X_train, y_train)\n",
    "    print('done!')\n",
    "    print(\"=\"*80)\n",
    "    print('Start testing...', end='')\n",
    "    predictions = model.predict(X_test)\n",
    "    accuracy = model.score(X_test, y_test)\n",
    "    metrics_report = classification_report(y_test, predictions, target_names=labels)\n",
    "    precision, recall, fscore, train_support = score(y_test, predictions, average='weighted')\n",
    "    print('done!')\n",
    "    print(\"=\"*80)\n",
    "    return predictions, accuracy, metrics_report, (precision, recall, fscore)"
   ]
  },
  {
   "cell_type": "code",
   "execution_count": 15,
   "id": "79f6f4d0",
   "metadata": {
    "id": "79f6f4d0"
   },
   "outputs": [],
   "source": [
    "labels_=['hatefull','offensive','neither','Tobacco']"
   ]
  },
  {
   "cell_type": "code",
   "execution_count": 16,
   "id": "e76e6389",
   "metadata": {
    "colab": {
     "base_uri": "https://localhost:8080/",
     "height": 621
    },
    "id": "e76e6389",
    "outputId": "f9837ab5-2dfd-4037-fcf6-3bc2431e6a27"
   },
   "outputs": [
    {
     "name": "stdout",
     "output_type": "stream",
     "text": [
      "Start training...done!\n",
      "================================================================================\n",
      "Start testing...done!\n",
      "================================================================================\n",
      "accuracy: 0.7606627556683051\n",
      "====================================================================================================\n",
      "              precision    recall  f1-score   support\n",
      "\n",
      "    hatefull       0.71      0.46      0.56      2040\n",
      "   offensive       0.78      0.84      0.81      6633\n",
      "     neither       0.71      0.76      0.74      3413\n",
      "     Tobacco       0.94      0.90      0.92       528\n",
      "\n",
      "    accuracy                           0.76     12614\n",
      "   macro avg       0.79      0.74      0.76     12614\n",
      "weighted avg       0.76      0.76      0.75     12614\n",
      "\n"
     ]
    },
    {
     "data": {
      "text/plain": [
       "<sklearn.metrics._plot.confusion_matrix.ConfusionMatrixDisplay at 0x7f2320e62110>"
      ]
     },
     "execution_count": 16,
     "metadata": {},
     "output_type": "execute_result"
    },
    {
     "data": {
      "image/png": "[encoded data removed]",
      "text/plain": [
       "<Figure size 432x288 with 2 Axes>"
      ]
     },
     "metadata": {
      "needs_background": "light"
     },
     "output_type": "display_data"
    }
   ],
   "source": [
    "log_model=LogisticRegression(penalty='l2',max_iter=1000)\n",
    "predictions, accuracy, metrics_report, log_prf = train_test_model(log_model, X_train_tweet, X_test_tweet, y_train, y_test, labels_)\n",
    "\n",
    "\n",
    "print('accuracy: {}'.format(accuracy))\n",
    "print('='*100)\n",
    "print(metrics_report)\n",
    "\n",
    "plot_confusion_matrix(log_model, X_test_tweet, y_test, display_labels=labels_, xticks_rotation='vertical', cmap=\"BuPu\")"
   ]
  },
  {
   "cell_type": "code",
   "execution_count": 17,
   "id": "9a2277d9",
   "metadata": {
    "colab": {
     "base_uri": "https://localhost:8080/",
     "height": 624
    },
    "id": "9a2277d9",
    "outputId": "1797f6d2-573a-4e84-870a-ba0d2a4d24f6"
   },
   "outputs": [
    {
     "name": "stdout",
     "output_type": "stream",
     "text": [
      "Start training...done!\n",
      "================================================================================\n",
      "Start testing...done!\n",
      "================================================================================\n",
      "accuracy: 0.7504360234659901\n",
      "====================================================================================================\n",
      "              precision    recall  f1-score   support\n",
      "\n",
      "    hatefull       0.60      0.56      0.58      2040\n",
      "   offensive       0.84      0.76      0.80      6633\n",
      "     neither       0.68      0.81      0.74      3413\n",
      "     Tobacco       0.85      0.95      0.90       528\n",
      "\n",
      "    accuracy                           0.75     12614\n",
      "   macro avg       0.74      0.77      0.75     12614\n",
      "weighted avg       0.76      0.75      0.75     12614\n",
      "\n"
     ]
    },
    {
     "data": {
      "text/plain": [
       "<sklearn.metrics._plot.confusion_matrix.ConfusionMatrixDisplay at 0x7f2320e911d0>"
      ]
     },
     "execution_count": 17,
     "metadata": {},
     "output_type": "execute_result"
    },
    {
     "data": {
      "image/png": "[encoded data removed]",
      "text/plain": [
       "<Figure size 432x288 with 2 Axes>"
      ]
     },
     "metadata": {
      "needs_background": "light"
     },
     "output_type": "display_data"
    }
   ],
   "source": [
    "svm = LinearSVC(class_weight='balanced', verbose=False, max_iter=10000, tol=1e-4, C=0.1)\n",
    "\n",
    "predictions, accuracy, metrics_report, svm_prf = train_test_model(svm, X_train_tweet, X_test_tweet, y_train, y_test, labels_)\n",
    "\n",
    "\n",
    "print('accuracy: {}'.format(accuracy))\n",
    "print('='*100)\n",
    "print(metrics_report)\n",
    "\n",
    "plot_confusion_matrix(svm, X_test_tweet, y_test, display_labels=labels_, xticks_rotation='vertical', cmap=\"BuPu\")"
   ]
  },
  {
   "cell_type": "code",
   "execution_count": 18,
   "id": "4e30e06d",
   "metadata": {
    "id": "4e30e06d"
   },
   "outputs": [],
   "source": [
    "weights={0:0.259068,1:0.079680,2:0.154860,3:1}"
   ]
  },
  {
   "cell_type": "markdown",
   "id": "xPx7u_MSi1dC",
   "metadata": {
    "id": "xPx7u_MSi1dC"
   },
   "source": [
    "MODELS WITH CLASS WEIGHTS"
   ]
  },
  {
   "cell_type": "code",
   "execution_count": 19,
   "id": "c3c12f0f",
   "metadata": {
    "colab": {
     "base_uri": "https://localhost:8080/",
     "height": 621
    },
    "id": "c3c12f0f",
    "outputId": "88b21bcb-abfb-4c7a-eb58-ab7f61551050"
   },
   "outputs": [
    {
     "name": "stdout",
     "output_type": "stream",
     "text": [
      "Start training...done!\n",
      "================================================================================\n",
      "Start testing...done!\n",
      "================================================================================\n",
      "accuracy: 0.7221341366735373\n",
      "====================================================================================================\n",
      "              precision    recall  f1-score   support\n",
      "\n",
      "    hatefull       0.50      0.66      0.57      2040\n",
      "   offensive       0.87      0.67      0.76      6633\n",
      "     neither       0.67      0.83      0.74      3413\n",
      "     Tobacco       0.84      0.95      0.89       528\n",
      "\n",
      "    accuracy                           0.72     12614\n",
      "   macro avg       0.72      0.78      0.74     12614\n",
      "weighted avg       0.75      0.72      0.73     12614\n",
      "\n"
     ]
    },
    {
     "data": {
      "text/plain": [
       "<sklearn.metrics._plot.confusion_matrix.ConfusionMatrixDisplay at 0x7f2318d124d0>"
      ]
     },
     "execution_count": 19,
     "metadata": {},
     "output_type": "execute_result"
    },
    {
     "data": {
      "image/png": "[encoded data removed]",
      "text/plain": [
       "<Figure size 432x288 with 2 Axes>"
      ]
     },
     "metadata": {
      "needs_background": "light"
     },
     "output_type": "display_data"
    }
   ],
   "source": [
    "log_model=LogisticRegression(penalty='l2',max_iter=1000,class_weight=weights)\n",
    "predictions, accuracy, metrics_report, log_prf = train_test_model(log_model, X_train_tweet, X_test_tweet, y_train, y_test, labels_)\n",
    "\n",
    "\n",
    "print('accuracy: {}'.format(accuracy))\n",
    "print('='*100)\n",
    "print(metrics_report)\n",
    "\n",
    "plot_confusion_matrix(log_model, X_test_tweet, y_test, display_labels=labels_, xticks_rotation='vertical', cmap=\"BuPu\")"
   ]
  },
  {
   "cell_type": "code",
   "execution_count": 20,
   "id": "06d7e100",
   "metadata": {
    "colab": {
     "base_uri": "https://localhost:8080/",
     "height": 621
    },
    "id": "06d7e100",
    "outputId": "5bc613c3-5001-4961-e986-290c7e6ca3d2"
   },
   "outputs": [
    {
     "name": "stdout",
     "output_type": "stream",
     "text": [
      "Start training...done!\n",
      "================================================================================\n",
      "Start testing...done!\n",
      "================================================================================\n",
      "accuracy: 0.7394957983193278\n",
      "====================================================================================================\n",
      "              precision    recall  f1-score   support\n",
      "\n",
      "    hatefull       0.57      0.57      0.57      2040\n",
      "   offensive       0.83      0.75      0.79      6633\n",
      "     neither       0.68      0.80      0.74      3413\n",
      "     Tobacco       0.77      0.97      0.85       528\n",
      "\n",
      "    accuracy                           0.74     12614\n",
      "   macro avg       0.71      0.77      0.74     12614\n",
      "weighted avg       0.75      0.74      0.74     12614\n",
      "\n"
     ]
    },
    {
     "data": {
      "text/plain": [
       "<sklearn.metrics._plot.confusion_matrix.ConfusionMatrixDisplay at 0x7f2318ceb3d0>"
      ]
     },
     "execution_count": 20,
     "metadata": {},
     "output_type": "execute_result"
    },
    {
     "data": {
      "image/png": "[encoded data removed]",
      "text/plain": [
       "<Figure size 432x288 with 2 Axes>"
      ]
     },
     "metadata": {
      "needs_background": "light"
     },
     "output_type": "display_data"
    }
   ],
   "source": [
    "svm = LinearSVC(class_weight=weights, verbose=False, max_iter=10000, tol=1e-4, C=0.1)\n",
    "\n",
    "predictions, accuracy, metrics_report, svm_prf = train_test_model(svm, X_train_tweet, X_test_tweet, y_train, y_test, labels_)\n",
    "\n",
    "\n",
    "print('accuracy: {}'.format(accuracy))\n",
    "print('='*100)\n",
    "print(metrics_report)\n",
    "\n",
    "plot_confusion_matrix(svm, X_test_tweet, y_test, display_labels=labels_, xticks_rotation='vertical', cmap=\"BuPu\")"
   ]
  },
  {
   "cell_type": "code",
   "execution_count": 21,
   "id": "d0bb3fdd",
   "metadata": {
    "id": "d0bb3fdd"
   },
   "outputs": [],
   "source": [
    "from keras.layers import Input, Lambda, Dense,GRU,LSTM,Flatten\n",
    "from keras.models import Model\n",
    "import keras.backend as K"
   ]
  },
  {
   "cell_type": "code",
   "execution_count": 22,
   "id": "df427ec0",
   "metadata": {
    "colab": {
     "base_uri": "https://localhost:8080/"
    },
    "id": "df427ec0",
    "outputId": "1eb3f6e3-e219-4a7d-c369-40ffa2234bef"
   },
   "outputs": [
    {
     "name": "stdout",
     "output_type": "stream",
     "text": [
      "<class 'pandas.core.frame.DataFrame'>\n",
      "Int64Index: 50456 entries, 0 to 50505\n",
      "Data columns (total 2 columns):\n",
      " #   Column  Non-Null Count  Dtype \n",
      "---  ------  --------------  ----- \n",
      " 0   tweet   50456 non-null  object\n",
      " 1   label   50456 non-null  int64 \n",
      "dtypes: int64(1), object(1)\n",
      "memory usage: 1.2+ MB\n"
     ]
    }
   ],
   "source": [
    "data.info()"
   ]
  },
  {
   "cell_type": "code",
   "execution_count": 23,
   "id": "3fdda8d7",
   "metadata": {
    "id": "3fdda8d7"
   },
   "outputs": [],
   "source": [
    "x=data['tweet']\n",
    "y=data['label']"
   ]
  },
  {
   "cell_type": "code",
   "execution_count": 24,
   "id": "29aab4c1",
   "metadata": {
    "id": "29aab4c1"
   },
   "outputs": [],
   "source": [
    "from sklearn.model_selection import train_test_split\n",
    "\n",
    "x_train, x_test, y_train, y_test = train_test_split(x, y, test_size=0.20, stratify=y, random_state=42)\n",
    "x_train, x_cv, y_train, y_cv = train_test_split(x_train, \n",
    "                                                y_train, \n",
    "                                                test_size=0.20, \n",
    "                                                stratify=y_train, \n",
    "                                                random_state=42)"
   ]
  },
  {
   "cell_type": "code",
   "execution_count": 25,
   "id": "6097c135",
   "metadata": {
    "colab": {
     "base_uri": "https://localhost:8080/"
    },
    "id": "6097c135",
    "outputId": "627a26c1-e3ed-408f-d318-5d9d50d40bbe"
   },
   "outputs": [
    {
     "name": "stdout",
     "output_type": "stream",
     "text": [
      "(32291,) (32291,)\n",
      "(8073,) (8073,)\n",
      "(10092,) (10092,)\n"
     ]
    }
   ],
   "source": [
    "print(x_train.shape,y_train.shape)\n",
    "print(x_cv.shape,y_cv.shape)\n",
    "print(x_test.shape,y_test.shape)"
   ]
  },
  {
   "cell_type": "markdown",
   "id": "lWwVunpXi8CW",
   "metadata": {
    "id": "lWwVunpXi8CW"
   },
   "source": [
    "MODELS WITH NEURAL NETWORKS"
   ]
  },
  {
   "cell_type": "code",
   "execution_count": 26,
   "id": "0e4e6313",
   "metadata": {
    "id": "0e4e6313"
   },
   "outputs": [],
   "source": [
    "model = tf.keras.models.Sequential()"
   ]
  },
  {
   "cell_type": "code",
   "execution_count": 27,
   "id": "f5e4548e",
   "metadata": {
    "id": "f5e4548e"
   },
   "outputs": [],
   "source": [
    "x = tf.keras.layers.Input(shape=[], dtype=tf.string)\n",
    "y_ = hub.KerasLayer('https://tfhub.dev/google/universal-sentence-encoder/4', \n",
    "                    trainable=True)(x)\n",
    "k = tf.keras.layers.Dense(256,activation='relu')(y_)\n",
    "p = tf.keras.layers.Dropout(rate=0.25)(k)\n",
    "z = tf.keras.layers.Dense(4, activation='softmax')(p)\n",
    "model = tf.keras.models.Model(x, z)"
   ]
  },
  {
   "cell_type": "code",
   "execution_count": 28,
   "id": "0fd86854",
   "metadata": {
    "id": "0fd86854"
   },
   "outputs": [],
   "source": [
    "model.compile(optimizer='adam', \n",
    "              loss='sparse_categorical_crossentropy', \n",
    "              metrics=['accuracy'])"
   ]
  },
  {
   "cell_type": "code",
   "execution_count": 29,
   "id": "a8cbc215",
   "metadata": {
    "colab": {
     "base_uri": "https://localhost:8080/"
    },
    "id": "a8cbc215",
    "outputId": "a0e3ad32-82c9-42b3-eaf3-846152a7de35"
   },
   "outputs": [
    {
     "name": "stdout",
     "output_type": "stream",
     "text": [
      "Epoch 1/5\n",
      "1010/1010 [==============================] - 245s 236ms/step - loss: 0.5822 - accuracy: 0.7617 - val_loss: 0.5064 - val_accuracy: 0.7904\n",
      "Epoch 2/5\n",
      "1010/1010 [==============================] - 237s 235ms/step - loss: 0.2189 - accuracy: 0.9203 - val_loss: 0.6157 - val_accuracy: 0.7779\n",
      "Epoch 3/5\n",
      "1010/1010 [==============================] - 238s 236ms/step - loss: 0.0521 - accuracy: 0.9825 - val_loss: 0.8823 - val_accuracy: 0.7617\n",
      "Epoch 4/5\n",
      "1010/1010 [==============================] - 237s 235ms/step - loss: 0.0242 - accuracy: 0.9919 - val_loss: 1.1100 - val_accuracy: 0.7531\n",
      "Epoch 5/5\n",
      "1010/1010 [==============================] - 237s 234ms/step - loss: 0.0168 - accuracy: 0.9946 - val_loss: 1.0282 - val_accuracy: 0.7671\n",
      "CPU times: user 15min 14s, sys: 37.5 s, total: 15min 51s\n",
      "Wall time: 20min 28s\n"
     ]
    },
    {
     "data": {
      "text/plain": [
       "<keras.callbacks.History at 0x7f231820f610>"
      ]
     },
     "execution_count": 29,
     "metadata": {},
     "output_type": "execute_result"
    }
   ],
   "source": [
    "%%time\n",
    "model.fit(x_train, \n",
    "          y_train, \n",
    "          epochs=5, \n",
    "          validation_data=(x_cv, y_cv))"
   ]
  },
  {
   "cell_type": "code",
   "execution_count": 30,
   "id": "LtXFTV2Io_1O",
   "metadata": {
    "id": "LtXFTV2Io_1O"
   },
   "outputs": [],
   "source": [
    "predicts=model.predict(x_test)"
   ]
  },
  {
   "cell_type": "code",
   "execution_count": 31,
   "id": "R3rpyTpgo_yf",
   "metadata": {
    "colab": {
     "base_uri": "https://localhost:8080/"
    },
    "id": "R3rpyTpgo_yf",
    "outputId": "d6cdc250-ebe8-4b66-84d3-a61762960344"
   },
   "outputs": [
    {
     "data": {
      "text/plain": [
       "10092"
      ]
     },
     "execution_count": 31,
     "metadata": {},
     "output_type": "execute_result"
    }
   ],
   "source": [
    "y_predict=[np.argmax(x) for x in predicts ]\n",
    "len(y_predict)"
   ]
  },
  {
   "cell_type": "code",
   "execution_count": 32,
   "id": "j0lntLdca0id",
   "metadata": {
    "colab": {
     "base_uri": "https://localhost:8080/"
    },
    "id": "j0lntLdca0id",
    "outputId": "5e9e4995-1ea9-4058-a958-7096b90c7255"
   },
   "outputs": [
    {
     "data": {
      "text/plain": [
       "38733    2\n",
       "47872    0\n",
       "39102    2\n",
       "37112    1\n",
       "39684    2\n",
       "        ..\n",
       "41958    2\n",
       "47209    0\n",
       "17340    1\n",
       "22110    1\n",
       "29055    0\n",
       "Name: label, Length: 10092, dtype: int64"
      ]
     },
     "execution_count": 32,
     "metadata": {},
     "output_type": "execute_result"
    }
   ],
   "source": [
    "y_test"
   ]
  },
  {
   "cell_type": "code",
   "execution_count": 33,
   "id": "82663ba3",
   "metadata": {
    "id": "82663ba3"
   },
   "outputs": [],
   "source": [
    "from sklearn import metrics"
   ]
  },
  {
   "cell_type": "code",
   "execution_count": 34,
   "id": "3154619b",
   "metadata": {
    "colab": {
     "base_uri": "https://localhost:8080/"
    },
    "id": "3154619b",
    "outputId": "c33217b4-aa73-4b78-a832-4755044f7726"
   },
   "outputs": [
    {
     "name": "stdout",
     "output_type": "stream",
     "text": [
      "[[ 951  507  169    5]\n",
      " [ 346 4495  459    7]\n",
      " [ 122  706 1896    6]\n",
      " [   6    8   13  396]]\n"
     ]
    }
   ],
   "source": [
    "print(metrics.confusion_matrix(y_test,y_predict))"
   ]
  },
  {
   "cell_type": "code",
   "execution_count": 35,
   "id": "gNi0XT_gb7d0",
   "metadata": {
    "id": "gNi0XT_gb7d0"
   },
   "outputs": [],
   "source": [
    "from sklearn.metrics import classification_report"
   ]
  },
  {
   "cell_type": "code",
   "execution_count": 36,
   "id": "LyeW58v4mXsS",
   "metadata": {
    "colab": {
     "base_uri": "https://localhost:8080/",
     "height": 295
    },
    "id": "LyeW58v4mXsS",
    "outputId": "16c7e56b-cc0b-4486-a177-077c52d25429"
   },
   "outputs": [
    {
     "data": {
      "image/png": "[encoded data removed]",
      "text/plain": [
       "<Figure size 432x288 with 1 Axes>"
      ]
     },
     "metadata": {
      "needs_background": "light"
     },
     "output_type": "display_data"
    }
   ],
   "source": [
    "from sklearn.metrics import roc_auc_score\n",
    "\n",
    "fpr = dict()\n",
    "tpr = dict()\n",
    "roc_auc = dict()\n",
    "for i in range(4):\n",
    "    fpr[i], tpr[i], _ = roc_curve(y_test, predicts[:,i],pos_label=i)\n",
    "    roc_auc[i] = auc(fpr[i], tpr[i])\n",
    "\n",
    "# Compute micro-average ROC curve and ROC area\n",
    "plt.plot(fpr[0], tpr[0], linestyle='--',color='orange', label='Class 0')\n",
    "plt.plot(fpr[1], tpr[1], linestyle='--',color='green', label='Class 1 ')\n",
    "plt.plot(fpr[2], tpr[2], linestyle='--',color='blue', label='Class 2 ')\n",
    "plt.plot(fpr[3], tpr[3], linestyle='--',color='blue', label='Class 3 ')\n",
    "plt.title('Multiclass ROC curve')\n",
    "plt.xlabel('False Positive Rate')\n",
    "plt.ylabel('True Positive rate')\n",
    "plt.legend(loc='best')\n",
    "plt.savefig('Multiclass ROC',dpi=300);   "
   ]
  },
  {
   "cell_type": "code",
   "execution_count": 37,
   "id": "42Ll2UgTb7bD",
   "metadata": {
    "colab": {
     "base_uri": "https://localhost:8080/"
    },
    "id": "42Ll2UgTb7bD",
    "outputId": "7b4d50dd-187c-4706-89a9-58ec5b99d36f"
   },
   "outputs": [
    {
     "name": "stdout",
     "output_type": "stream",
     "text": [
      "              precision    recall  f1-score   support\n",
      "\n",
      "    hatefull       0.67      0.58      0.62      1632\n",
      "   offensive       0.79      0.85      0.82      5307\n",
      "     neither       0.75      0.69      0.72      2730\n",
      "     Tobacco       0.96      0.94      0.95       423\n",
      "\n",
      "    accuracy                           0.77     10092\n",
      "   macro avg       0.79      0.77      0.78     10092\n",
      "weighted avg       0.76      0.77      0.76     10092\n",
      "\n"
     ]
    }
   ],
   "source": [
    "metrics_report = classification_report(y_test, y_predict, target_names=labels_)\n",
    "print(metrics_report)"
   ]
  },
  {
   "cell_type": "code",
   "execution_count": 38,
   "id": "mAc3BLe2b7U9",
   "metadata": {
    "colab": {
     "base_uri": "https://localhost:8080/",
     "height": 282
    },
    "id": "mAc3BLe2b7U9",
    "outputId": "8ada7405-4383-4f0d-cd0c-6e8a3fcf436c"
   },
   "outputs": [
    {
     "data": {
      "text/plain": [
       "<matplotlib.axes._subplots.AxesSubplot at 0x7f2317fbce50>"
      ]
     },
     "execution_count": 38,
     "metadata": {},
     "output_type": "execute_result"
    },
    {
     "data": {
      "image/png": "[encoded data removed]",
      "text/plain": [
       "<Figure size 432x288 with 2 Axes>"
      ]
     },
     "metadata": {
      "needs_background": "light"
     },
     "output_type": "display_data"
    }
   ],
   "source": [
    "from sklearn.metrics import confusion_matrix\n",
    "conf_mat=confusion_matrix(y_test,y_predict)\n",
    "sns.heatmap(conf_mat, annot=True, fmt='d', cmap='BuPu',xticklabels=labels_,yticklabels=labels_)"
   ]
  },
  {
   "cell_type": "code",
   "execution_count": 39,
   "id": "AYim69IUkaXp",
   "metadata": {
    "id": "AYim69IUkaXp"
   },
   "outputs": [],
   "source": [
    "x1 = tf.keras.layers.Input(shape=[], dtype=tf.string)\n",
    "y_1 = hub.KerasLayer('https://tfhub.dev/google/universal-sentence-encoder/4', \n",
    "                    trainable=True)(x1)\n",
    "k1 = tf.keras.layers.Dense(128,activation='relu')(y_1)\n",
    "p1 = tf.keras.layers.Dropout(rate=0.50)(k1)\n",
    "z1 = tf.keras.layers.Dense(4, activation='softmax')(p1)\n",
    "model1 = tf.keras.models.Model(x1, z1)"
   ]
  },
  {
   "cell_type": "code",
   "execution_count": 40,
   "id": "eGY-Nt39hTx4",
   "metadata": {
    "id": "eGY-Nt39hTx4"
   },
   "outputs": [],
   "source": [
    "model1.compile(optimizer='adam', \n",
    "              loss='sparse_categorical_crossentropy', \n",
    "              metrics=['accuracy'])"
   ]
  },
  {
   "cell_type": "code",
   "execution_count": 41,
   "id": "dMsf4vo_hTvH",
   "metadata": {
    "colab": {
     "base_uri": "https://localhost:8080/"
    },
    "id": "dMsf4vo_hTvH",
    "outputId": "04c7f60a-ac21-44a2-ee37-15a6988e2ad6"
   },
   "outputs": [
    {
     "name": "stdout",
     "output_type": "stream",
     "text": [
      "Epoch 1/3\n",
      "1010/1010 [==============================] - 244s 235ms/step - loss: 0.6035 - accuracy: 0.7594 - val_loss: 0.5083 - val_accuracy: 0.7976\n",
      "Epoch 2/3\n",
      "1010/1010 [==============================] - 237s 235ms/step - loss: 0.2339 - accuracy: 0.9181 - val_loss: 0.6099 - val_accuracy: 0.7739\n",
      "Epoch 3/3\n",
      "1010/1010 [==============================] - 238s 235ms/step - loss: 0.0605 - accuracy: 0.9814 - val_loss: 0.9152 - val_accuracy: 0.7784\n",
      "CPU times: user 9min 12s, sys: 22.1 s, total: 9min 35s\n",
      "Wall time: 11min 58s\n"
     ]
    },
    {
     "data": {
      "text/plain": [
       "<keras.callbacks.History at 0x7f2314e12a10>"
      ]
     },
     "execution_count": 41,
     "metadata": {},
     "output_type": "execute_result"
    }
   ],
   "source": [
    "%%time\n",
    "model1.fit(x_train, \n",
    "          y_train, \n",
    "          epochs=3, \n",
    "          validation_data=(x_cv, y_cv))"
   ]
  },
  {
   "cell_type": "code",
   "execution_count": 42,
   "id": "kRmZqrvRhTsI",
   "metadata": {
    "id": "kRmZqrvRhTsI"
   },
   "outputs": [],
   "source": [
    "predicts1=model1.predict(x_test)"
   ]
  },
  {
   "cell_type": "code",
   "execution_count": 43,
   "id": "up4UEzF4leE4",
   "metadata": {
    "colab": {
     "base_uri": "https://localhost:8080/"
    },
    "id": "up4UEzF4leE4",
    "outputId": "6d2344bd-13b3-4821-a333-3657749a8a3a"
   },
   "outputs": [
    {
     "data": {
      "text/plain": [
       "array([1.4717305e-04, 1.7301677e-02, 9.8254055e-01, 1.0566579e-05],\n",
       "      dtype=float32)"
      ]
     },
     "execution_count": 43,
     "metadata": {},
     "output_type": "execute_result"
    }
   ],
   "source": [
    "predicts1[0]"
   ]
  },
  {
   "cell_type": "code",
   "execution_count": 44,
   "id": "_p_IHWAicoz3",
   "metadata": {
    "colab": {
     "base_uri": "https://localhost:8080/"
    },
    "id": "_p_IHWAicoz3",
    "outputId": "16641f92-9b0c-455c-88da-63f8ac2fa972"
   },
   "outputs": [
    {
     "data": {
      "text/plain": [
       "10092"
      ]
     },
     "execution_count": 44,
     "metadata": {},
     "output_type": "execute_result"
    }
   ],
   "source": [
    "y_predict1=[np.argmax(x) for x in predicts1 ]\n",
    "len(y_predict1)"
   ]
  },
  {
   "cell_type": "code",
   "execution_count": 45,
   "id": "JUKGv_KZnOW9",
   "metadata": {
    "colab": {
     "base_uri": "https://localhost:8080/"
    },
    "id": "JUKGv_KZnOW9",
    "outputId": "d23c6055-fd98-41cb-bc4e-26f840538744"
   },
   "outputs": [
    {
     "name": "stdout",
     "output_type": "stream",
     "text": [
      "              precision    recall  f1-score   support\n",
      "\n",
      "    hatefull       0.68      0.57      0.62      1632\n",
      "   offensive       0.83      0.81      0.82      5307\n",
      "     neither       0.71      0.82      0.76      2730\n",
      "     Tobacco       0.98      0.91      0.94       423\n",
      "\n",
      "    accuracy                           0.78     10092\n",
      "   macro avg       0.80      0.78      0.79     10092\n",
      "weighted avg       0.78      0.78      0.78     10092\n",
      "\n"
     ]
    }
   ],
   "source": [
    "metrics_report1 = classification_report(y_test, y_predict1, target_names=labels_)\n",
    "print(metrics_report1)"
   ]
  },
  {
   "cell_type": "code",
   "execution_count": 46,
   "id": "ZLN2ABoRiiaR",
   "metadata": {
    "colab": {
     "base_uri": "https://localhost:8080/",
     "height": 295
    },
    "id": "ZLN2ABoRiiaR",
    "outputId": "15ad33fe-5ca3-42c2-9c0e-c8fc7656de7c"
   },
   "outputs": [
    {
     "data": {
      "image/png": "[encoded data removed]",
      "text/plain": [
       "<Figure size 432x288 with 1 Axes>"
      ]
     },
     "metadata": {
      "needs_background": "light"
     },
     "output_type": "display_data"
    }
   ],
   "source": [
    "from sklearn.metrics import roc_auc_score\n",
    "\n",
    "fpr = dict()\n",
    "tpr = dict()\n",
    "roc_auc = dict()\n",
    "for i in range(4):\n",
    "    fpr[i], tpr[i], _ = roc_curve(y_test, predicts1[:,i],pos_label=i)\n",
    "    roc_auc[i] = auc(fpr[i], tpr[i])\n",
    "\n",
    "# Compute micro-average ROC curve and ROC area\n",
    "plt.plot(fpr[0], tpr[0], linestyle='--',color='orange', label='Class 0')\n",
    "plt.plot(fpr[1], tpr[1], linestyle='--',color='green', label='Class 1 ')\n",
    "plt.plot(fpr[2], tpr[2], linestyle='--',color='blue', label='Class 2 ')\n",
    "plt.plot(fpr[3], tpr[3], linestyle='--',color='blue', label='Class 3 ')\n",
    "plt.title('Multiclass ROC curve')\n",
    "plt.xlabel('False Positive Rate')\n",
    "plt.ylabel('True Positive rate')\n",
    "plt.legend(loc='best')\n",
    "plt.savefig('Multiclass ROC',dpi=300);   "
   ]
  },
  {
   "cell_type": "code",
   "execution_count": 47,
   "id": "aHjIYZ_RnOUF",
   "metadata": {
    "colab": {
     "base_uri": "https://localhost:8080/",
     "height": 282
    },
    "id": "aHjIYZ_RnOUF",
    "outputId": "46a30475-8800-4d1f-9b53-d5d2b9acbc7f"
   },
   "outputs": [
    {
     "data": {
      "text/plain": [
       "<matplotlib.axes._subplots.AxesSubplot at 0x7f2313905310>"
      ]
     },
     "execution_count": 47,
     "metadata": {},
     "output_type": "execute_result"
    },
    {
     "data": {
      "image/png": "[encoded data removed]",
      "text/plain": [
       "<Figure size 432x288 with 2 Axes>"
      ]
     },
     "metadata": {
      "needs_background": "light"
     },
     "output_type": "display_data"
    }
   ],
   "source": [
    "from sklearn.metrics import confusion_matrix\n",
    "conf_mat=confusion_matrix(y_test,y_predict1)\n",
    "sns.heatmap(conf_mat, annot=True, fmt='d', cmap='BuPu',xticklabels=labels_,yticklabels=labels_)"
   ]
  },
  {
   "cell_type": "code",
   "execution_count": null,
   "id": "s6S4zUfVqJir",
   "metadata": {
    "id": "s6S4zUfVqJir"
   },
   "outputs": [],
   "source": []
  },
  {
   "cell_type": "code",
   "execution_count": null,
   "id": "24FF6zoKqJfj",
   "metadata": {
    "id": "24FF6zoKqJfj"
   },
   "outputs": [],
   "source": []
  },
  {
   "cell_type": "code",
   "execution_count": null,
   "id": "LuHfvKCF08Jf",
   "metadata": {
    "id": "LuHfvKCF08Jf"
   },
   "outputs": [],
   "source": []
  },
  {
   "cell_type": "code",
   "execution_count": null,
   "id": "QlVzFOa708Gz",
   "metadata": {
    "id": "QlVzFOa708Gz"
   },
   "outputs": [],
   "source": []
  },
  {
   "cell_type": "code",
   "execution_count": null,
   "id": "qisgndFs08D4",
   "metadata": {
    "id": "qisgndFs08D4"
   },
   "outputs": [],
   "source": []
  }
 ],
 "metadata": {
  "accelerator": "GPU",
  "colab": {
   "name": "google encoding.ipynb",
   "provenance": []
  },
  "kernelspec": {
   "display_name": "Python 3 (ipykernel)",
   "language": "python",
   "name": "python3"
  },
  "language_info": {
   "codemirror_mode": {
    "name": "ipython",
    "version": 3
   },
   "file_extension": ".py",
   "mimetype": "text/x-python",
   "name": "python",
   "nbconvert_exporter": "python",
   "pygments_lexer": "ipython3",
   "version": "3.7.11"
  }
 },
 "nbformat": 4,
 "nbformat_minor": 5
}
