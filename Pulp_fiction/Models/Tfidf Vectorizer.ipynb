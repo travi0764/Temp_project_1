{
 "cells": [
  {
   "cell_type": "code",
   "execution_count": 1,
   "id": "b629242c",
   "metadata": {},
   "outputs": [],
   "source": [
    "import pandas as pd\n",
    "import numpy as np\n",
    "import re"
   ]
  },
  {
   "cell_type": "code",
   "execution_count": 2,
   "id": "514d20d9",
   "metadata": {},
   "outputs": [
    {
     "data": {
      "text/html": [
       "<div>\n",
       "<style scoped>\n",
       "    .dataframe tbody tr th:only-of-type {\n",
       "        vertical-align: middle;\n",
       "    }\n",
       "\n",
       "    .dataframe tbody tr th {\n",
       "        vertical-align: top;\n",
       "    }\n",
       "\n",
       "    .dataframe thead th {\n",
       "        text-align: right;\n",
       "    }\n",
       "</style>\n",
       "<table border=\"1\" class=\"dataframe\">\n",
       "  <thead>\n",
       "    <tr style=\"text-align: right;\">\n",
       "      <th></th>\n",
       "      <th>Unnamed: 0</th>\n",
       "      <th>tweet</th>\n",
       "      <th>label</th>\n",
       "    </tr>\n",
       "  </thead>\n",
       "  <tbody>\n",
       "    <tr>\n",
       "      <th>0</th>\n",
       "      <td>0</td>\n",
       "      <td>a a woman you should not complain about cleani...</td>\n",
       "      <td>2</td>\n",
       "    </tr>\n",
       "    <tr>\n",
       "      <th>1</th>\n",
       "      <td>1</td>\n",
       "      <td>boy dat cold tyga dwn bad for cuffin dat hoe i...</td>\n",
       "      <td>1</td>\n",
       "    </tr>\n",
       "    <tr>\n",
       "      <th>2</th>\n",
       "      <td>2</td>\n",
       "      <td>dawg you ever fuck a bitch and she sta to cry ...</td>\n",
       "      <td>1</td>\n",
       "    </tr>\n",
       "    <tr>\n",
       "      <th>3</th>\n",
       "      <td>3</td>\n",
       "      <td>she look like a tranny</td>\n",
       "      <td>1</td>\n",
       "    </tr>\n",
       "    <tr>\n",
       "      <th>4</th>\n",
       "      <td>4</td>\n",
       "      <td>the shit you hear about me might be true or it...</td>\n",
       "      <td>1</td>\n",
       "    </tr>\n",
       "    <tr>\n",
       "      <th>...</th>\n",
       "      <td>...</td>\n",
       "      <td>...</td>\n",
       "      <td>...</td>\n",
       "    </tr>\n",
       "    <tr>\n",
       "      <th>50501</th>\n",
       "      <td>50501</td>\n",
       "      <td>get this worse than scum out of our country bu...</td>\n",
       "      <td>0</td>\n",
       "    </tr>\n",
       "    <tr>\n",
       "      <th>50502</th>\n",
       "      <td>50502</td>\n",
       "      <td>let this hoe touch this kid i swear to fucking...</td>\n",
       "      <td>0</td>\n",
       "    </tr>\n",
       "    <tr>\n",
       "      <th>50503</th>\n",
       "      <td>50503</td>\n",
       "      <td>that is what happens when illegal alien have a...</td>\n",
       "      <td>0</td>\n",
       "    </tr>\n",
       "    <tr>\n",
       "      <th>50504</th>\n",
       "      <td>50504</td>\n",
       "      <td>stopimmigration</td>\n",
       "      <td>0</td>\n",
       "    </tr>\n",
       "    <tr>\n",
       "      <th>50505</th>\n",
       "      <td>50505</td>\n",
       "      <td>that bitch on the spoiled whore list thought s...</td>\n",
       "      <td>0</td>\n",
       "    </tr>\n",
       "  </tbody>\n",
       "</table>\n",
       "<p>50506 rows × 3 columns</p>\n",
       "</div>"
      ],
      "text/plain": [
       "       Unnamed: 0                                              tweet  label\n",
       "0               0  a a woman you should not complain about cleani...      2\n",
       "1               1  boy dat cold tyga dwn bad for cuffin dat hoe i...      1\n",
       "2               2  dawg you ever fuck a bitch and she sta to cry ...      1\n",
       "3               3                             she look like a tranny      1\n",
       "4               4  the shit you hear about me might be true or it...      1\n",
       "...           ...                                                ...    ...\n",
       "50501       50501  get this worse than scum out of our country bu...      0\n",
       "50502       50502  let this hoe touch this kid i swear to fucking...      0\n",
       "50503       50503  that is what happens when illegal alien have a...      0\n",
       "50504       50504                                    stopimmigration      0\n",
       "50505       50505  that bitch on the spoiled whore list thought s...      0\n",
       "\n",
       "[50506 rows x 3 columns]"
      ]
     },
     "execution_count": 2,
     "metadata": {},
     "output_type": "execute_result"
    }
   ],
   "source": [
    "data=pd.read_csv(\"DATASET_Preprocessed.csv\")\n",
    "data"
   ]
  },
  {
   "cell_type": "code",
   "execution_count": 3,
   "id": "2fa8a00e",
   "metadata": {},
   "outputs": [
    {
     "data": {
      "text/html": [
       "<div>\n",
       "<style scoped>\n",
       "    .dataframe tbody tr th:only-of-type {\n",
       "        vertical-align: middle;\n",
       "    }\n",
       "\n",
       "    .dataframe tbody tr th {\n",
       "        vertical-align: top;\n",
       "    }\n",
       "\n",
       "    .dataframe thead th {\n",
       "        text-align: right;\n",
       "    }\n",
       "</style>\n",
       "<table border=\"1\" class=\"dataframe\">\n",
       "  <thead>\n",
       "    <tr style=\"text-align: right;\">\n",
       "      <th></th>\n",
       "      <th>tweet</th>\n",
       "      <th>label</th>\n",
       "    </tr>\n",
       "  </thead>\n",
       "  <tbody>\n",
       "    <tr>\n",
       "      <th>0</th>\n",
       "      <td>a a woman you should not complain about cleani...</td>\n",
       "      <td>2</td>\n",
       "    </tr>\n",
       "    <tr>\n",
       "      <th>1</th>\n",
       "      <td>boy dat cold tyga dwn bad for cuffin dat hoe i...</td>\n",
       "      <td>1</td>\n",
       "    </tr>\n",
       "    <tr>\n",
       "      <th>2</th>\n",
       "      <td>dawg you ever fuck a bitch and she sta to cry ...</td>\n",
       "      <td>1</td>\n",
       "    </tr>\n",
       "    <tr>\n",
       "      <th>3</th>\n",
       "      <td>she look like a tranny</td>\n",
       "      <td>1</td>\n",
       "    </tr>\n",
       "    <tr>\n",
       "      <th>4</th>\n",
       "      <td>the shit you hear about me might be true or it...</td>\n",
       "      <td>1</td>\n",
       "    </tr>\n",
       "    <tr>\n",
       "      <th>...</th>\n",
       "      <td>...</td>\n",
       "      <td>...</td>\n",
       "    </tr>\n",
       "    <tr>\n",
       "      <th>50501</th>\n",
       "      <td>get this worse than scum out of our country bu...</td>\n",
       "      <td>0</td>\n",
       "    </tr>\n",
       "    <tr>\n",
       "      <th>50502</th>\n",
       "      <td>let this hoe touch this kid i swear to fucking...</td>\n",
       "      <td>0</td>\n",
       "    </tr>\n",
       "    <tr>\n",
       "      <th>50503</th>\n",
       "      <td>that is what happens when illegal alien have a...</td>\n",
       "      <td>0</td>\n",
       "    </tr>\n",
       "    <tr>\n",
       "      <th>50504</th>\n",
       "      <td>stopimmigration</td>\n",
       "      <td>0</td>\n",
       "    </tr>\n",
       "    <tr>\n",
       "      <th>50505</th>\n",
       "      <td>that bitch on the spoiled whore list thought s...</td>\n",
       "      <td>0</td>\n",
       "    </tr>\n",
       "  </tbody>\n",
       "</table>\n",
       "<p>50506 rows × 2 columns</p>\n",
       "</div>"
      ],
      "text/plain": [
       "                                                   tweet  label\n",
       "0      a a woman you should not complain about cleani...      2\n",
       "1      boy dat cold tyga dwn bad for cuffin dat hoe i...      1\n",
       "2      dawg you ever fuck a bitch and she sta to cry ...      1\n",
       "3                                 she look like a tranny      1\n",
       "4      the shit you hear about me might be true or it...      1\n",
       "...                                                  ...    ...\n",
       "50501  get this worse than scum out of our country bu...      0\n",
       "50502  let this hoe touch this kid i swear to fucking...      0\n",
       "50503  that is what happens when illegal alien have a...      0\n",
       "50504                                    stopimmigration      0\n",
       "50505  that bitch on the spoiled whore list thought s...      0\n",
       "\n",
       "[50506 rows x 2 columns]"
      ]
     },
     "execution_count": 3,
     "metadata": {},
     "output_type": "execute_result"
    }
   ],
   "source": [
    "data.drop(\"Unnamed: 0\",axis=1,inplace=True)\n",
    "data"
   ]
  },
  {
   "cell_type": "code",
   "execution_count": 4,
   "id": "6300fd90",
   "metadata": {},
   "outputs": [
    {
     "data": {
      "text/html": [
       "<div>\n",
       "<style scoped>\n",
       "    .dataframe tbody tr th:only-of-type {\n",
       "        vertical-align: middle;\n",
       "    }\n",
       "\n",
       "    .dataframe tbody tr th {\n",
       "        vertical-align: top;\n",
       "    }\n",
       "\n",
       "    .dataframe thead th {\n",
       "        text-align: right;\n",
       "    }\n",
       "</style>\n",
       "<table border=\"1\" class=\"dataframe\">\n",
       "  <thead>\n",
       "    <tr style=\"text-align: right;\">\n",
       "      <th></th>\n",
       "      <th>tweet</th>\n",
       "      <th>label</th>\n",
       "    </tr>\n",
       "  </thead>\n",
       "  <tbody>\n",
       "    <tr>\n",
       "      <th>0</th>\n",
       "      <td>a a woman you should not complain about cleani...</td>\n",
       "      <td>2</td>\n",
       "    </tr>\n",
       "    <tr>\n",
       "      <th>1</th>\n",
       "      <td>boy dat cold tyga dwn bad for cuffin dat hoe i...</td>\n",
       "      <td>1</td>\n",
       "    </tr>\n",
       "    <tr>\n",
       "      <th>2</th>\n",
       "      <td>dawg you ever fuck a bitch and she sta to cry ...</td>\n",
       "      <td>1</td>\n",
       "    </tr>\n",
       "    <tr>\n",
       "      <th>3</th>\n",
       "      <td>she look like a tranny</td>\n",
       "      <td>1</td>\n",
       "    </tr>\n",
       "    <tr>\n",
       "      <th>4</th>\n",
       "      <td>the shit you hear about me might be true or it...</td>\n",
       "      <td>1</td>\n",
       "    </tr>\n",
       "    <tr>\n",
       "      <th>...</th>\n",
       "      <td>...</td>\n",
       "      <td>...</td>\n",
       "    </tr>\n",
       "    <tr>\n",
       "      <th>50501</th>\n",
       "      <td>get this worse than scum out of our country bu...</td>\n",
       "      <td>0</td>\n",
       "    </tr>\n",
       "    <tr>\n",
       "      <th>50502</th>\n",
       "      <td>let this hoe touch this kid i swear to fucking...</td>\n",
       "      <td>0</td>\n",
       "    </tr>\n",
       "    <tr>\n",
       "      <th>50503</th>\n",
       "      <td>that is what happens when illegal alien have a...</td>\n",
       "      <td>0</td>\n",
       "    </tr>\n",
       "    <tr>\n",
       "      <th>50504</th>\n",
       "      <td>stopimmigration</td>\n",
       "      <td>0</td>\n",
       "    </tr>\n",
       "    <tr>\n",
       "      <th>50505</th>\n",
       "      <td>that bitch on the spoiled whore list thought s...</td>\n",
       "      <td>0</td>\n",
       "    </tr>\n",
       "  </tbody>\n",
       "</table>\n",
       "<p>50456 rows × 2 columns</p>\n",
       "</div>"
      ],
      "text/plain": [
       "                                                   tweet  label\n",
       "0      a a woman you should not complain about cleani...      2\n",
       "1      boy dat cold tyga dwn bad for cuffin dat hoe i...      1\n",
       "2      dawg you ever fuck a bitch and she sta to cry ...      1\n",
       "3                                 she look like a tranny      1\n",
       "4      the shit you hear about me might be true or it...      1\n",
       "...                                                  ...    ...\n",
       "50501  get this worse than scum out of our country bu...      0\n",
       "50502  let this hoe touch this kid i swear to fucking...      0\n",
       "50503  that is what happens when illegal alien have a...      0\n",
       "50504                                    stopimmigration      0\n",
       "50505  that bitch on the spoiled whore list thought s...      0\n",
       "\n",
       "[50456 rows x 2 columns]"
      ]
     },
     "execution_count": 4,
     "metadata": {},
     "output_type": "execute_result"
    }
   ],
   "source": [
    "data.dropna(inplace=True)\n",
    "data"
   ]
  },
  {
   "cell_type": "code",
   "execution_count": 6,
   "id": "a8c3a6ec",
   "metadata": {},
   "outputs": [
    {
     "data": {
      "text/plain": [
       "1    26531\n",
       "2    13651\n",
       "0     8160\n",
       "3     2114\n",
       "Name: label, dtype: int64"
      ]
     },
     "execution_count": 6,
     "metadata": {},
     "output_type": "execute_result"
    }
   ],
   "source": [
    "data.label.value_counts()"
   ]
  },
  {
   "cell_type": "code",
   "execution_count": 20,
   "id": "8adddc54",
   "metadata": {},
   "outputs": [],
   "source": [
    "data.to_csv(\"new_merged_preprocessed_data.csv\")"
   ]
  },
  {
   "cell_type": "code",
   "execution_count": 7,
   "id": "66dda63b",
   "metadata": {},
   "outputs": [],
   "source": [
    "y=data['label']\n",
    "x=data['tweet']"
   ]
  },
  {
   "cell_type": "code",
   "execution_count": 8,
   "id": "b86f53ef",
   "metadata": {},
   "outputs": [
    {
     "name": "stdout",
     "output_type": "stream",
     "text": [
      "(37842,) (37842,)\n",
      "(12614,) (12614,)\n"
     ]
    }
   ],
   "source": [
    "from sklearn.model_selection import train_test_split\n",
    "X_train, X_test, y_train, y_test = train_test_split(x, y, test_size=0.25, stratify=y)\n",
    "\n",
    "\n",
    "print(X_train.shape, y_train.shape)\n",
    "\n",
    "print(X_test.shape, y_test.shape)"
   ]
  },
  {
   "cell_type": "code",
   "execution_count": 9,
   "id": "952a84be",
   "metadata": {},
   "outputs": [],
   "source": [
    "from sklearn.feature_extraction.text import TfidfVectorizer\n",
    "from sklearn.feature_extraction.text import CountVectorizer\n",
    "from sklearn.metrics import confusion_matrix\n",
    "from sklearn import metrics\n",
    "from sklearn.metrics import roc_curve, auc\n",
    "from sklearn.naive_bayes import MultinomialNB\n"
   ]
  },
  {
   "cell_type": "code",
   "execution_count": 11,
   "id": "cd167643",
   "metadata": {},
   "outputs": [
    {
     "name": "stdout",
     "output_type": "stream",
     "text": [
      "After TFIDF vectorizations\n",
      "(37842, 1088097) (37842,)\n",
      "(12614, 1088097) (12614,)\n",
      "====================================================================================================\n"
     ]
    }
   ],
   "source": [
    "\n",
    "#fitting tfidf vectorizer for set \n",
    "vectorizer_tfidf1 = TfidfVectorizer(min_df=1,ngram_range=(1,4))\n",
    "vectorizer_tfidf1.fit(X_train.values) \n",
    "\n",
    "\n",
    "X_train_tweet_tfidf = vectorizer_tfidf1.transform(X_train.values)\n",
    "\n",
    "X_test_tweet_tfidf = vectorizer_tfidf1.transform(X_test.values)\n",
    "\n",
    "print(\"After TFIDF vectorizations\")\n",
    "print(X_train_tweet_tfidf.shape, y_train.shape)\n",
    "\n",
    "print(X_test_tweet_tfidf.shape, y_test.shape)\n",
    "print(\"=\"*100)"
   ]
  },
  {
   "cell_type": "code",
   "execution_count": 12,
   "id": "6c4ab0fd",
   "metadata": {},
   "outputs": [],
   "source": [
    "from sklearn.multiclass import OneVsRestClassifier\n",
    "from sklearn.naive_bayes import MultinomialNB\n",
    "from sklearn.linear_model import LogisticRegression\n",
    "from sklearn.svm import LinearSVC\n",
    "from sklearn.ensemble import RandomForestRegressor\n",
    "from sklearn.ensemble import RandomForestClassifier\n",
    "from sklearn.metrics import confusion_matrix\n",
    "import joblib\n",
    "from sklearn.svm import SVC\n",
    "from sklearn.metrics import f1_score\n",
    "from sklearn.model_selection import GridSearchCV\n",
    "\n",
    "from sklearn.feature_extraction.text import CountVectorizer, TfidfVectorizer\n",
    "from sklearn import preprocessing\n",
    "from sklearn.model_selection import train_test_split, StratifiedKFold, KFold\n",
    "\n",
    "from sklearn.naive_bayes import MultinomialNB\n",
    "from sklearn.linear_model import SGDClassifier\n",
    "from sklearn.linear_model import LogisticRegression\n",
    "from sklearn.svm import LinearSVC\n",
    "from sklearn.ensemble import RandomForestClassifier, GradientBoostingClassifier\n",
    "\n",
    "from sklearn.metrics import classification_report\n",
    "from sklearn.metrics import confusion_matrix\n",
    "from sklearn.metrics import plot_confusion_matrix\n",
    "from sklearn.metrics import precision_recall_fscore_support as score"
   ]
  },
  {
   "cell_type": "code",
   "execution_count": 13,
   "id": "2efd671b",
   "metadata": {},
   "outputs": [],
   "source": [
    "def train_test_model(model, X_train, X_test, y_train, y_test,labels):\n",
    "    print('Start training...', end='')\n",
    "    model.fit(X_train, y_train)\n",
    "    print('done!')\n",
    "    print(\"=\"*80)\n",
    "    print('Start testing...', end='')\n",
    "    predictions = model.predict(X_test)\n",
    "    accuracy = model.score(X_test, y_test)\n",
    "    metrics_report = classification_report(y_test, predictions, target_names=labels)\n",
    "    precision, recall, fscore, train_support = score(y_test, predictions, average='weighted')\n",
    "    print('done!')\n",
    "    print(\"=\"*80)\n",
    "    return predictions, accuracy, metrics_report, (precision, recall, fscore)"
   ]
  },
  {
   "cell_type": "code",
   "execution_count": 14,
   "id": "2d510611",
   "metadata": {},
   "outputs": [],
   "source": [
    "labels_=['hatefull','offensive','neither','Tobacco']"
   ]
  },
  {
   "cell_type": "code",
   "execution_count": 15,
   "id": "acff12ed",
   "metadata": {},
   "outputs": [
    {
     "name": "stdout",
     "output_type": "stream",
     "text": [
      "Start training...done!\n",
      "================================================================================\n",
      "Start testing...done!\n",
      "================================================================================\n",
      "accuracy: 0.7722371967654986\n",
      "====================================================================================================\n",
      "              precision    recall  f1-score   support\n",
      "\n",
      "    hatefull       0.71      0.55      0.62      2040\n",
      "   offensive       0.80      0.84      0.82      6633\n",
      "     neither       0.72      0.78      0.75      3413\n",
      "     Tobacco       0.98      0.76      0.85       528\n",
      "\n",
      "    accuracy                           0.77     12614\n",
      "   macro avg       0.80      0.73      0.76     12614\n",
      "weighted avg       0.77      0.77      0.77     12614\n",
      "\n"
     ]
    },
    {
     "data": {
      "text/plain": [
       "<sklearn.metrics._plot.confusion_matrix.ConfusionMatrixDisplay at 0x7fa730269d10>"
      ]
     },
     "execution_count": 15,
     "metadata": {},
     "output_type": "execute_result"
    },
    {
     "data": {
      "image/png": "[encoded data removed]",
      "text/plain": [
       "<Figure size 432x288 with 2 Axes>"
      ]
     },
     "metadata": {
      "needs_background": "light"
     },
     "output_type": "display_data"
    }
   ],
   "source": [
    "log_model=LogisticRegression(penalty='l2',max_iter=1000)\n",
    "predictions, accuracy, metrics_report, log_prf = train_test_model(log_model, X_train_tweet_tfidf, X_test_tweet_tfidf, y_train, y_test, labels_)\n",
    "\n",
    "\n",
    "print('accuracy: {}'.format(accuracy))\n",
    "print('='*100)\n",
    "print(metrics_report)\n",
    "\n",
    "plot_confusion_matrix(log_model, X_test_tweet_tfidf, y_test, display_labels=labels_, xticks_rotation='vertical', cmap=\"BuPu\")"
   ]
  },
  {
   "cell_type": "code",
   "execution_count": 16,
   "id": "4add963e",
   "metadata": {},
   "outputs": [
    {
     "name": "stdout",
     "output_type": "stream",
     "text": [
      "Start training...done!\n",
      "================================================================================\n",
      "Start testing...done!\n",
      "================================================================================\n",
      "accuracy: 0.7735056286665609\n",
      "====================================================================================================\n",
      "              precision    recall  f1-score   support\n",
      "\n",
      "    hatefull       0.62      0.64      0.63      2040\n",
      "   offensive       0.85      0.78      0.81      6633\n",
      "     neither       0.71      0.81      0.76      3413\n",
      "     Tobacco       0.97      0.96      0.96       528\n",
      "\n",
      "    accuracy                           0.77     12614\n",
      "   macro avg       0.79      0.80      0.79     12614\n",
      "weighted avg       0.78      0.77      0.78     12614\n",
      "\n"
     ]
    },
    {
     "data": {
      "text/plain": [
       "<sklearn.metrics._plot.confusion_matrix.ConfusionMatrixDisplay at 0x7fa733580190>"
      ]
     },
     "execution_count": 16,
     "metadata": {},
     "output_type": "execute_result"
    },
    {
     "data": {
      "image/png": "[encoded data removed]",
      "text/plain": [
       "<Figure size 432x288 with 2 Axes>"
      ]
     },
     "metadata": {
      "needs_background": "light"
     },
     "output_type": "display_data"
    }
   ],
   "source": [
    "svm = LinearSVC(class_weight='balanced', verbose=False, max_iter=10000, tol=1e-4, C=0.1)\n",
    "\n",
    "predictions, accuracy, metrics_report, svm_prf = train_test_model(svm, X_train_tweet_tfidf, X_test_tweet_tfidf, y_train, y_test, labels_)\n",
    "\n",
    "\n",
    "print('accuracy: {}'.format(accuracy))\n",
    "print('='*100)\n",
    "print(metrics_report)\n",
    "\n",
    "plot_confusion_matrix(svm, X_test_tweet_tfidf, y_test, display_labels=labels_, xticks_rotation='vertical', cmap=\"BuPu\")"
   ]
  },
  {
   "cell_type": "code",
   "execution_count": 17,
   "id": "704962c9",
   "metadata": {},
   "outputs": [
    {
     "name": "stdout",
     "output_type": "stream",
     "text": [
      "Start training...done!\n",
      "================================================================================\n",
      "Start testing...done!\n",
      "================================================================================\n",
      "accuracy: 0.5553353416838434\n",
      "====================================================================================================\n",
      "              precision    recall  f1-score   support\n",
      "\n",
      "    hatefull       1.00      0.06      0.11      2040\n",
      "   offensive       0.54      0.98      0.70      6633\n",
      "     neither       0.71      0.11      0.18      3413\n",
      "     Tobacco       1.00      0.02      0.04       528\n",
      "\n",
      "    accuracy                           0.56     12614\n",
      "   macro avg       0.81      0.29      0.26     12614\n",
      "weighted avg       0.68      0.56      0.44     12614\n",
      "\n"
     ]
    },
    {
     "data": {
      "text/plain": [
       "<sklearn.metrics._plot.confusion_matrix.ConfusionMatrixDisplay at 0x7fa7335a5f10>"
      ]
     },
     "execution_count": 17,
     "metadata": {},
     "output_type": "execute_result"
    },
    {
     "data": {
      "image/png": "[encoded data removed]",
      "text/plain": [
       "<Figure size 432x288 with 2 Axes>"
      ]
     },
     "metadata": {
      "needs_background": "light"
     },
     "output_type": "display_data"
    }
   ],
   "source": [
    "rf_model = RandomForestClassifier(n_estimators=100, max_depth=100, min_samples_split=10, n_jobs=-1, verbose=0)\n",
    "\n",
    "predictions, accuracy, metrics_report, rf_prf = train_test_model(rf_model, X_train_tweet_tfidf, X_test_tweet_tfidf, y_train, y_test, labels_)\n",
    "\n",
    "print('accuracy: {}'.format(accuracy))\n",
    "print('='*100)\n",
    "print(metrics_report)\n",
    "\n",
    "plot_confusion_matrix(rf_model, X_test_tweet_tfidf, y_test, display_labels=labels_, xticks_rotation='vertical', cmap=\"BuPu\")"
   ]
  },
  {
   "cell_type": "markdown",
   "id": "e2929021",
   "metadata": {},
   "source": [
    "# Upsampling Technique-SMOTE"
   ]
  },
  {
   "cell_type": "code",
   "execution_count": 18,
   "id": "bf4c1af8",
   "metadata": {},
   "outputs": [
    {
     "name": "stdout",
     "output_type": "stream",
     "text": [
      "(79592, 1088097)\n",
      "(79592,)\n",
      "Counter({2: 19898, 0: 19898, 1: 19898, 3: 19898})\n"
     ]
    }
   ],
   "source": [
    "from collections import Counter\n",
    "from imblearn.over_sampling import SMOTE\n",
    "smote=SMOTE(sampling_strategy='not majority')\n",
    "\n",
    "X_tr,Y_tr=smote.fit_resample(X_train_tweet_tfidf,y_train)\n",
    "print(X_tr.shape)\n",
    "print(Y_tr.shape)\n",
    "ccounter=Counter(Y_tr)\n",
    "print(ccounter)"
   ]
  },
  {
   "cell_type": "code",
   "execution_count": 19,
   "id": "4e48c607",
   "metadata": {},
   "outputs": [
    {
     "name": "stdout",
     "output_type": "stream",
     "text": [
      "Start training...done!\n",
      "================================================================================\n",
      "Start testing...done!\n",
      "================================================================================\n",
      "accuracy: 0.767480577136515\n",
      "====================================================================================================\n",
      "              precision    recall  f1-score   support\n",
      "\n",
      "    hatefull       0.64      0.56      0.60      2040\n",
      "   offensive       0.83      0.79      0.81      6633\n",
      "     neither       0.70      0.82      0.75      3413\n",
      "     Tobacco       0.97      0.95      0.96       528\n",
      "\n",
      "    accuracy                           0.77     12614\n",
      "   macro avg       0.78      0.78      0.78     12614\n",
      "weighted avg       0.77      0.77      0.77     12614\n",
      "\n"
     ]
    },
    {
     "data": {
      "text/plain": [
       "<sklearn.metrics._plot.confusion_matrix.ConfusionMatrixDisplay at 0x7fa733728f50>"
      ]
     },
     "execution_count": 19,
     "metadata": {},
     "output_type": "execute_result"
    },
    {
     "data": {
      "image/png": "[encoded data removed]",
      "text/plain": [
       "<Figure size 432x288 with 2 Axes>"
      ]
     },
     "metadata": {
      "needs_background": "light"
     },
     "output_type": "display_data"
    }
   ],
   "source": [
    "log_model=LogisticRegression(penalty='l2',max_iter=1000)\n",
    "predictions, accuracy, metrics_report, log_prf = train_test_model(log_model, X_tr, X_test_tweet_tfidf, Y_tr, y_test, labels_)\n",
    "\n",
    "\n",
    "print('accuracy: {}'.format(accuracy))\n",
    "print('='*100)\n",
    "print(metrics_report)\n",
    "\n",
    "plot_confusion_matrix(log_model, X_test_tweet_tfidf, y_test, display_labels=labels_, xticks_rotation='vertical', cmap=\"BuPu\")"
   ]
  },
  {
   "cell_type": "code",
   "execution_count": 20,
   "id": "3420fede",
   "metadata": {},
   "outputs": [
    {
     "name": "stdout",
     "output_type": "stream",
     "text": [
      "Start training...done!\n",
      "================================================================================\n",
      "Start testing...done!\n",
      "================================================================================\n",
      "accuracy: 0.7625654035198985\n",
      "====================================================================================================\n",
      "              precision    recall  f1-score   support\n",
      "\n",
      "    hatefull       0.63      0.58      0.61      2040\n",
      "   offensive       0.84      0.77      0.80      6633\n",
      "     neither       0.68      0.82      0.74      3413\n",
      "     Tobacco       0.96      0.96      0.96       528\n",
      "\n",
      "    accuracy                           0.76     12614\n",
      "   macro avg       0.78      0.78      0.78     12614\n",
      "weighted avg       0.77      0.76      0.76     12614\n",
      "\n"
     ]
    },
    {
     "data": {
      "text/plain": [
       "<sklearn.metrics._plot.confusion_matrix.ConfusionMatrixDisplay at 0x7fa73350b0d0>"
      ]
     },
     "execution_count": 20,
     "metadata": {},
     "output_type": "execute_result"
    },
    {
     "data": {
      "image/png": "[encoded data removed]",
      "text/plain": [
       "<Figure size 432x288 with 2 Axes>"
      ]
     },
     "metadata": {
      "needs_background": "light"
     },
     "output_type": "display_data"
    }
   ],
   "source": [
    "svm = LinearSVC(class_weight='balanced', verbose=False, max_iter=10000, tol=1e-4, C=0.1)\n",
    "\n",
    "predictions, accuracy, metrics_report, svm_prf = train_test_model(svm, X_tr, X_test_tweet_tfidf, Y_tr, y_test, labels_)\n",
    "\n",
    "\n",
    "print('accuracy: {}'.format(accuracy))\n",
    "print('='*100)\n",
    "print(metrics_report)\n",
    "\n",
    "plot_confusion_matrix(svm, X_test_tweet_tfidf, y_test, display_labels=labels_, xticks_rotation='vertical', cmap=\"BuPu\")"
   ]
  },
  {
   "cell_type": "code",
   "execution_count": null,
   "id": "58ab693b",
   "metadata": {},
   "outputs": [],
   "source": []
  }
 ],
 "metadata": {
  "kernelspec": {
   "display_name": "Python 3 (ipykernel)",
   "language": "python",
   "name": "python3"
  },
  "language_info": {
   "codemirror_mode": {
    "name": "ipython",
    "version": 3
   },
   "file_extension": ".py",
   "mimetype": "text/x-python",
   "name": "python",
   "nbconvert_exporter": "python",
   "pygments_lexer": "ipython3",
   "version": "3.7.11"
  }
 },
 "nbformat": 4,
 "nbformat_minor": 5
}
