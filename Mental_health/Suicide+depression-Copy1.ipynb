{
 "cells": [
  {
   "cell_type": "code",
   "execution_count": 1,
   "metadata": {
    "executionInfo": {
     "elapsed": 439,
     "status": "ok",
     "timestamp": 1635775921812,
     "user": {
      "displayName": "Penny Tiwari",
      "photoUrl": "https://lh3.googleusercontent.com/a/default-user=s64",
      "userId": "14007942765575684471"
     },
     "user_tz": -330
    },
    "id": "blvw1AC5oFen"
   },
   "outputs": [],
   "source": [
    "root=\"/content/drive/MyDrive/Mental_health\""
   ]
  },
  {
   "cell_type": "code",
   "execution_count": 2,
   "metadata": {
    "executionInfo": {
     "elapsed": 39,
     "status": "ok",
     "timestamp": 1635775922459,
     "user": {
      "displayName": "Penny Tiwari",
      "photoUrl": "https://lh3.googleusercontent.com/a/default-user=s64",
      "userId": "14007942765575684471"
     },
     "user_tz": -330
    },
    "id": "WIJROiTNoLUh"
   },
   "outputs": [],
   "source": [
    "import os\n",
    "os.chdir(root)"
   ]
  },
  {
   "cell_type": "code",
   "execution_count": 3,
   "metadata": {
    "colab": {
     "base_uri": "https://localhost:8080/"
    },
    "executionInfo": {
     "elapsed": 38,
     "status": "ok",
     "timestamp": 1635775922460,
     "user": {
      "displayName": "Penny Tiwari",
      "photoUrl": "https://lh3.googleusercontent.com/a/default-user=s64",
      "userId": "14007942765575684471"
     },
     "user_tz": -330
    },
    "id": "wzVtx6dPoNJc",
    "outputId": "e609f16f-324e-4d22-cdc5-2b2be0f12e94"
   },
   "outputs": [
    {
     "name": "stdout",
     "output_type": "stream",
     "text": [
      " data_mixed.csv       gold_corpus.csv\t\t  Suicide_Detection.csv\n",
      " data_mixed_dep.csv   gold_corpus_rt.csv\t  Suicide.ipynb\n",
      " data_mixed_rt.csv    NEW_DATA.csv\t\t  test2Data.csv\n",
      " depression.csv      'Preprocessing data.ipynb'   train2Data.csv\n",
      " dummy_data.csv       Suicide+depression.ipynb\n"
     ]
    }
   ],
   "source": [
    "!ls"
   ]
  },
  {
   "cell_type": "code",
   "execution_count": 1,
   "metadata": {
    "executionInfo": {
     "elapsed": 3,
     "status": "ok",
     "timestamp": 1635775923053,
     "user": {
      "displayName": "Penny Tiwari",
      "photoUrl": "https://lh3.googleusercontent.com/a/default-user=s64",
      "userId": "14007942765575684471"
     },
     "user_tz": -330
    },
    "id": "w96IZAzqoekJ"
   },
   "outputs": [],
   "source": [
    "import pandas as pd\n",
    "import numpy as np"
   ]
  },
  {
   "cell_type": "code",
   "execution_count": 70,
   "metadata": {
    "colab": {
     "base_uri": "https://localhost:8080/",
     "height": 419
    },
    "executionInfo": {
     "elapsed": 5355,
     "status": "ok",
     "timestamp": 1635775928406,
     "user": {
      "displayName": "Penny Tiwari",
      "photoUrl": "https://lh3.googleusercontent.com/a/default-user=s64",
      "userId": "14007942765575684471"
     },
     "user_tz": -330
    },
    "id": "q1xbawG1ogDQ",
    "outputId": "5fc69f63-eac7-4aff-d1fc-731d3a948c6d"
   },
   "outputs": [
    {
     "data": {
      "text/html": [
       "<div>\n",
       "<style scoped>\n",
       "    .dataframe tbody tr th:only-of-type {\n",
       "        vertical-align: middle;\n",
       "    }\n",
       "\n",
       "    .dataframe tbody tr th {\n",
       "        vertical-align: top;\n",
       "    }\n",
       "\n",
       "    .dataframe thead th {\n",
       "        text-align: right;\n",
       "    }\n",
       "</style>\n",
       "<table border=\"1\" class=\"dataframe\">\n",
       "  <thead>\n",
       "    <tr style=\"text-align: right;\">\n",
       "      <th></th>\n",
       "      <th>Unnamed: 0</th>\n",
       "      <th>text</th>\n",
       "      <th>class</th>\n",
       "    </tr>\n",
       "  </thead>\n",
       "  <tbody>\n",
       "    <tr>\n",
       "      <th>0</th>\n",
       "      <td>2</td>\n",
       "      <td>Ex Wife Threatening SuicideRecently I left my ...</td>\n",
       "      <td>suicide</td>\n",
       "    </tr>\n",
       "    <tr>\n",
       "      <th>1</th>\n",
       "      <td>3</td>\n",
       "      <td>Am I weird I don't get affected by compliments...</td>\n",
       "      <td>non-suicide</td>\n",
       "    </tr>\n",
       "    <tr>\n",
       "      <th>2</th>\n",
       "      <td>4</td>\n",
       "      <td>Finally 2020 is almost over... So I can never ...</td>\n",
       "      <td>non-suicide</td>\n",
       "    </tr>\n",
       "    <tr>\n",
       "      <th>3</th>\n",
       "      <td>8</td>\n",
       "      <td>i need helpjust help me im crying so hard</td>\n",
       "      <td>suicide</td>\n",
       "    </tr>\n",
       "    <tr>\n",
       "      <th>4</th>\n",
       "      <td>9</td>\n",
       "      <td>I’m so lostHello, my name is Adam (16) and I’v...</td>\n",
       "      <td>suicide</td>\n",
       "    </tr>\n",
       "    <tr>\n",
       "      <th>...</th>\n",
       "      <td>...</td>\n",
       "      <td>...</td>\n",
       "      <td>...</td>\n",
       "    </tr>\n",
       "    <tr>\n",
       "      <th>232069</th>\n",
       "      <td>348103</td>\n",
       "      <td>If you don't like rock then your not going to ...</td>\n",
       "      <td>non-suicide</td>\n",
       "    </tr>\n",
       "    <tr>\n",
       "      <th>232070</th>\n",
       "      <td>348106</td>\n",
       "      <td>You how you can tell i have so many friends an...</td>\n",
       "      <td>non-suicide</td>\n",
       "    </tr>\n",
       "    <tr>\n",
       "      <th>232071</th>\n",
       "      <td>348107</td>\n",
       "      <td>pee probably tastes like salty tea😏💦‼️ can som...</td>\n",
       "      <td>non-suicide</td>\n",
       "    </tr>\n",
       "    <tr>\n",
       "      <th>232072</th>\n",
       "      <td>348108</td>\n",
       "      <td>The usual stuff you find hereI'm not posting t...</td>\n",
       "      <td>suicide</td>\n",
       "    </tr>\n",
       "    <tr>\n",
       "      <th>232073</th>\n",
       "      <td>348110</td>\n",
       "      <td>I still haven't beaten the first boss in Hollo...</td>\n",
       "      <td>non-suicide</td>\n",
       "    </tr>\n",
       "  </tbody>\n",
       "</table>\n",
       "<p>232074 rows × 3 columns</p>\n",
       "</div>"
      ],
      "text/plain": [
       "        Unnamed: 0                                               text  \\\n",
       "0                2  Ex Wife Threatening SuicideRecently I left my ...   \n",
       "1                3  Am I weird I don't get affected by compliments...   \n",
       "2                4  Finally 2020 is almost over... So I can never ...   \n",
       "3                8          i need helpjust help me im crying so hard   \n",
       "4                9  I’m so lostHello, my name is Adam (16) and I’v...   \n",
       "...            ...                                                ...   \n",
       "232069      348103  If you don't like rock then your not going to ...   \n",
       "232070      348106  You how you can tell i have so many friends an...   \n",
       "232071      348107  pee probably tastes like salty tea😏💦‼️ can som...   \n",
       "232072      348108  The usual stuff you find hereI'm not posting t...   \n",
       "232073      348110  I still haven't beaten the first boss in Hollo...   \n",
       "\n",
       "              class  \n",
       "0           suicide  \n",
       "1       non-suicide  \n",
       "2       non-suicide  \n",
       "3           suicide  \n",
       "4           suicide  \n",
       "...             ...  \n",
       "232069  non-suicide  \n",
       "232070  non-suicide  \n",
       "232071  non-suicide  \n",
       "232072      suicide  \n",
       "232073  non-suicide  \n",
       "\n",
       "[232074 rows x 3 columns]"
      ]
     },
     "execution_count": 70,
     "metadata": {},
     "output_type": "execute_result"
    }
   ],
   "source": [
    "data=pd.read_csv(\"Suicide_Detection.csv\")\n",
    "data"
   ]
  },
  {
   "cell_type": "code",
   "execution_count": 71,
   "metadata": {
    "colab": {
     "base_uri": "https://localhost:8080/",
     "height": 419
    },
    "executionInfo": {
     "elapsed": 9,
     "status": "ok",
     "timestamp": 1635775928407,
     "user": {
      "displayName": "Penny Tiwari",
      "photoUrl": "https://lh3.googleusercontent.com/a/default-user=s64",
      "userId": "14007942765575684471"
     },
     "user_tz": -330
    },
    "id": "KMEIWnk6os1z",
    "outputId": "7a22eea3-0db7-43af-949e-58559ac0a6ef"
   },
   "outputs": [
    {
     "data": {
      "text/html": [
       "<div>\n",
       "<style scoped>\n",
       "    .dataframe tbody tr th:only-of-type {\n",
       "        vertical-align: middle;\n",
       "    }\n",
       "\n",
       "    .dataframe tbody tr th {\n",
       "        vertical-align: top;\n",
       "    }\n",
       "\n",
       "    .dataframe thead th {\n",
       "        text-align: right;\n",
       "    }\n",
       "</style>\n",
       "<table border=\"1\" class=\"dataframe\">\n",
       "  <thead>\n",
       "    <tr style=\"text-align: right;\">\n",
       "      <th></th>\n",
       "      <th>text</th>\n",
       "      <th>class</th>\n",
       "    </tr>\n",
       "  </thead>\n",
       "  <tbody>\n",
       "    <tr>\n",
       "      <th>0</th>\n",
       "      <td>Ex Wife Threatening SuicideRecently I left my ...</td>\n",
       "      <td>suicide</td>\n",
       "    </tr>\n",
       "    <tr>\n",
       "      <th>1</th>\n",
       "      <td>Am I weird I don't get affected by compliments...</td>\n",
       "      <td>non-suicide</td>\n",
       "    </tr>\n",
       "    <tr>\n",
       "      <th>2</th>\n",
       "      <td>Finally 2020 is almost over... So I can never ...</td>\n",
       "      <td>non-suicide</td>\n",
       "    </tr>\n",
       "    <tr>\n",
       "      <th>3</th>\n",
       "      <td>i need helpjust help me im crying so hard</td>\n",
       "      <td>suicide</td>\n",
       "    </tr>\n",
       "    <tr>\n",
       "      <th>4</th>\n",
       "      <td>I’m so lostHello, my name is Adam (16) and I’v...</td>\n",
       "      <td>suicide</td>\n",
       "    </tr>\n",
       "    <tr>\n",
       "      <th>...</th>\n",
       "      <td>...</td>\n",
       "      <td>...</td>\n",
       "    </tr>\n",
       "    <tr>\n",
       "      <th>232069</th>\n",
       "      <td>If you don't like rock then your not going to ...</td>\n",
       "      <td>non-suicide</td>\n",
       "    </tr>\n",
       "    <tr>\n",
       "      <th>232070</th>\n",
       "      <td>You how you can tell i have so many friends an...</td>\n",
       "      <td>non-suicide</td>\n",
       "    </tr>\n",
       "    <tr>\n",
       "      <th>232071</th>\n",
       "      <td>pee probably tastes like salty tea😏💦‼️ can som...</td>\n",
       "      <td>non-suicide</td>\n",
       "    </tr>\n",
       "    <tr>\n",
       "      <th>232072</th>\n",
       "      <td>The usual stuff you find hereI'm not posting t...</td>\n",
       "      <td>suicide</td>\n",
       "    </tr>\n",
       "    <tr>\n",
       "      <th>232073</th>\n",
       "      <td>I still haven't beaten the first boss in Hollo...</td>\n",
       "      <td>non-suicide</td>\n",
       "    </tr>\n",
       "  </tbody>\n",
       "</table>\n",
       "<p>232074 rows × 2 columns</p>\n",
       "</div>"
      ],
      "text/plain": [
       "                                                     text        class\n",
       "0       Ex Wife Threatening SuicideRecently I left my ...      suicide\n",
       "1       Am I weird I don't get affected by compliments...  non-suicide\n",
       "2       Finally 2020 is almost over... So I can never ...  non-suicide\n",
       "3               i need helpjust help me im crying so hard      suicide\n",
       "4       I’m so lostHello, my name is Adam (16) and I’v...      suicide\n",
       "...                                                   ...          ...\n",
       "232069  If you don't like rock then your not going to ...  non-suicide\n",
       "232070  You how you can tell i have so many friends an...  non-suicide\n",
       "232071  pee probably tastes like salty tea😏💦‼️ can som...  non-suicide\n",
       "232072  The usual stuff you find hereI'm not posting t...      suicide\n",
       "232073  I still haven't beaten the first boss in Hollo...  non-suicide\n",
       "\n",
       "[232074 rows x 2 columns]"
      ]
     },
     "execution_count": 71,
     "metadata": {},
     "output_type": "execute_result"
    }
   ],
   "source": [
    "data.drop(\"Unnamed: 0\",axis=1,inplace=True)\n",
    "data.dropna(inplace=True)\n",
    "data"
   ]
  },
  {
   "cell_type": "code",
   "execution_count": 72,
   "metadata": {
    "colab": {
     "base_uri": "https://localhost:8080/"
    },
    "executionInfo": {
     "elapsed": 4029,
     "status": "ok",
     "timestamp": 1635775932431,
     "user": {
      "displayName": "Penny Tiwari",
      "photoUrl": "https://lh3.googleusercontent.com/a/default-user=s64",
      "userId": "14007942765575684471"
     },
     "user_tz": -330
    },
    "id": "UwUiZZWJov3Z",
    "outputId": "e13acd16-e89a-412b-e3e5-8f5dac62e03d"
   },
   "outputs": [
    {
     "name": "stdout",
     "output_type": "stream",
     "text": [
      "Requirement already satisfied: tweet-preprocessor in /Users/ravitiwari/miniforge3/envs/tf/lib/python3.9/site-packages (0.6.0)\r\n"
     ]
    }
   ],
   "source": [
    "!pip install tweet-preprocessor"
   ]
  },
  {
   "cell_type": "code",
   "execution_count": 73,
   "metadata": {
    "colab": {
     "base_uri": "https://localhost:8080/"
    },
    "executionInfo": {
     "elapsed": 2011,
     "status": "ok",
     "timestamp": 1635775934437,
     "user": {
      "displayName": "Penny Tiwari",
      "photoUrl": "https://lh3.googleusercontent.com/a/default-user=s64",
      "userId": "14007942765575684471"
     },
     "user_tz": -330
    },
    "id": "YpoxgeLpo2LL",
    "outputId": "f11e497c-80bf-49e0-aef5-a4d4408e9682"
   },
   "outputs": [
    {
     "name": "stderr",
     "output_type": "stream",
     "text": [
      "[nltk_data] Downloading package punkt to\n",
      "[nltk_data]     /Users/ravitiwari/nltk_data...\n",
      "[nltk_data]   Package punkt is already up-to-date!\n",
      "[nltk_data] Downloading package stopwords to\n",
      "[nltk_data]     /Users/ravitiwari/nltk_data...\n",
      "[nltk_data]   Package stopwords is already up-to-date!\n"
     ]
    }
   ],
   "source": [
    "import pandas as pd\n",
    "import nltk\n",
    "import re\n",
    "import string\n",
    "from nltk.corpus import stopwords\n",
    "nltk.download('punkt')\n",
    "nltk.download('stopwords')\n",
    "from nltk.tokenize import word_tokenize\n",
    "import preprocessor as p\n",
    "from nltk.stem import WordNetLemmatizer \n",
    "from nltk import sent_tokenize\n",
    "from nltk import word_tokenize\n",
    "\n",
    "stop_words = stopwords.words()\n",
    "\n",
    "def cleaning(text):        \n",
    "    \n",
    "    text = re.sub(r\"won't\", \"will not\",text)\n",
    "    text = re.sub(r\"can\\'t\", \"can not\",text)\n",
    "    text = re.sub(r\"n\\'t\", \" not\",text)\n",
    "    text = re.sub(r\"\\'re\", \" are\",text)\n",
    "    text = re.sub(r\"\\'s\", \" is\",text)\n",
    "    text = re.sub(r\"\\'d\", \" would\",text)\n",
    "    text = re.sub(r\"\\'ll\", \" will\",text)\n",
    "    text = re.sub(r\"\\'t\", \" not\",text)\n",
    "    text = re.sub(r\"\\'ve\", \" have\",text)\n",
    "    text = re.sub(r\"\\'m\", \" am\",text)\n",
    "    text = re.sub('RT',\" \", text)\n",
    "    \n",
    "    text=p.clean(text)\n",
    "    text = re.sub(\"\\$RESERVED\\$ \\$MENTION\\$|\\$NUMBER\\$|\\$MENTION\\$\",' ', text)\n",
    "    text = text.lower()\n",
    "    text = re.sub('https?://\\S+|www\\.\\S+', ' ', text)\n",
    "    text = re.sub('<.*?>+', ' ', text)\n",
    "    text = re.sub('[%s]' % re.escape(string.punctuation), ' ', text)\n",
    "    text = re.sub('\\n', ' ', text)\n",
    "    text = re.sub('[’“”…]', ' ', text)   \n",
    "    \n",
    "    \n",
    "    text = re.sub('user',\" \", text)\n",
    "    text = re.sub('url',\" \", text)\n",
    "    \n",
    "    text = re.sub('reserved',\" \", text)\n",
    "    \n",
    "    \n",
    "    \n",
    "    \n",
    "    \n",
    "    \n",
    "    text = re.sub(\"[^A-Za-z]\",' ',text)\n",
    "    \n",
    "\n",
    "    # removing the emojies               \n",
    "    emoji_pattern = re.compile(\"[\"\n",
    "                           u\"\\U0001F600-\\U0001F64F\"  # emoticons\n",
    "                           u\"\\U0001F300-\\U0001F5FF\"  # symbols & pictographs\n",
    "                           u\"\\U0001F680-\\U0001F6FF\"  # transport & map symbols\n",
    "                           u\"\\U0001F1E0-\\U0001F1FF\"  # flags (iOS)\n",
    "                           u\"\\U00002702-\\U000027B0\"\n",
    "                           u\"\\U000024C2-\\U0001F251\"\n",
    "                           \"]+\", flags=re.UNICODE)\n",
    "    text = emoji_pattern.sub(r' ', text)   \n",
    "    \n",
    "    \n",
    "    \n",
    "    \n",
    "    \n",
    "    \n",
    "    return text\n",
    "\n"
   ]
  },
  {
   "cell_type": "code",
   "execution_count": 74,
   "metadata": {
    "colab": {
     "base_uri": "https://localhost:8080/"
    },
    "executionInfo": {
     "elapsed": 5,
     "status": "ok",
     "timestamp": 1635775934437,
     "user": {
      "displayName": "Penny Tiwari",
      "photoUrl": "https://lh3.googleusercontent.com/a/default-user=s64",
      "userId": "14007942765575684471"
     },
     "user_tz": -330
    },
    "id": "sjwsaldnpMxg",
    "outputId": "fb1c39f6-eae8-46d8-c96e-a3a931a7dc7f"
   },
   "outputs": [
    {
     "data": {
      "text/plain": [
       "non-suicide    5016\n",
       "suicide        4984\n",
       "Name: class, dtype: int64"
      ]
     },
     "execution_count": 74,
     "metadata": {},
     "output_type": "execute_result"
    }
   ],
   "source": [
    "k=np.random.randint(0,len(data),(10000))\n",
    "data1=data.loc[k]\n",
    "data1['class'].value_counts()"
   ]
  },
  {
   "cell_type": "code",
   "execution_count": 75,
   "metadata": {
    "colab": {
     "base_uri": "https://localhost:8080/"
    },
    "executionInfo": {
     "elapsed": 6645,
     "status": "ok",
     "timestamp": 1635775941080,
     "user": {
      "displayName": "Penny Tiwari",
      "photoUrl": "https://lh3.googleusercontent.com/a/default-user=s64",
      "userId": "14007942765575684471"
     },
     "user_tz": -330
    },
    "id": "4gVr9Jq2pPT6",
    "outputId": "33b1fed1-588a-47c4-fb05-50de1ffde138"
   },
   "outputs": [
    {
     "data": {
      "text/plain": [
       "(10000, 2)"
      ]
     },
     "execution_count": 75,
     "metadata": {},
     "output_type": "execute_result"
    }
   ],
   "source": [
    "data1.text=data1.text.apply(cleaning)\n",
    "data1.dropna(inplace=True)\n",
    "data1.shape"
   ]
  },
  {
   "cell_type": "code",
   "execution_count": 76,
   "metadata": {
    "colab": {
     "base_uri": "https://localhost:8080/"
    },
    "executionInfo": {
     "elapsed": 27,
     "status": "ok",
     "timestamp": 1635775941081,
     "user": {
      "displayName": "Penny Tiwari",
      "photoUrl": "https://lh3.googleusercontent.com/a/default-user=s64",
      "userId": "14007942765575684471"
     },
     "user_tz": -330
    },
    "id": "Jn7hTQw_pRft",
    "outputId": "1b660dfa-30c6-42b5-aba0-99e93a1da93f"
   },
   "outputs": [
    {
     "name": "stderr",
     "output_type": "stream",
     "text": [
      "/var/folders/lv/5qnxdk2j3j9g91klk8lph5400000gn/T/ipykernel_6203/4280674246.py:3: SettingWithCopyWarning: \n",
      "A value is trying to be set on a copy of a slice from a DataFrame\n",
      "\n",
      "See the caveats in the documentation: https://pandas.pydata.org/pandas-docs/stable/user_guide/indexing.html#returning-a-view-versus-a-copy\n",
      "  data6.dropna(inplace=True)\n"
     ]
    },
    {
     "data": {
      "text/plain": [
       "suicide    4984\n",
       "Name: class, dtype: int64"
      ]
     },
     "execution_count": 76,
     "metadata": {},
     "output_type": "execute_result"
    }
   ],
   "source": [
    "mask=data1['class']=='suicide'\n",
    "data6=data1.loc[mask]\n",
    "data6.dropna(inplace=True)\n",
    "data6['class'].value_counts()"
   ]
  },
  {
   "cell_type": "code",
   "execution_count": 77,
   "metadata": {
    "colab": {
     "base_uri": "https://localhost:8080/",
     "height": 419
    },
    "executionInfo": {
     "elapsed": 18,
     "status": "ok",
     "timestamp": 1635775941082,
     "user": {
      "displayName": "Penny Tiwari",
      "photoUrl": "https://lh3.googleusercontent.com/a/default-user=s64",
      "userId": "14007942765575684471"
     },
     "user_tz": -330
    },
    "id": "qJfUu_3_pnVF",
    "outputId": "2ed13dc1-38a8-4373-89ea-5e345b0e0b9b"
   },
   "outputs": [
    {
     "data": {
      "text/html": [
       "<div>\n",
       "<style scoped>\n",
       "    .dataframe tbody tr th:only-of-type {\n",
       "        vertical-align: middle;\n",
       "    }\n",
       "\n",
       "    .dataframe tbody tr th {\n",
       "        vertical-align: top;\n",
       "    }\n",
       "\n",
       "    .dataframe thead th {\n",
       "        text-align: right;\n",
       "    }\n",
       "</style>\n",
       "<table border=\"1\" class=\"dataframe\">\n",
       "  <thead>\n",
       "    <tr style=\"text-align: right;\">\n",
       "      <th></th>\n",
       "      <th>Unnamed: 0</th>\n",
       "      <th>tweet</th>\n",
       "      <th>label</th>\n",
       "    </tr>\n",
       "  </thead>\n",
       "  <tbody>\n",
       "    <tr>\n",
       "      <th>0</th>\n",
       "      <td>0</td>\n",
       "      <td>damn taking this personality quiz and realizin...</td>\n",
       "      <td>4</td>\n",
       "    </tr>\n",
       "    <tr>\n",
       "      <th>1</th>\n",
       "      <td>1</td>\n",
       "      <td>remember experiencing as kid what now realize ...</td>\n",
       "      <td>4</td>\n",
       "    </tr>\n",
       "    <tr>\n",
       "      <th>2</th>\n",
       "      <td>2</td>\n",
       "      <td>damn louis really did pull me out of my depres...</td>\n",
       "      <td>4</td>\n",
       "    </tr>\n",
       "    <tr>\n",
       "      <th>3</th>\n",
       "      <td>3</td>\n",
       "      <td>my depression is really kicking my ass right n...</td>\n",
       "      <td>4</td>\n",
       "    </tr>\n",
       "    <tr>\n",
       "      <th>4</th>\n",
       "      <td>4</td>\n",
       "      <td>feel like my night is going bad family calling...</td>\n",
       "      <td>4</td>\n",
       "    </tr>\n",
       "    <tr>\n",
       "      <th>...</th>\n",
       "      <td>...</td>\n",
       "      <td>...</td>\n",
       "      <td>...</td>\n",
       "    </tr>\n",
       "    <tr>\n",
       "      <th>61995</th>\n",
       "      <td>30995</td>\n",
       "      <td>the only way they can attract good dicks is to...</td>\n",
       "      <td>2</td>\n",
       "    </tr>\n",
       "    <tr>\n",
       "      <th>61996</th>\n",
       "      <td>30996</td>\n",
       "      <td>gotta say like you think we have the same atti...</td>\n",
       "      <td>2</td>\n",
       "    </tr>\n",
       "    <tr>\n",
       "      <th>61997</th>\n",
       "      <td>30997</td>\n",
       "      <td>many product companies goes from right to left...</td>\n",
       "      <td>2</td>\n",
       "    </tr>\n",
       "    <tr>\n",
       "      <th>61998</th>\n",
       "      <td>30998</td>\n",
       "      <td>just casually playing animal crossing while wa...</td>\n",
       "      <td>2</td>\n",
       "    </tr>\n",
       "    <tr>\n",
       "      <th>61999</th>\n",
       "      <td>30999</td>\n",
       "      <td>in kushner speak look wasn born with silver sp...</td>\n",
       "      <td>2</td>\n",
       "    </tr>\n",
       "  </tbody>\n",
       "</table>\n",
       "<p>62000 rows × 3 columns</p>\n",
       "</div>"
      ],
      "text/plain": [
       "       Unnamed: 0                                              tweet  label\n",
       "0               0  damn taking this personality quiz and realizin...      4\n",
       "1               1  remember experiencing as kid what now realize ...      4\n",
       "2               2  damn louis really did pull me out of my depres...      4\n",
       "3               3  my depression is really kicking my ass right n...      4\n",
       "4               4  feel like my night is going bad family calling...      4\n",
       "...           ...                                                ...    ...\n",
       "61995       30995  the only way they can attract good dicks is to...      2\n",
       "61996       30996  gotta say like you think we have the same atti...      2\n",
       "61997       30997  many product companies goes from right to left...      2\n",
       "61998       30998  just casually playing animal crossing while wa...      2\n",
       "61999       30999  in kushner speak look wasn born with silver sp...      2\n",
       "\n",
       "[62000 rows x 3 columns]"
      ]
     },
     "execution_count": 77,
     "metadata": {},
     "output_type": "execute_result"
    }
   ],
   "source": [
    "data2=pd.read_csv(\"depression.csv\")\n",
    "data2"
   ]
  },
  {
   "cell_type": "code",
   "execution_count": 78,
   "metadata": {
    "colab": {
     "base_uri": "https://localhost:8080/",
     "height": 419
    },
    "executionInfo": {
     "elapsed": 14,
     "status": "ok",
     "timestamp": 1635775941082,
     "user": {
      "displayName": "Penny Tiwari",
      "photoUrl": "https://lh3.googleusercontent.com/a/default-user=s64",
      "userId": "14007942765575684471"
     },
     "user_tz": -330
    },
    "id": "H93wc4cYp6Py",
    "outputId": "5a604a57-5e1a-4e71-831e-628c83271f98"
   },
   "outputs": [
    {
     "data": {
      "text/html": [
       "<div>\n",
       "<style scoped>\n",
       "    .dataframe tbody tr th:only-of-type {\n",
       "        vertical-align: middle;\n",
       "    }\n",
       "\n",
       "    .dataframe tbody tr th {\n",
       "        vertical-align: top;\n",
       "    }\n",
       "\n",
       "    .dataframe thead th {\n",
       "        text-align: right;\n",
       "    }\n",
       "</style>\n",
       "<table border=\"1\" class=\"dataframe\">\n",
       "  <thead>\n",
       "    <tr style=\"text-align: right;\">\n",
       "      <th></th>\n",
       "      <th>tweet</th>\n",
       "      <th>label</th>\n",
       "    </tr>\n",
       "  </thead>\n",
       "  <tbody>\n",
       "    <tr>\n",
       "      <th>0</th>\n",
       "      <td>damn taking this personality quiz and realizin...</td>\n",
       "      <td>4</td>\n",
       "    </tr>\n",
       "    <tr>\n",
       "      <th>1</th>\n",
       "      <td>remember experiencing as kid what now realize ...</td>\n",
       "      <td>4</td>\n",
       "    </tr>\n",
       "    <tr>\n",
       "      <th>2</th>\n",
       "      <td>damn louis really did pull me out of my depres...</td>\n",
       "      <td>4</td>\n",
       "    </tr>\n",
       "    <tr>\n",
       "      <th>3</th>\n",
       "      <td>my depression is really kicking my ass right n...</td>\n",
       "      <td>4</td>\n",
       "    </tr>\n",
       "    <tr>\n",
       "      <th>4</th>\n",
       "      <td>feel like my night is going bad family calling...</td>\n",
       "      <td>4</td>\n",
       "    </tr>\n",
       "    <tr>\n",
       "      <th>...</th>\n",
       "      <td>...</td>\n",
       "      <td>...</td>\n",
       "    </tr>\n",
       "    <tr>\n",
       "      <th>61995</th>\n",
       "      <td>the only way they can attract good dicks is to...</td>\n",
       "      <td>2</td>\n",
       "    </tr>\n",
       "    <tr>\n",
       "      <th>61996</th>\n",
       "      <td>gotta say like you think we have the same atti...</td>\n",
       "      <td>2</td>\n",
       "    </tr>\n",
       "    <tr>\n",
       "      <th>61997</th>\n",
       "      <td>many product companies goes from right to left...</td>\n",
       "      <td>2</td>\n",
       "    </tr>\n",
       "    <tr>\n",
       "      <th>61998</th>\n",
       "      <td>just casually playing animal crossing while wa...</td>\n",
       "      <td>2</td>\n",
       "    </tr>\n",
       "    <tr>\n",
       "      <th>61999</th>\n",
       "      <td>in kushner speak look wasn born with silver sp...</td>\n",
       "      <td>2</td>\n",
       "    </tr>\n",
       "  </tbody>\n",
       "</table>\n",
       "<p>62000 rows × 2 columns</p>\n",
       "</div>"
      ],
      "text/plain": [
       "                                                   tweet  label\n",
       "0      damn taking this personality quiz and realizin...      4\n",
       "1      remember experiencing as kid what now realize ...      4\n",
       "2      damn louis really did pull me out of my depres...      4\n",
       "3      my depression is really kicking my ass right n...      4\n",
       "4      feel like my night is going bad family calling...      4\n",
       "...                                                  ...    ...\n",
       "61995  the only way they can attract good dicks is to...      2\n",
       "61996  gotta say like you think we have the same atti...      2\n",
       "61997  many product companies goes from right to left...      2\n",
       "61998  just casually playing animal crossing while wa...      2\n",
       "61999  in kushner speak look wasn born with silver sp...      2\n",
       "\n",
       "[62000 rows x 2 columns]"
      ]
     },
     "execution_count": 78,
     "metadata": {},
     "output_type": "execute_result"
    }
   ],
   "source": [
    "data2.drop(\"Unnamed: 0\",axis=1,inplace=True)\n",
    "data2"
   ]
  },
  {
   "cell_type": "code",
   "execution_count": 79,
   "metadata": {
    "colab": {
     "base_uri": "https://localhost:8080/",
     "height": 419
    },
    "executionInfo": {
     "elapsed": 19,
     "status": "ok",
     "timestamp": 1635775941767,
     "user": {
      "displayName": "Penny Tiwari",
      "photoUrl": "https://lh3.googleusercontent.com/a/default-user=s64",
      "userId": "14007942765575684471"
     },
     "user_tz": -330
    },
    "id": "aLEHdDUKp8wl",
    "outputId": "3e123602-47fb-4441-f343-2d507ee6ef35"
   },
   "outputs": [
    {
     "data": {
      "text/html": [
       "<div>\n",
       "<style scoped>\n",
       "    .dataframe tbody tr th:only-of-type {\n",
       "        vertical-align: middle;\n",
       "    }\n",
       "\n",
       "    .dataframe tbody tr th {\n",
       "        vertical-align: top;\n",
       "    }\n",
       "\n",
       "    .dataframe thead th {\n",
       "        text-align: right;\n",
       "    }\n",
       "</style>\n",
       "<table border=\"1\" class=\"dataframe\">\n",
       "  <thead>\n",
       "    <tr style=\"text-align: right;\">\n",
       "      <th></th>\n",
       "      <th>tweet</th>\n",
       "      <th>label</th>\n",
       "    </tr>\n",
       "  </thead>\n",
       "  <tbody>\n",
       "    <tr>\n",
       "      <th>0</th>\n",
       "      <td>damn taking this personality quiz and realizin...</td>\n",
       "      <td>4</td>\n",
       "    </tr>\n",
       "    <tr>\n",
       "      <th>1</th>\n",
       "      <td>remember experiencing as kid what now realize ...</td>\n",
       "      <td>4</td>\n",
       "    </tr>\n",
       "    <tr>\n",
       "      <th>2</th>\n",
       "      <td>damn louis really did pull me out of my depres...</td>\n",
       "      <td>4</td>\n",
       "    </tr>\n",
       "    <tr>\n",
       "      <th>3</th>\n",
       "      <td>my depression is really kicking my ass right n...</td>\n",
       "      <td>4</td>\n",
       "    </tr>\n",
       "    <tr>\n",
       "      <th>4</th>\n",
       "      <td>feel like my night is going bad family calling...</td>\n",
       "      <td>4</td>\n",
       "    </tr>\n",
       "    <tr>\n",
       "      <th>...</th>\n",
       "      <td>...</td>\n",
       "      <td>...</td>\n",
       "    </tr>\n",
       "    <tr>\n",
       "      <th>46995</th>\n",
       "      <td>love that this is your life paul railing again...</td>\n",
       "      <td>4</td>\n",
       "    </tr>\n",
       "    <tr>\n",
       "      <th>46996</th>\n",
       "      <td>all see now why fucking hate cops they are mon...</td>\n",
       "      <td>4</td>\n",
       "    </tr>\n",
       "    <tr>\n",
       "      <th>46997</th>\n",
       "      <td>this really just breaks my heart on so many le...</td>\n",
       "      <td>4</td>\n",
       "    </tr>\n",
       "    <tr>\n",
       "      <th>46998</th>\n",
       "      <td>currently doing this now and relieved but also...</td>\n",
       "      <td>4</td>\n",
       "    </tr>\n",
       "    <tr>\n",
       "      <th>46999</th>\n",
       "      <td>hate when men see other men being disrespectfu...</td>\n",
       "      <td>4</td>\n",
       "    </tr>\n",
       "  </tbody>\n",
       "</table>\n",
       "<p>32000 rows × 2 columns</p>\n",
       "</div>"
      ],
      "text/plain": [
       "                                                   tweet  label\n",
       "0      damn taking this personality quiz and realizin...      4\n",
       "1      remember experiencing as kid what now realize ...      4\n",
       "2      damn louis really did pull me out of my depres...      4\n",
       "3      my depression is really kicking my ass right n...      4\n",
       "4      feel like my night is going bad family calling...      4\n",
       "...                                                  ...    ...\n",
       "46995  love that this is your life paul railing again...      4\n",
       "46996  all see now why fucking hate cops they are mon...      4\n",
       "46997  this really just breaks my heart on so many le...      4\n",
       "46998  currently doing this now and relieved but also...      4\n",
       "46999  hate when men see other men being disrespectfu...      4\n",
       "\n",
       "[32000 rows x 2 columns]"
      ]
     },
     "execution_count": 79,
     "metadata": {},
     "output_type": "execute_result"
    }
   ],
   "source": [
    "mask=data2.label==4\n",
    "data2=data2.loc[mask]\n",
    "data2"
   ]
  },
  {
   "cell_type": "code",
   "execution_count": 80,
   "metadata": {
    "colab": {
     "base_uri": "https://localhost:8080/",
     "height": 521
    },
    "executionInfo": {
     "elapsed": 16,
     "status": "ok",
     "timestamp": 1635775941768,
     "user": {
      "displayName": "Penny Tiwari",
      "photoUrl": "https://lh3.googleusercontent.com/a/default-user=s64",
      "userId": "14007942765575684471"
     },
     "user_tz": -330
    },
    "id": "4VtyvQVgqVPA",
    "outputId": "11a4ebb1-3c28-4385-85fe-73b740633e63"
   },
   "outputs": [
    {
     "name": "stderr",
     "output_type": "stream",
     "text": [
      "/Users/ravitiwari/miniforge3/envs/tf/lib/python3.9/site-packages/pandas/core/generic.py:5168: SettingWithCopyWarning: \n",
      "A value is trying to be set on a copy of a slice from a DataFrame.\n",
      "Try using .loc[row_indexer,col_indexer] = value instead\n",
      "\n",
      "See the caveats in the documentation: https://pandas.pydata.org/pandas-docs/stable/user_guide/indexing.html#returning-a-view-versus-a-copy\n",
      "  self[name] = value\n"
     ]
    },
    {
     "data": {
      "text/html": [
       "<div>\n",
       "<style scoped>\n",
       "    .dataframe tbody tr th:only-of-type {\n",
       "        vertical-align: middle;\n",
       "    }\n",
       "\n",
       "    .dataframe tbody tr th {\n",
       "        vertical-align: top;\n",
       "    }\n",
       "\n",
       "    .dataframe thead th {\n",
       "        text-align: right;\n",
       "    }\n",
       "</style>\n",
       "<table border=\"1\" class=\"dataframe\">\n",
       "  <thead>\n",
       "    <tr style=\"text-align: right;\">\n",
       "      <th></th>\n",
       "      <th>tweet</th>\n",
       "      <th>label</th>\n",
       "    </tr>\n",
       "  </thead>\n",
       "  <tbody>\n",
       "    <tr>\n",
       "      <th>0</th>\n",
       "      <td>damn taking this personality quiz and realizin...</td>\n",
       "      <td>depression</td>\n",
       "    </tr>\n",
       "    <tr>\n",
       "      <th>1</th>\n",
       "      <td>remember experiencing as kid what now realize ...</td>\n",
       "      <td>depression</td>\n",
       "    </tr>\n",
       "    <tr>\n",
       "      <th>2</th>\n",
       "      <td>damn louis really did pull me out of my depres...</td>\n",
       "      <td>depression</td>\n",
       "    </tr>\n",
       "    <tr>\n",
       "      <th>3</th>\n",
       "      <td>my depression is really kicking my ass right n...</td>\n",
       "      <td>depression</td>\n",
       "    </tr>\n",
       "    <tr>\n",
       "      <th>4</th>\n",
       "      <td>feel like my night is going bad family calling...</td>\n",
       "      <td>depression</td>\n",
       "    </tr>\n",
       "    <tr>\n",
       "      <th>...</th>\n",
       "      <td>...</td>\n",
       "      <td>...</td>\n",
       "    </tr>\n",
       "    <tr>\n",
       "      <th>46995</th>\n",
       "      <td>love that this is your life paul railing again...</td>\n",
       "      <td>depression</td>\n",
       "    </tr>\n",
       "    <tr>\n",
       "      <th>46996</th>\n",
       "      <td>all see now why fucking hate cops they are mon...</td>\n",
       "      <td>depression</td>\n",
       "    </tr>\n",
       "    <tr>\n",
       "      <th>46997</th>\n",
       "      <td>this really just breaks my heart on so many le...</td>\n",
       "      <td>depression</td>\n",
       "    </tr>\n",
       "    <tr>\n",
       "      <th>46998</th>\n",
       "      <td>currently doing this now and relieved but also...</td>\n",
       "      <td>depression</td>\n",
       "    </tr>\n",
       "    <tr>\n",
       "      <th>46999</th>\n",
       "      <td>hate when men see other men being disrespectfu...</td>\n",
       "      <td>depression</td>\n",
       "    </tr>\n",
       "  </tbody>\n",
       "</table>\n",
       "<p>32000 rows × 2 columns</p>\n",
       "</div>"
      ],
      "text/plain": [
       "                                                   tweet       label\n",
       "0      damn taking this personality quiz and realizin...  depression\n",
       "1      remember experiencing as kid what now realize ...  depression\n",
       "2      damn louis really did pull me out of my depres...  depression\n",
       "3      my depression is really kicking my ass right n...  depression\n",
       "4      feel like my night is going bad family calling...  depression\n",
       "...                                                  ...         ...\n",
       "46995  love that this is your life paul railing again...  depression\n",
       "46996  all see now why fucking hate cops they are mon...  depression\n",
       "46997  this really just breaks my heart on so many le...  depression\n",
       "46998  currently doing this now and relieved but also...  depression\n",
       "46999  hate when men see other men being disrespectfu...  depression\n",
       "\n",
       "[32000 rows x 2 columns]"
      ]
     },
     "execution_count": 80,
     "metadata": {},
     "output_type": "execute_result"
    }
   ],
   "source": [
    "data2.label='depression'\n",
    "data2"
   ]
  },
  {
   "cell_type": "code",
   "execution_count": 81,
   "metadata": {
    "colab": {
     "base_uri": "https://localhost:8080/",
     "height": 419
    },
    "executionInfo": {
     "elapsed": 523,
     "status": "ok",
     "timestamp": 1635775945637,
     "user": {
      "displayName": "Penny Tiwari",
      "photoUrl": "https://lh3.googleusercontent.com/a/default-user=s64",
      "userId": "14007942765575684471"
     },
     "user_tz": -330
    },
    "id": "fO2uvQybthU-",
    "outputId": "ec9055ed-a1e0-4405-ed32-943490d7966b"
   },
   "outputs": [
    {
     "data": {
      "text/html": [
       "<div>\n",
       "<style scoped>\n",
       "    .dataframe tbody tr th:only-of-type {\n",
       "        vertical-align: middle;\n",
       "    }\n",
       "\n",
       "    .dataframe tbody tr th {\n",
       "        vertical-align: top;\n",
       "    }\n",
       "\n",
       "    .dataframe thead th {\n",
       "        text-align: right;\n",
       "    }\n",
       "</style>\n",
       "<table border=\"1\" class=\"dataframe\">\n",
       "  <thead>\n",
       "    <tr style=\"text-align: right;\">\n",
       "      <th></th>\n",
       "      <th>tweet</th>\n",
       "      <th>label</th>\n",
       "    </tr>\n",
       "  </thead>\n",
       "  <tbody>\n",
       "    <tr>\n",
       "      <th>42123</th>\n",
       "      <td>feel like don take enough time to give credit ...</td>\n",
       "      <td>depression</td>\n",
       "    </tr>\n",
       "    <tr>\n",
       "      <th>4943</th>\n",
       "      <td>oh this is such fantasy for me and have no ide...</td>\n",
       "      <td>depression</td>\n",
       "    </tr>\n",
       "    <tr>\n",
       "      <th>42849</th>\n",
       "      <td>can donate but suffer from severe depression a...</td>\n",
       "      <td>depression</td>\n",
       "    </tr>\n",
       "    <tr>\n",
       "      <th>4656</th>\n",
       "      <td>kids start crying and parents cave and they ge...</td>\n",
       "      <td>depression</td>\n",
       "    </tr>\n",
       "    <tr>\n",
       "      <th>43496</th>\n",
       "      <td>if you hurt restaurant partner god see everyth...</td>\n",
       "      <td>depression</td>\n",
       "    </tr>\n",
       "    <tr>\n",
       "      <th>...</th>\n",
       "      <td>...</td>\n",
       "      <td>...</td>\n",
       "    </tr>\n",
       "    <tr>\n",
       "      <th>14819</th>\n",
       "      <td>don get me wrong kids need to be safe but abso...</td>\n",
       "      <td>depression</td>\n",
       "    </tr>\n",
       "    <tr>\n",
       "      <th>6807</th>\n",
       "      <td>want to scream and cry and be held want cry ou...</td>\n",
       "      <td>depression</td>\n",
       "    </tr>\n",
       "    <tr>\n",
       "      <th>46989</th>\n",
       "      <td>have found my inner peace and it taken me week...</td>\n",
       "      <td>depression</td>\n",
       "    </tr>\n",
       "    <tr>\n",
       "      <th>5186</th>\n",
       "      <td>when said its been long time didnt cry got str...</td>\n",
       "      <td>depression</td>\n",
       "    </tr>\n",
       "    <tr>\n",
       "      <th>42195</th>\n",
       "      <td>genuinely think have borderline personality di...</td>\n",
       "      <td>depression</td>\n",
       "    </tr>\n",
       "  </tbody>\n",
       "</table>\n",
       "<p>10000 rows × 2 columns</p>\n",
       "</div>"
      ],
      "text/plain": [
       "                                                   tweet       label\n",
       "42123  feel like don take enough time to give credit ...  depression\n",
       "4943   oh this is such fantasy for me and have no ide...  depression\n",
       "42849  can donate but suffer from severe depression a...  depression\n",
       "4656   kids start crying and parents cave and they ge...  depression\n",
       "43496  if you hurt restaurant partner god see everyth...  depression\n",
       "...                                                  ...         ...\n",
       "14819  don get me wrong kids need to be safe but abso...  depression\n",
       "6807   want to scream and cry and be held want cry ou...  depression\n",
       "46989  have found my inner peace and it taken me week...  depression\n",
       "5186   when said its been long time didnt cry got str...  depression\n",
       "42195  genuinely think have borderline personality di...  depression\n",
       "\n",
       "[10000 rows x 2 columns]"
      ]
     },
     "execution_count": 81,
     "metadata": {},
     "output_type": "execute_result"
    }
   ],
   "source": [
    "k=np.random.randint(0,len(data2),(10000))\n",
    "data2=data2.iloc[k]\n",
    "data2"
   ]
  },
  {
   "cell_type": "code",
   "execution_count": 82,
   "metadata": {
    "colab": {
     "base_uri": "https://localhost:8080/"
    },
    "executionInfo": {
     "elapsed": 5,
     "status": "ok",
     "timestamp": 1635775950554,
     "user": {
      "displayName": "Penny Tiwari",
      "photoUrl": "https://lh3.googleusercontent.com/a/default-user=s64",
      "userId": "14007942765575684471"
     },
     "user_tz": -330
    },
    "id": "aFKNkb7HuBDO",
    "outputId": "0358d20a-5026-4b78-bbd4-0c97992ab86e"
   },
   "outputs": [
    {
     "data": {
      "text/plain": [
       "depression    10000\n",
       "Name: label, dtype: int64"
      ]
     },
     "execution_count": 82,
     "metadata": {},
     "output_type": "execute_result"
    }
   ],
   "source": [
    "data2.label.value_counts()"
   ]
  },
  {
   "cell_type": "code",
   "execution_count": 83,
   "metadata": {
    "colab": {
     "base_uri": "https://localhost:8080/",
     "height": 419
    },
    "executionInfo": {
     "elapsed": 604,
     "status": "ok",
     "timestamp": 1635775951984,
     "user": {
      "displayName": "Penny Tiwari",
      "photoUrl": "https://lh3.googleusercontent.com/a/default-user=s64",
      "userId": "14007942765575684471"
     },
     "user_tz": -330
    },
    "id": "X97ssp4bqgDr",
    "outputId": "747448fe-5816-4c2e-c6c0-1022ce2ebaa2"
   },
   "outputs": [
    {
     "data": {
      "text/html": [
       "<div>\n",
       "<style scoped>\n",
       "    .dataframe tbody tr th:only-of-type {\n",
       "        vertical-align: middle;\n",
       "    }\n",
       "\n",
       "    .dataframe tbody tr th {\n",
       "        vertical-align: top;\n",
       "    }\n",
       "\n",
       "    .dataframe thead th {\n",
       "        text-align: right;\n",
       "    }\n",
       "</style>\n",
       "<table border=\"1\" class=\"dataframe\">\n",
       "  <thead>\n",
       "    <tr style=\"text-align: right;\">\n",
       "      <th></th>\n",
       "      <th>Unnamed: 0</th>\n",
       "      <th>tweet</th>\n",
       "      <th>label</th>\n",
       "    </tr>\n",
       "  </thead>\n",
       "  <tbody>\n",
       "    <tr>\n",
       "      <th>0</th>\n",
       "      <td>0</td>\n",
       "      <td>conservatives are excellent at running up debt...</td>\n",
       "      <td>2</td>\n",
       "    </tr>\n",
       "    <tr>\n",
       "      <th>1</th>\n",
       "      <td>1</td>\n",
       "      <td>great example as an immigrant and woman ceo  i...</td>\n",
       "      <td>2</td>\n",
       "    </tr>\n",
       "    <tr>\n",
       "      <th>2</th>\n",
       "      <td>2</td>\n",
       "      <td>fuckhead for awhile    i open two stores for...</td>\n",
       "      <td>2</td>\n",
       "    </tr>\n",
       "    <tr>\n",
       "      <th>3</th>\n",
       "      <td>3</td>\n",
       "      <td>i just cracked my motherfuckin phone god damn ...</td>\n",
       "      <td>1</td>\n",
       "    </tr>\n",
       "    <tr>\n",
       "      <th>4</th>\n",
       "      <td>4</td>\n",
       "      <td>i could never have a bby by a lil dick thts...</td>\n",
       "      <td>1</td>\n",
       "    </tr>\n",
       "    <tr>\n",
       "      <th>...</th>\n",
       "      <td>...</td>\n",
       "      <td>...</td>\n",
       "      <td>...</td>\n",
       "    </tr>\n",
       "    <tr>\n",
       "      <th>49517</th>\n",
       "      <td>49524</td>\n",
       "      <td>aye and when the hoes start coming do not ...</td>\n",
       "      <td>1</td>\n",
       "    </tr>\n",
       "    <tr>\n",
       "      <th>49518</th>\n",
       "      <td>49525</td>\n",
       "      <td>kevin williamson is excellent piece on why e...</td>\n",
       "      <td>2</td>\n",
       "    </tr>\n",
       "    <tr>\n",
       "      <th>49519</th>\n",
       "      <td>49526</td>\n",
       "      <td>in an age where progressives demand full ...</td>\n",
       "      <td>2</td>\n",
       "    </tr>\n",
       "    <tr>\n",
       "      <th>49520</th>\n",
       "      <td>49527</td>\n",
       "      <td>all dirty vote bank politics  aap rule has mad...</td>\n",
       "      <td>0</td>\n",
       "    </tr>\n",
       "    <tr>\n",
       "      <th>49521</th>\n",
       "      <td>49528</td>\n",
       "      <td>old are you    she looks like a baby  m...</td>\n",
       "      <td>2</td>\n",
       "    </tr>\n",
       "  </tbody>\n",
       "</table>\n",
       "<p>49522 rows × 3 columns</p>\n",
       "</div>"
      ],
      "text/plain": [
       "       Unnamed: 0                                              tweet  label\n",
       "0               0  conservatives are excellent at running up debt...      2\n",
       "1               1  great example as an immigrant and woman ceo  i...      2\n",
       "2               2    fuckhead for awhile    i open two stores for...      2\n",
       "3               3  i just cracked my motherfuckin phone god damn ...      1\n",
       "4               4     i could never have a bby by a lil dick thts...      1\n",
       "...           ...                                                ...    ...\n",
       "49517       49524      aye and when the hoes start coming do not ...      1\n",
       "49518       49525    kevin williamson is excellent piece on why e...      2\n",
       "49519       49526       in an age where progressives demand full ...      2\n",
       "49520       49527  all dirty vote bank politics  aap rule has mad...      0\n",
       "49521       49528         old are you    she looks like a baby  m...      2\n",
       "\n",
       "[49522 rows x 3 columns]"
      ]
     },
     "execution_count": 83,
     "metadata": {},
     "output_type": "execute_result"
    }
   ],
   "source": [
    "data3=pd.read_csv(\"data_mixed_rt.csv\")\n",
    "data3"
   ]
  },
  {
   "cell_type": "code",
   "execution_count": 84,
   "metadata": {
    "colab": {
     "base_uri": "https://localhost:8080/",
     "height": 419
    },
    "executionInfo": {
     "elapsed": 7,
     "status": "ok",
     "timestamp": 1635775951985,
     "user": {
      "displayName": "Penny Tiwari",
      "photoUrl": "https://lh3.googleusercontent.com/a/default-user=s64",
      "userId": "14007942765575684471"
     },
     "user_tz": -330
    },
    "id": "YQz-bJyBqw8q",
    "outputId": "896bfd7e-8ff6-4ee2-f9ab-44009ab9f20b"
   },
   "outputs": [
    {
     "data": {
      "text/html": [
       "<div>\n",
       "<style scoped>\n",
       "    .dataframe tbody tr th:only-of-type {\n",
       "        vertical-align: middle;\n",
       "    }\n",
       "\n",
       "    .dataframe tbody tr th {\n",
       "        vertical-align: top;\n",
       "    }\n",
       "\n",
       "    .dataframe thead th {\n",
       "        text-align: right;\n",
       "    }\n",
       "</style>\n",
       "<table border=\"1\" class=\"dataframe\">\n",
       "  <thead>\n",
       "    <tr style=\"text-align: right;\">\n",
       "      <th></th>\n",
       "      <th>tweet</th>\n",
       "      <th>label</th>\n",
       "    </tr>\n",
       "  </thead>\n",
       "  <tbody>\n",
       "    <tr>\n",
       "      <th>0</th>\n",
       "      <td>conservatives are excellent at running up debt...</td>\n",
       "      <td>2</td>\n",
       "    </tr>\n",
       "    <tr>\n",
       "      <th>1</th>\n",
       "      <td>great example as an immigrant and woman ceo  i...</td>\n",
       "      <td>2</td>\n",
       "    </tr>\n",
       "    <tr>\n",
       "      <th>2</th>\n",
       "      <td>fuckhead for awhile    i open two stores for...</td>\n",
       "      <td>2</td>\n",
       "    </tr>\n",
       "    <tr>\n",
       "      <th>3</th>\n",
       "      <td>i just cracked my motherfuckin phone god damn ...</td>\n",
       "      <td>1</td>\n",
       "    </tr>\n",
       "    <tr>\n",
       "      <th>4</th>\n",
       "      <td>i could never have a bby by a lil dick thts...</td>\n",
       "      <td>1</td>\n",
       "    </tr>\n",
       "    <tr>\n",
       "      <th>...</th>\n",
       "      <td>...</td>\n",
       "      <td>...</td>\n",
       "    </tr>\n",
       "    <tr>\n",
       "      <th>49517</th>\n",
       "      <td>aye and when the hoes start coming do not ...</td>\n",
       "      <td>1</td>\n",
       "    </tr>\n",
       "    <tr>\n",
       "      <th>49518</th>\n",
       "      <td>kevin williamson is excellent piece on why e...</td>\n",
       "      <td>2</td>\n",
       "    </tr>\n",
       "    <tr>\n",
       "      <th>49519</th>\n",
       "      <td>in an age where progressives demand full ...</td>\n",
       "      <td>2</td>\n",
       "    </tr>\n",
       "    <tr>\n",
       "      <th>49520</th>\n",
       "      <td>all dirty vote bank politics  aap rule has mad...</td>\n",
       "      <td>0</td>\n",
       "    </tr>\n",
       "    <tr>\n",
       "      <th>49521</th>\n",
       "      <td>old are you    she looks like a baby  m...</td>\n",
       "      <td>2</td>\n",
       "    </tr>\n",
       "  </tbody>\n",
       "</table>\n",
       "<p>49522 rows × 2 columns</p>\n",
       "</div>"
      ],
      "text/plain": [
       "                                                   tweet  label\n",
       "0      conservatives are excellent at running up debt...      2\n",
       "1      great example as an immigrant and woman ceo  i...      2\n",
       "2        fuckhead for awhile    i open two stores for...      2\n",
       "3      i just cracked my motherfuckin phone god damn ...      1\n",
       "4         i could never have a bby by a lil dick thts...      1\n",
       "...                                                  ...    ...\n",
       "49517      aye and when the hoes start coming do not ...      1\n",
       "49518    kevin williamson is excellent piece on why e...      2\n",
       "49519       in an age where progressives demand full ...      2\n",
       "49520  all dirty vote bank politics  aap rule has mad...      0\n",
       "49521         old are you    she looks like a baby  m...      2\n",
       "\n",
       "[49522 rows x 2 columns]"
      ]
     },
     "execution_count": 84,
     "metadata": {},
     "output_type": "execute_result"
    }
   ],
   "source": [
    "data3.drop(\"Unnamed: 0\",axis=1,inplace=True)\n",
    "data3.rename(columns={'text':'tweet'},inplace=True)\n",
    "data3"
   ]
  },
  {
   "cell_type": "code",
   "execution_count": 85,
   "metadata": {
    "colab": {
     "base_uri": "https://localhost:8080/",
     "height": 419
    },
    "executionInfo": {
     "elapsed": 6,
     "status": "ok",
     "timestamp": 1635775951986,
     "user": {
      "displayName": "Penny Tiwari",
      "photoUrl": "https://lh3.googleusercontent.com/a/default-user=s64",
      "userId": "14007942765575684471"
     },
     "user_tz": -330
    },
    "id": "ipud0lNbq5Jd",
    "outputId": "1881f740-cf30-4310-ad89-0015b572898c"
   },
   "outputs": [
    {
     "data": {
      "text/html": [
       "<div>\n",
       "<style scoped>\n",
       "    .dataframe tbody tr th:only-of-type {\n",
       "        vertical-align: middle;\n",
       "    }\n",
       "\n",
       "    .dataframe tbody tr th {\n",
       "        vertical-align: top;\n",
       "    }\n",
       "\n",
       "    .dataframe thead th {\n",
       "        text-align: right;\n",
       "    }\n",
       "</style>\n",
       "<table border=\"1\" class=\"dataframe\">\n",
       "  <thead>\n",
       "    <tr style=\"text-align: right;\">\n",
       "      <th></th>\n",
       "      <th>tweet</th>\n",
       "      <th>label</th>\n",
       "    </tr>\n",
       "  </thead>\n",
       "  <tbody>\n",
       "    <tr>\n",
       "      <th>0</th>\n",
       "      <td>conservatives are excellent at running up debt...</td>\n",
       "      <td>2</td>\n",
       "    </tr>\n",
       "    <tr>\n",
       "      <th>1</th>\n",
       "      <td>great example as an immigrant and woman ceo  i...</td>\n",
       "      <td>2</td>\n",
       "    </tr>\n",
       "    <tr>\n",
       "      <th>2</th>\n",
       "      <td>fuckhead for awhile    i open two stores for...</td>\n",
       "      <td>2</td>\n",
       "    </tr>\n",
       "    <tr>\n",
       "      <th>5</th>\n",
       "      <td>what a hateful  spiteful  self righteous  self...</td>\n",
       "      <td>2</td>\n",
       "    </tr>\n",
       "    <tr>\n",
       "      <th>6</th>\n",
       "      <td>as thousands flee violence in nicaragua  un re...</td>\n",
       "      <td>2</td>\n",
       "    </tr>\n",
       "    <tr>\n",
       "      <th>...</th>\n",
       "      <td>...</td>\n",
       "      <td>...</td>\n",
       "    </tr>\n",
       "    <tr>\n",
       "      <th>49512</th>\n",
       "      <td>avoid this movie  un american</td>\n",
       "      <td>2</td>\n",
       "    </tr>\n",
       "    <tr>\n",
       "      <th>49515</th>\n",
       "      <td>you knowmandni know you are on the verge from ...</td>\n",
       "      <td>2</td>\n",
       "    </tr>\n",
       "    <tr>\n",
       "      <th>49518</th>\n",
       "      <td>kevin williamson is excellent piece on why e...</td>\n",
       "      <td>2</td>\n",
       "    </tr>\n",
       "    <tr>\n",
       "      <th>49519</th>\n",
       "      <td>in an age where progressives demand full ...</td>\n",
       "      <td>2</td>\n",
       "    </tr>\n",
       "    <tr>\n",
       "      <th>49521</th>\n",
       "      <td>old are you    she looks like a baby  m...</td>\n",
       "      <td>2</td>\n",
       "    </tr>\n",
       "  </tbody>\n",
       "</table>\n",
       "<p>19690 rows × 2 columns</p>\n",
       "</div>"
      ],
      "text/plain": [
       "                                                   tweet  label\n",
       "0      conservatives are excellent at running up debt...      2\n",
       "1      great example as an immigrant and woman ceo  i...      2\n",
       "2        fuckhead for awhile    i open two stores for...      2\n",
       "5      what a hateful  spiteful  self righteous  self...      2\n",
       "6      as thousands flee violence in nicaragua  un re...      2\n",
       "...                                                  ...    ...\n",
       "49512                     avoid this movie  un american       2\n",
       "49515  you knowmandni know you are on the verge from ...      2\n",
       "49518    kevin williamson is excellent piece on why e...      2\n",
       "49519       in an age where progressives demand full ...      2\n",
       "49521         old are you    she looks like a baby  m...      2\n",
       "\n",
       "[19690 rows x 2 columns]"
      ]
     },
     "execution_count": 85,
     "metadata": {},
     "output_type": "execute_result"
    }
   ],
   "source": [
    "mask=data3.label==2\n",
    "data3=data3.loc[mask]\n",
    "data3"
   ]
  },
  {
   "cell_type": "code",
   "execution_count": 21,
   "metadata": {
    "colab": {
     "base_uri": "https://localhost:8080/",
     "height": 419
    },
    "executionInfo": {
     "elapsed": 430,
     "status": "ok",
     "timestamp": 1635775959052,
     "user": {
      "displayName": "Penny Tiwari",
      "photoUrl": "https://lh3.googleusercontent.com/a/default-user=s64",
      "userId": "14007942765575684471"
     },
     "user_tz": -330
    },
    "id": "yC-b3zDRrPMR",
    "outputId": "afbce800-e6fd-4938-cf9e-859b09800665"
   },
   "outputs": [
    {
     "data": {
      "text/html": [
       "<div>\n",
       "<style scoped>\n",
       "    .dataframe tbody tr th:only-of-type {\n",
       "        vertical-align: middle;\n",
       "    }\n",
       "\n",
       "    .dataframe tbody tr th {\n",
       "        vertical-align: top;\n",
       "    }\n",
       "\n",
       "    .dataframe thead th {\n",
       "        text-align: right;\n",
       "    }\n",
       "</style>\n",
       "<table border=\"1\" class=\"dataframe\">\n",
       "  <thead>\n",
       "    <tr style=\"text-align: right;\">\n",
       "      <th></th>\n",
       "      <th>Unnamed: 0</th>\n",
       "      <th>tweet</th>\n",
       "      <th>label</th>\n",
       "    </tr>\n",
       "  </thead>\n",
       "  <tbody>\n",
       "    <tr>\n",
       "      <th>0</th>\n",
       "      <td>0</td>\n",
       "      <td>gameday  fan ejected from kyle field for va...</td>\n",
       "      <td>3</td>\n",
       "    </tr>\n",
       "    <tr>\n",
       "      <th>1</th>\n",
       "      <td>1</td>\n",
       "      <td>what is your stance on vaping</td>\n",
       "      <td>3</td>\n",
       "    </tr>\n",
       "    <tr>\n",
       "      <th>2</th>\n",
       "      <td>2</td>\n",
       "      <td>nicotine stans are getting brave</td>\n",
       "      <td>3</td>\n",
       "    </tr>\n",
       "    <tr>\n",
       "      <th>3</th>\n",
       "      <td>3</td>\n",
       "      <td>pulse x bf kit l by tony b  and vandy vape l a...</td>\n",
       "      <td>3</td>\n",
       "    </tr>\n",
       "    <tr>\n",
       "      <th>4</th>\n",
       "      <td>4</td>\n",
       "      <td>fda takes  s of documents from juul e cig m...</td>\n",
       "      <td>3</td>\n",
       "    </tr>\n",
       "    <tr>\n",
       "      <th>...</th>\n",
       "      <td>...</td>\n",
       "      <td>...</td>\n",
       "      <td>...</td>\n",
       "    </tr>\n",
       "    <tr>\n",
       "      <th>2111</th>\n",
       "      <td>2111</td>\n",
       "      <td>you are my nicotine  heroine  novocaine  fvck ...</td>\n",
       "      <td>3</td>\n",
       "    </tr>\n",
       "    <tr>\n",
       "      <th>2112</th>\n",
       "      <td>2112</td>\n",
       "      <td>maybe but that would be as the assistant smo...</td>\n",
       "      <td>3</td>\n",
       "    </tr>\n",
       "    <tr>\n",
       "      <th>2113</th>\n",
       "      <td>2113</td>\n",
       "      <td>jasmine   star star theyre smoking outside y...</td>\n",
       "      <td>3</td>\n",
       "    </tr>\n",
       "    <tr>\n",
       "      <th>2114</th>\n",
       "      <td>2114</td>\n",
       "      <td>think you can smoke or vape cannabis anywhe...</td>\n",
       "      <td>3</td>\n",
       "    </tr>\n",
       "    <tr>\n",
       "      <th>2115</th>\n",
       "      <td>2115</td>\n",
       "      <td>what you doing  nothing   smoking a lil pur...</td>\n",
       "      <td>3</td>\n",
       "    </tr>\n",
       "  </tbody>\n",
       "</table>\n",
       "<p>2116 rows × 3 columns</p>\n",
       "</div>"
      ],
      "text/plain": [
       "      Unnamed: 0                                              tweet  label\n",
       "0              0     gameday  fan ejected from kyle field for va...      3\n",
       "1              1                     what is your stance on vaping       3\n",
       "2              2                   nicotine stans are getting brave      3\n",
       "3              3  pulse x bf kit l by tony b  and vandy vape l a...      3\n",
       "4              4     fda takes  s of documents from juul e cig m...      3\n",
       "...          ...                                                ...    ...\n",
       "2111        2111  you are my nicotine  heroine  novocaine  fvck ...      3\n",
       "2112        2112    maybe but that would be as the assistant smo...      3\n",
       "2113        2113    jasmine   star star theyre smoking outside y...      3\n",
       "2114        2114     think you can smoke or vape cannabis anywhe...      3\n",
       "2115        2115     what you doing  nothing   smoking a lil pur...      3\n",
       "\n",
       "[2116 rows x 3 columns]"
      ]
     },
     "execution_count": 21,
     "metadata": {},
     "output_type": "execute_result"
    }
   ],
   "source": [
    "data4=pd.read_csv('gold_corpus_rt.csv')\n",
    "data4"
   ]
  },
  {
   "cell_type": "code",
   "execution_count": 22,
   "metadata": {
    "colab": {
     "base_uri": "https://localhost:8080/",
     "height": 419
    },
    "executionInfo": {
     "elapsed": 13,
     "status": "ok",
     "timestamp": 1635775960287,
     "user": {
      "displayName": "Penny Tiwari",
      "photoUrl": "https://lh3.googleusercontent.com/a/default-user=s64",
      "userId": "14007942765575684471"
     },
     "user_tz": -330
    },
    "id": "jXUjVFIFrhCj",
    "outputId": "a8e0e3a0-d57f-4bf3-84b3-27aaee94a2d8"
   },
   "outputs": [
    {
     "data": {
      "text/html": [
       "<div>\n",
       "<style scoped>\n",
       "    .dataframe tbody tr th:only-of-type {\n",
       "        vertical-align: middle;\n",
       "    }\n",
       "\n",
       "    .dataframe tbody tr th {\n",
       "        vertical-align: top;\n",
       "    }\n",
       "\n",
       "    .dataframe thead th {\n",
       "        text-align: right;\n",
       "    }\n",
       "</style>\n",
       "<table border=\"1\" class=\"dataframe\">\n",
       "  <thead>\n",
       "    <tr style=\"text-align: right;\">\n",
       "      <th></th>\n",
       "      <th>tweet</th>\n",
       "      <th>label</th>\n",
       "    </tr>\n",
       "  </thead>\n",
       "  <tbody>\n",
       "    <tr>\n",
       "      <th>0</th>\n",
       "      <td>gameday  fan ejected from kyle field for va...</td>\n",
       "      <td>smoking</td>\n",
       "    </tr>\n",
       "    <tr>\n",
       "      <th>1</th>\n",
       "      <td>what is your stance on vaping</td>\n",
       "      <td>smoking</td>\n",
       "    </tr>\n",
       "    <tr>\n",
       "      <th>2</th>\n",
       "      <td>nicotine stans are getting brave</td>\n",
       "      <td>smoking</td>\n",
       "    </tr>\n",
       "    <tr>\n",
       "      <th>3</th>\n",
       "      <td>pulse x bf kit l by tony b  and vandy vape l a...</td>\n",
       "      <td>smoking</td>\n",
       "    </tr>\n",
       "    <tr>\n",
       "      <th>4</th>\n",
       "      <td>fda takes  s of documents from juul e cig m...</td>\n",
       "      <td>smoking</td>\n",
       "    </tr>\n",
       "    <tr>\n",
       "      <th>...</th>\n",
       "      <td>...</td>\n",
       "      <td>...</td>\n",
       "    </tr>\n",
       "    <tr>\n",
       "      <th>2111</th>\n",
       "      <td>you are my nicotine  heroine  novocaine  fvck ...</td>\n",
       "      <td>smoking</td>\n",
       "    </tr>\n",
       "    <tr>\n",
       "      <th>2112</th>\n",
       "      <td>maybe but that would be as the assistant smo...</td>\n",
       "      <td>smoking</td>\n",
       "    </tr>\n",
       "    <tr>\n",
       "      <th>2113</th>\n",
       "      <td>jasmine   star star theyre smoking outside y...</td>\n",
       "      <td>smoking</td>\n",
       "    </tr>\n",
       "    <tr>\n",
       "      <th>2114</th>\n",
       "      <td>think you can smoke or vape cannabis anywhe...</td>\n",
       "      <td>smoking</td>\n",
       "    </tr>\n",
       "    <tr>\n",
       "      <th>2115</th>\n",
       "      <td>what you doing  nothing   smoking a lil pur...</td>\n",
       "      <td>smoking</td>\n",
       "    </tr>\n",
       "  </tbody>\n",
       "</table>\n",
       "<p>2116 rows × 2 columns</p>\n",
       "</div>"
      ],
      "text/plain": [
       "                                                  tweet    label\n",
       "0        gameday  fan ejected from kyle field for va...  smoking\n",
       "1                        what is your stance on vaping   smoking\n",
       "2                      nicotine stans are getting brave  smoking\n",
       "3     pulse x bf kit l by tony b  and vandy vape l a...  smoking\n",
       "4        fda takes  s of documents from juul e cig m...  smoking\n",
       "...                                                 ...      ...\n",
       "2111  you are my nicotine  heroine  novocaine  fvck ...  smoking\n",
       "2112    maybe but that would be as the assistant smo...  smoking\n",
       "2113    jasmine   star star theyre smoking outside y...  smoking\n",
       "2114     think you can smoke or vape cannabis anywhe...  smoking\n",
       "2115     what you doing  nothing   smoking a lil pur...  smoking\n",
       "\n",
       "[2116 rows x 2 columns]"
      ]
     },
     "execution_count": 22,
     "metadata": {},
     "output_type": "execute_result"
    }
   ],
   "source": [
    "data4.drop(\"Unnamed: 0\",axis=1,inplace=True)\n",
    "data4.label='smoking'\n",
    "data4"
   ]
  },
  {
   "cell_type": "code",
   "execution_count": 86,
   "metadata": {
    "colab": {
     "base_uri": "https://localhost:8080/",
     "height": 521
    },
    "executionInfo": {
     "elapsed": 12,
     "status": "ok",
     "timestamp": 1635775960288,
     "user": {
      "displayName": "Penny Tiwari",
      "photoUrl": "https://lh3.googleusercontent.com/a/default-user=s64",
      "userId": "14007942765575684471"
     },
     "user_tz": -330
    },
    "id": "wHi5ItomrwQc",
    "outputId": "05155a12-2c01-49a2-d424-8367fafe78ba"
   },
   "outputs": [
    {
     "name": "stderr",
     "output_type": "stream",
     "text": [
      "/Users/ravitiwari/miniforge3/envs/tf/lib/python3.9/site-packages/pandas/core/generic.py:5168: SettingWithCopyWarning: \n",
      "A value is trying to be set on a copy of a slice from a DataFrame.\n",
      "Try using .loc[row_indexer,col_indexer] = value instead\n",
      "\n",
      "See the caveats in the documentation: https://pandas.pydata.org/pandas-docs/stable/user_guide/indexing.html#returning-a-view-versus-a-copy\n",
      "  self[name] = value\n"
     ]
    },
    {
     "data": {
      "text/html": [
       "<div>\n",
       "<style scoped>\n",
       "    .dataframe tbody tr th:only-of-type {\n",
       "        vertical-align: middle;\n",
       "    }\n",
       "\n",
       "    .dataframe tbody tr th {\n",
       "        vertical-align: top;\n",
       "    }\n",
       "\n",
       "    .dataframe thead th {\n",
       "        text-align: right;\n",
       "    }\n",
       "</style>\n",
       "<table border=\"1\" class=\"dataframe\">\n",
       "  <thead>\n",
       "    <tr style=\"text-align: right;\">\n",
       "      <th></th>\n",
       "      <th>tweet</th>\n",
       "      <th>label</th>\n",
       "    </tr>\n",
       "  </thead>\n",
       "  <tbody>\n",
       "    <tr>\n",
       "      <th>0</th>\n",
       "      <td>conservatives are excellent at running up debt...</td>\n",
       "      <td>normal</td>\n",
       "    </tr>\n",
       "    <tr>\n",
       "      <th>1</th>\n",
       "      <td>great example as an immigrant and woman ceo  i...</td>\n",
       "      <td>normal</td>\n",
       "    </tr>\n",
       "    <tr>\n",
       "      <th>2</th>\n",
       "      <td>fuckhead for awhile    i open two stores for...</td>\n",
       "      <td>normal</td>\n",
       "    </tr>\n",
       "    <tr>\n",
       "      <th>5</th>\n",
       "      <td>what a hateful  spiteful  self righteous  self...</td>\n",
       "      <td>normal</td>\n",
       "    </tr>\n",
       "    <tr>\n",
       "      <th>6</th>\n",
       "      <td>as thousands flee violence in nicaragua  un re...</td>\n",
       "      <td>normal</td>\n",
       "    </tr>\n",
       "    <tr>\n",
       "      <th>...</th>\n",
       "      <td>...</td>\n",
       "      <td>...</td>\n",
       "    </tr>\n",
       "    <tr>\n",
       "      <th>49512</th>\n",
       "      <td>avoid this movie  un american</td>\n",
       "      <td>normal</td>\n",
       "    </tr>\n",
       "    <tr>\n",
       "      <th>49515</th>\n",
       "      <td>you knowmandni know you are on the verge from ...</td>\n",
       "      <td>normal</td>\n",
       "    </tr>\n",
       "    <tr>\n",
       "      <th>49518</th>\n",
       "      <td>kevin williamson is excellent piece on why e...</td>\n",
       "      <td>normal</td>\n",
       "    </tr>\n",
       "    <tr>\n",
       "      <th>49519</th>\n",
       "      <td>in an age where progressives demand full ...</td>\n",
       "      <td>normal</td>\n",
       "    </tr>\n",
       "    <tr>\n",
       "      <th>49521</th>\n",
       "      <td>old are you    she looks like a baby  m...</td>\n",
       "      <td>normal</td>\n",
       "    </tr>\n",
       "  </tbody>\n",
       "</table>\n",
       "<p>19690 rows × 2 columns</p>\n",
       "</div>"
      ],
      "text/plain": [
       "                                                   tweet   label\n",
       "0      conservatives are excellent at running up debt...  normal\n",
       "1      great example as an immigrant and woman ceo  i...  normal\n",
       "2        fuckhead for awhile    i open two stores for...  normal\n",
       "5      what a hateful  spiteful  self righteous  self...  normal\n",
       "6      as thousands flee violence in nicaragua  un re...  normal\n",
       "...                                                  ...     ...\n",
       "49512                     avoid this movie  un american   normal\n",
       "49515  you knowmandni know you are on the verge from ...  normal\n",
       "49518    kevin williamson is excellent piece on why e...  normal\n",
       "49519       in an age where progressives demand full ...  normal\n",
       "49521         old are you    she looks like a baby  m...  normal\n",
       "\n",
       "[19690 rows x 2 columns]"
      ]
     },
     "execution_count": 86,
     "metadata": {},
     "output_type": "execute_result"
    }
   ],
   "source": [
    "data3.label='normal'\n",
    "data3"
   ]
  },
  {
   "cell_type": "code",
   "execution_count": 87,
   "metadata": {
    "colab": {
     "base_uri": "https://localhost:8080/"
    },
    "executionInfo": {
     "elapsed": 4,
     "status": "ok",
     "timestamp": 1635775960728,
     "user": {
      "displayName": "Penny Tiwari",
      "photoUrl": "https://lh3.googleusercontent.com/a/default-user=s64",
      "userId": "14007942765575684471"
     },
     "user_tz": -330
    },
    "id": "MSc9vHeCsGBt",
    "outputId": "174b57a2-ae9d-41ad-9af3-445007b1172b"
   },
   "outputs": [
    {
     "name": "stderr",
     "output_type": "stream",
     "text": [
      "/Users/ravitiwari/miniforge3/envs/tf/lib/python3.9/site-packages/pandas/core/frame.py:4296: SettingWithCopyWarning: \n",
      "A value is trying to be set on a copy of a slice from a DataFrame\n",
      "\n",
      "See the caveats in the documentation: https://pandas.pydata.org/pandas-docs/stable/user_guide/indexing.html#returning-a-view-versus-a-copy\n",
      "  return super().rename(\n"
     ]
    }
   ],
   "source": [
    "data6.rename(columns={'text':'tweet',\"class\":'label'},inplace=True)"
   ]
  },
  {
   "cell_type": "code",
   "execution_count": 88,
   "metadata": {
    "colab": {
     "base_uri": "https://localhost:8080/"
    },
    "executionInfo": {
     "elapsed": 608,
     "status": "ok",
     "timestamp": 1635775961334,
     "user": {
      "displayName": "Penny Tiwari",
      "photoUrl": "https://lh3.googleusercontent.com/a/default-user=s64",
      "userId": "14007942765575684471"
     },
     "user_tz": -330
    },
    "id": "Ppo-ANW0r46i",
    "outputId": "319fff87-e8c5-48c3-e587-a349a2dde870"
   },
   "outputs": [
    {
     "data": {
      "text/plain": [
       "normal        19658\n",
       "depression    10000\n",
       "suicide        4984\n",
       "Name: label, dtype: int64"
      ]
     },
     "execution_count": 88,
     "metadata": {},
     "output_type": "execute_result"
    }
   ],
   "source": [
    "new_data=pd.concat([data6,data2,data3])\n",
    "new_data.dropna(inplace=True)\n",
    "new_data.label.value_counts()"
   ]
  },
  {
   "cell_type": "code",
   "execution_count": 89,
   "metadata": {
    "executionInfo": {
     "elapsed": 4,
     "status": "ok",
     "timestamp": 1635775962164,
     "user": {
      "displayName": "Penny Tiwari",
      "photoUrl": "https://lh3.googleusercontent.com/a/default-user=s64",
      "userId": "14007942765575684471"
     },
     "user_tz": -330
    },
    "id": "wsiIOhb0s1j_"
   },
   "outputs": [],
   "source": [
    "new_data.to_csv(\"NEW_DATA_RT.csv\")"
   ]
  },
  {
   "cell_type": "code",
   "execution_count": 55,
   "metadata": {
    "colab": {
     "base_uri": "https://localhost:8080/",
     "height": 419
    },
    "executionInfo": {
     "elapsed": 3,
     "status": "ok",
     "timestamp": 1635775962164,
     "user": {
      "displayName": "Penny Tiwari",
      "photoUrl": "https://lh3.googleusercontent.com/a/default-user=s64",
      "userId": "14007942765575684471"
     },
     "user_tz": -330
    },
    "id": "t9JK_oB6sScy",
    "outputId": "8d950353-1546-4bef-a35a-78450d285f08"
   },
   "outputs": [
    {
     "data": {
      "text/plain": [
       "normal        19658\n",
       "depression     8000\n",
       "suicide        4385\n",
       "Name: label, dtype: int64"
      ]
     },
     "execution_count": 55,
     "metadata": {},
     "output_type": "execute_result"
    }
   ],
   "source": [
    "new_data.label.value_counts()"
   ]
  },
  {
   "cell_type": "code",
   "execution_count": 22,
   "metadata": {
    "executionInfo": {
     "elapsed": 2,
     "status": "ok",
     "timestamp": 1635775962164,
     "user": {
      "displayName": "Penny Tiwari",
      "photoUrl": "https://lh3.googleusercontent.com/a/default-user=s64",
      "userId": "14007942765575684471"
     },
     "user_tz": -330
    },
    "id": "Hc6qYDOjsZD6"
   },
   "outputs": [],
   "source": [
    "y=new_data['label']\n",
    "x=new_data['tweet']"
   ]
  },
  {
   "cell_type": "code",
   "execution_count": 23,
   "metadata": {
    "colab": {
     "base_uri": "https://localhost:8080/",
     "height": 419
    },
    "executionInfo": {
     "elapsed": 2,
     "status": "ok",
     "timestamp": 1635775962840,
     "user": {
      "displayName": "Penny Tiwari",
      "photoUrl": "https://lh3.googleusercontent.com/a/default-user=s64",
      "userId": "14007942765575684471"
     },
     "user_tz": -330
    },
    "id": "vZIqpMshu6mR",
    "outputId": "b35ccad3-e075-4387-e16a-5331831bd564"
   },
   "outputs": [
    {
     "data": {
      "text/html": [
       "<div>\n",
       "<style scoped>\n",
       "    .dataframe tbody tr th:only-of-type {\n",
       "        vertical-align: middle;\n",
       "    }\n",
       "\n",
       "    .dataframe tbody tr th {\n",
       "        vertical-align: top;\n",
       "    }\n",
       "\n",
       "    .dataframe thead th {\n",
       "        text-align: right;\n",
       "    }\n",
       "</style>\n",
       "<table border=\"1\" class=\"dataframe\">\n",
       "  <thead>\n",
       "    <tr style=\"text-align: right;\">\n",
       "      <th></th>\n",
       "      <th>Unnamed: 0</th>\n",
       "      <th>text</th>\n",
       "      <th>label</th>\n",
       "    </tr>\n",
       "  </thead>\n",
       "  <tbody>\n",
       "    <tr>\n",
       "      <th>0</th>\n",
       "      <td>616</td>\n",
       "      <td>he is here every one on council is here</td>\n",
       "      <td>normal</td>\n",
       "    </tr>\n",
       "    <tr>\n",
       "      <th>1</th>\n",
       "      <td>460</td>\n",
       "      <td>how many women commited jouhar to avoid rape a...</td>\n",
       "      <td>normal</td>\n",
       "    </tr>\n",
       "    <tr>\n",
       "      <th>2</th>\n",
       "      <td>372</td>\n",
       "      <td>well you are dumped</td>\n",
       "      <td>normal</td>\n",
       "    </tr>\n",
       "    <tr>\n",
       "      <th>3</th>\n",
       "      <td>287</td>\n",
       "      <td>could you guys go say  hey  to this guy for me...</td>\n",
       "      <td>suicide</td>\n",
       "    </tr>\n",
       "    <tr>\n",
       "      <th>4</th>\n",
       "      <td>136</td>\n",
       "      <td>depression is the inability to construct a fut...</td>\n",
       "      <td>depression</td>\n",
       "    </tr>\n",
       "    <tr>\n",
       "      <th>...</th>\n",
       "      <td>...</td>\n",
       "      <td>...</td>\n",
       "      <td>...</td>\n",
       "    </tr>\n",
       "    <tr>\n",
       "      <th>615</th>\n",
       "      <td>584</td>\n",
       "      <td>bitch you are so brave and smart and hysterica...</td>\n",
       "      <td>normal</td>\n",
       "    </tr>\n",
       "    <tr>\n",
       "      <th>616</th>\n",
       "      <td>219</td>\n",
       "      <td>im almost done i posted on here months ago say...</td>\n",
       "      <td>suicide</td>\n",
       "    </tr>\n",
       "    <tr>\n",
       "      <th>617</th>\n",
       "      <td>394</td>\n",
       "      <td>says he is the best tx he is for ending open b...</td>\n",
       "      <td>normal</td>\n",
       "    </tr>\n",
       "    <tr>\n",
       "      <th>618</th>\n",
       "      <td>18</td>\n",
       "      <td>the perfect is the enemy of the good</td>\n",
       "      <td>depression</td>\n",
       "    </tr>\n",
       "    <tr>\n",
       "      <th>619</th>\n",
       "      <td>165</td>\n",
       "      <td>i dont want to do anything  i dont even want t...</td>\n",
       "      <td>depression</td>\n",
       "    </tr>\n",
       "  </tbody>\n",
       "</table>\n",
       "<p>620 rows × 3 columns</p>\n",
       "</div>"
      ],
      "text/plain": [
       "     Unnamed: 0                                               text       label\n",
       "0           616            he is here every one on council is here      normal\n",
       "1           460  how many women commited jouhar to avoid rape a...      normal\n",
       "2           372                                well you are dumped      normal\n",
       "3           287  could you guys go say  hey  to this guy for me...     suicide\n",
       "4           136  depression is the inability to construct a fut...  depression\n",
       "..          ...                                                ...         ...\n",
       "615         584  bitch you are so brave and smart and hysterica...      normal\n",
       "616         219  im almost done i posted on here months ago say...     suicide\n",
       "617         394  says he is the best tx he is for ending open b...      normal\n",
       "618          18              the perfect is the enemy of the good   depression\n",
       "619         165  i dont want to do anything  i dont even want t...  depression\n",
       "\n",
       "[620 rows x 3 columns]"
      ]
     },
     "execution_count": 23,
     "metadata": {},
     "output_type": "execute_result"
    }
   ],
   "source": [
    "dummy_data=pd.read_csv(\"dummy_data.csv\")\n",
    "dummy_data"
   ]
  },
  {
   "cell_type": "code",
   "execution_count": 24,
   "metadata": {
    "executionInfo": {
     "elapsed": 2,
     "status": "ok",
     "timestamp": 1635775962841,
     "user": {
      "displayName": "Penny Tiwari",
      "photoUrl": "https://lh3.googleusercontent.com/a/default-user=s64",
      "userId": "14007942765575684471"
     },
     "user_tz": -330
    },
    "id": "xh9XrkIvvJKO"
   },
   "outputs": [],
   "source": [
    "dummy_data.drop(\"Unnamed: 0\",axis=1,inplace=True)\n",
    "dummy_data.dropna(inplace=True)\n",
    "dummy_data_test=dummy_data['text']\n",
    "dummy_data_label=dummy_data['label']"
   ]
  },
  {
   "cell_type": "code",
   "execution_count": 25,
   "metadata": {
    "colab": {
     "base_uri": "https://localhost:8080/"
    },
    "executionInfo": {
     "elapsed": 536,
     "status": "ok",
     "timestamp": 1635776560019,
     "user": {
      "displayName": "Penny Tiwari",
      "photoUrl": "https://lh3.googleusercontent.com/a/default-user=s64",
      "userId": "14007942765575684471"
     },
     "user_tz": -330
    },
    "id": "PYcAplxlvJHa",
    "outputId": "5728530a-6f13-45d2-f5cc-6b1888ac8244"
   },
   "outputs": [
    {
     "data": {
      "text/plain": [
       "normal        297\n",
       "depression    171\n",
       "suicide       151\n",
       "Name: label, dtype: int64"
      ]
     },
     "execution_count": 25,
     "metadata": {},
     "output_type": "execute_result"
    }
   ],
   "source": [
    "dummy_data.label.value_counts()"
   ]
  },
  {
   "cell_type": "code",
   "execution_count": 26,
   "metadata": {
    "colab": {
     "base_uri": "https://localhost:8080/"
    },
    "executionInfo": {
     "elapsed": 3,
     "status": "ok",
     "timestamp": 1635775963802,
     "user": {
      "displayName": "Penny Tiwari",
      "photoUrl": "https://lh3.googleusercontent.com/a/default-user=s64",
      "userId": "14007942765575684471"
     },
     "user_tz": -330
    },
    "id": "_H7kBZHBsqHV",
    "outputId": "81594cea-96b1-4822-94e3-df30533b601b"
   },
   "outputs": [
    {
     "name": "stdout",
     "output_type": "stream",
     "text": [
      "(27762,) (27762,)\n",
      "(6941,) (6941,)\n"
     ]
    }
   ],
   "source": [
    "from sklearn.model_selection import train_test_split\n",
    "X_train, X_test, y_train, y_test = train_test_split(x, y, test_size=0.20, stratify=y)\n",
    "#X_train, X_cv, y_train, y_cv = train_test_split(X_train, y_train, test_size=0.20, stratify=y_train)\n",
    "\n",
    "print(X_train.shape, y_train.shape)\n",
    "#print(X_cv.shape, y_cv.shape)\n",
    "\n",
    "print(X_test.shape, y_test.shape)\n"
   ]
  },
  {
   "cell_type": "code",
   "execution_count": 27,
   "metadata": {
    "executionInfo": {
     "elapsed": 1,
     "status": "ok",
     "timestamp": 1635775963802,
     "user": {
      "displayName": "Penny Tiwari",
      "photoUrl": "https://lh3.googleusercontent.com/a/default-user=s64",
      "userId": "14007942765575684471"
     },
     "user_tz": -330
    },
    "id": "ChBIJi8vzkz8"
   },
   "outputs": [],
   "source": [
    "d={}\n",
    "for i in y_test:\n",
    "  if i in d:\n",
    "    d[i]+=1\n",
    "  else:\n",
    "    d[i]=1"
   ]
  },
  {
   "cell_type": "code",
   "execution_count": 28,
   "metadata": {
    "colab": {
     "base_uri": "https://localhost:8080/"
    },
    "executionInfo": {
     "elapsed": 2,
     "status": "ok",
     "timestamp": 1635775964460,
     "user": {
      "displayName": "Penny Tiwari",
      "photoUrl": "https://lh3.googleusercontent.com/a/default-user=s64",
      "userId": "14007942765575684471"
     },
     "user_tz": -330
    },
    "id": "tPaoraXkzvpM",
    "outputId": "8792304c-585b-472d-d381-c119b23d1bc7"
   },
   "outputs": [
    {
     "name": "stdout",
     "output_type": "stream",
     "text": [
      "{'normal': 3932, 'depression': 2000, 'suicide': 1009}\n"
     ]
    }
   ],
   "source": [
    "print(d)"
   ]
  },
  {
   "cell_type": "code",
   "execution_count": 29,
   "metadata": {
    "executionInfo": {
     "elapsed": 1,
     "status": "ok",
     "timestamp": 1635775964460,
     "user": {
      "displayName": "Penny Tiwari",
      "photoUrl": "https://lh3.googleusercontent.com/a/default-user=s64",
      "userId": "14007942765575684471"
     },
     "user_tz": -330
    },
    "id": "qpDL5mLlswGB"
   },
   "outputs": [],
   "source": [
    "from sklearn.feature_extraction.text import TfidfVectorizer\n",
    "from sklearn.feature_extraction.text import CountVectorizer\n",
    "from sklearn.metrics import confusion_matrix\n",
    "from sklearn import metrics\n",
    "from sklearn.metrics import roc_curve, auc\n",
    "from sklearn.naive_bayes import MultinomialNB\n"
   ]
  },
  {
   "cell_type": "code",
   "execution_count": 56,
   "metadata": {
    "executionInfo": {
     "elapsed": 7888,
     "status": "ok",
     "timestamp": 1635775972818,
     "user": {
      "displayName": "Penny Tiwari",
      "photoUrl": "https://lh3.googleusercontent.com/a/default-user=s64",
      "userId": "14007942765575684471"
     },
     "user_tz": -330
    },
    "id": "X2HRMMDqtDO9"
   },
   "outputs": [],
   "source": [
    "import tensorflow as tf\n",
    "import tensorflow_hub as hub"
   ]
  },
  {
   "cell_type": "code",
   "execution_count": 57,
   "metadata": {
    "colab": {
     "base_uri": "https://localhost:8080/"
    },
    "executionInfo": {
     "elapsed": 34529,
     "status": "ok",
     "timestamp": 1635776007343,
     "user": {
      "displayName": "Penny Tiwari",
      "photoUrl": "https://lh3.googleusercontent.com/a/default-user=s64",
      "userId": "14007942765575684471"
     },
     "user_tz": -330
    },
    "id": "XFUqKna5tDF7",
    "outputId": "cd632c80-d09b-408f-b36f-fbd1d4613f3a"
   },
   "outputs": [
    {
     "name": "stderr",
     "output_type": "stream",
     "text": [
      "2021-11-16 19:44:50.023506: I tensorflow/core/grappler/optimizers/custom_graph_optimizer_registry.cc:112] Plugin optimizer for device_type GPU is enabled.\n",
      "2021-11-16 19:44:50.767137: I tensorflow/core/grappler/optimizers/custom_graph_optimizer_registry.cc:112] Plugin optimizer for device_type GPU is enabled.\n"
     ]
    },
    {
     "name": "stdout",
     "output_type": "stream",
     "text": [
      "module https://tfhub.dev/google/universal-sentence-encoder/4 loaded\n"
     ]
    }
   ],
   "source": [
    "module_url = \"https://tfhub.dev/google/universal-sentence-encoder/4\" #@param [\"https://tfhub.dev/google/universal-sentence-encoder/4\", \"https://tfhub.dev/google/universal-sentence-encoder-large/5\"]\n",
    "model = hub.load(module_url)\n",
    "print (\"module %s loaded\" % module_url)\n",
    "def embed(text):\n",
    "    return model(text)"
   ]
  },
  {
   "cell_type": "code",
   "execution_count": 32,
   "metadata": {
    "colab": {
     "base_uri": "https://localhost:8080/"
    },
    "executionInfo": {
     "elapsed": 121525,
     "status": "ok",
     "timestamp": 1635776128850,
     "user": {
      "displayName": "Penny Tiwari",
      "photoUrl": "https://lh3.googleusercontent.com/a/default-user=s64",
      "userId": "14007942765575684471"
     },
     "user_tz": -330
    },
    "id": "4rUfqiRfs6uY",
    "outputId": "87562129-1bb9-49bb-bdcc-35a2a6360ca5"
   },
   "outputs": [
    {
     "name": "stderr",
     "output_type": "stream",
     "text": [
      "2021-11-16 19:14:44.973512: I tensorflow/core/grappler/optimizers/custom_graph_optimizer_registry.cc:112] Plugin optimizer for device_type GPU is enabled.\n"
     ]
    },
    {
     "name": "stdout",
     "output_type": "stream",
     "text": [
      "After Embedding vectorizations\n",
      "(27762, 512) (27762,)\n",
      "(6941, 512) (6941,)\n",
      "====================================================================================================\n"
     ]
    }
   ],
   "source": [
    "X_train_tweet = embed(list(X_train))\n",
    "#X_cv_tweet = embed(list(X_cv))\n",
    "\n",
    "X_test_tweet = embed(list(X_test))\n",
    "\n",
    "print(\"After Embedding vectorizations\")\n",
    "print(X_train_tweet.shape, y_train.shape)\n",
    "#print(X_cv_tweet.shape, y_cv.shape)\n",
    "print(X_test_tweet.shape, y_test.shape)\n",
    "print(\"=\"*100)"
   ]
  },
  {
   "cell_type": "code",
   "execution_count": 33,
   "metadata": {
    "colab": {
     "base_uri": "https://localhost:8080/"
    },
    "executionInfo": {
     "elapsed": 966,
     "status": "ok",
     "timestamp": 1635776152326,
     "user": {
      "displayName": "Penny Tiwari",
      "photoUrl": "https://lh3.googleusercontent.com/a/default-user=s64",
      "userId": "14007942765575684471"
     },
     "user_tz": -330
    },
    "id": "40Kspb7Jv7Uw",
    "outputId": "acc82b9c-aff3-4423-9d0a-341dc0f0d68d"
   },
   "outputs": [
    {
     "name": "stdout",
     "output_type": "stream",
     "text": [
      "(619, 512)\n",
      "====================================================================================================\n"
     ]
    }
   ],
   "source": [
    "dummy_test = embed(list(dummy_data_test))\n",
    "\n",
    "print(dummy_test.shape)\n",
    "print(\"=\"*100)"
   ]
  },
  {
   "cell_type": "code",
   "execution_count": 34,
   "metadata": {
    "executionInfo": {
     "elapsed": 401,
     "status": "ok",
     "timestamp": 1635776155995,
     "user": {
      "displayName": "Penny Tiwari",
      "photoUrl": "https://lh3.googleusercontent.com/a/default-user=s64",
      "userId": "14007942765575684471"
     },
     "user_tz": -330
    },
    "id": "bqIArUnRx-EV"
   },
   "outputs": [],
   "source": [
    "from sklearn.multiclass import OneVsRestClassifier\n",
    "from sklearn.naive_bayes import MultinomialNB\n",
    "from sklearn.linear_model import LogisticRegression\n",
    "from sklearn.svm import LinearSVC\n",
    "from sklearn.ensemble import RandomForestRegressor\n",
    "from sklearn.ensemble import RandomForestClassifier\n",
    "from sklearn.metrics import confusion_matrix\n",
    "import joblib\n",
    "from sklearn.svm import SVC\n",
    "from sklearn.metrics import f1_score\n",
    "from sklearn.model_selection import GridSearchCV\n",
    "\n",
    "from sklearn.feature_extraction.text import CountVectorizer, TfidfVectorizer\n",
    "from sklearn import preprocessing\n",
    "from sklearn.model_selection import train_test_split, StratifiedKFold, KFold\n",
    "\n",
    "from sklearn.naive_bayes import MultinomialNB\n",
    "from sklearn.linear_model import SGDClassifier\n",
    "from sklearn.linear_model import LogisticRegression\n",
    "from sklearn.svm import LinearSVC\n",
    "from sklearn.ensemble import RandomForestClassifier, GradientBoostingClassifier\n",
    "\n",
    "from sklearn.metrics import classification_report\n",
    "from sklearn.metrics import confusion_matrix\n",
    "from sklearn.metrics import plot_confusion_matrix\n",
    "from sklearn.metrics import precision_recall_fscore_support as score"
   ]
  },
  {
   "cell_type": "code",
   "execution_count": 35,
   "metadata": {
    "executionInfo": {
     "elapsed": 414,
     "status": "ok",
     "timestamp": 1635776223862,
     "user": {
      "displayName": "Penny Tiwari",
      "photoUrl": "https://lh3.googleusercontent.com/a/default-user=s64",
      "userId": "14007942765575684471"
     },
     "user_tz": -330
    },
    "id": "gUi6Frvzx-kw"
   },
   "outputs": [],
   "source": [
    "def train_test_model(model, X_train, X_test, y_train, y_test,labels):\n",
    "    print('Start training...', end='')\n",
    "    model.fit(X_train, y_train)\n",
    "    print('done!')\n",
    "    print(\"=\"*80)\n",
    "    print('Start testing...', end='')\n",
    "    predictions = model.predict(X_test)\n",
    "    accuracy = model.score(X_test, y_test)\n",
    "    metrics_report = classification_report(y_test, predictions, target_names=labels)\n",
    "    precision, recall, fscore, train_support = score(y_test, predictions, average='weighted')\n",
    "    print('done!')\n",
    "    print(\"=\"*80)\n",
    "    return predictions, accuracy, metrics_report, (precision, recall, fscore)"
   ]
  },
  {
   "cell_type": "code",
   "execution_count": 90,
   "metadata": {
    "executionInfo": {
     "elapsed": 352,
     "status": "ok",
     "timestamp": 1635776225673,
     "user": {
      "displayName": "Penny Tiwari",
      "photoUrl": "https://lh3.googleusercontent.com/a/default-user=s64",
      "userId": "14007942765575684471"
     },
     "user_tz": -330
    },
    "id": "kD8KtWqGyErl"
   },
   "outputs": [],
   "source": [
    "labels_=['Depression','Normal','Smoking']"
   ]
  },
  {
   "cell_type": "code",
   "execution_count": 91,
   "metadata": {
    "colab": {
     "base_uri": "https://localhost:8080/",
     "height": 631
    },
    "executionInfo": {
     "elapsed": 16870,
     "status": "ok",
     "timestamp": 1635776244635,
     "user": {
      "displayName": "Penny Tiwari",
      "photoUrl": "https://lh3.googleusercontent.com/a/default-user=s64",
      "userId": "14007942765575684471"
     },
     "user_tz": -330
    },
    "id": "6xTuH8UNyk24",
    "outputId": "c8145502-989f-41c8-a94d-e5015271283d"
   },
   "outputs": [
    {
     "name": "stdout",
     "output_type": "stream",
     "text": [
      "Start training...done!\n",
      "================================================================================\n",
      "Start testing...done!\n",
      "================================================================================\n",
      "accuracy: 0.5664889785333526\n",
      "====================================================================================================\n",
      "              precision    recall  f1-score   support\n",
      "\n",
      "  Depression       0.00      0.00      0.00      2000\n",
      "      Normal       0.57      1.00      0.72      3932\n",
      "     Smoking       0.00      0.00      0.00      1009\n",
      "\n",
      "    accuracy                           0.57      6941\n",
      "   macro avg       0.19      0.33      0.24      6941\n",
      "weighted avg       0.32      0.57      0.41      6941\n",
      "\n"
     ]
    },
    {
     "name": "stderr",
     "output_type": "stream",
     "text": [
      "/Users/ravitiwari/miniforge3/envs/tf/lib/python3.9/site-packages/sklearn/metrics/_classification.py:1308: UndefinedMetricWarning: Precision and F-score are ill-defined and being set to 0.0 in labels with no predicted samples. Use `zero_division` parameter to control this behavior.\n",
      "  _warn_prf(average, modifier, msg_start, len(result))\n",
      "/Users/ravitiwari/miniforge3/envs/tf/lib/python3.9/site-packages/sklearn/metrics/_classification.py:1308: UndefinedMetricWarning: Precision and F-score are ill-defined and being set to 0.0 in labels with no predicted samples. Use `zero_division` parameter to control this behavior.\n",
      "  _warn_prf(average, modifier, msg_start, len(result))\n",
      "/Users/ravitiwari/miniforge3/envs/tf/lib/python3.9/site-packages/sklearn/metrics/_classification.py:1308: UndefinedMetricWarning: Precision and F-score are ill-defined and being set to 0.0 in labels with no predicted samples. Use `zero_division` parameter to control this behavior.\n",
      "  _warn_prf(average, modifier, msg_start, len(result))\n",
      "/Users/ravitiwari/miniforge3/envs/tf/lib/python3.9/site-packages/sklearn/metrics/_classification.py:1308: UndefinedMetricWarning: Precision and F-score are ill-defined and being set to 0.0 in labels with no predicted samples. Use `zero_division` parameter to control this behavior.\n",
      "  _warn_prf(average, modifier, msg_start, len(result))\n",
      "/Users/ravitiwari/miniforge3/envs/tf/lib/python3.9/site-packages/sklearn/utils/deprecation.py:87: FutureWarning: Function plot_confusion_matrix is deprecated; Function `plot_confusion_matrix` is deprecated in 1.0 and will be removed in 1.2. Use one of the class methods: ConfusionMatrixDisplay.from_predictions or ConfusionMatrixDisplay.from_estimator.\n",
      "  warnings.warn(msg, category=FutureWarning)\n"
     ]
    },
    {
     "data": {
      "text/plain": [
       "<sklearn.metrics._plot.confusion_matrix.ConfusionMatrixDisplay at 0x2be699fa0>"
      ]
     },
     "execution_count": 91,
     "metadata": {},
     "output_type": "execute_result"
    },
    {
     "data": {
      "image/png": "[encoded data removed]",
      "text/plain": [
       "<Figure size 432x288 with 2 Axes>"
      ]
     },
     "metadata": {
      "needs_background": "light"
     },
     "output_type": "display_data"
    }
   ],
   "source": [
    "log_model=LogisticRegression(penalty='l2',max_iter=1000)\n",
    "predictions, accuracy, metrics_report, log_prf = train_test_model(log_model, X_train_tweet, X_test_tweet, y_train, y_test, labels_)\n",
    "\n",
    "\n",
    "print('accuracy: {}'.format(accuracy))\n",
    "print('='*100)\n",
    "print(metrics_report)\n",
    "\n",
    "plot_confusion_matrix(log_model, X_test_tweet, y_test, display_labels=labels_, xticks_rotation='vertical', cmap=\"BuPu\")"
   ]
  },
  {
   "cell_type": "code",
   "execution_count": 43,
   "metadata": {
    "colab": {
     "base_uri": "https://localhost:8080/",
     "height": 631
    },
    "executionInfo": {
     "elapsed": 2542,
     "status": "ok",
     "timestamp": 1635776247158,
     "user": {
      "displayName": "Penny Tiwari",
      "photoUrl": "https://lh3.googleusercontent.com/a/default-user=s64",
      "userId": "14007942765575684471"
     },
     "user_tz": -330
    },
    "id": "uVwqyTg9ynTC",
    "outputId": "1139cd1d-39ff-4259-a0ed-3420ea315f31"
   },
   "outputs": [
    {
     "name": "stdout",
     "output_type": "stream",
     "text": [
      "Start training...done!\n",
      "================================================================================\n",
      "Start testing...done!\n",
      "================================================================================\n",
      "accuracy: 0.9685414680648237\n",
      "====================================================================================================\n",
      "              precision    recall  f1-score   support\n",
      "\n",
      "  Depression       0.96      0.98      0.97      2000\n",
      "      Normal       0.98      0.98      0.98      3932\n",
      "     Smoking       0.94      0.94      0.94       423\n",
      "     Suicide       0.98      0.93      0.95       988\n",
      "\n",
      "    accuracy                           0.97      7343\n",
      "   macro avg       0.96      0.95      0.96      7343\n",
      "weighted avg       0.97      0.97      0.97      7343\n",
      "\n"
     ]
    },
    {
     "data": {
      "text/plain": [
       "<sklearn.metrics._plot.confusion_matrix.ConfusionMatrixDisplay at 0x7f9e78c15950>"
      ]
     },
     "execution_count": 43,
     "metadata": {},
     "output_type": "execute_result"
    },
    {
     "data": {
      "image/png": "[encoded data removed]",
      "text/plain": [
       "<Figure size 432x288 with 2 Axes>"
      ]
     },
     "metadata": {
      "needs_background": "light"
     },
     "output_type": "display_data"
    }
   ],
   "source": [
    "svm = LinearSVC(class_weight='balanced', verbose=False, max_iter=10000, tol=1e-4, C=0.1)\n",
    "\n",
    "predictions, accuracy, metrics_report, svm_prf = train_test_model(svm, X_train_tweet, X_test_tweet, y_train, y_test, labels_)\n",
    "\n",
    "\n",
    "print('accuracy: {}'.format(accuracy))\n",
    "print('='*100)\n",
    "print(metrics_report)\n",
    "\n",
    "plot_confusion_matrix(svm, X_test_tweet, y_test, display_labels=labels_, xticks_rotation='vertical', cmap=\"BuPu\")"
   ]
  },
  {
   "cell_type": "code",
   "execution_count": null,
   "metadata": {
    "id": "e4KtlLZDy3qo"
   },
   "outputs": [],
   "source": []
  },
  {
   "cell_type": "code",
   "execution_count": 47,
   "metadata": {
    "executionInfo": {
     "elapsed": 412,
     "status": "ok",
     "timestamp": 1635776361801,
     "user": {
      "displayName": "Penny Tiwari",
      "photoUrl": "https://lh3.googleusercontent.com/a/default-user=s64",
      "userId": "14007942765575684471"
     },
     "user_tz": -330
    },
    "id": "MjCoVUrn3mJO"
   },
   "outputs": [],
   "source": [
    "def train_test_model(model, X_train, X_test, y_train, y_test,labels):\n",
    "    print('Start training...', end='')\n",
    "    model.fit(X_train, y_train)\n",
    "    print('done!')\n",
    "    print(\"=\"*80)\n",
    "    print('Start testing...', end='')\n",
    "    predictions = model.predict(X_test)\n",
    "    accuracy = model.score(X_test, y_test)\n",
    "    metrics_report = classification_report(y_test, predictions, target_names=labels)\n",
    "    precision, recall, fscore, train_support = score(y_test, predictions, average='weighted')\n",
    "    print('done!')\n",
    "    print(\"=\"*80)\n",
    "    return predictions, accuracy, metrics_report, (precision, recall, fscore)"
   ]
  },
  {
   "cell_type": "code",
   "execution_count": 48,
   "metadata": {
    "colab": {
     "base_uri": "https://localhost:8080/",
     "height": 685
    },
    "executionInfo": {
     "elapsed": 16217,
     "status": "ok",
     "timestamp": 1635776425849,
     "user": {
      "displayName": "Penny Tiwari",
      "photoUrl": "https://lh3.googleusercontent.com/a/default-user=s64",
      "userId": "14007942765575684471"
     },
     "user_tz": -330
    },
    "id": "xe8JIGA53nEF",
    "outputId": "84fd3cd8-259e-41d6-ea64-c0c448841ec4"
   },
   "outputs": [
    {
     "name": "stdout",
     "output_type": "stream",
     "text": [
      "Start training...done!\n",
      "================================================================================\n",
      "Start testing...done!\n",
      "================================================================================\n",
      "accuracy: 0.8546042003231018\n",
      "====================================================================================================\n",
      "              precision    recall  f1-score   support\n",
      "\n",
      "  Depression       0.92      0.54      0.68       171\n",
      "      Normal       0.85      0.99      0.92       297\n",
      "     Smoking       0.00      0.00      0.00         0\n",
      "     Suicide       0.83      0.94      0.88       151\n",
      "\n",
      "    accuracy                           0.85       619\n",
      "   macro avg       0.65      0.62      0.62       619\n",
      "weighted avg       0.87      0.85      0.84       619\n",
      "\n"
     ]
    },
    {
     "name": "stderr",
     "output_type": "stream",
     "text": [
      "/usr/local/lib/python3.7/dist-packages/sklearn/metrics/_classification.py:1272: UndefinedMetricWarning: Recall and F-score are ill-defined and being set to 0.0 in labels with no true samples. Use `zero_division` parameter to control this behavior.\n",
      "  _warn_prf(average, modifier, msg_start, len(result))\n"
     ]
    },
    {
     "data": {
      "text/plain": [
       "<sklearn.metrics._plot.confusion_matrix.ConfusionMatrixDisplay at 0x7f9e786e75d0>"
      ]
     },
     "execution_count": 48,
     "metadata": {},
     "output_type": "execute_result"
    },
    {
     "data": {
      "image/png": "[encoded data removed]",
      "text/plain": [
       "<Figure size 432x288 with 2 Axes>"
      ]
     },
     "metadata": {
      "needs_background": "light"
     },
     "output_type": "display_data"
    }
   ],
   "source": [
    "log_model=LogisticRegression(penalty='l2',max_iter=1000)\n",
    "predictions, accuracy, metrics_report, log_prf = train_test_model(log_model, X_train_tweet, dummy_test, y_train, dummy_data_label, labels_)\n",
    "\n",
    "\n",
    "print('accuracy: {}'.format(accuracy))\n",
    "print('='*100)\n",
    "print(metrics_report)\n",
    "\n",
    "plot_confusion_matrix(log_model, dummy_test, dummy_data_label, display_labels=labels_, xticks_rotation='vertical', cmap=\"BuPu\")"
   ]
  },
  {
   "cell_type": "code",
   "execution_count": 49,
   "metadata": {
    "colab": {
     "base_uri": "https://localhost:8080/",
     "height": 685
    },
    "executionInfo": {
     "elapsed": 2597,
     "status": "ok",
     "timestamp": 1635776485767,
     "user": {
      "displayName": "Penny Tiwari",
      "photoUrl": "https://lh3.googleusercontent.com/a/default-user=s64",
      "userId": "14007942765575684471"
     },
     "user_tz": -330
    },
    "id": "eY_IouSY3y2y",
    "outputId": "8bfaced7-07ac-4634-ae44-74a86bf90bda"
   },
   "outputs": [
    {
     "name": "stdout",
     "output_type": "stream",
     "text": [
      "Start training...done!\n",
      "================================================================================\n",
      "Start testing...done!\n",
      "================================================================================\n",
      "accuracy: 0.8546042003231018\n",
      "====================================================================================================\n",
      "              precision    recall  f1-score   support\n",
      "\n",
      "  Depression       0.91      0.57      0.70       171\n",
      "      Normal       0.86      0.98      0.92       297\n",
      "     Smoking       0.00      0.00      0.00         0\n",
      "     Suicide       0.83      0.94      0.88       151\n",
      "\n",
      "    accuracy                           0.85       619\n",
      "   macro avg       0.65      0.62      0.62       619\n",
      "weighted avg       0.87      0.85      0.85       619\n",
      "\n"
     ]
    },
    {
     "name": "stderr",
     "output_type": "stream",
     "text": [
      "/usr/local/lib/python3.7/dist-packages/sklearn/metrics/_classification.py:1272: UndefinedMetricWarning: Recall and F-score are ill-defined and being set to 0.0 in labels with no true samples. Use `zero_division` parameter to control this behavior.\n",
      "  _warn_prf(average, modifier, msg_start, len(result))\n"
     ]
    },
    {
     "data": {
      "text/plain": [
       "<sklearn.metrics._plot.confusion_matrix.ConfusionMatrixDisplay at 0x7f9e7855e490>"
      ]
     },
     "execution_count": 49,
     "metadata": {},
     "output_type": "execute_result"
    },
    {
     "data": {
      "image/png": "[encoded data removed]",
      "text/plain": [
       "<Figure size 432x288 with 2 Axes>"
      ]
     },
     "metadata": {
      "needs_background": "light"
     },
     "output_type": "display_data"
    }
   ],
   "source": [
    "svm = LinearSVC(class_weight='balanced', verbose=False, max_iter=10000, tol=1e-4, C=0.1)\n",
    "\n",
    "predictions, accuracy, metrics_report, svm_prf = train_test_model(svm, X_train_tweet,dummy_test, y_train, dummy_data_label, labels_)\n",
    "\n",
    "\n",
    "print('accuracy: {}'.format(accuracy))\n",
    "print('='*100)\n",
    "print(metrics_report)\n",
    "\n",
    "plot_confusion_matrix(svm, dummy_test, dummy_data_label, display_labels=labels_, xticks_rotation='vertical', cmap=\"BuPu\")"
   ]
  },
  {
   "cell_type": "code",
   "execution_count": 59,
   "metadata": {
    "id": "XgOGZ6t74Eim"
   },
   "outputs": [],
   "source": [
    "k=\"i fucking want to die\"\n",
    "\n",
    "l=embed(list(k))"
   ]
  },
  {
   "cell_type": "code",
   "execution_count": 63,
   "metadata": {},
   "outputs": [
    {
     "data": {
      "text/plain": [
       "['i',\n",
       " ' ',\n",
       " 'f',\n",
       " 'u',\n",
       " 'c',\n",
       " 'k',\n",
       " 'i',\n",
       " 'n',\n",
       " 'g',\n",
       " ' ',\n",
       " 'w',\n",
       " 'a',\n",
       " 'n',\n",
       " 't',\n",
       " ' ',\n",
       " 't',\n",
       " 'o',\n",
       " ' ',\n",
       " 'd',\n",
       " 'i',\n",
       " 'e']"
      ]
     },
     "execution_count": 63,
     "metadata": {},
     "output_type": "execute_result"
    }
   ],
   "source": [
    "list(k)"
   ]
  },
  {
   "cell_type": "code",
   "execution_count": 64,
   "metadata": {},
   "outputs": [
    {
     "data": {
      "text/plain": [
       "['actually i do think women should be reclaiming  cunt   it is past time ',\n",
       " '  great weather to hit up the slopes this weekend     amp  open saturday  ht  ',\n",
       " 'i have no idea how to deal with my best friend is suicidal thoughts anymorerecently  i have been really overwhelmed with my best friend  i always knew she had clinical depression and thoughts about suicide  but now it gets too much for me i am an almost years old girl and she is   i can not do much except write with her  because she lives     km away in another state  i feel so powerless  because i can not go to her and just give her a hug   but i gave my best and always stayed by her side  even if it is via social media  the last days  something was a bit different  yesterday and today  she blocked me on all social media to  protect me   she also blocked every other contact  she never reacted like that  even at her worst times  some months ago  when she also wanted to commit suicide  she did not block me and talked with me at this point  i think i should give you a bit background information  i am trying to keep it short  because it is a very long story  so i am leaving out a lot of details last year  she broke with her long term boyfriend of years up  she fell in love with her male best friend and tried a relationship with him  but they did not match and broke up  the reason why she fell in love with him was because her long term boyfriend almost treated her like her parents like taking out his stress from work on her  he did not beat her and he apologized  but it was already too late   her parents are both alcoholics and her mother is a narcissist  so she had a very rough childhood  her mother always manipulated her and later her boyfriend  because of her mother  they both grew dependant on each other  in my opinion  you could call their relationship unhealthy  they both drag each other down  because they are both individuals with low self esteem and are way too dependant of each other  she also thinks she owes him her life  because he prevented her suicide  she planned to kill herself after her th birthday after the break up  her boyfriend insulted her and threatened with suicide to get her back  he later apologized and then tried to get her back  but my best friend did not want to get together with him  because she had to deal with stress at school for her finals and with her depression  he told her that he can not wait forever and later said that he found another woman that he likes this triggered her first suicide attempt  i tried to talk with her and stayed by her side  when it did not get better  i talked with her other best friend and he called then the police  they sent her to the er and she got stronger medication everything got better  her ex boyfriend told her he just wanted to make her jealous and it got quiet for a while  this month  everything got worse  she always stayed in contact with her ex  but suddenly  he told her that he does not love her anymore  later they met again and she told me that they kissed and had sex  a few days ago  he blocked her and told her he does not want to hurt her anymore  she was devastated  but he unblocked her a few days later she talked to a lot of other friends for advice and was determined to fight for him  i also tried to support her  even if i am not fond of their relationship  she wanted to talk with him on tuesday about their future  their feelings and that they should try to be happy without being dependant on the other person yesterday  we talked about how she could make herself happy like finding a new hobby  everything was okay  but suddenly  she told me that she wants to give up and it is useless to fight  shortly after the topic of the conversation changed  she blocked me and every other contact on her list  i wrote her male best friend immediately  who told her parents and called the police  the police came  but they did not sent her to the er this time  her friend stayed over the night  she unblocked me  i did not write her to let her calm down  and it got a little better today  i decided to write her  because i was concerned about her  we had a normal conversation  even if she was still depressed  this changed immediately when her male best friend leaved  because he needed to visit relatives in another city  she told me how she wanted to kill her mother and then herself  so her ex boyfriend could be finally happy  i tried to calm her down  but then she blocked me again on social media and told me she gives up and wished me farewell again  i reached to her best friend  who gave me her parent is number  i explained them the situation and they thanked me  but i think they blocked me after that i am really really scared what will happen now  she wrote me two hours ago and did not seem very happy that i told her parents about her suicidal intent  i did not have a chance to answer her  because she blocked me immediately after she messaged me i do not know what will happen now and i am so scared   i am scared that she is not alive anymore and i will never see her again  we wanted to meet each other next week  i do not know how to cope with everything   my heart beats like crazy  as if i ran a marathon  and i just want to cry  she is my best friend since almost years  i always tried to help her  even if i just listened  when i had my stupid teenage problems  she was also there for me and understood me i thought i got pretty good at dealing with her depression  but now it is just too much for me  i feel so stupid  why did i message her today  i knew that she still felt depressed  i feel so guilty  even if i did not to anything wrong   but there is a little voice in my head that says it is my fault  i just    do not know what to do  i never felt so desperate  weak and scared ',\n",
       " 'how i wish i can dieyesterday  i nearly drowned at the beach  my friend saved me  so i went home  and did some reflections  so what i died yesterday  i can feel nothing  even if i have regrets  i can no longer feel any regrets  my conscience  gone forever  in a few minutes  so what if there is pain  my lungs were filled up with salt water   it burns  but the pain does not last and i will have no memory of the pain  so what if i had things unresolved  i just die  i will never feel the future  my brain can never feel regret simply because i am dead  so what if i had never done anything worthwhile  i am dead   dead do not feel emotional pain  death is not so bad ',\n",
       " 'yes of course you want to cry bit more transphobe you are making people depressed and yet you cry that make you sad aww',\n",
       " '  the only things you need in life are comfy shirts and oreos',\n",
       " 'goodell im done with you and those adult brats in the nfl  id rather do yard work',\n",
       " 'freedom from national debt   is also very good and written by former deputy secretary of the treasury frank n  newman  also great cuz he is not an mmt academic but basically confirms mmt from a non mmt insider is perspective  ',\n",
       " 'so now we see the woman was hysterical all along  poor rose  a victim of her imagination ',\n",
       " 'omgggggggggggg want to scream and cry at the same time tt im at college rn and feel so depressed fdskjhfdsljdsjklhg lights lightsmvoutnow',\n",
       " 'the world is cruel and emptyi do not understand how anyone can just keep going  the world is just full of hate and death  nobody is good and nobody will ever truly care',\n",
       " 'not really sad anymoretheres just no real reason to continue living',\n",
       " 'just fucking leave   i feel like everything i watch or people that im around keep subliminally telling me to kill myself  the crazy thing is at im just now aware of this  at this point im going to do it  point of this is to vent not to be not to and just to see if others feel this way ',\n",
       " 'boy they are really panicking why what do they have to hide i wat to know do t you   i dont recall republicans acting like this when obama put two liberals on the court',\n",
       " 'failing to self destruct hurts but not having to hurt anymore doesnt i dont really want to be here anymore  im a narcissist  im a thief  im a liar  i was a good person at one time  ive thrown it all away  i chose to do so  i knew my actions would catch up with me  but when they finally did the person that loves me the most wont let me go  im lucky but it hurts  i want to be gone  im sick of hurting and hurting others',\n",
       " 'poverty and lack of services in iraq force refugees back to the camps',\n",
       " 'yes   keon with trump ',\n",
       " 'fact check   caged  child photo is not what immigration advocates claim leftist propaganda exposed   ',\n",
       " 'application failed for the school that i needed to go  now i must kill myself i live in south korea there is a high school that i needed to go in order to go abroad my application got denied i do not know why i made sure i was qualified for the school that i applied in  and i took every steps carefully now i have no way to go abroad for studying  i have to stay in south korea  i wanted to go abroad to get a better education and a better job my life became shit now i do not know if i could suceed  i keep failing ',\n",
       " 'feel really bad because im so miserable today everyones saying happy birthday and am just not happy',\n",
       " 'that is right i am making brownies right now     ',\n",
       " 'god we can really go look at other houses for uni next year but the thought of living in my current house for another year makes me so depressed can take it not there arm and he thought of going back even for the rest of this year makes me want to cry',\n",
       " 'sudan   christian children  forced to recite islamic prayers  in order to receive food in sudan refugee camps    ',\n",
       " 'black parents never want to listen when you tell them you depressed they always think you just got attitude but when you commit suicide they wanna cry and ask god why all you had to do was sit down and talk to your child thats why listen to everything my bby tells',\n",
       " 'what does  ive attempted suicide  really even meani have wanted to die almost my whole life and i see people who have survived pills or jumping off bridges  but how far does someone have to go before it becomes an attempt and not just a fantasy  i tried drinking myself to death at a party in highschool and wound up in the hospital  i also tried hanging myself with wires i found in the school is theater but i was not off a stool or anything  i just tried it around my neck and let my legs go slack but after a few seconds i could not take the pain and stood back up  i did that a few times  those were all about years ago but today i woke up feeling like i wanted to die  i tried cleaning and planning a shopping list as it is my day off but i just cried  when i calmed a bit i walked into my car and drove to the nearest bridge but when i got to a parking lot near it i just sobbed in my car  fml i am a mess i do not even know why i am posting this  so many of these posts get overlooked i am sorry to everyone else is suffering ',\n",
       " 'am tired hungry exhausted depressed stressed anxious or all of the above can feel big cry waiting in the wings going to make myself some lunch and find beverage that might help',\n",
       " 'getting ready to disavow some toxic backlinks    thank you  ',\n",
       " 'if royals have a fire sale  i want the whole team   leave gardner and tanaka  the rest can please go  along with joe and cash ',\n",
       " 'feeling low again hello people of reddit  my life is feeling hopless and pointless again  i cant motivate myself to get anything done  since ive been on medicaid my treatment sucks  my psych doc is so painfully disinterested  was telling him about panic attacks getting worse on trintellix making it hard to work my new part time job  told how ive used ativan  as needed  in the past to manage  he just bumps my trintellix dose and sends me on my way  see you in months my counselor is worse  she takes me minutes late and ends the session minutes early  she seems like a vapid airhead and is difficult to talk to  i miss my blue cross insurance so much my best friend moved away to live with his fiance  might as well write that off  he really helped me through some tough spots but that support will be mostly gone  im sure well hang out a couple times a year   girl im crushing on at work just started dating someone else  my inner voice is destroying me over my inaction i pretend im getting better  i tell people things are better now a year after divorce  but on days like this i feel just as suicidal as the day i tried to take my lifethe recent midwest cold snap fucked my power steering  there goes bucks i dont have the worst is the motivation  i cant  i just cant  i cant study for my ccna  i cant wash the dishes or grocery shop or cook  i cant clean  i cant even take care of my basic hygene  i never exercise and eat my feeling daily  suicide by diet it would seem is my goal found out my ex is pregnant with the guy she cheated on me with  theyre having a shotgun wedding on march st  days before the year anniversary of our divorce im a complete mess  completely broken down with nothing and no one  i mean  i have some people  my parents are miles away every winter  i have a yo daughter with my ex  i love her dearly but cannot satisify my need for adult relationships i feel like a shit person  a shit son  and especially shitty father  whats the damn point ',\n",
       " 'damn might be just what my depression and boredom needs might start tomorrow will keep updated',\n",
       " 'tonight is the nighti am not like anyone else  or at least anyone else i have ever met  i have been on meds for weeks now to treat my  depression   but it has not done shit  i have felt worse and worse everyday until now  when i have finally realized what must be done  everyone says that i have tremendous potential  and that i will definitely be doing great things one day  my teachers are constantly talking about how i am the smartest kid in class  but have the lowest grades because i do not actually do anything  they do not get it  when you plan on ending your own fucking life at   homework and grades do not mean shit  when you spend every weekend and night sitting home alone and crying yourself to sleep  whatever minor relationships you make do not matter  why bother living if i am nothing but a failure so far  my future is bright but i cannot bear the present any longer  tonight is the night  yet i can only announce this to anonymous strangers online  thanks for reading listening ',\n",
       " 'thinking space because unlike conical depression it hurts my eyes and is just not fun to look at',\n",
       " 'thanks charlie',\n",
       " 'her links to planned parenthood which is the reason why liberals do not want a conservative judge ',\n",
       " 'i have never raped a bitch  but i will break a bitch  official season tagline ',\n",
       " 'wearing extensions around me is as dumb as wearing panties around me    they both getting ripped off of you',\n",
       " 'she is like one of those bag ladies   you see on the street or a bus  mumbling  cursing out loud  talking to herself or anyone that will listen  please  go away ',\n",
       " 'a friend of a friend committed suicide yesterday i never knew the kid  i do not know anything about the kid  hell  i do not even know their name or gender  so why is it causing such an emotional effect on me  i feel like i am about to have an emotional breakdown  i just want to go out alone and cry  maybe it is because it reminds me of my own suicide attempt back in september  maybe it is because of the effect it is having on my friend  whatever the case  i feel like i am not gonna be able to make it through the day today  and  to top it off  tech week for theater starts to day  fuck kid  i never knew you  but i hope you managed to find peace within yourself  rest in peace ',\n",
       " 'the usa is not a democracy  the usa is a constitutional republic  take a civics class ',\n",
       " 'then we agree  common ground  and i do not like the bushes  particularly hw ',\n",
       " 'jon bellion   he is the same',\n",
       " 'any of you get suicidal thoughts out of nowhere just wanted to ask before i go to sleep over the past few years  there is been a lot of changes in my family that i am still not used to  everybody has moved on but i have not  i have been told that i should do the same but i can not  i am still angry at certain family member because they are the cause of the biggest change  i am confused and upset by all this which is making hard to get passed it  when somebody does something that affects the entire family and you  its clear that getting over it is not an option  why do people act the way they do i have been like this since   before then  i have never had thoughts of suicide and cutting  i never thought that i would start hitting my arms because i can not hit someone else  i did not think that i would have to debate whether or not i should off myself every now and then a suicidal thought will come out of nowhere and linger in my head for a long time  same thing with cutting myself  i think about cutting even though i have not done it  when i get these thoughts i wonder if i should live  recently  i thought about not eating but that has to do with something else do this happen to you  sudden thoughts of suicide or harming  i could be happy then i will abruptly think about suicide and it will bring down the mood  i am not sure why this happens but i am positive that other people experience this  could my mind be telling me that i am not good enough  i do not know if i want to end things or cut  its a difficult battle with myself it is getting late where i am so i will stop  if i get any responses then i will answer when i wake up ',\n",
       " 'man losing my best friend to suicide hurt me so much and till this day it fucken hurts me depression is fucken bullshit he always told me not to give up but fuck this shit has been getting worse for me why couldn fucken save him man it such bullshit hate everything rn',\n",
       " 'this is not who i ami have been told that i manipulated someone into talking to me with my suicide threats  i cannot believe that someone who has known me for so many years can have such an opinion about me but maybe it is a good thing that they told me  i do not want anyone to feel like that ',\n",
       " 'when charlie tries to walk into my room and it can not remember if i locked the door or not',\n",
       " 'the reason i ask is because most liberals r totally oblivious to good things he is done they often r so clueless they can not even name thing  they just repeat what they hear from programs like the view  amp  liberal media they have not even researched or have a thought of their own ',\n",
       " 'how to kidnap me',\n",
       " 'the sooner we as human race acknowledge it we can move on together it okay to hate me because of my color that just means don associate with you plenty of other people to share life with freedom of choice do agree acting upon your hate and racism is absolutely wrong',\n",
       " 'just want to clarify coz feel kinda defensive stress feeling depressed and anxious is our bodys way to response to stressor while depression and anxiety as disorder is chemical imbalance in the brain its an illness its not something you acquired deliberately',\n",
       " ' sigh  you are not an intelligent person  i am highlighting the variance in the use of far right   and   far left    that is all i am doing  anything else you now fail to understand is your own fault   ',\n",
       " 'living in my house during quarantine is literally the ultimate test of my temper so stressed out and have to keep on and off stomping out my anger in order to cope this emotional whiplash just makes me want to cry',\n",
       " 'your concert in toronto was such mesmerizing one to be remembered suffer greatly from severe depression therefore seeing you and hearing that beautiful voice of yours brought so much of happy spirits to me that helped the severity of my depression',\n",
       " 'if i say men r trash i am not a little girl like these yats who say it is not all men talking about their mcms not li',\n",
       " 'you are welcome casey ',\n",
       " 'absolutely can see it now cnn would be on accusing the girl of hate crime some no name da would file charges against her she would be ruined for life and maybe years later the truth would be exposed like with nick sandman',\n",
       " 'she sounded like a bird crowing',\n",
       " 'this is the same  paper of record  that covered up the holocaust it is amazing that nyt is still in business  but as long as lib billionaires can support it  it will live ',\n",
       " 'thats why youz a yellow bone     ',\n",
       " 'cnn can do better  they can get down to   disapproval in no time ',\n",
       " '  yeah kaepernick might have biceps like a greek god  but the dude looks like he was conceived by a proboscis monkey http  ',\n",
       " 'i do not know how to help my sister anymorethe relationship between my sister and her boyfriend of years ended last august  ever since then she has been very depressed  and its been getting worse over time  its not about him anymore though she has lost all faith in herself and her decisions  she does not trust herself anymore  she used to know exactly who she is and what she stood for  there is nothing of that person left  nothing at all  and i dont know how to fix it  i dont know how to help her  she has lost faith in humanity and in the world  she seems to be worrying about the course the universe has taken and how awful people can be  she had some thoughts like that before  worrying about nature and the environment  she is a very earth bound person  but it has never been like this  she has always distrusted councellors and psychiatrists and wont go to see one  i really really think she needs to though  she is falling apart  hear heart breaking more and more every day  its not even about the boy anymore  its about her  she is a shell of the person she used to be filled with pain and doubt  i dont think she will kill herself  but im so worried for her  she doesnt really have anyone to talk to  apart from me  and i live in a different country  we talk on the phone quite often  and most times she breaks down and cries  but its not just cries  they are sobs and i can hear her heart breaking more and more each time  they are sobs of complete and utter desperation  desperation so bad that is actually manifests in physical pain  i dont know how to fix this  i dont know how to help her  please  reddit  i need advice ',\n",
       " 'the only agenda of abvp  rss in the universities of india is to divide students community on the basis of communal lines lets vote for a is vote for unitylets vote for nsui',\n",
       " 'nobody cares leaving cep barnsey lol and that huge factor in why leaving as well it damn near pushes me back into deep depression knowing ve been here for years and can call on anyone especially when know what ve done here it wasn all bad and sadness',\n",
       " 'it is ok  i am glad you are ok  it is good you had a nice safe and dreams ',\n",
       " 'these peanut butter brownies bout to give me life too    ',\n",
       " 'lifesavers every one of them thank you for sharing suffer from severe depression and often throttle myself for overthinking myself into paralysis about reaching out to people your story gives me courage to take action and worry later',\n",
       " 'easter friday just had lunch with family  i am the only one in my family that is single  i am alone  i have no one  i just want someone that i can love  but i know it will never happen sitting on the bathroom floor staring at a razorblade  seriously considering it ',\n",
       " 'she is attempting to emotionally manipulate canadians standard behaviour for the trudeau liberals ',\n",
       " '    antifa comrades miss the nuance of  a lot do not  but still  people  you know   it is not that is a white nationalist    as that is a very specific community  it is that he uses the same white supremacist rhetoric employed by wns  which gives him dangerous company with them    ',\n",
       " 'depression really do be punching me in the face sometimes like damn this bitch don miss',\n",
       " 'excited to be at the roundtable ',\n",
       " 'is everything i expected so far  gameplay is fun and the suits to gadgets is pretty unique to use  it feels like playin a mixture of the batman arkham and uncharted series  spidey beats both of them  cant wait to keep playing more of it  thx again  ',\n",
       " 'naw bryan said it was trash hotel so we are staying somewhere else',\n",
       " 'politically neutral   yeah sure buddy  i mean most milquetoast conservatives  even the never trump ones agree with trump is policies  and the whole gay marriage and abortion seems like the bare minimum  ',\n",
       " 'vienna  after years the city has over mio  people  more than a third are foreigners  mostly refugees  syrieans  afghanis and somalien are top ',\n",
       " 'why cant i be happy i seemingly have everything  i live in a decent neighborhood  im going to a great high school  i have friends that love and care about me  and i have a supportive boyfriend and yet  i feel this need to die  whats wrong with me  someone please tell me what im doing wrong  i dont know why i feel this way  am i meant to die ',\n",
       " 'sometimes  only reasons keep me from ending it my cats my best friend lack of a sure fire and mess free way to go i get down during this time of year every year  lack of sun really affects me  but i have not felt this bad since a few years ago  and pretending is not going to work much longer ',\n",
       " 'want to cry because of this fucked up situation and all stress so close to giving up on buying tickets',\n",
       " 'going through breakup can leave you feeling depressed and stressed you not only are alone but you also have to figure out what your',\n",
       " 'i look like a dusty bird today  ',\n",
       " 'before and was a young girl whose immigrant parents were deported  do not miss her stunning memoir my family divded ',\n",
       " 'this is why gun control is such a horrible idea no matter what the reasoning it it results in this kind of thing ',\n",
       " 'how bad is it to die on christmas one of my best friends left me and i am so fucking lonely  i can not stop thinking about it  it fucking sucks  my other friends completely ignore my messages unless they need a favor  i am piss broke and will be evicted if i can not find      by the first  i got laid off the first week of december and not a single company has responded to my job offers  wtf do i have left at this point ',\n",
       " 'so i guess that you and trump will welcome the christian refugees  you know hispanics  amp  the people of mexico believe in christ  most are catholics and firmly believe in christ  why not accept them mucky mek ',\n",
       " 'hellohey there  i hope youre doing well  im not going through such a good time  im suffering from extreme depression over something honestly pathetic but i just need someone to talk to  im having a lot of suicidal thoughts and i am crying a lot  i honestly really need a friend  like a real friend  im just not sure if im capable of having any ',\n",
       " 'but     but     i was trying to get him to block me  the trans porn story was the perfect ammunition     but now it will never happen ',\n",
       " 'the case for refugees as a resource  not a burden for hosts by',\n",
       " '  we all want affordable health care for everyone  liberals want it so badly they are willing to change the facts to produce the theory  that is false science  the correct thing is to change the theory to accommodate the facts  that is science ',\n",
       " 'they always get mad when they are losing money ',\n",
       " 'crp does not only serve refugees living in jordan  we also offer assistance and programming to jordanians living in the area  learn more about our diverse community in this blog post ',\n",
       " 'absolutely hate this place love the location of where live and always will love australia but want to get the hell outta here shit scares the life out of me almost literally',\n",
       " 'no matter the trial situation circumstances hardship pain hurt hopelessness rejection dismissiveness sadness oppression setback lack depression loneliness overlooked amp being misunderstood will always choose to stand with god til my very last breath jesusgirl',\n",
       " 'if you die today will you be happy with how you spent the day no because actually feel pretty miserable right now',\n",
       " 'remember the liberals   fought for our freedom the conservatives sided with the british     ',\n",
       " 'depression is not the conversation to start playing devils advocate or getting off your hot takes stfu sometimes damn',\n",
       " 'just want someone to talk to   i am having a terrible day today and it is only     in the morning  i have been called ugly  a racist  an attention whore  and rude by different people all today  i am just sitting crying in class because i can not stop thinking of suicide  i just need someone to talk to right now  i do not have any friends or family i could talk to',\n",
       " 'only when drunk or in bed    but i am always drunk',\n",
       " 'bone quit being so damn hard on yourself get you for have severe ptsd and hypervigilence from both desert storm and four tour of operation iraqi freedom the lockdown has created wave of depression and sadly child abuse and domestic violence never be afraid to get help',\n",
       " 'he was the victim  now lets hear about her blood test since she is the perpetrator  what shape was she in ',\n",
       " '  rough mock for the base of what will eventually be an ashtray tiki ti',\n",
       " 'advice pleaseso i want to die  every night i either try to or plan it out and i do not know if i can keep going on like this  i need to do something like a psych program again but i am scared to tell my mom because i feel like she will be upset or disappointed  and i can not leave school because i am failing and i need my grades up before the semester or i go to summer school and i would probably kill myself i had to go  so does anyone have any advice on what i should do ',\n",
       " 'got my vans on   my pockets chunky',\n",
       " 'video hey didnt protest when obama separated migrant kids  criminals in the u s are separated from their kids when they go to prison every day in the u s where is the protest   fake',\n",
       " 'no sign things will get better      everything has been stacked against me for a long time i just got terminated by my second trauma therapist because my trauma and suicidality are too severe  i had surgeries in months for stage endometriosis and botched surgeries and am stuck in dc because i needed the financial support of my birth family  who are the ones responsible for my severe trauma  which led to my suicide attempts   i was supposed to move from nyc to pdx but got stuck in dc bc recovery has been hard from the last two back to back surgeries   amp  i want to move back to portland but there are no available  none accepting clients  emdr or ifs trained trauma therapists there  i have romantic feelings for a former therapist  that terminated me and treated me like crap  and it is been months and it is not going away despite no contact  my friends care more about work than me  even when i actually lived near them in nyc  and i am always cripplingly lonely  i have been in severe chronic pain for mos and gained lbs from high doses of pain meds and i hate how i look  and am struggling not to drink again  i am years sober   i get monthly ketamine micro dosing but it does not help  i have lost almost all of my friends because even before all this  the first surgery  was too much for them  they just ghosted  all of my friend and my two best friends  and i do not think i can trust people anymore  i find it hard to believe that anyone is good   amp  i do not know why to keep living  i do not see myself ever getting the help i need  and i have not felt passion or even interest in anything in a really long time  it feels like life keeps shitting on me  and like i will never get a break  i feel completely hopeless and like whatever i do  it will end badly  like the world is stacked against me ',\n",
       " 'ask him what hes protesting  certain it will be a convoluted answer ',\n",
       " 'which makes me unconsciously bite my nails till it hurts cause that way can itch till bleed it random war that is then followed by bout of depression and by that point it becomes spiraling vortex for the most part always calm down cause of tactics from therapy',\n",
       " 'one more of tonight is dog walk sunset  aka  invisible bird on a wire ',\n",
       " 'i miss you more main slut halavyaahhh hhahahhaahahpatatas   ',\n",
       " 'its perfection  my brain crossed wires or something  i dont know why i came up with concentration maybe the ghetto one',\n",
       " 'thank you for liking my  not all men  tweet btw',\n",
       " 'down lbs but absolutely miserable not eating as much as like and miss my comfort foods terribly doubt can live my whole life like this hate eating right now just dont like health food',\n",
       " 'but there is a saying you are what you eat   i aint wanna be a loose chicken i wanna be loose to ma daddy   ',\n",
       " 'iraqi immigrant accused of shooting colorado springs cop remained in u s  despite series of crimes via',\n",
       " 'do not speak on me bitch if we aint cool    none of you hoes ',\n",
       " 'i hate myself so much  i am not sure if this is another low point or whatdepression is kicking my butt  i have been in a double depression for half a year  it is gotten so bad that i have almost lost my job due to call ins  i lost a great opportunity  i was told i should be hospitalized by a doctor  another doctor is very worried about me and wants to see me more often to check my mood  i was going to therapy but stopped because they would always derail when i was trying to talk about something i found important  alcohol substance abuse  and talk about what they want to talk about  my therapist emailed me recently saying it is been a while and asked how i am doing  i do not intend to go back though  i am taking another antidepressant and it has not alleviated any symptoms yet  still can not sleep  still feel hopeless  despair  numb  etc  i have developed bad coping skills to deal with the depression such as binge drinking and cutting  i binge drink once a week  i cut nearly every day  both activities do not bring any enjoyment whatsoever  they just make me feel numb and guilty  nothing brings any sort of happiness  i am stuck in hell i just cut back my hours at my job  i am only working days a week     hours  vs     hours   i just can not handle full time work anymore  i am fucking miserable and my work has been suffering as well  i am useless and just fuck up if i was living by myself  i would be cutting or times a day and drinking more  i guess it is good that i am not alone  i have put my parent is gun to my head to see how it feels  i have had urges to overdose on meds  but they are not lethal so there is no point   i want to cut deeper but then i would have to get stitches  and people would discover my dirty secret  i would certainly be hospitalized then  today i took a double dose of zzzquil and mg hydroxyzine after sleeping a whopping hours last night  i only managed to sleep from am  pm  i wish i could sleep the days away  i dread every new day and feel despair as soon as i open my eyes in the morning i do not feel too bad about missing my opportunity and being in limbo anymore  because this damn virus has put society as a whole in limbo  but i still feel worthless  i feel like a burden and a waste of space  i am doing things to  help myself   but only because i have to  i wish i had the courage to end it all  i hate this world and i hate myself  and i do not want to be around to deal with anything anymore  people are better off without me  i have seen how my friends are with their other friends   they can manage without me  my brother has his kids  my parents have each other  i am just a pest  i feel so guilty and ashamed for being alive  i deserve to be punished  hence the drinking and cutting  therapy has not helped  meds have not helped  the next step is augmenting antidepressants or ect  both ideas are horrible to me and not worth the delusion of happiness  it is better for everyone if i just was out of their lives  they say i am a good friend and they just want me to be happy  but that only makes me feel worse  why do they have to waste their time and energy worrying about someone like me  i just wish i had the strength to take that step and attempt suicide  i did attempt a few months ago   but stopped it right before i could truly hurt myself  i am such a damn coward  but if i am going to attempt  i want to do it right  no cry for help  no chance of being  rescued   i want to die properly ',\n",
       " 'so dam sexy ',\n",
       " 'i only watch your snap story cause i know you will text me',\n",
       " 'really struggling lately i have been having a hard time lately with suicidal thoughts  i do not know that i could ever go through with it because   i worry about the wrong person finding me  family     i do not want to inconvenience all the people that would have to be involved  medics  police  etc     i do not want my daughter to be know as  that girl who is dad killed himself     i would probably just screw it up anyway  i really do not have anyone to vent this stuff to  my wife has her own anxiety issues and worries enough as it is  i do not want to put this on her plate as well  the only other person that i have talked to about my mental health issues has her own problems to deal with  whole other story   i just do not know what to do  i do not think my meds are working any more but i always chicken out about asking for new ones when i am talking to my psychiatrist  maybe i just needed to get all this off my chest ',\n",
       " 'keep',\n",
       " 'the only thing that did it for me was when very stressed out coworker took out her stress on me and just lost it but don want anyone to be mean to you to make you cry',\n",
       " 'thank you   america is respected again ',\n",
       " 'just want to cry so tired of this stress and weight carrying on my shoulders it so much',\n",
       " 'has never had a woman accuse him of any inappropriate behavior  but slick willie has been accused of rape by several women ',\n",
       " 'dont say stuff like  not all men  dont invade her privacy  dont assume that just b c she told you something she wants to tell you more ',\n",
       " 'complete with ham hock and hot sauce thank you very much damn now miss my grandmothers depression era country cooking buttery cornbread fried catfish black eyed peas fried chicken macaroni cheese candied yams sweet potato pie banana pudding and cobblers',\n",
       " 'one of the hygienists at my work just came up to me and asked me if was okay because ve been so quiet this week and we talked about sad and she told me not to stress about filling the schedule because january is hard and want to cry and also throw up lmaooooo',\n",
       " 'am i ever going to be able to do it i am in pain all day everyday  it is not even just mental pain anymore  it is physical too  agony that feels like i am in fucking hell  i just want the pain to stop  why will not anyone just help me put an end to the misery  getting help in therapy is too fucking slow  the loneliness and lack of affection from other people is an unexplainable kind of pain  and something i will not have for years still  i just want to do it and be dead again ',\n",
       " 'court ruling freed iraqi rapefugee whos now charged with attempted murder of cop',\n",
       " 'struggling bad today heart hurts from anxiety want to cry stressed and have ton left to do before tomorrow at noon also spent hundreds of and found out today didnt need to but im in too deep to change anything',\n",
       " 'i believe julieanna godard is a leader because of her work in many digitally driven industries  she is a leader because she has established a network of creatives as a team while influencing and promoting the businesses of many young entrepreneurs as well ',\n",
       " 'waking up to that empty feeling inside my head sometimes wish wasnt alive but dead brokenthoughts chewingonglass poem poetry dark depression indie indieauthor amwriting hurt love pain fiction amreading thoughts amwritingfiction',\n",
       " 'suffer from severe depression and anxiety was going through major episode where was bedridden and unable to leave my house for months so started coding in bed tbh code saved my life',\n",
       " 'hanzo shimada is man that was groomed his entire life and brainwashed into killing his brother and fandom absolutely loves to paint him as the bad guy and hate on him excessively both genji and hanzo shimada are victims in this essay will',\n",
       " 'when get hurt disappointed etc immediately think what to do about it then realize if it even worth doing anything about then do nothing but drown in my depression',\n",
       " 'am ever going to not suffer from moderate to severe depression again more at',\n",
       " 'here are the photos of obamas illegal immigrant detention facilities the media wont show you via',\n",
       " 'lol    hysterical   please add the fact that she looks like she is actually dead    ',\n",
       " 'your mind is still not accepting that the federal government belongs to pti of which you are member of na ',\n",
       " 'anderson lies and you report it as fact you do get except for blm  amp  antifa you have no real viewers',\n",
       " 'bitch soon but he is done this before',\n",
       " 'all wanna know how funny god is september planned on killing myself my seasonal depression got really severe and wanted to end it felt that had no purpose felt that no one cared about gave damn about me felt unimportant and disposable and thought',\n",
       " 'yes am depressed today and clearing photos from my phone and being envious of my good haircut as feel miserable about how look and homesick',\n",
       " 'have you heard  attorney mike day has received the harris county bench bar pro bono award for his excellent pro bono work  last year  mike volunteered over hours of legal assistance to immigrant families  way to go  mike ',\n",
       " 'hate when people say that people only fuck with you when you can do something for them because it literally life if someone doesn do anything for you there is absolutely no reason for them to be around you this isn referring to materialistic things',\n",
       " 'stop stereotyping women  just like how not all men are jerks  not all women spill the beans ',\n",
       " 'daysi have days to find      to pay my roommates part of the rent or were evicted    if that happens  im not gonna see sunday  things were looking good    just started a new job tuesday    first job since november    ive been selling my things for my part of the rent  with my brother covering me every now and then while i job hunt   i have no more important worldly posessions    if we get evicted ill miss work and get fired    this is it for me    important facts i have way low credit      i think nothing to sellno wifi for working at homebarely any gas money for workim a paranoid schizophrenic',\n",
       " 'y am i the nastiest skank bitch ever to live i wanna die',\n",
       " 'was just stressing about my student loans and this popped up on my tl now even more stressed and want to cry amp definitely should just sell my soul to the devil at this point',\n",
       " 'i am so anti social that i avoid people in my phone',\n",
       " 'i feel so alone  and i want to be deadi have posted here before and on some other subreddit  it helped me sometimes  but sometimes not   i can not stop hurting myself when i get upset with something and someone  i am not good at controlling my feelings  because i am an immature  i am a mother actually  but i am a bad mother  and i am going to get a divorce soon  i always feel sorry for my son that i am his mother  i have so many scars on my legs  i can not show anyone my legs     and today i hurt myself again  i want to be dead but i have a son   it is really hard to leave him alone in this world  this world is awful  ',\n",
       " 'our daily planet  epa ignoring air pollution  immigrant fire crews battle fires in trump country and an orca mom just can not let go  get your tissues   ',\n",
       " 'hormone health is so important stress this all the time if you suffer from depression inability to lose weight severe weight gain temperature fluctuations low energy low labido infertility get your hormones checked should have became an endocrinologist',\n",
       " 'you are the one that left on his own  i am not your daddy to tell you to stay  even if i do  you will not anyway    there is just no in hell way that cerberus would ever be soft to dante and respect him right  two can play at this game   ',\n",
       " 'the sex scenes are hot as hell though theres just absolutely nothing to like about massimo including the fact that he has life size portrait of him with lion and the transition from hate you to in love with my kidnapper is too abrupt to be believable',\n",
       " 'yes he is but that has little to do with beating the giants from the te position',\n",
       " 'smoking adversely affects the general health of an individual smokers are more anxious irritable stressed and more depressed than non smokers to live healthier life start making real effort to break the habit healthfacts hygeiahmo',\n",
       " '  syrian brought to us for  emocracy training   endorses  jihadis',\n",
       " 'boner has not lived in real world for years ',\n",
       " 'thanks so much   this was an excellent thread  definitely going to be taking a look through upcoming class offerings  and hopefully able to take in the siwc presentation you are doing  ',\n",
       " 'secretly wish my mom would die so i could kill myselfi have been fighting depression my entire life and am about to the breaking point  something in my brain has made me into an outsider who continues to look on as people have these happy social lives yet refuse to let me in  i do not blame them     i must be a miserable person to be around  i try so hard to be happy and to put on a smile for the world because i do not have the energy to explain why i am so unhappy to them  i used to be happy    or perhaps i was just better at fooling the world and myself  these days i struggle to wake up in the morning i gave up drinking alcohol and have been sober over years now  but being a  m  this has basically made my options for social life to  hang  online in mmo is or hang out with the old folks at aa  i hang out at work with some cool people and hear as they all plan to get together after work at the bar  but guess who never gets invited  i had to get sober because when my father passed away in i made a promise to him on his death bed that i would  take care of mom   my mother has since had a hell of a time coping with the loss  now to add to the flame  she has been diagnosed with dementia and i am the only one  of siblings  who is able or willing to do the necessary care work for her  i am also the youngest  so despite what i do or how i do things  it is always wrong according to my family  i have had to section off this judgement  inside myself  so as not to go insane  but this past year the hypocrisy from my family  let alone what is going on in society  has me just empty  my mother also suffers from depression and the loss of my father has compounded this to where she has never rebounded  i mostly put on a smile for her sake because my old goal was to make her happy  now i am simply content to make her smile  i often hear from her   i wish i had died instead of your father  or  i want to kill myself  and at first i would do anything to comfort her  but now i often find myself having to walk away when i begin to think  then just die already so i can kill myself    ',\n",
       " 'these are truly beautiful and unique ',\n",
       " 'so ve taken tests to see if depressed and according to all of them might suffer from severe depression ajdkdkdkd that would explain lot of things but dont trust this shit',\n",
       " 'source  legit only  no faux or its minions  and just in case  antifa   anarchists  they are not left  last ',\n",
       " '  cheating on a good woman is like eating out of the trash instead going out for steak ',\n",
       " 'congress has failed america consistently for years  it is sad  we elect and pay these pukes and they screw us constantly  all of them  all of them',\n",
       " 'for every person who insulted seokjin during todays live feel sorry for you your life must be really miserable and boring you should start loving yourself instead acting so low am really really sorry that you have to live with all that hate and anger ourepiphanyjin',\n",
       " 'kathimerini  pace of migrant arrivals in greece via land from turkey quickens  agency says',\n",
       " 'love how egirls and bitches with onlyfans complain about being depressed like tf stressed about what cosplay to buy next',\n",
       " 'but a small state  low welfare  controlled immigration  right leaning free market capitalist scotland out the eu  with a pro uk trade  amp  shared national security approach would appeal to me  but thats not  has not  amp  will never be on the table so it is a resounding naw for now ',\n",
       " 'i understand  but i think its critical that we not give an inch to leftists who pervert and twist the language to suit their ends  these kids are illegal migrants  period ',\n",
       " 'my family has always been fans of yours my wife amp were watching pm news amp saw the ad explaining that you suffer from depression amp severe ocd our son tommy shares your battle we live in the dc area amp would love for him to meet you tom amp ellen sullivan',\n",
       " 'sports fans be depressed and stressed tf out after loss and the players be having ball',\n",
       " 'suffer from severe depression and some form of add so am constantly starting and never finishing unless its work but then its less about my creativity and more adapting others ideas to my process dont have imposter syndrome or the like',\n",
       " 'sorry so depressed lately sorry never be good enough for you hate myself too and dont know what to do in future and honestly afraid of it last so sorry cant say sorry to you directly bcs too shy and always want to cry whenever want to did that',\n",
       " 'sing like no one is listening love like you have never been hurt vote gop when no one is watching and do not listen to liberals  dirt',\n",
       " 'i have everything now   why do i still feel like sh t all my life my dad mever really loved me  but recently things seem to have gotten better  my grades  my friends  i even have a nice boyfriend  but i still consider takeing my life  i dont understand why  why cant i just let go of the past and let myself be happy how do i go about erasing my horrable memories  it makes no sense ',\n",
       " 'you warned everyone about josh gordon the last months on a daily basis  i am sure you are as shocked as i am of what transpired today ',\n",
       " '  green yellow fuel pump               ',\n",
       " 'forever ago and yet it wasn didn want to move as sobbed until there were no tears left to cry was exhausted confused angry depressed almost every negative emotion coursed through my body my chest was tight and my head hurt as adjust to lay my head in',\n",
       " 'he is perfect for the part  im with it  ',\n",
       " 'it would destroy her life  the entire right wing juggernaut would run her down   every ex boyfriend interviewed etc  she is the innocent party  hes the one trying to grab a lifetime power position ',\n",
       " 'they got out the info they wanted out there  its no co incidence that shamifesto said womens spa would sta rising slowly from   they did not want us to know they even discussed not telling us in hoc to this day they refuse to engage',\n",
       " 'wish ill die on my sleepi just want to die already  i want to kill myself but i dont want to hurt my mom and my sisters  whats even the point of this life ',\n",
       " 'classmate says acc  is absolutely nuts     judge kavanaugh     ',\n",
       " 'wife just left sitting in the dark drinking with a lot of time till work long readsorry for the format cant be botheredtlr wife tried to kill herself once i got covered in her blood we almost divorced months later while i was on duty someone on base broke into my house and raped my wife at gun point trial just ended wifes been treating me like im nonexistent more than usual since now shes left after a fight and titlebackgroundever since i was a kid ive felt like ive just had a wall blocking me from doing anything great outside of that my mother went to prison when i was for armed robbery and i wemt to live with my grandma  when i was my dad died from what i was told was a car wreck i dont remember my next few years but apparently i took that really hard and thats why i dont remember  growing up i had a few friends that was fine because they were good friends but eventually we all got into some drugs  i myself started smoking weed when i was and continued doing that and snorting pills all through high school where my grandma treated me like i was worthless and my always in trouble sister like an angel but thats not to important  around my mom got out of prison and i reconnected with her and ended up moving in with her my junior year of highschool  while working a job at a rest stop in high school a person i met there use to know my dad and he told me the truth that my family hid from me growing up that he had died of a heroin overdose at someones house and instead of calling an ambulance they put him in his car on the side of a road  at the end of my junoir year i decided to join the marine corps  my senior year i met my wife and we started dating in february she was cute and all but she seemed to just think noone cared about her when everyone did but that they were just out to get her so to speak  july of that year i went to boot camp graduated went to combat school and mos schools beaufort i got to my duty station a year later while still dating my wife and every thing was pretty ok i thought  in y first month of being in my new squadron the people i worked with hated me because i had a miscomunication one time with one of my sgts and he slandered me because of it so i got sent to other places for weeks at a time so i wouldnt bother them and as the next year and a half went on i built my way up and got some recognition that i knew what i was doing and was good at the job but only guy really stood up for me and thought i was the best one in the shop to take his spot when he left but everyone else disregarded it no matter how many times i proved it  in december of me and my wife got married i kind of assumed we werent ready but i was tired of being away from her  the one major thing was that she never cared about me in our relationship only herself because she says if she doesnt care about herself noone else will which i tried to prove wasnt true  within the first month of us living together she found old porn links on my phone and said she wanted a divorce and left our bedroom i followed after her afew seconds later and found her sitting in the living room which at that point she attacked me and i retreated back to the bedroom  when she came in after me she turned on the light and i was covered in her blood  iwas only wearing shrts  i started to freak out and have a panick attack just standing there screaming at the top of my lungs i was so scared and then she passed out  once i regained my compusure as best i could i started screaming i was gonna call while trying to find my phone when she grabbed me and held me while i went into another screaming fit and passed out when i woke up in the morning i found a note saying she had swallowed a bottle of asprin or something to kill herself so i shook her hoping she hadnt died and she woke up and we just kinda went back to normal im the kind of person that doesnt want to let anyone in on there problems  why im here instead of with a friend  so i had to leave to go to work right after that so i wouldnt be ua and have to be asked about it so i just went on auto pilot for the next week  about months later i left for weeks and when i came back i had duty over the memorial weekend so i would be gone for hours        memorial  while i was gone that night i was gonna go back to the house to see if my wife wanted to get food with me and decided not to since she said she was going to bed but during that time that i was going to go back and didnt one of our neighbors on base housing broke into our home and raped my wife at gun point  the next day after getting back from the hospital me and a friend went to the house after the police had left and talked to a few of my neighbors seeing who matched the descrition and they bpointed out a house to us so i plan was to go to the guys house before he left for work and wait to see if he was the guy and then beat him to death with my bestfriend but i ended up falling asleep because i was so stressed and hadnt slepy in hours and when i woke up that guy was caught  the next few months were rough  all my friends left on deployment while i stayed back with my wife so i told noone at my new squadron except my co what had happened  my wife seemed to grow distant from me and i always tried to help but she said she just wanted to move on with her life like it didnt happen so i tried to support that  when the court case came around this december i ended up spending the majority of it by myself standing outside because it was to much for me and everyone stayed with my eife upstairs  the only person that came and talked to me a few times was my father inlaw her dad  he helped a good bit with me and i feel like hes the only father figure ive ever had in my life  now that the trials over my wife told all her friends that i neglected her the whole time and never talked to her to wee if she was okay and that i just acted like it never happened  like she told me to do  and has started putting distance between us as in spending very little time with me and all of it with her friends  so now tonight i told her that i had to leave in months for weeks and she said that i didnt care about her and never listen to her and that she was leaving to go to a friends to stay  so now here i am in the dark drinking till sunrise while my wife stays with her friend and her husband who i have to work with tomorrow and im considering just getting hammered and running my car into a tree as fast as i can to just end it  ',\n",
       " 'am so sorry please reach out for some help suffer from severe depression and anxiety as well as all the other shit it may not mean much but you have helped lot of us so much on here',\n",
       " 'im done with this lifefound a good sub to share my burden until recently im living a good life  im yo  moved to bali island since august work as chinese mandarin tourguide  with unstable income but i felt so good  for the first time in my life i feel i can manage my own life no need to live under anybody nigthmare begin since nov  bali is mount agung eruption no more chinese tourist comes to bali  since then until now i hav no job  no income more and more desperate when im running out money to living  i wake up on my dream life in my lowest point of my life  for the first time i dont have anything to eat  my rent is coming  my phone bill  i realize in this world im all alone  some of fellow tourguide is back to their home  im shivering  i dont have home to go back  im all alone  to survive  i sold my watch  tv to pay rentnow more desperate really run out anything  maybe will sold my phone  me n my dog already days not eat well i cant see the future  maybe will kill my dog then i hang myself i felt so tired    with everything  with my life  so many unhappy  abused childhood  not well educated  arggghhhhh      ',\n",
       " 'tw depression anxiety various trigger words related to mental health this piece is very sad tbh but im incredibly proud of that wanted to depicted thoughts that run through my head during esepcially bad times with my crappy mental health and how much it hurts to feel',\n",
       " 'done had money done been broke done been talked about something awful done been lied on by so many folks done even been depressed at times and didnt want to cry cause my pride was too strong but over',\n",
       " 'asains had to take the wu tang clan  the draft was suppose to be for half breed like me and',\n",
       " 'damn am in some truly deep depression and dont know how to get out of it',\n",
       " 'dont even know what to do anymore like kinda just want to cry because tired and stressed and waiting for work emails basically rational brain processing is not really happening',\n",
       " 'you are a grown up',\n",
       " 'she is ordinary i did not watch it cannot stand her btw m  what did she do this time',\n",
       " 'dont you know  trump runs everything himself  he is hands on  except when hes not then he has never met that guy but has heard hes very bad ',\n",
       " 'i thought i was okaydoes it ever truly get better  i swear once everything feels okay something else happens  i am trying so hard to be a good hearted  strong person but this is getting so tiring ',\n",
       " 'damn really just saw that was going to go take nap now make it depression nap',\n",
       " 'went from quiet introvert to qiet introvert with depression and anxiety damn people really change',\n",
       " 'absolutely hate african amp african diaspora arguments stop saying we only see that one type of black life matters we are all black damn it we all feel and hear the pain of our skin color in one form or fashion',\n",
       " 'the pointfinding it hard to find a point in the grand scheme  scared of the fact that there might not be one  not suicidal necessarily  rather chasing   hours of sleep to avoid looking at the problem each day  having tri weekly meltdowns that end in me such a mess on the bathroom floor i can barely make it back to bed before i pass out again  there is a lot more to unpack here but i am not sure where to even start  there is this dreadful anticipation sitting in my stomach as though there is something extremely important i am forgetting to do  but there isnt  and it makes me want to c  into a ball so tight and small i just cease to exist ',\n",
       " 'corrupt pr government and others are where you look and you know it gutierrez ',\n",
       " 'it no quick fix switch to cut on when you been stressed and depressed for months damn near years on end',\n",
       " 'isnt it funny how people are so quick to slag you off behind a keyboard  but when they see you in person they run away',\n",
       " 'call me crazy but isnt it like standard protocol to check in on your loved one friend when they are grieving glad everyone else was able to forget and move on in less than month my heart hurts and lonely grief depression lonely sad',\n",
       " 'you risk weight gain from all forms though amp the pill has higher depression rate than others got off mine in dec amp ppl noticed the difference right away in my mood the arm implant can also reduce periods and is good for yrs but can cause tumors amp can hurt take out',\n",
       " 'are you really michael moore or are you rosie in drag',\n",
       " 'i was going to kill myself on september th  i ended up hospitalized for weeks instead  i have been out for one week and already want to kill myself again  my new date is october th   long  vent  sensitive i am setting the date once again since i failed last time by making the mistake of telling my therapist  i spent two weeks straight in the hospital  got put on meds and increased weekly therapy after not eating or sleeping for a week straight and for having constant suicidal thoughts  they wanted me to stay at an inpatient step down program after the hospital but my family talked me out of it by yelling at me and telling me it was a stupid idea  i regret not going because at least it would have let me live away from my ab s  i am not cut out to live with the way the world currently is  i am currently unemployed  my therapist is trying to help get me on disability because i am not fit to work due to my multiple mental illnesses  but it is taking forever  i am about to run out of health insurance coverage and because i am unemployed and quickly running out of money i can not afford the high cost it takes to have insurance  once i run out of insurance i will simply have to blow through what little savings i have just to pay my bills  i will then be without money  in debt to the hospital  unable to afford my therapy or my meds  and out of options  i was going to try to apply for medicaid but i can not understand the process and keep messing up the application  i am going to lose my school scholarship because i could not preform in class and had to drop courses  i will likely owe a large sum of money to the school for this  i tried getting in touch with student services but they brushed me off  i am going to say goodbye to my therapist as subtly as i can  i will not be able to see her anymore once i run out of money and just thinking about not having the one support that has kept me going is just enough to give me the courage to finally kill myself  i want to cry just thinking about not having therapy with her anymore  it puts me on the verge of a panic attack just to think about it as much as i am  october th is the date because i am obsessed with numbers that end in or   if i fail again on the th  i will try again on october th  and so forth  i hope to not fail this time and i am going to try as hard as i can to not accidentally tell someone again  i will write out my notes on paper and keep them in my car for people to find when they are ready  i will overdose on all of my meds and then jump off of a bridge  i have found several good spots to accomplish this and will do it late at night or very early in the morning  i will prepare myself mentally over the next few weeks  i can not live a life full of mental illness and trauma  the ocd alone is bad enough to give me the strength to complete my suicide  i want to thank those who tried to reach out last time  your messages were kind  if i fail again and end up hospitalized they likely will not let me out for a very long time  please pray for me  pray that i do not fail and that my death is quick and as painless as possible  i am praying for all of you and will take my prayers with me until the very end ',\n",
       " 'hibeen lurking a bit here  maybe ill make a post on my past  i feel so defeated and weak   like i have to die  and hanging is my preferred method but lately have been wondering if paxil and lamictal would be lethal if i took all my bottles  whatever is less messy i guess not that stumbling across your dead daughter sister is a clean subject',\n",
       " 'note  khorasan is the old arabic name for parts of iran  afghanistan  not an invention of modern jihadis ',\n",
       " 'i need to put myself to restive crashed my motorcycle today  i dont know how  but im mostly fine it was the most beautiful moment of my life  i know its sick to think that  but it felt good to see people approach me to help me after the crash  the feeling of my body being dragged by my bike for several meters on the ground  looking at the sky while this one song played in my earphones ive just felt emptiness for the past years i dont want this second chance  i want to get on my broken bike  bring it up to speed one last time and then just end it all im going to therapy in hours knowing that im going to lie to my therapist because otherwise im going to be forced into some facility theres one another person in my life that i could talk this out with  but this person has more important things to do now  its killing me and my selfishness is too i just dont want to drown anymore  please ',\n",
       " 'that sinking feelingi just can not do it  i feel my depression swallowing me whole again  i know it is only going to get worse  my medication does not work  i am not happy  i do not know how to be happy anymore  i just want to go to sleep and never wake up  everything is so pointless  i know that even when i get out of school  i will just continue feeling this way  i feel like i am out of options  i am going to try to get back into inpatient  even though i know it is not going to really help with anything  i am sick of being afraid of myself ',\n",
       " 'agree  plus all those lightweights leaders of cee region that benefit when   kurz  orban  challenge eu migration agenda must support himbut often seem afraid to directly',\n",
       " 'so went to urgent care today and have the flu haven been this sick in long time and let me tell ya it miserable don feel like doing anything',\n",
       " 'i hate who i am now and what my life has becomei do not really even know what else to say  i wish i had the energy to care enough to change but i really do not  when i look in the mirror i just see an amalgamation of people that abused me and i keep seeing myself become more and more like them when i get pushed or stressed  it is like being aware you have cancer inside but can not just rub it out or something  i have tried everything  it is like getting repeatedly saved from drowning but you are still left there treading water  what is the fucking point  all of my relationships are failing because of this  i have just about run out of people to turn to and i know from many experiences that hotlines are absolute bullshit  i guess that is why i am posting this here  i do not want anything out of life anymore  i think i can honestly say i just want to die now ',\n",
       " 'everyone expects me to get better  rant yet my body is pretty much feeling the effects of stress  i get waves of nausea quite often  i feel nervous and anxious  i feel like i do not know how to reconnect and mend broken bridges with people   heh  how could i  my social skills are horrible  i just realized that my social isolation has reached critical levels  i have wasted seven years of my life and my stomach can not even handle pills it is like fighting a war against an entire army by my own  i am not that strong  i know i should not feel suicidal  as i have not suffered that much compared to others  yet i feel like i am a time bomb    i feel like i am very close to snapping at someone   of course i care about what others think me  because  i have barely been accepted in my life  i was myself  i tried to be sincere  to keep my morals  and life just spitted on my face time after time where does it stop  when does this fucking cycle will stop   of course i have tried to improve  to get social skills  to try to meet people  and it seldom works  it is always the same  people want me to put on their shoes  yet they rarely do it for me  if i do not talk to people  they will not talk to me  i am always a giver  and most people just take from me time after time i am sorry mom  you always told me to love myself and to not worry about friends  but    how can i be sure if i am not a fuck up  if almost every single person i met ends up forgetting about me  and most people just take  take and take   ',\n",
       " 'and since you love trials and false equivalency between athletes and protecting women how about this one duke lacrosse rape      ',\n",
       " 'you prove how little you know about history  with each new post  wep  wars are the failure of diplomacy  enabled by an arms industry feeding off taxpayers  gun control   is the last thing on their mind  you have been lied to  by pros in the pay of gun manufacturers   ',\n",
       " 'european liberals and conservatives must stand together against populism  follow my page if you think the same ',\n",
       " 'this is depressing just had to watch this girl cry during our zoom meeting dude fuck this semester and fuck this school for taking away fall break holy shit the way me and my classmates talk about being stressed and depressed all the time this is just not normal',\n",
       " 'just got absolutely bodied by dude named girls load on cod went against him in search and destroy and he told me have tits like my mum in real life fucking hate it here',\n",
       " 'when youre depressed do you ever just listen to music and think then you want to cry but you cant because you cant feel anything',\n",
       " 'high school musical lies to me thought we was gonna be dancing and singing mfs got me stressed and depressed',\n",
       " 'and if you make it past the shotgun in the hall dial the combination  open the priest hole and if i am in i will tell you',\n",
       " 'no thanks to you miserable buggers where were you when needed my hangover cure today feel nearly normal',\n",
       " 'this was someone at the district level that told me this also they keep telling me quit being so anxious even after ve made clear that suffer from severe clinical depression and anxiety',\n",
       " 'my seasonal depression is really didn waste time this year like damn sis slow down',\n",
       " 'we do have a few outages reported in toronto  here is a link to our outage map to see if you are in one of the defined spots    sc',\n",
       " 'us conservatives hope he does ',\n",
       " 'me bro',\n",
       " 'nah some honkey lookin dude at chr',\n",
       " 'gun control now  beto for massachussetts senator ',\n",
       " 'this is not murica  charlie brown ',\n",
       " 'a video i made    porn actress sexy capri anderson kissing video with charlie sheen via',\n",
       " 'dont disagree with that at all we do have the highest homicide rate and absolutely hate it but we go to jail for life for it or get the death penalty can the same be said for the cops absolutely not because they walk away free every time the badge is murder pass',\n",
       " 'i need a hugi am so lonely today  the only person i have been around is my mother who hates me  all my friends just seem to have forgotten about me and i just want to fade away',\n",
       " 'im shakingive been feeling suicidal for a while  my bf and i went to the gun range with his friend a few weeks ago   he didnt know i was suicidal at the time  a few months ago before we were dating  he told me where he hides his gun  anyway i thought hed move it now that were dating and i told him about a week ago i was feeling suicidal  i was feeling really suicidal tonight so i went to where i thought he was keeping his gun and it was still there  i know how to load it now  i took it out and was about to go outside and kill myself but as soon i took the gun out i heard him coming downstairs so i put it away  he heard a zip and asked what it was i pretended it was my shorts  im still shaking  i really think i wouldve killed myself if he hadnt come downstairs  i dont know if i should tell him to move his gun or not  i dont want him to think im crazy ',\n",
       " 'everyone gets mad when a woman talks about dick but praise men who talk about fucking girls every weekend',\n",
       " 'i wish when i tried killing myself when i was i had succeeded  the last ish years have been a complete waste of timeif i erased the last seven years of my life from having ever happened  i would be better for it  i went to college and graduated or whatever  but i did not really enjoy college  i currently can not find work  i am broke as fuck working at a department store in my redneck hometown that i hate  all my friends have moved away  i would not even know where to start meeting women if i wanted to but the average woman in my age range where i am at is not even worth the effort to talk to  and my life just ends up being a series of disappointments  even when i learn to set my bar lower and lower  i still come up short  at this point it is almost asking too much to just be left alone   amp  as i sit here  witnessing a lot of my friends who were a year or so younger than me getting out of college  and by extension moving away  i went to college only about an hour away from home  dormed though   i just realize that my life is probably never going to get better  i do not have a well connected family  i do not live in a fruitful town as far as employment is concerned  i do not have a lucrative major  i do not have any useful talents or skills  and all my friends live hours away from me  most of whom are doing way better things with their lives than i am  i really just wish that i had not made it when i tried killing myself at   i stopped bleeding probably like minutes before i would have passed out  and had i just stopped this charade sooner rather than later  i would have saved myself a lot of continuous aggravation and disappointment  never too late to jump off a bridge though ',\n",
       " 'world relief first began welcoming refugees in   since then  refugees have begun rebuilding their lives with the help of dedicated volunteers and generous donors  will you help provide the same welcome for today is refugees  join today',\n",
       " 'personally suffer from severe depression and anxiety its battle everyday never feel good enough slowly losing myself but finally had the courage to get help and start therapy tomorrow scared but the other option is not an option',\n",
       " 'who wore it better ',\n",
       " 'can someone please help my family suffer from severe aniexty and depression and have been put out of work for it we are in dire need of help we are behind on rent and low on food also have cashapp even dollar helps please we in such need',\n",
       " 'you know how you can get so stressed and irritated that you just want to yell and cry yup that about me right now',\n",
       " 'eu court wants to punish chech  poland and hungary  because they dont take refugees  hungary reports that soros has made in the eu this political pressure ',\n",
       " 'she is correct about one thing  the truth does always win ',\n",
       " 'you really are a daft kunt  verhofstadt  it is called democracy  a concept you are unfamiliar with in the eu',\n",
       " 'absolutely tried reading one subbing my name for but it was so weird bc was essentially narrating my own life but in rd person also hate the for your eye color it seems so weird and cringe to me',\n",
       " 'its so sad where we are in america now liberals should be against this kind of mccarthyism all u have to do us accuse yet there was a chinese spy in a dem office for years n the media just shrugs',\n",
       " 'today just makes me want to crawl under rock and cry because so stressed being told may not be able to do hair until august devastates me hoping to god that it never happens',\n",
       " '  but cant nobody at yall pep rally out jigg me',\n",
       " 'sometimes you can be a dick ',\n",
       " 'third party keyboards on ios trash',\n",
       " 'ty period for messin up my hormones and now feel depressed again like want to cry for no particular reason',\n",
       " 'i need an advice pleaseso i am depperesed and i have allready tryied hanging myself the rope i had snapped  i hope that someone will tell me some way to kill myself  without any pain    i dont want my mother to be scared that i have died in pain and i would like to die in peace  i allready have some plans like i can go to a roof of my house and jump or take some pills and do it in school bathroom during lessons  so please any advise  i would like to die in peace',\n",
       " 'really tired of constantly feeling sad depressed anxious disappointed it really taking on toll on me just want to cry and then buy new ref',\n",
       " 'ferrari crashes after new ceo throws marchionne under the bus',\n",
       " 'used to be sensitive it used to take hella time id be sad all day everyday hallae no one can ever hurt me anymore and if they do theres nothing to get over since never let traitor get into my life or get close to me have already left them so yh dodge depression',\n",
       " 'djsjfjskr dont worry be doing the same damn thing beach house depression cherry on repeat',\n",
       " 'just watched the trailer and the amount of seratonin that flooded my system damn near cured my depression',\n",
       " 'in so much pain nd caudal spinal injection in weeks amp everything hurts feel sick amp so depressed just want to go somewhere hot far away and cry but too sore to get there backpain caudalepidural slippeddisc',\n",
       " 'looks amazing    who cares if she is nude  not everyone likes nudity for sexual desire  some like it for the artistry in it  every woman on the planet has the same parts  she is just comfortable with hers ',\n",
       " 'i am too cowardly too to do iti want to be dead  i want this to finish  i can not gather the courage to do it  why everything in my life has gone from shit to even worse than i could ever imagine  been depressed for around a year now  suicidal at times but never with real intent until now  november st   the worst day of my life  had a seizure and they did some tests on my brain and said i probably had epilepsy  november through to march i had a lot more and on april th i was  officially  diagnosed and they gave me meds to take  trileptal if anybody is wondering   the side effects of the medication are almost as bad as the seizures  if i do not take the meds  epilepsy controls my life  if i take them  the side effects plus not being allowed to drink to help me cope  something i used to do occasionally  controls my life  i do not understand why the fuck this has happened to me  i can not stand my fucking self  i am repulsed by myself and ashamed of what i have been put through because of this shitty illness i want this to end  last week i prepared to overdose and die  the only real option out of the hole i have fallen into  wrote a note and prepared a last meal for myself etc   only to find out trileptal overdoses are extremely rarely fatal  plus i only had mg left which is definitely not even close to possibly fatal  i have nothing left to live for  ca not leave my house all day because every time i try to do something i just remind myself that i am going to kill myself soon and so there is no point thought about quicker easier methods but i am such a repulsively weak coward  i can not even do it  feel like i am just waiting for my next seizure so i have real motivation to finish it i do not even know  this could be it  thanks to anyone who took the time to read this  i know i am not worth it edit  i just realised the mistake in the title and i do not know how to change it  an excellent example of the debilitating cognitive side effects from the shit i am on  fuck',\n",
       " 'guess you are going to ignore what karmys are asking   ',\n",
       " 'fair warning apparently default to hours of sleep hours awake cycle if left to my own devices and am sorely sleep deprived right now and stressed out and really want to cry but due to the fact that am broken disaster creature can cry at all ever',\n",
       " 'over my years on this earth ve been diagnosed with clinical depression general anxiety disorder panic disorder add and most recently bipolar type also suffer from fibro and chronic pain due to severe spine issues take pain meds xanax lamictal and prozac',\n",
       " 'i just binged watch seasons    in days  i need more if you have not seen this show you are missing out  its fantastic  ',\n",
       " 'tell me again   ',\n",
       " 'maybe your underlying theory is wrong  there are a number of ways in which the nomination supports maga  some of which trump has hinted at ',\n",
       " 'how are new luxury apartments being built amp rent rising while unemployment is damn near depression levels',\n",
       " 'he also went on to tell me that since used to suffer from severe depression that always be suicidal would def approve',\n",
       " 'im not sure you should be calling anyone a hysterical woman ',\n",
       " 'like and will gloss over this today thanks to the circus act  so we can get back to triggering liberals by talking about s success ',\n",
       " 'bro energy drinks are literally for crackheads shit makes you feel anxious nervous stressed sad and depressed at the same time you better off just injecting heroin in your neck tbh',\n",
       " 'are migraines linked to depression or vice versa basically this migraine hurts so bad that am depressed to the point of literally sleeping hours day think my brain might actually be broken',\n",
       " 'our beautiful flotus strongly calls out nyt anonymous writer as sabotaging our country ',\n",
       " 'lyrics forget everything ve said before dont feel that way today forget everything ve felt before felt it come yesterday comfortable feeling miserable and never want to change and never want to change and never',\n",
       " 'drew carry is a piece of canadian s  ',\n",
       " 'helpmy parents tell me how much their life would be better if i was gone and i felt like i was getting better and now everything is becoming so overwhelming  first the breakup  then i get over that and drugs  now my parents have made it clear that i am nothing to them  i wish i could go but there is so many lovely things about life that i will be leaving  what do i do',\n",
       " 'so stressed want to cry haven worked in weeks now and gotta pay my bills',\n",
       " 'he is so cute ',\n",
       " '     what is so hard about doing that  conservatives have un remembered thousands of descriptions of things they have read in their cherry picker bible ',\n",
       " 'people who fail to understand the second amendment is purpose is to protect a citizenry from a government takeover should not be talking about gun control',\n",
       " 'intha va kuda manichirlam ana intha the biggest reason for every fight in bb house  yet our foolish people support her just because she is doing tasks ',\n",
       " 'liberals have never been able to grasp consequences    your example is the perfect response   he will probably still be unable to understand it though ',\n",
       " 'job description  in charge of the big door  because that is the most likely point of entry for the antifa hackers and their doxx equipment  which is quite cumbersome  ',\n",
       " 'ca not stand the yankees but jeter hitting a home run in his final at bat in nyc would be cool  getting beaned would be better ',\n",
       " 'uni stress has officially gotten to me nice want to cry and give up',\n",
       " 'apparently they did not learn from gun control ',\n",
       " 'cheated on my diet again because feel miserable today now just feel more miserabler',\n",
       " 'good days and bad just had really bad days in row but the depression seems to have subsided was convinced for couple of weeks that had no friends anymore this damn wheelchair gets to me more than anything losing my mobility was the worst part of all of this',\n",
       " 'not a classical music fan ',\n",
       " 'suffer from depression and severe anxiety its been down swing in my head for the last month and half and doesnt look like it will be getting any better but am coping with sarcasm and watching entire tv series in week just finished that show',\n",
       " 'you know maybe my am rants and episodes of the amazing depression are really starting to build up damn',\n",
       " 'actually spends atleast     times a yr on shoes   libnuts just put the same pair in the dishwasher every months ',\n",
       " 'there is so much other shit that can go wrong in a relationship  i do not have time to bitch over you liking pics  i am liking them hoes too ',\n",
       " 'i am a free speech absolutist and i do not care what offends you  you do not have to talk to me  why do you imagine the world is supposed to be unoffensive  do you carry this forward with other liberals and chastise them for saying things that offend christians ',\n",
       " 'important  appeal from gm police for information re attempted rape of young woman at green lane patricroft at',\n",
       " 'loli really thought i could do something that doesnt involve fucking up on here huh  like i claim im aw so sad but cant even relate to someone else who feels the same and make them feel the slightest bit better at all  i love annoying fucking everyone messing up fucking everything and then apparently just feeling like i wanna kill myself like of course i want my final action to still be me running away from my own mistakes god im so pathetic',\n",
       " 'go away obama  you pussy',\n",
       " 'identity cards  would curb illegal immigration and prevent another windrush ',\n",
       " 'i want to see how everyone would reacti just fucking figured it out  the reason im scared of dying is because i want to know how people react  if i could just see how people react id fucking do it  i dont care about the reaction they would have i would just want to see the reaction  its the only thing keeping me from fucking ending it ',\n",
       " 'i am doing that thing where i research means of suicide again i have this strong urge to drive to a state with lax gun laws so i can end this shit  it is finals week rn and i am realising now that i may lose my scholarship which means going into thousands of debt or dropping out  and if i stopped out  i would have nothing  i would not have anything else for me in this world and i would be ready to die ',\n",
       " '  i am that horrible friend who reads your text then puts the phone down to do something and forgets to reply until ho  ',\n",
       " 'shy glizzy feat plies   free tha gang ',\n",
       " 'choosing what day to end had made the decision to end my life few weeks ago      is world suicide prevention day  been thinking end life in that day seems really iconic  or wait until     which is my birthday  what do you guys think ',\n",
       " 'our  disco  we used for disaster recovery was an awesome brownie points to how well built they are  most extreme conditions ',\n",
       " 'you cannot ride this one out',\n",
       " 'he now resides on the mantle piece ',\n",
       " 'you guys really just did this on cue    ',\n",
       " 'think it really funny that if harry hermione and ron existed in real life they absolutely disagree with and hate for being gross bigot',\n",
       " 'bro just get skill you might be depressed working jobs and might have unresolved medical problems and you re constantly stressed about everything but bro just learn trade and make money it easy stop being homeless or poor',\n",
       " 'i hope the yankees get soriano  shoulda never gave him away for alex rodriguez',\n",
       " 'got compared to the virginia tech massacre guy today  i feel horrible about myself i am at virginia tech  for the past two months i have been attempting to get a refill on my prescription  that has not gone well   i e mailed my advisors that i was at the end of my rope and for them to have patience with me while i try to get it sorted out  well  they took that as me being flippant about my situation and took me for a walk around campus  they showed me the memorial for that day and said  this is what happens when we do not take mental health seriously   they were comparing me to cho  saying that i could kill someone  honestly  the first thing i thought was  well i would kill myself before i would kill anyone else  but i obviously did not say that so i did not get taken away  they made me feel like shit for not trying hard enough  even though i felt like i was trying everything i could and nothing was working out  i was not a victim  i was a suspect in that moment  i do not know how to feel anymore  i do not even want to go outside because i am afraid everyone looks at me like a bad person now i completely understand they have to take those precautions to prevent things like that from happening in the future  but it shot my self esteem down so low that i do not know how to recover from this  i just want someone to talk to that will not make me feel like this is my fault ',\n",
       " 'all those haters calling me a whore when they could call me a dick juggling thunder cunt instead',\n",
       " 'you are a bitch tryna expose some shit   make up lies about me burning like a hurt hoe',\n",
       " 'you want to rephrase that  i think you are talking about the u  number ',\n",
       " 'it only hangs in the balance because of liberals and news agencies that used the airwaves to push their politics      like cnn ',\n",
       " 'the conservatives are finding this pill very hard to swallow ',\n",
       " 'i hate myself  i never finish my projects  i went to uni  i have a worthless degree  no job  and i started living with my parents again  idk where i am heading  but i feel worthless  and with no skills  with no use in life  i feel like i do not deserve eating  also disabled  i feel my parent is life woi hate myself  i never finish my projects  i went to uni  i have a worthless degree  no job  and i started living with my parents again  idk where i am heading  but i feel worthless  and with no skills  with no use in life  i feel like i do not deserve eating  also disabled  i feel my parent is life would have been so much better if they did not have me  i ate up so much of their resources and gave nothing in return idk what to do to feel better  i am very ashamed of myself  i feel i do not deserve to live ',\n",
       " '  isaiah     the lord will guide you continually  giving you water when you are dry and restoring your stren h  you will be like a well watered garden  like an ever flowing',\n",
       " 'if you only knew how much lack of trust hurts thought was recovering from depression episode and was gonna resume work on my usual convenient schedule and then this',\n",
       " 'psa mmld haters    unfortunately for you  our girls are just gonna go farther and if that is a pill so hard for you to swallow  y all can just choke and continue on with your sad lives    or maybe just relax  walk your dog   drink a cup of mindfulness     megaphone drop ',\n",
       " 'tw depression am going into another depressive episode is that what this is my head hurts so bad and don wanna do anything',\n",
       " 'do have such weak mental endurance because school hasnt started for week and want to cry outta stress',\n",
       " '  where all my fans  ',\n",
       " 'not like anyone cares but suffer from severe depression and anxiety and it been little over month since was in the hospital due to suicide etc today so happy to be alive and breathing want to be alive love my life',\n",
       " 'important story on business growth limitations due to historically low unemployment rates in wi',\n",
       " '  it is well known that supports cruelty to birds   sign this petition  h  ',\n",
       " 'good for you jimmy    your one pare will offset the   plunge their market shares are about to take',\n",
       " 'need helpim sitting in my car at work and i cant stop thinking blowing my head off would be the best option  so tired of this shit life not improving no matter how much effort i put',\n",
       " 'i am afraid to livei am scared of what people want to do to me  i just want to leave this world peacefully ',\n",
       " 'goodbye  dad  you piece of shit im living with a dad who only cares about his job  he is a sociopath in my view  he makes me help him with his job     ive worked and studied my ass off  at the end  i get no money and i do horrible at school he cares for me at some points  but im tired of life  i love my mother  she is always helpful  but i give up  my dad made us move from michigan to a shitty country because of the lack of islam in michigan compared to the country i live in  i hate it  no power  small house  food is toxic  it is shit my parents are at the restaurant  i wrote a page book of my will and it is under my pillow  i have the bleach bottle inches from my feet at this moment  i am locking myself in my closet and drinking as much as i can as soon as i hit  post   i will be dead  goodbye internet  thank you ',\n",
       " 'not all men  i am generalising  but you get the idea ',\n",
       " 'bitchhhhhh i am jelllll',\n",
       " 'omg  she is so cute',\n",
       " 'read her story my heart hurts hope she goes beyond this depression no one deserves bullying no matter how much peoples hearts do not bear all this harm be careful not to hurt other peoples feelings weloveyoumina',\n",
       " 'this year has been the best year of my life but i keep falling back to just thinking about killing myselfi guess i just wanna be happy but i feel like   of the time i just wanna end it  i feel to embarrassed scared to talk about cause i feel like i am over reacting all the time  and while i dont think i am gonna do it lately ive been getting just short of going in the motion  i think i have a problem but i dont know who to go to  a couple of my friends notice but i usually just say i am fine or i am tired  i just dont get it',\n",
       " 'all these niggas that be friends stay in my dm   bitch i am not a hoe  and no you will never fuck  y all so damn annoying       ',\n",
       " 'this white man called me a cunt  like what is that  is it like saying  bitch  lmao',\n",
       " 'why am i here not physically like why am i in this spot  but why am i alive ',\n",
       " 'lets go america  stand together for our flag and our anthem  hurraywhere we go we go all                 now    ',\n",
       " 'motivated and excited about the growth within myself my business amp my peace of mind but stressed and depressed about',\n",
       " 'those of us who lived through the attack on the world trade center  wtc  can never see the islamic threat as anything but real  would it have made sense to have invited the immigration of japanese after the attack on pearl harbor  amp nbs   ',\n",
       " 'confused about life  need answers  hopefully peace can be found eventually i do not even know where to start  i just feel like maybe talking all this out with someone will either help me decide that life is worth fighting through  or that true happiness lies within ending my life  which is honestly how i feel right now i have not been happy for years  for long as i can remember really i have been unhappy  i thought that when i became  an adult  and in control of my life i would be happier away from my god awful excuse for a family  but that just is not the case  if anything it just got harder  more of a struggle so many times i sit in my chair and feel like everything would be so much better if i just ended my life  no more troubles  no more worries  no more stress just absolute bliss  the trouble is i am deeply unhappy and no matter what i do i can not fix it  i just feel like i do not belong here  when people picture themselves growing old and settling down  i can not and i have said it for a long time  i honestly feel like i will kill myself before i grow old  it is a constant battle  i do not necessarily want to kill myself  i just do not want to be alive anymore  but at the same time the only way to achieve that is by killing myself  so i guess i do want to  this is what i am trying to figure out i had a psychological assessment at work once and they basically told me they could not help me and i had deep rooted issues that i needed to talk to my doctor about  but i do not feel like it will fix anything or change my perspective on life  i do not really feel like im giving you much info here  i do not really know what to say  all i know is i am deeply unhappy  constantly struggling and constantly wishing i was no longer alive  right now all i can think about is ending my life  it is almost like i feel that i belong dead  that is my purpose  i would be much better off  i just need someone to talk to  my mind is a massive haze and i can not figure out what i need to do without talking to someone  i am afraid i will make the wrong decision alone ',\n",
       " 'thank you am    and byron tyler for hosting us last week  we love letting the mid south know about the memphis cup of nations and world relief memphis work to empower the local church to serve vulnerable refugees and immigrants ',\n",
       " 'typical  ',\n",
       " 'how do you get helpim only   i dont have insurance  i dont have a good relationship with my parents  cant get counseling at college because it shut down i cant ask for help  i feel like i dont deserve it and im just being whiney because all i have to do is just stop feeling like this but for some reason i cant i cut off every single person i loved and cared about in my life in january because i thought i was finally going to do it and i wanted to distance them from it and i wanted them to hate me so that they wouldnt care when i did it  then i felt horrible for cutting everyone off for no reason and making them feel bad that i hated myself and didnt want anyone to get close to me again  now its may and i have nobody i still think i want to do it  but there are occasional times that i dont and now i dont know what to do  i want to be brave enough to go through with it but i just cant  what am i supposed to do ',\n",
       " 'so you are saying the authors of these articles are not representative of the message of most liberals ',\n",
       " 'fillings today milkshake for lunch and the entire right side of my face is swollen all the way up to the corner of my eye decided to take the day off for my next set of fillings in weeks feel miserable',\n",
       " 'man no lie last night it was little funny today kinda feel for the guy wanna pull him aside and offer pep talk print out copy of the commandments for him she look good but that gotta be miserable',\n",
       " 'if your child decides goes down the route of drugs alcohol depression anxiety self hated or misery that your fkn fault mam you made your child feel weak amp pathetic for something that is not their damn fault they did not choose to be bullied',\n",
       " 'am i a professional  no so your statement is irrelevant  its not like hardy has done basically identical falls a million times or anything  you clearly know nothing about this  bucks says he is perfectly fine  orton wouldnt have said what he said if he was hurt ',\n",
       " 'i am still not over this lmao i love this bitch w my whole heart she is my world',\n",
       " 'like may suffer from severe anxiety and depression so my shit may be little high but crying is healthy bottling up shit is so bad',\n",
       " 'current canadian immigration minister   a native of mogadishu  was not invited here  his parents bought him a plane ticket to pearson airport  where he claimed asylum  two of his brothers were already here  chain mi',\n",
       " 'stressed because theyve released the ticket sale info and still dont have job and need to meet moots and go see bts but dont want the prices to be too expensive aaaah wanna cry',\n",
       " 'new gop immigration bill would tie legal status for daca participants to border security funding via',\n",
       " 'life after fifty absolutely no one and nothing happened today fifty year old knee omg wiatf did you me dont know nothing fifty year old knee omg in so much pain cant walk every step is excruciating you hate me why',\n",
       " '  welcome anna grey barbour to our womens volleyball team  anna is a terry sanford high school graduate  she is studying dental hygiene at our college  were proud to make you a trojan  anna  good luck this season ',\n",
       " 'depression is not joke man this dude just committed su cide on live stream can even damn man',\n",
       " 'if you do not have haters you are doing somethin wrong    i got haters  stalkers and people that just plain do not like me    luh u hoes',\n",
       " 'before this scumbag considers running for president i want him to publicly swear under oath that when he was in school he never tried to cop a feel as these liberals like to show themselves as pure as the driven snow ',\n",
       " 'i attempted  i failed  i could use something  anything the past few months have been shit  ever since he broke up with me for another man  i havent been myself  ive gone to therapy  i have taken the meds  i have done everything thats supposed to make me feel better  guess what  it fucking hasnt two hours ago  i wrote my note  i cleaned my apartment  and i went to the spot my ex and i shared so many memories at  i tried to end it all  but the gun just fucking went  click   i forgot to re chamber a fucking round after i cleaned it yesterday  i cant even kill myself correctly im home  and now that i have finished throwing up  i am lost  my mind and body is in shambles  and i am really not sure what to do now  im so lost  i cant reach out to my friends  my family  or anyone close because they dont know how bad its got  and ill lose my dream job  can someone help me ',\n",
       " 'no she is just informing the public of the horrible goings on in the trump white house ',\n",
       " 'a letter she wrote was used as an exhibit by the aclu in their lawsuit against the trump administration on family separations at the border  she sounds connected ',\n",
       " 'follow my blog  see the men who  are fighting for men is rights ',\n",
       " 'absolutely think they deserve medical more than any imagine the amount of taxes they have paid in their life time give them damn break hot button topic for me hate how this system screws them',\n",
       " 'just received my copy of mad politicslooking forward to a mad politics weekend   your great perspective dr  gina ',\n",
       " 'i want a bullet through my head  nothing more world  god whatever or whoever you filucjing win  all i want is bullet through my head  i do not want a good job  to be normal and date  to love myself or to be loved anymore  i am tired to try  you fucking win  i am the only person in the us  the land of guns without one otherwise i would do it  whatever cosmic force exists fucking end me i do not want to continue  car crash  robbery  heart attack just fucking do it  i am too tired of this everlasting bullshit ',\n",
       " '  the recommended serving size for brownies is  all of them  ',\n",
       " 'as usual the media is giving two sides  a republican side and a democrat side on immigration  there are other views by why bother offering those up  how about we allow supply and demand for labor decide how many cross and let econ supply and demand decide ',\n",
       " 'melting under the stress of life and want to cry and just quit everything',\n",
       " 'to my girlfriendhi konny you wont see this but i will not be in school tomorrow im killing my self with pills goodbye iv always love you dead or alive tell my friend theo that im gone bye',\n",
       " 'new mexican president to create border force to stop illegal immigrants  drugs from central america surprise  ',\n",
       " 'whats next     mr  hooper is retconned as a pedophile  grover becomes trans  barkley is neutered  big bird is put on meds to stop seeing snuffy  oscar shoots heroin  elmo now member of the church of satan  telly joins antifa  zoe has abortion  kermit labeled hate symbol by splc',\n",
       " '   the eternal city is most ethnically diverse neighborhood  in this week is',\n",
       " 'i took  rebel vs  yankee  tests     questions  accents  word usage  and scored a total   of   rebel vs    yankee in southern pa ',\n",
       " 'you are more than your productivity     ',\n",
       " 'that is like me  amp  flying i have never been in any airplane unless donnie takes me his plane  amp  holds my hand the whole time or i sit right next to him knowing me i would have sit on his lap  amp  hold on to him i am afraid to fly',\n",
       " 'it is kinda screwed up that they were my guinea pigs but i was only experimenting on taste instead i got more interesting results ',\n",
       " 'just kinda attempted and can not stop laughingso was having a real breakdown so called mental health crisis number and said o thought i was going to kill myself  in short they said call back if you feel like you might kill yourself lmao then took a knife and didnt do much damage but was like maybe i go get help  so i went to campus security and was like maybe hospital apparently said i do not need an ambulance dats fine and the security was telling me to focus on the good things all the garbage talk  so i was gonna try jumping in front of traffic but they decided to get me a taxi  but then i had to go back to my flat at the opposite end of campus to get my purse i can not stop laughing and crying at the same time its just hilarious to me lol',\n",
       " 'once said that if wins  we all hang from nooses    the deeper this goes  the more we learn why freaked out when she realized could win    ',\n",
       " 'i am the antifa super soldier',\n",
       " 'here are the reasons leaving people are annoyed they are stressed they are worried they want me gone and want me to leave they are depressed and sorry caused all this im leaving now so you can be happy goodbye',\n",
       " 'hope my birthday week is refreshing because wow feel stuck and so so unproductive wake up stressed with work get more stressed from working can work anymore because more stress can rest well because get more stressed want to cry',\n",
       " 'but the plant gets devoured by the animal  and the animal devoured by us  because nature  rather like i spoke of women before  is a cunt ',\n",
       " 'my must cry its urgent are johnny cash hurt and pearl jam black but recently fairlane amp zack grey what you promised got me good also blue foundation eyes on fire once read theory the lyrics are about overcoming depression because it really makes sense',\n",
       " 'know youre stressed and depressed and your hair is mess but youre cute when you lose or youre mad at your friends and hate when you cry every time that said oh love when youre here dont want this to end',\n",
       " 'me coming up with excuses knowing damn well suffer through major clinical depression',\n",
       " 'what an incredibly odd little man he is ',\n",
       " 'suffer from severe generalized anxiety disorder and depression this disorder affects all aspects of my life and is frequently dibilitating even simple social interactions or small stressors are too much to handle at times but still fighting mentalhealthawarenessday',\n",
       " 'ms ellen can you please help my family suffer from severe aniexty and depression and have been out of work due to it link to my gofundme page on my profile please we are in dire need ellendegeneres',\n",
       " 'xd tight hole lost    kids ok cunt penetrate',\n",
       " 'according to my d amp group  shouting  refugees welcome    is not the correct way to warn people of incoming threats   ',\n",
       " 'hey great to see your tax cuts and wider fiscal policies doing so well ',\n",
       " 'gonna cry like don want more stress and pressure on me just to do work for my teachers just wanted to enjoy my break',\n",
       " 'oh and how can i forget  he created the greatest american economy in decades  one where no matter who you are or what color your skin is you have a better chance of having a job instead of a government handout ',\n",
       " 'good ',\n",
       " 'i am willing todie for you',\n",
       " 'austin rogers  yay     he is a favorite  so glad we will be seeing him again ',\n",
       " 'i recommend yr old mike ditka to take nfl commissioner goodell is place  rules would be adhered to  fans would stream back  nfl would regain billions of    a year thoughts ',\n",
       " 'my diagnosis helped but then have so much anxiety and depression that now working through that its still an uphill climb ve made it farther than you but still ton of setbacks and four dropouts ve had good terms but the bad ones hurt',\n",
       " 'jan st is probably the day i will goi am sorry guys   i do not see my life as something inherently  good   its a pain  i think that this world truthfully is unsustainable  our society is embedded and relies upon minerals like lithium that is deplatable  furthermore  we are destroying our eco system with neo classical economics  which basically means that enviromental damage doesnt have a price in cold hard cash  our society seems schizophrenic  or at least the media  depicting bitcoins as valuable and report climate change as the next item  these are not just words  they are words backed up by climate science that is as old as the th century  politicians like carter did foresee a change in our welfare habits necessary  but voters did not like it  moreover  it seems like our education actually interferes with actual education  nobody sees the inertia  for more than sixty years even when we see the failure of our political system so clearly in the newly appointed president  we point the blame to the president  not the system this is just an observation i wanted to share with any reader i would hold dearly  for a long time i have thought about preparing for imminent war or disaster  but it seems pointless  these things do not happen overnight though they seem to the last few years  interpersonally i am pretty much socially isolated  fyi  i have been raised with the notation  it is ok to be gay  which i think quite frankly made me fall in love with one of my friends  this caused interpersonal destruction  maybe it is a gift since i do not think i would have observed the world in a neutral way if i did not have nothing to lose  anyway  i am dieing soon  i am just going to do it and be done with ',\n",
       " 'chaber books  bragadayjah   further restrictions on eating certain insects and birds',\n",
       " 'no  no  olivia is fine  infact  she is here with me  you have a meeting today to discuss and approve of a new project    he replied to him honestly  faith tilted her head to the side as she frowned a little in curiosity as she listened in on the phone call   ',\n",
       " 'no one will want to have kids with medont ask why i wouldnt be able to  just no one wouldnt  for reasons besides looks or personality ',\n",
       " 'this guy is clown he is on everyone comments truly believe he is miserable he tries to force feed his opinion awww poor baby looks for attention on everyone comments you definitely messed with the right one today honestly feel bad for you',\n",
       " 'dnt want empathy all ask is for someone who can hear me without judging and allow me to cry there is volcano of emotions inside me depression anxiety mentalhealthawareness lonliness depressed mentalhealthmatters infj gaydepression',\n",
       " 'hes trying to go on the campaign trail for big pay  we know what iran loving hussein is up to  no match for presidrnt trump who gives his salary to charity ',\n",
       " 'the same thing happened when australia introduced gun control  just rename the unemployment line to gun deaths and remove the stock market line and you have got a graph that represents it  also change the before and after ',\n",
       " 'i just wanted to see the ocean one last time its so beautiful ',\n",
       " 'it is not from antifa  it was a troll created by pol ',\n",
       " 'damn bro youre the one who mentioned other people with depression now youre talking with one you cant give fuck straight up room temperature iq there my man',\n",
       " 'lil  bitch  you can not fuck with me if you wanted to  these is cheap  these is walmart shoes ',\n",
       " 'may not show it but quarantine has actually made me go back to lowkey rlly depressed and bad state and now that we have school again idk how to get out of it and any kind of attention or affection from my friends literally makes me cry and just want and need attention',\n",
       " 'im stressed and depressed so its time to upload funny hq tiktoks to feel something',\n",
       " 'why tho why create more projects and cry about stress later on like an idiot work on bleach rebellion like the thousand people in your discord server want you to and stop delaying it even when you say the date is definite and will no longer be delayed',\n",
       " ' cough cough  loser',\n",
       " 'feel so bad for all the students out there for work we ve got bunch of training presentations today forgot how miserable online learning is',\n",
       " 'i am the trash',\n",
       " 'compare the coffers of greg photo op guy walden and jamie mccleod skinner and youll see that his treasure chest is in the millions from nra and telecom industry  anti fair and open internet anti reasonable gun control measures  for exploiting public lands ',\n",
       " 'ok but can mcr tell us if its just greatest hits tour or smthin please this stress is painful and dont like being led on want to know whether have any chance of having current music bc if not then can cry over the fact ll never see them live',\n",
       " 'antifa  lol  really stretching there  hee hee  hes going down for obstruction of justice too ',\n",
       " '  drinkingto the last dropwashing teapot',\n",
       " 'french ngo vows nothing will stop aquarius migrant rescues',\n",
       " 'where are the capital police  why let the leftist make a joke of our laws  ig repo proves seditious conspiracy uscode  ch   sec     yep yrs jail time',\n",
       " 'my depression story and plea for aid i have not done anything this public anytime before  always talked about these things only with good friends and tried not to say them aloud  tried to pretend all is okay  but the truth is  i just want to stop living and commit a suicide  but i will not and i cannot figure out how to live on without suffering every day i am   i would say i am an intelligent and educated person  i mean  i used to be an interpreter and i still speak three languages  then i was forced due to low earnings to switch jobs and despite never being a programmer nor understanding programming at the beginning  i became a tester who is now capable of writing automatization tests  learned on my own   with a pretty good rate of discovering bugs too  plus as a female  i survive in like   male field  but to be honest  i do not mind that much  i might even prefer it and get along with my guys   i earn enough to live on my own  parents live far from bigger city that provides my sort of work  so i had to move closer   to support myself and lately even save some money  i have parents who love me  sounds peachy  right  yeah   i am also depressed  i fight it however i can  therapists and psychologists never helped  despite trying my best to  help them help me   they never managed to  though  believe me  i tried to let them help me  i tried to help myself too  absolutely any way i could think of or could google  nothing ever worked for long time  i take mild antidepressives  prescribed to me because i started gaining weight and having bouts of devouring everything around  partially due to corticoids i had to take due to my worsened asthma  that was like two years ago  i think i know the source of my unhappiness  i have a thing regarding being rejected  began when i was a little pipsqueak  some not exactly pretty bullying  but that is story for another day  i cannot stand being ignored when i am trying not to be and being rejected  i am still an intelligent and well behaved person  so i take it in stride in public and joke when it happens  i even try to understand the people  remember the  coids from last paragraph  yeah  if you know something about them  you can probably guess that i am very fat  not yet american level  cannot move  obesity  but i am pretty fat  this is not anorectic blahblah   i am a little bit over cm tall and weigh    god this is awkward  i weigh kilo  crap  it sounds serious  but there  i said it  and i am not going to delete it   i live in europe and this kind of weight is seen pretty morbid in here  you can probably imagine that my weight makes men not view me as a relationship material much  i cannot exactly dress awesomely either  not much fits  and that is the core of my problem  i always knew i was a  pair person   it was always simply the fact of my life  i always inclined to having that one person and then couple of friends that i liked  but that were outside  my circle   so to say  i require a man  to be with me  i had couple of relationships  but they all fell apart in time  they were not short ones    year   years   months   year   as i said  i am a pair person and that means my natural habitat is in a relationship  i bloom  i was told i become a sun and shine bright  and i can take on anything  even on this nasty bit of business called depression  i just find joy and suddenly  i can   live    i have many hobbies and i do a lot of stuff  but when i am single way too long  to give you an idea  it has been years since i have been single  not to mention without sex which is very important thing for me  and these two years have been full of hardships and problems   depression creeps in and i just    lose interest  last three months  when i am not at work  i mostly sleep  or read  or play games  or do whatever else i usually do  but it is mechanic and i prefer to sleep  to be  dead  just for a little while  last month or so  i do not even want to meet up with any of my friends  i prefer to be alone  i am ashamed of myself  of how i look and i am very fragile now  and i am terrified that they would judge me or say something nasty and that is not something    i would deal with at this moment  so i do not meet anyone  i go to work  i come home and    do something utterly useless  then go to work next day  on weekends  i sleep like   of those two days  do not go out in the meantime  maybe you ask why i do not do anything about my weight    i hate exercise and movement  it hurts and the  endorphins are flowing   never happened to me  six years ago i frequented gym for a year and actually became rather buff and good looking  then pneumonia came  i had to be stuffed with  coids and all went to shit  the point is though  i know what exercise does to me and i know i hate it even long term    diets  i survive and keep sleep at bay only with energy drinks  i despise coffee  hate it   without them  i can not concentrate at work  i am just too tired and i am nasty to others and careless  not something a tester should be  liter per day of that shit  guarana tablets do not work  coffeine tablets do not work  coffeine gums  neither  on top of that  i have awful cravings for sweet stuff  it is a problem    the reasons before are real  but they could theoretically be defeated  if it were not for a damn deeply ingrained spite against the nowadays  society is penchant for judging people based on their appearance  society wants you to be sporty  thin  beautiful  otherwise you are not worth anything  it makes me incredibly angry  spiteful  depressed and sad and it just awakens a tendency in me to revolt  to force people to accept me as i am  to not intentionally diet and exercise to lose weight  it is a little piece of shit  this thing  pardon my french  and it makes me a weak piece of shit too i am exhausted from fighting  fighting tiredness  fighting being fat  fighting bitterness from being alone  fighting to wake up every morning  fighting to smile  fighting to be seen as alive  fighting to joke around and laugh to not worsen the loneliness  i want to die  but i can not  remember the loving parents i mentioned in the beginning  i had suicidal thoughts since i was like   and at i decided that as long as my parents are live  i  will  not  commit  a  suicide  they love me a huge lot and it would cause them endless suffering if their daughter died and these two people  they just do not deserve that  whoever reads this  if anybody reads this    please  help  help me somehow  tell me how to gain a bit of respite  tell me how to do something better  what to try  tell me about ways you know  maybe at least one of them might provide a momentary relief from incessant headaches and suffering and allow me to regain some strength  if i am forbidden to die  then i at least need a break from suffering  last three months have been so exhausting and torturous that it is just a question of when i will collapse from this crippling loneliness and anxiety and not go to job one day  starting another even more miserable spiral downward that might just force me to do the thing i forbid myself to do  just because i am fat does not mean i am not a person who does not deserve love    i am a person who is difficult to help  i know  but i still ask for at least    recognition  effort for advise  i really do not expect anything ',\n",
       " 'do not shame your entire country   you are not mad ',\n",
       " 'have all my tattoos hidden bc not stupid and wanna wait until in my career to get sleeves and nose piercings says the guy who in his and still has absolutely no idea what he wants to do with his life hate this shit',\n",
       " '  use what talent you possess  the woods would be very silent if no birds sang except those that sang best ',\n",
       " 'but lol here am pretending to be okay when in reality suffer from severe depression general anxiety and to top it off borderline bipolar',\n",
       " 'all ive been able to think about these past few weeks has been suicideum i guess heres the whole storystarting from late february early march  ive been starving myself  i lost weight   a lot of it   in about month  but or weeks ago i started binging like crazy  ever since then  i eat normally like days out of   ive nver felt this bad  about myself  about my weight  about life itself  everything seems really pointless  and its all because im eating  all i can think about is how to kill myself  when to do it  where to do it  i am still slightly underweight  but i cant even look at myself in the mirror without crying  usually followed by cutting ive been self harming for about years  last year i attempted suicide  by overdosing on prescription drugs  times  this year  this past week actually  i tried twice  the first one not even making me sick  the second one being taken about an hour ago  im pretty sure this is not going to do anything either  im hoping i at least throw up so i can get all the shit i ate out of my stomach  but  again  its not likely  i think about slitting my wrists  hanging myself  taking hundreds of pills all the time  i cross the street without looking  hoping i get hit by a car  ive stopped seeing my therapist  because she never helped  she didnt even prescribe me anything  she just  assumed   i want to die but at the same time i dont want to die fat  i dont know wha t to do  really  i just want to keep destroying myself little by little ',\n",
       " 'no one absolutely no one jobless people on twitter lets hate on someone since have nothing interesting to do in life and cant stand anyone who is happy and likes to be themselves on the internet',\n",
       " 'a comparison of two presidents  president trump versus president obama   their first days',\n",
       " 'he is',\n",
       " '  lmfao oh nah she keep it three hunna   twitpic a selfie if u a ho  ',\n",
       " 'you kno i love stuffed clams bai',\n",
       " 'i feel guilty after telling my dad i have suicidal thoughtsi feel like i was just faking it the whole time and now i have to actually do it to prove i was serious  dumb as hell i know but thats my logic ',\n",
       " 'my crybaby side comes out when im sad stress depress and pressured',\n",
       " '  breaking  yankees acquire lebron james in a team deal per sources',\n",
       " 'he is u    let me know if you have any more info on other clubs  i am definitely interested  thanks alot ',\n",
       " 'illegal alien accused of trying to rob  stab woman in home invasion   breitbart',\n",
       " 'bit of an arrogant kunt are not you gerry ',\n",
       " 'man hate life feel absolutely numb feel nothing why does my trigger have to be some pop song from the am sickkkk of this',\n",
       " 'would you be interested in some eggplant    twerk on me',\n",
       " 'omg you are',\n",
       " 'we went from being depressed and almost dying from stress at school to just depressed at home',\n",
       " 'it worldmentalhealthday and not ashamed to admit suffer from generalized anxiety disorder panic disorder and severe depression take pills day between two meds but it took me years to find the right combo of meds and dosage don give up you re worth it',\n",
       " 'i have an idea  detention centers would be reduced dramatically if not eliminated  problem solved ',\n",
       " 'i thought liberals got rid of high school shop class',\n",
       " 'hate to rain on the parade but this is most likely a     arkansas team they beat  glad for mason as he is a great player but the team they beat would not be competitive in c usa',\n",
       " 'damn wonder if this is related to the president openly threatening to starve the financial capital of the country during second great depression',\n",
       " 'beast boy is raven is and robin and starfire are both at least in their early thirties',\n",
       " 'think about why the ndp one it is because people are sick and tired of how conservatives run government and the ucp was supposed to be a different type of conservative but it is not',\n",
       " 'an obvious last minute liberal ploy to delay confirmation  more dirty tricks since the liberals lost the previous election ',\n",
       " 'ssa writing services will be the death of me no dont want your help cant cheat for the life of me would go and cry to my professor that the worst if ever agreed but am still going to complain on twitter because thats how handle stress',\n",
       " 'literally so depressed right now want to c  up and cry for days why the fuck does everything that been going right for me have to be reverted',\n",
       " 'but the liberals do',\n",
       " 'sometimes think about when fill out those forms with illnesses in your family like depression schizophrenia bipolar never stood damn chance man this isn even fair',\n",
       " 'sorry ve been distant the past few weeks ve been struggling with depression amp physical symptoms also hurt my spine within the past week in manic episode by not giving myself break keep pushing myself and breaking down when push myself too far',\n",
       " 'he is quite right  its the sheer numbers that are changing countries and communties forever  ask yourself    why is it only white european countries that have to undergo mass immigration  does not happen in muslim or african co',\n",
       " 'the fuck is  proof  in a rape case    like how do you want us to prove it  fuck off ',\n",
       " 'i can not take you serious if you wear colored contacts ',\n",
       " 'have never seen both my parents so sad and depressed both of my parents now have sisters who are in hospital with terminal cancer and it so hard to be home like want to be strong for them but myself wanna break down and cry',\n",
       " 'kys you stupid nigger i hope you die of cancer you little cunt',\n",
       " 'i am going to start making a plan     live at home  stuck on ex  this is all so stupid  i am thinking bathroom  closet  or hotel room  i am a good person but i am a loser ',\n",
       " 'right  she got a whole army behind her so dude better stop acting like a little bitch',\n",
       " 'just cause you pussy boys get a strap don mean you a shoota  ',\n",
       " 'what an amazing  proud day it was today for and   time for bed  good knight ',\n",
       " 'you are the racist  serenas outburst and pure hate was the worst i have seen in tennis',\n",
       " 'so stressed and in weird mood today have this appointment tomorrow and just thinking about it is making me cry already about to start searching for answers and taking care of something again something just live with and just want to forget about',\n",
       " 'brilliant job by to limp it back to the pits without causing a yellow  wish he did not need to though ',\n",
       " 'how do you banish the thoughts i have battled major depression for about years now  most of that time i have been able to maintain hope and hurting myself had not been a thought  a few years ago i lost sight of the light at the end of the tunnel for a long time and i considered suicide from a rational perspective    in that if things did not start turning around in the future there was not much point in continuing the fight  lately though i have been overwhelmed with somewhat irrational thoughts of just ending it all and i can not keep them at bay  telling myself they are not rational is not helping i am getting kind of concerned and a little scared  we have increased my medication but i am not sure if it will help  can anyone share things that have worked for them to help keep those thoughts at bay  or at least keep them from becoming compelling thanks for your time ',\n",
       " 'god damn had to stop talking to someone and all got was heartache and depression',\n",
       " 've been up for day now and want to cry because stressed but it my fault lol',\n",
       " 'cheers to the lost onesraising a glass to you all  we are just a bunch of misfits fighting these painful feelings together  anxiety  depression  putting on the fake smiles for friends and family  wanting to just stay in bed all day  or not wake up at all  we lost some  and will lose plenty more  but for now we are all still here fighting it together  i salute you all  my fellow hurting brothers and sisters  to those we lose  i wish you peace  to the ones battling to get through the pain  know im here for you and i hope youre here for me ',\n",
       " 'universities and colleges wondering why students have been more stressed anxious and depressed this semester',\n",
       " 'my year old sister attempted suicide friday  looking for some guidance  she is currently at the hospital still in psych and we have been helping her with treatment for the past year  but i am at a loss on how to communicate with her effectively and positively anymore  i do not want to upset her and i want her to trust me   i am just looking for some sort of guidance on how i can go about this  i am so lost  i love her very much and want to help her as much as possible  not sure where the correct place to post this is ',\n",
       " 'if you are fearful to go down rabbit hole  then those who spread oppression  have you right where they want you    controlled   ',\n",
       " 'how did people respond to tweets today friday sep        utctop hashtags  influential accounts ',\n",
       " 'have lived with depression for the majority of my life my family keeps me here as hard as it gets sometimes wouldn do anything to hurt them',\n",
       " 'seriously  reading nothriller  like books spook me more than most horror movies ',\n",
       " 'i am so alone and just want someone to say something kindplease help  at the moment i have gone through a complete feeling of loss of meaning which has been going on for years  i am current now with zero friends  the last time i spoke to someone from school was months  i used to have passions and be happy but i have not felt it purely in years my long time girlfriend just ended our relationship over text with so much sadness between us and i am still in love with her but she did it in the kindest way  she was just holding on because she knew my situation  i am currently on summer break waiting upon my results that determine if i go to university and i do not feel too confident despite my best efforts  my mum has severe mental illness which leads her to kick me out the house for the most minute of reasons that can not be avoided or reasoned with  i have been homeless for a few months throughout the year ive had a small part time job for over years but it is not enough to support me and i feel like i do not belong in the company or anywhere  if i do not find a decent job or go to uni i am going to end up homeless with no friends and no family that cares  i have applied to so many jobs and got amazing feedback but someone else always gets the job and i am so tired or trying  if you think there is someone that cares  there absolutely is not  i am totally alone and despite me trying to reach out nothing works  i fear for the worst outcome and i am considering ending it which i have come so so very close to in the past  i am so fucking desperate  any encouraging words please  i need any sort of comfort or just anyone to talk to  someone please say something nice ',\n",
       " ' america  russell brand mocks bill o reilly for proposing berlin wall against immigrants  video   ',\n",
       " '  whatchu sayin hoe  you know im the man hoe',\n",
       " 'yayyyyy love u guys sm',\n",
       " 'ifobamawerestillpotus wouldnt want to tear my hair out cry and stress eat amp ms after reading his tweets',\n",
       " 'awake at damn near in the morning getting my ass kicked by this depression lol',\n",
       " 'september   stop the fascist nvu in   ht',\n",
       " 'i just want someone to listenive been suffering from mental health issues  not diagnosed yet bc im not allowed to  since i was   now  i do my best to change my thinking pattern but it always comes down to  i want to die because i cant take this anymore  i dont see the point in living  i cant seek professional help because i am not allowed to by my parents  i cant simply move out  i live in a country where the culture doesnt allow that and no relative or anything will support me  and its a pandemic  i cant do anything  ive written out a note twice this pandemic  i just dont have the means to actually do it  not enough pills  slashing my wrists is grim and i dont want my siblings to find me like that  please dont give me any advice  i just want a viable reason to continue when im so tired and in such a toxic environment ',\n",
       " 'actually that is any benefits which would make a immigrant a  public charge  law on the books for over years not entitled to hold a green card or become a citizen but wont enforce it   that is why   of mexican and central amer',\n",
       " 'let is go all the way',\n",
       " 'please help we are in such dire need car is broken down and rent behind as well as utilities suffer from severe aniexty and depression have been put out of work by my doctors cant take much more please help also have cashapp',\n",
       " 'not all men are trash  but some are  just like not all muslims are terrorists  and not all women are prostitutes ',\n",
       " 'tired and consumed by suicidal thoughtsi am not sure how to start this  but i have opened up to a friend recently on having these thoughts  she has a lot going on  and i worry i am triggering her by confiding in her  she often does not respond  mostly because of her own issues and i guess i do not let it get in the way of me being there for her  and i try really hard to not project my feelings and issues onto her  and i try to put my difficult times away to be there for her   i genuinely feel like a good friend and i truly have a kind heart  so i do not want people to think i just constantly dump things onto people and like  get attention  i try to not talk to her about these things  but she just has always been that person who gets me on a different level  it is just really hard to be there for people when you are screaming out for some help of your own  and then i feel like garbage because i should not have let her know these things when she has some difficult things going on  but i feel like she does not care  she knows i am pretty prideful and stubborn  and i would not say something like that just to say it  i guess i just feel like no one takes my feelings seriously and i feel like i get ghosted by people all the time when i do open up  and it makes it really hard to feel validated as a person sometimes  i am so stressed out from work and school  so consumed by thoughts of just not being here anymore that interrupt my concentration on school  that i am having a hard time staying present  joy is ripped from the things i love  and it is so hard to cope  and it is just really hard when people just show they do not care  even if they do not realize they are hurting you  i do not know  i just do not know how to deal with them  and maybe i need reassurance that someone would care if it did happen  my friend shows me she would not until it is too late   and any one else i have tried to gain the courage to tell usually just does not respond  or states something more like  be positive  and mindful   and it is hard  it is hard because i do not want to give these thoughts a voice but it is eating at me so much that i can not contain it  suicidal thoughts are not necessarily a decision to do anything or a real desire to do anything  but they are a start and i am terrified that there is just one step between me and it  i am devastated by images of my family mourning if i did this  i love them  they are my everything so i have a really hard time accepting that i could hurt them or even have thoughts of doing that   but the pain is so bad sometimes  and sometimes it feels it could outweigh theirs  i have chronic health issues and a long history of anxiety and depression  both related to physical health and just the balances in my head  and it just feels like my future is really bleak  i need help  but i do not know where to turn  i do not want to place all of this on friends or anything  but when you want to be shown some sense of   being  they are the ones you reach to when you are slipping sometimes ',\n",
       " 'josh  thanks for including cock a doodle oops  in this list of amazingly illustrated picture books  i love deborah zemke is just before sunrise   illustrations   ',\n",
       " 'is the u s  preparing to house migrant kids on contaminated sites ',\n",
       " 'its been long wait but we want to wait until after roadtrip were taking mid july so it doesnt have to be stressed by being boarded immediately and then we have to find petco that will let me hold them bc if get one then find out im allergic after well will cry no cap',\n",
       " 'life could be nicethats the worst to me  to know that it could be different  i would say i try my best  but somehow it gets worse  rotting alive    becoming weirder and weirder    my thoughts becoming darker  idk what would be the best to improve myself    every decision i make ends in faillure and my situation has become worse ',\n",
       " 'was unhappy and depressed and in dead end corporate career with high stress low reward management passed me over for countless promotions then it got worse was fired from my job and my career was in shambles',\n",
       " 'president trump is economy is the rising tide that is lifting all boats  this is especially true for hispanics who were among the biggest victims of the low growth  high regulation economy under obama   hispanics flourishing in trump economy   ',\n",
       " 'jerry offer would have paid him day every day for years and that wasn enough for dak mean come on hate that he got hurt but it not like jerry jones didn offer him absolutely life changing money',\n",
       " 'had depressive bout that year and chalked the night terrors up to symptom until one of my roommates described the same types of night terrors and also got depressed it possible we were both stressed but believe an environment can have an effect on your mental',\n",
       " 'mandy manning  one of world relief is friends and partners has just been named national teacher of the year for her work with and students  read more of her incredible story ',\n",
       " 'i remember back when there was the big sit in   by the democrats  they tried to push through gun control laws  republicans responded by putting forth of their own  democrats voted against everything republicans put forward  instead of accepting compromise  they voted against  ',\n",
       " 'sometimes i just wanna crash into psychic reading places and ask them if they saw that coming   ',\n",
       " 'i truly hate livingobligatory i am on mobile  so format will be unadulterated trash  as well as this is decently lengthy  get a snack i cannot remember a single day of my pitiful existence being remotely enjoyable  every memory seems to be  at best  apathy  at worst  my memories are filled with contempt  even my dreams are plagued with a call to the proverbial void between the excessive feeling of self hatred  loneliness  failure  mental disarray  and overall depression  i am beginning to have the wonderful nag of self termination  i would say suicide but let me be a bit avant garde  that word began to bore me with time   each day feels dreadfully extended  every second is filled with a feeling i could almost describe as regret to my birth  it certainly does not help that i cannot connect with other people  i have friends  had friends  and will have friends  but  they all feel so dimensional  as if i can only observe them and not interect if that is a clear description of the phenomena   because of this looming emotional flaw  i will never have a relationship that feels gratifying for the sake of love  never can i be involved in romance  as i am incapable of expressing depth of such a remarkable emotion  to those who can or do still love  whether superficially or deeply  cling to such a miracle  i only fail in school  my motivation erodes with every second  leaving me nothing more than a disappointment whom steadily adds to debt  what was i thinking  engineering is for those who seek a better world  i want to escape it  with each failure  i see more reason to flee from my self created hell  if only i could properly type the details of my suffering  it is all too existential to describe in clarity  let it be known  in my few moments of lucidity  i demand my death from myself  purpose never having existed  happiness but a fleeting memory  and suffering all encompassing  the only bulwark against my imminent display of cranial ballistic testing is a macabre curiosity of tomorrow  and the next day  and the next day  and the next day if you made it this far  than you have my thanks  yet  i have a request  reddit  do tell me why i should not take a visit to the lead express while having my last cigarette  and none of that cheesy shit like  but your special to someone  or  but your family   so  have a goodnight or morning i guess  and be suave in all things ',\n",
       " 'won be streaming tonight sorry feeling depressed and just want to cuddle with my dogs and cry lil',\n",
       " 'just wanna sleep all day and never leave my bed or do anything want to just sit and do absolutely nothing because its exhausting and hate doing things so just want to be disappointment and lazy person for the rest of my life',\n",
       " 'so stressed and confused just want to cry hate amp every single thing about it',\n",
       " 'you are beloved ',\n",
       " 'minutes is the one that had bragged about her and her story  you guys thought it was great she was female ceo  that was your story  now she is the evil one  cbs   why do not you verify before your reporting  ',\n",
       " 'please advise where i can go to sign the petition to stop your petition ',\n",
       " 'my brother just hugged me so hurt ebile ke tlelwa ke depression',\n",
       " 'in need of some guidance i have been struggling with moderate to severe anxiety all of my life  my greatest fears are losing people i love and failure  last night i had a total breakdown  was left home alone  and spent most of the night reading motivational anti suicide websites and sobbing  while clutching bottles of adderall  ativan and another antidepressant i was prescribed for sleep  ultimately considering overdosing  i managed to get too tired to clearly think it through  after taking a single ativan prior to my breakdown in hopes to soothe me   so i went to sleep and here i am  asking for help my parents are older  in their s  and collectively not in the best health  long time smokers  alcoholics  etc   but they are good people overall and i love them  so of course i do not want to lose them  my mom has severe bowel issues and may have colon cancer  my mom is my best friend and a lot of my anxiety is stemmed from the thought of losing her  just picturing it makes me cry  and i am tearing up now just typing this as of late  i am   my anxiety has gotten worse  i am afraid to go out in fear i will have a panic attack and have no way of getting home  my apartment was almost broken into a few months back  so i can not go out without fearing that i will come home to a ransacked apartment  my cat is also sick a lot  has heart issues and faints from time to time   so i also have her on my mind while i am away from home i am also in a lot of debt  a couple years ago  i seemed to get a somewhat decent grip on it  but now i have around         in credit card loan debt  and about    k in a student loan that is thankfully deferred at the moment  most of the debts are due to my cat getting sick  in and out of the emergency vet about five times in the past year  which cost me around      a visit  and my car having trouble  new transmission  and i can not afford to invest in a new one   i would chuck the car if it were not for the fact that my sister recently had a baby  and i would like to be able to easily visit them every now and then  i am really terrible with money  and spend it on dumb things when i am feeling sad  my therapist said i was a compulsive spender and tried to give me tips on how to avoid spending money  putting things in a basket  going to do something else  come back to the computer and if you still want to buy the stuff do it  if not  do not   the sadder i am  the more money i spend trying to make myself feel better  i buy a lot of expensive clothes to distract from my insecurities  my hair started falling out in my early is  so i buy a lot of hair products to mask it and have even bought a bunch of wigs to simply cover it up i switched jobs to try to move up the ladder in a local non profit and i am miserable  my boss is a crazy type a personality and while she is a nice person  she does monitor my activity at work  says things like  wow  you have been wandering around a lot today  if i go to simple places like the bathroom or take a few minutes to chat with a work friend  the money is good  and i am not in a position financially to simply switch jobs  plus i like where i work  my boss is temperament just adds to my anxiety  my job before was with an amazing  understanding  fun supervisor who never cared what i did as long as my work was done and i did not make her look bad  i was sincerely happy going to work every day  never called out  and i had fun  but the work itself was boring  there was limited upward mobility  and i needed more money and something that actually required a bachelor is degree to validate actually going to college to compound all of that  my three closest friends moved away to various areas in the country in the past year to fulfill their life goals  so  aside from my live in boyfriend  i really do not have any friends  that entire experience was pretty traumatic  and did spend a few weeks after the last friend moved crying in bed alone i struggle talking about these things with my so  as he has a pretty strong group of friends  and i do not want to burden him with my troubles  i know  i know  that is what he is there for  but it is a lot to handle when your girlfriend  who seemed for the most part put together  strongly considered suicide the night before while he was out with his friends i have been to a therapist  and i am going to schedule an appointment to go back to see her  i had stopped seeing her in december because we were able to work through my anxieties and she gave me this great self help book on coping mechanisms for when i have a panic attack i just feel like the past month has been hell for me  and while i do not want to take my own life per say  i would not exactly mind if i died naturally in my sleep tonight i guess i just need some help as to where to go from here besides simply reconnecting with my therapist ',\n",
       " 'is it considered suicide i have a friend who is really depressed  she has a genetic disease that is basically a ticking time bomb  she just wants to let the disease the course because she does not have the heart to do it herself  i have been trying to talk her into going back to the doctor and trying to manage her disease but she will not listen  i want to help her  she has three kids  and she is basically setting herself up to die sooner ',\n",
       " '  when you look like trash and someone compliments you',\n",
       " 'the giants trash',\n",
       " 'feel like am in when india has only gprs fortunately had blackberry services so bit better internet that time too today in internet over vodafoneand jio both are in miserable condition telecom in india is in its worst stage ever',\n",
       " 'how many immigrant kids were reunited with their parent today ',\n",
       " 'because he admitted he was dealing with depression he doesn have the stuff to play football and lead team damn skip the level of idiocy from you reached new high while you as person reached new low',\n",
       " 'and states that she went to save herself from online abuse  if she wants to live in peace then why she is not taking case back and asking relatives to attend hearing  contradictory statements and action ',\n",
       " 'as someone with depression anxiety crapton of other emotional problems my stomach hurts psychosomatically lot when upset about something and lot of little kids say my stomach hurts when theyre anxious upset about something and dont know how to express that',\n",
       " 'there lot going on today don have energy tired af stressed and depressed jeon jungkook thank you so much',\n",
       " 'when i took my likkle monkey jimmys',\n",
       " 'i need sleep but can not seem to get that place that let is you clam down and sleep',\n",
       " ' amp  you are myy brotherr',\n",
       " 'words    words    monday is a different day   ',\n",
       " 'and a half week update since i tried to kill myself hey guys im back as i promised to keep you updated  a lot has changed since then  me and my ex are back talking again  there some flirting and a lot of sweetness between us and there is definitely potential for progression in our relationship  im still at a lost cause in terms of what i want to do with my life from here and what i want to make of my future and career  about one week ago  i tried taking magic mushrooms  since then  i have felt completely disconnected from any depressive suicidal thoughts and i feel completely at ease from my mental illnesses since trying them  in a way i almost feel cured  seems crazy but it helped  i have been relaxing  doing my own thing  enjoying being alive and other people  the only thing that is getting me down is what i want to do  i know   that i would absolutely love to be a pilot  although  unfortunately it is very expensive and there are no apprenticeship programmes available  it hurts that i know how badly i want to be a pilot  but it is just impossible right now  id like to thank all of you again for pulling me through this  for supporting me and for loving me when i needed it most  if it werent for anyone of you  i wouldnt be here today if anyone at all wants to talk or chat please dont hesitate to send me a message  i will talk about anything and i am more than happy to help and support thank you all much love m ',\n",
       " 'ai not that the truth',\n",
       " 'president trump has an announcement to make ',\n",
       " 'maybe just stop keeping track of games all together maybe sit out being fan of any sports team since you can ever say anything positive can tell from your tweets alone that you suffer through severe depression',\n",
       " 'if you think i was referring specifically to you then you misunderstood  you attacked someone without a uterus saying they have no say on reproductive rights  using that argument then if you do not own firearms you have no right to comment on gun control ',\n",
       " 'deservingfeel like i should die because therapist said i was not putting in the work to keep my life structured and better  i am doing even worse than other clients she had that were younger  i do not deserve to live but i am just so scared of jumping off the balcony  i wish i killed myself before when i had access to a gun ',\n",
       " 'followed all new   maga  please follow back ',\n",
       " 'i like them dark  light  carmel  white  red  tan  yellow  blue  purple  green  it doesnt matter what color they are',\n",
       " 'it is easy to give advice   but do you really think that if you could step into someone is shoes and live their miserable fucking life  you would be any bit optimistic and prone to this desire ',\n",
       " 'he is a millionaire  trust me he will just fine ',\n",
       " '  when you try to tell grandpa that s music was trash',\n",
       " 'i think about  it  every daynot really sure why i have created this throwaway  or why i am posting  i know the responses i will get  hell  i have posted on this sub  positively  before when i felt i had something to contribute here is the thing  i am in my late thirties  i own a small business and employ about people  it is very stressful  i work constantly  and am in constant fear of making a mistake that will cost someone their job  i have had flings but no serious relationship for many years   work is my life  and i am done with it  the smallest tasks feel like mountains  things i used to breeze through now fill me with dread and i know what the responses are  talk to someone  take a break  i can not  talk to someone  some family practice shrink who reaches for their scrip pad as soon as they realize they do not know what they are doing  talk to my friends  with their own families  with their own significant issues  no  and a break  not possible  maybe in a year or two  when i have hired someone and groomed them a bit  but not before then so here i am  the    days without work i have snatched over the last two weeks are blissful but remind me  i dont want to work tomorrow  but i  have  to  and with anything  that is always the answer  right  no matter what you feel  how tired  how depressed  you just have to keep grinding  keep going  things will turn  but i am tired  i do not want to grind anymore  i do  but i do not  if that makes sense the things i know will help      months off  heavy time spent with friends doing nothing   is not an option  i can not take that time off  and i can not ask my friends to just pause their lives to correct my issues so i dunno  ultimately  i doubt i will do  it    too much of a coward   but every day  it is a constant option that gets better and better sounding  and more and more just a question of when  rather than if i will not be logging in again with this account  already forgotten the pw  so no pms  still do not know why i am posting this  the  in a million chance someone posts an  a ha   moment  no idea ',\n",
       " 'when you are lurking on your ex is social media accounts',\n",
       " 'what does mean for s  ',\n",
       " 'have i posted this already fentanyl    in the uk hook up for that would be appreciated ',\n",
       " 'antonio sabato jr  im an immigrant and i suppo trumps wall    watch full video here ',\n",
       " 'love fall amp spooky vibes but damn really hate seasonal depression',\n",
       " 'my father started drinking again and i can not take it anymore my father is an alcoholic  at least once every year he just starts drinking and turns mine and my moms life into a living hell  i feel so stressed because i know this is gonna go on for at least a few months  and there is nothing i can do  i just feel so stressed because this combined with school getting harder and more stressful makes me just want to kill myself  and the worst thing is  i know that even if in a few months he stops  it is gonna keep happening again and again because he is an addict  he went through several rehabs and they never work  my mom is not going to divorce him because she does not want to  despite him doing so many terrible things to us  i have been laying in bed for hours not being able to sleep  and too lazy to do anything  i feel so powerless i just want to end my life ',\n",
       " ' in my judgment  the process which was adopted by the secretary of state in the present context failed to comply with the requirements of procedural fairness as a matter of common law  so immigrant children were lost  literally lost  h',\n",
       " 'remember when antifa was respectable and intimidating   me neither lmao',\n",
       " 'she is ',\n",
       " 'that much projection is even a doozy for far left democratic socialist antifa members   amazing ',\n",
       " 'did everyone else is parents use to refer to the power puff girls as  powder puff girls   or were mine just exceptionally retarded ',\n",
       " 'nice to see the guardian acknowledging that mass immigration destroys culture and a people is identity  i sure that was not the intention of the article  but it is the truth ',\n",
       " 'live in fear due to the threat that mine and my daughters benefits could be stopped at any time suffer from fibromyalgia arthritis severe depression ibs possible ibd retro patella disease and all the symptoms that go along with this',\n",
       " 'feel so stressed and want to leave was about to cry just don feel good today',\n",
       " 've got tummy ache already in bed feeling miserable anyway just feel like fuck twat today',\n",
       " 'this world is too hard for meand im a little bitch',\n",
       " 'i am a terrible person who will never find lovei am   turning in august  i have never had an ltr or piv sex  just blowjobs and hand jobs  this has made me really bitter  i just want to be loved  it would make me feel much better about myself if i could find someone who loves me  but that is not going to happen  i have accounts on reddit  all banned from  r askwomen beecause i was mean and said some misygonistic things  i wished rape on several women on there   i know that is terrible  and it makes me feel terrible  i just do not know how to vent my anger properly  knowing that i have been banned on all accounts from  r askwomen just goes to show that no woman will ever find me desireable  on top of that i do not even have a steady job at the moment  i am so tired of hurting ',\n",
       " 'weeks still meg gets married and ve my biggest assignment of the year due that week and want to sit and cry with stress of it',\n",
       " 'recently saw a friend attempt  it is brought back a lot of memories of my own attempts and i am back in that place again i have a fairly long history of nearly constant suicidal ideation  ages to   and a number of serious suicide attempts in that time  i survived all that  somehow and for the last years  i have been actually  pretty good   it was about a year ago i realized that i had not thought of ending my life once in the prior week and that was an incredibly satisfying realization  i do not think i have ever been completely free of this  but there is a difference between  my life  sucks  i should end it  once a week and constantly planning   searching for methods that takes over my life  but a few weeks back  i saw a friend attempt  stopped it  took them to the er  stayed with them during intake and visited them quite a bit while they were housed in inpatient  for most of it  i was thinking that i should be the one that was locked up and i kept on walking up to the nurse is station  wanting to tell them they should hold me  but i could not find the guts to do it  after we left the hospital  i had a bit of a breakdown  i kept a fairly decent  i am ok  face on  but underneath  i am a complete mess  the ideation and searching for methods has come back and there has been a fair amount very intense depersonalization as well  the strength of which is new   as well as immense issues with concentration and a feeling of falling if i am not moving  anyone else go through a similar experience  any advice ',\n",
       " 'thank you for adding me razor  patriots  if you arent following my primary account   will you take a minute  amp  follow me  thanks  amp  maga',\n",
       " 'i know  why should they ',\n",
       " 'all ever take look at your room and think damn my depression is starting to show',\n",
       " 'and they are dead wrong  migrant workers are eligible to come here on visas that allow them to work to do those jobs  need not apply',\n",
       " 'former towie star charlie king comes out   congrats and welcome to the family',\n",
       " 'my career is screwed up  i am almost   i am single and alone  and my family has abandoned me  why am i still doing this i have already been sent to the hospital against my will last year when i was fired the day i went into a surgery i needed to have  i have been through jobs in the last years and my current one is about to go too  they are in bankruptcy   i have been spending the last years struggling to find and maintain employment and have been treated so crappy by employers that i wonder if i have any value at all  i worked so hard  put myself through college on a scholarship  the only person in my family to have a degree from a good school  and it is all for nothing i do not want to live like this anymore  every day i just think about my plan and how i am going to do it  every single day it goes through my mind  i spend most weekends sleeping in  i avoid people now  i have not been in a serious relationship in years  i have a hearing disability that is subtly used against me at my jobs  i have just had enough   of the abuse  the abandonment from my supposed friends  the medications that make it impossible to have any sex drive  my parents hated each other and i was just a chip to be used to extort money as a kid  i lost my home and had to file bankruptcy years ago  now i am about to lose my apartment too after having moved for a job that laid me off a year later  i fucking hate myself and the life i have  i am almost and i have nothing  no matter how hard i worked to find success or at least happiness  i just do not want to hurt so bad anymore ',\n",
       " 'gobble de gook',\n",
       " 'suffer from severe depression and ptsd was nearly shot to death the only ones that should be ashamed are the ones that caused it',\n",
       " 'ya have done mistakes and gave an apology about it don think you deserve to keep getting hate and especially telling that they ll take your life is absolutely vile doe don let the hate get to you ness xoxox',\n",
       " 'if temple beats rutgers today  i will be a happy clam ',\n",
       " 'im not in any danger i just want to vent ive been struggling with depression all my life and my family isnt really the best  my mom stole all my money which i was going to use to buy a car  she told me that she hated me and wished i was dead  my family isnt the type to understand why im suicidal and i wouldnt want to talk to them  i live with my grandma and after she passes i really will be alone  im scared',\n",
       " 'i did not ask to be adopted  so why are my parents making me feel guilty about it i was adopted into a family with a narcissistic mother who is emotionally and verbally abusive  she always tells me that i should be grateful that she adopted me  like it is something that i have to pay back  i did not ask to be psychically and emotionally abused  i did not ask to be told that i was worthless to the point where i have internalized these feelings and want to end myself  why is my mom doing this  is it just because of the narcissism ',\n",
       " 'probably really had more to do with rubio ',\n",
       " 'grow up with tears stressed overfeel and too much depressed hbu',\n",
       " 'immigration officers compete on arrest numbers to win cake',\n",
       " 'fuck it  today is the day i finally do it fuck life  everything is shit  always has been  always will be  i am fucking done  i am ending this shit today ',\n",
       " 'politically  i call it rape whenever a woman has sex and feels violated  catharine mackinnon',\n",
       " 'syria is military continues to advance in the south west',\n",
       " 'trash ',\n",
       " 'i will teach you how to create your own exclusive  online notraffic economy  so you are never short of leads and sales again',\n",
       " 'youve been selected by liberals  are you cheating on your voters  you should have changed your mind before the election ms  alleslev',\n",
       " 'also he is not even accused of rape ',\n",
       " 'damn youre good guess why gf broke up with me couldnt make you happy no shit thought most people had at least general concept of how depression works but guess not lol',\n",
       " 'i just woke up in the middle of the nighti just woke up in the middle of the night feeling like theres no escape  i want to kill myself  no one likes me  no one cares about me  and i can not think about positive things  even when good things are happening to me i am still sad  when looking back  i only think about the negative  i am currently crying and have been for an hour  i am a year old boy with a loving caring family and a nice house in a nice town but feel like i am letting them all down by being sad  i am nice to everyone but no one is nice back  i am going to a private school next year with two of my only friends who luckily only got in and i should not care about anything at my old school anymore because i probably will not see these kids again but i just can not stop thinking about it  i can not escape ',\n",
       " 'hani  amp  his family are from aleppo  syria  after resettling to the u s  the support of world relief empowered them to open a catering business  aleppo buffet  which serves syrian inspired food you  too  can empower refugee families    ',\n",
       " 'some are oval and some are pink some are blue and some are just yellow',\n",
       " 'was talking with earlier today about my main issue with it bonds character arc from the last three films goes out the window and he is reduced to being smarmy miserable cartoonish jackass who isnt likable at all feels like it backslides entirely',\n",
       " 'as long as its not one of those  special brownies  right ',\n",
       " 'absolutely hate what brexit has done to this country but people who were not paying attention and had suffered the worst of austerity so are right at the bottom of society just thought my life cant get worse but can actually force substantial change in my country',\n",
       " 'apricot kernels     i want peaceful send off  is this enough to do the trick but not be so much to be painful  they seem to be very potent as taste is super bitter',\n",
       " 'gimme one good reasonit honestly makes me laugh when people give reasons to not kill yourself  think about your friends and family   umm ill be dead i wont feel guilt  youre life can turn around if you die it cant   well first its been proven time and again to not turn around and two  it doesnt matter if it could have coz ill be dead  you are not alone   okay well sucks for them too  i think people use these cliches and empty platitudes to make themselves feel better  family and friends who dont want you to do it are operating out of a place of emotional self preservation  not their fault  just find it funny sometimes  like calling helplines is honestly a joke  i just end up arguing with them  anyway  was curious if anyone had heard reason that actually made them think and werent inconsistent ',\n",
       " 'already',\n",
       " 'transurban privatises the gains from mass immigration',\n",
       " 'there was time was too stressed out amp went to vacant block no electricity too next to my dorm to cry at am in the morning just to cry didn care bout ghost or whatever shit anymore just want to cry my heart out came back into my room and ssup everyone haha',\n",
       " 'my birthday will be in couple of weeks wanna to get excited for it but damn all the crap that happened this year made it so damn hard to seems to have that effect on not just me but almost everyone this year has my depression amp mentality levels up down amp sideways',\n",
       " 'woke up with killer sore throat that feels like needles poking me and is making my eyes water constantly can go back to bed and restart today today my fall shopping day and this better not make it miserable',\n",
       " 'how about he start some get informed   classes for his uninformed players   ',\n",
       " 'multiple sclerosis  cluster headaches  and fatiguejust posting this here as well then getting a shower  i just posted for advice in  r clusterheads  but i am gonna quote it here too  since it is a bigger community here and i am really desperate for help  cluster headaches are their own monster and i am not going to go into them in this post  but if you know them you will know their nickname and if you do not  well  i would suggest not reading into them too much if you are easily upset anyway yeah this  gt  do not think i have ever made a post like this before so sorry if it comes across as a bit self involved in wording  gt   gt  i am a year ech sufferer and a while after my first attacks started in   i developed comorbid multiple sclerosis   ch and ms diagnosed in and respectively  my initial ms flare up is probably to thank for the neurologists giving my headaches the proper scrutiny  my first two years were total hell  and the last three have not exactly been purgatory either   same old story etc  you all know  gt   gt  anyway  i am just wondering  i am used to getting my life together between cycles  as much as i can  i normally get one around this time of year  and i think the shadows have started  which means i am likely to go in soon  i am just not ready  my fatigue levels in regards to ms got absolutely destroyed over summer  my quality of life is completely fell apart  i am finding myself more and more not wanting to see family or my girlfriend or anyone  my girlfriend especially is a recently qualified icu nurse and i just can not bear the idea that after work she would not be able to switch off  gt   gt  i know i have depression  fucking obviously though tell me who here does not   but i have made an attempt when i was a teenager and ever since have been deathly against suicide  so much so that i can not even joke about it  but the simple fact is it is becoming hard to see any logical reasons as to why it would not be better and more moral to leave  gt   gt  i have met some seriously strong people who suffer this kind of shit and they are still going  if you have had something similar and you have got it sussed what was it that helped ',\n",
       " 'this new refugee ban will not make us safer ',\n",
       " 'i think this might be it why guess i am going to jump right in  after years of dealing with depression i think it finally won  i have always told myself and others there is another way out you might not like it but it is there and we will i stand corrected  i have tryed everything meds  therapy  talking with the few friends i have let   most i lost and some just draw apart   i have little to no family left vary few friends a wife who my best guess is want to leave me and about everthing else you can think of to bring a guy down  how now i am thinking bullet to the head but that alot of mess  i can not slit my throat tryed  chickened out  but that was years ago so maybe it would work  hanging sound slow and i can not drowned myself soooo gun it is i guess  i just do not know when  the mother of all questions    i can not seem to set a date i do not know why if i could just pick a date it would all end the pain and sad the over all feeling of being a burden of life  but i keep telling myself just hold out you will figure something out and then one more shit storm comes my way  so when ',\n",
       " 'yes if you get it for me',\n",
       " 'cousin  why is there a bird on your screenme  it is twittercousin  i poke youme  that is facebook',\n",
       " 'because liberals hate america and cant stand the thought of a successful country',\n",
       " 'cam always finds a way to get the job done  whether he throws for yards or yards  thats why hes as good as he is and thats why hes a franchise qb  hes made chicken salad out of chicken poop on numerous occasions',\n",
       " 'i am ending it tonighthi again i finally gathered the courage to end it for good  i do not see why i should bother going through all the shit people give me every day  i am so sick of all the pain and anxiety i have been feeling for way too long  i always try so fucking hard to make it through  i try so hard to fix my life  but each time someone just casually comes and fucking destroys it  people either try to avoid me or they shit all over me  i do not even know what is worse anymore  i have no motivation  no will to live because i am constantly uncomfortable and hurt  and nothing brings me peace ',\n",
       " 'are you kidding me  im so pissed for you  he is a sorry excuse for a human being ',\n",
       " '           grand opening              top class    oriental massage    perfect   ',\n",
       " 'immigrant silences libs with insane admission about why trump is right on immigration',\n",
       " 'who is downie like a brownie brunch  need mimosas',\n",
       " 'i understand the impulse cuz im a white woman who didnt vote for trump  but the women of color who call out all ww are right ',\n",
       " 'the best part about being me is that i will never be like you',\n",
       " '  killshot   gun control   rap devil',\n",
       " 'making america safe again  ',\n",
       " 'read world relief is response to the latest scotus opinion of refugee resettlement ',\n",
       " 'people of color in the us declaring that immigration should be called on other people of color is just so    sigh ',\n",
       " 'doing the job illegal aliens will not do ',\n",
       " 'i need encouragement    plzi have been thinking of killing myself for years now but dont have the guts   everytime i hold a razor it just slips and i cant continue   my body is covered in scars and is full of memories   i really cant take this anymore and i know it wouldnt matter to anyone if im gone   the only person i dont want to leave behind is my boyfriend whose suffering from depression as well  who i think would understand my situation   plz help me gather up the courage   i cant take this anymore  ',\n",
       " 'my biggest pet peeve is people thinking use steroids all don know how much stress put my body under during my workouts literally throw up want to faint and cry and it not like built the muscle have in few months ve been working out for years',\n",
       " 'me doesn brush my teeth cause depression also me why do my teeth hurt',\n",
       " 'have suffered depression at multiple stages of my life but hv never taken drugs my entire life how about rather than speaking in every issue just do some research before hurt shit tone of',\n",
       " 'bitches be crying and depressed about their finances but refuse to go to work go cry river and drown ion want to hear it',\n",
       " 'suffer from severe anxiety and depression unemployed and break down daily telling myself im not worthy or want someone to value me for being worthy its hard struggle glad to see posts like this reach out mentalhealthawareness fuckdepression fuckanxiety',\n",
       " 'so sick of absolutely everything hate my fucking life and over this shit',\n",
       " 'none of the people was with cared for my depression nit even friends literally lost hope so gave up it isnt even regular depression its literal severe depression even feel physical pain and it hurts like all hell',\n",
       " 'low t and the poontang clan aka fucking donald trump',\n",
       " 'am depressed and no one can make me feel not child not lover not family member no one don want to go to work don want to work on my hobbies want to sit in hot bath all day want to cry all day want to die all day want to do nothing all day',\n",
       " 'high school students murdered in dallas with wasr    century arms rifle  the nra calls gun control research  unethical  ',\n",
       " 'like  animal crackers are legit the best snack',\n",
       " 'why why why have u let feinstein stop the vote for judge kavanaugh with a coney letter she had since july and have u seen the letter  she is not someone to talk after her yr spy no one has investigated',\n",
       " 'oh man  this could be a serious first ever chanel bag contender grape colored chanel bags',\n",
       " 'pahahaha nice yes despite liking lots of asian culture supporting many asian manhua manga manhwa writers multiple asian songwriters and bands absolutely hate asians you cant blame everything that you dont like on xenophobia and racism get life',\n",
       " 'haven watched movie in days because too stressed and depressed',\n",
       " 'pallywood  in the aegean  caught in the act  film crew staging fake muslim migrant drownings at sea on the greek island of crete via fake news   ',\n",
       " 'fuck everyone who doesn suffer from severe depression like honestly don remember what not being down or depressed feels like',\n",
       " 'mixtape sell sole got some bangers ',\n",
       " 'he also went on to tell me that since used to suffer from severe depression that always be suicidal would def approve',\n",
       " 'oh    my phone is some trash  but you knew that ',\n",
       " '  bushco used to publicly trash ex officials who wrote books   snow  o neill  etc  bet we will not hear pbo trashing gates      ',\n",
       " '  texas ranchers  terrorists reportedly caught at border  feds clam up',\n",
       " 'wallah so stressed and depressed just cant deal with this shit anymore',\n",
       " 'suffer from severe adult depression and suicidal tendacies weed helps me from killing myself weed helps my family from having to bury me weed saves my life',\n",
       " 'here is little bit about myself suffer from bipolar severe depression server social and anxiety have some sort phobia where terrified of leaving the house know this doesn defined me but sometimes feel like it does sometimes just stuck',\n",
       " 'cuz if it is trash i am bashing it at saying he need to go back to jail',\n",
       " 'usually just listen to music and absolutely hate my life for an hour but lately ve been watching the same stuff watch on youtube and its been clutch switch up still hate my life for an hour though',\n",
       " 'this year refugees are expected to arrive in the u s  most are families with young children  in search of safety  together  we can help them rebuild their lives  it is simple  just visit this link and follow the steps below ',\n",
       " 'glad i basically never watch the nfl ',\n",
       " 'holy shit damn right little smile there and they start treating like bitch again',\n",
       " 'can wait to graduate from point park am so dumb for getting depressed and failing my classes cause now im just anxious and stressed and wanna not exist even more than did then',\n",
       " 'im at work but all want to do is lay in bed and cry im feeling so low and stressed at the moment',\n",
       " 'legally it is rape if you inserted something inside someone without their consent',\n",
       " 'burt reynolds was a man is man  none like him nor will there ever be again ',\n",
       " 'sick of letting myself get so stressed out and spiral literally just want to cry at everything and anything today',\n",
       " 'notice how everyone avoids this tweet they might think you are referring to them  but not me comrade  i stalk everyone ',\n",
       " 'me feel so hazy today and like can breathe wtf this is miserable wonder why minutes later gets notification about low air quality outside fml',\n",
       " '    political corruption  texans  among liberals and conservs  r is and d is  large majorities favor limits on campaign spending and say the high cost of campaigning discourages many good candidates from running for president ',\n",
       " 'thanks for following  we are glad to be connected ',\n",
       " 'so today had really bad mental breakdown because my mom told me we might not get my kitty and that broke my heart and it still hurts every time think about not getting my kitty do some people this might sound childish and stupid but deal with depression',\n",
       " 'love syazwan but sometimes he rlly makes me want to scream and cry tau aku tah la tengah stress aku suruh buka article dia pergi tekan link aku penat',\n",
       " 'omer asik so trash on the offensive side of the floor dude real life murky doo doo water',\n",
       " 'you are a glutton for punishment  you will never see eye to eye with any blue wave drinker on this topic  till you agree to ban all guns  especially the scary ones ',\n",
       " 'well suffer from suicidal ideation and severe depression so yeah lol',\n",
       " 'ugh   put one dead center off him',\n",
       " '   fti  i feel sorry for anyone who paid for lic because edc is trash music  ',\n",
       " 'at least he is trying he is not busy tweeting hate tweets like u n your buddy aka bishop jonso  ',\n",
       " 'i am with ya i played the beta last night i am a fan since bad company mind u and that shit was fucking awful other than the gunplay which i was fine with the graphics themself are spooky as hell it is too bright for me makes me nauseous',\n",
       " 'so a cop kills someone and this becomes a gun control issue ',\n",
       " 'are you pussy grabbing tonight  ',\n",
       " 'stfu donnie  theres no one who gives grades for things like natural disaster relief  you f cked that one up and people are dead  now youre mocking them  youre a loser  a pussy  and a bully all wrapped up in a flabby orange skinsuit ',\n",
       " 'feel miserable today know its just mixture of external stress and pmdd hormones being bastards ve felt like this before got through it then and will again just wish didnt keep having to thats all its so tiring',\n",
       " 'names of five teenage killers are made public',\n",
       " 'of course they are  she either agrees to testify on mon or they vote on friday and life moves on until the next obstruction from the lunatic liberals',\n",
       " 'custody battlei have fought for custody of my daughter in wisconsin for over a year against my drug addict dealing ex wife  i gave the police all i had on her and nothing has been done  i am done  ca not do it anymore  i am going to leave some items in a lock box to be given to my daughter when she turns and hopefully she will understand then',\n",
       " 'anyone have experience with serotonin syndrome after attempt so two nights ago i got very drunk with friends then had a horrible argument with my husband  and finally gave into my impulses id had for weeks to kill myself  they got me to the hospital within an hour  i stalled like crazy  and then after a few minutes there it hit me  i was having tachycardia  shivering  auditory hallucinations  some tremors  extreme confusion  and within that some anger because i couldnt interpret a text id received  i thought the person was insulting me   and i was barely responsive even though i could hear somewhat what was going on at times  they had to pinch me hard to make me answer what my husbands name was  i didnt know why i was there half the time  i also puked and had some upset stomach but i think it was from the charcoal or the alcohol  impossible to tell  when i was beginning to understand the conversations around me more and my husband left to go grab things from home  i heard the nurses talking about serotonin syndrome but they never later confirmed to me what had happened  they didnt put me in the psych ward because they didnt have a way to monitor my heart there but they also didnt get me admitted to a regular bed before i could walk pretty normally  they made my husband sit in a plastic chair in the psych er cubby with me for hours  when i was coherent i said fuck it  im still hallucinating and cant speak straight and cant walk perfect and have upset stomach still but we needed to go home and talk things out  i managed to sleep it all off by another hours  it was a crazy time and it was oddly peaceful in that delirium thinking that i was dying but i couldnt ask  i also heard them mention the icu as maybe they were going to attempt to monitor both my heart and my mood but i dont see why  the doctor woke me and i said i was feeling fine now and i fibbed that no event had been a catalyst  but then as i woke all those symptoms i mentioned going home with really caught up with me  they didnt seem to want me there or know what to do with me  i felt really at a loss because i needed to stay in the hospital but i didnt want to take a bed from someone and i didnt want to make my husband suffer in the er any longer  overall im confused as to if it was a regular celexa overdose or if it was serotonin syndrome  mainly because of the hallucinations  i told them i was having them before i left but the doctor waited so long to see me that i gave up  thing is  last night i had some hallucinations for about minutes where i could swear up and down my neighbors were playing punk rock music but my husband assured me they werent tdlr  my docs didnt tell me if i had ss or a regular celexa overdose  they mentioned ss while i was half conscious  and sent me home while i still had auditory hallucinations  they popped up again for mins two days later  does it sound like ss  is it possible ss can cause further hallucinations ',\n",
       " 'my stomach hurts really fucking bad might throw up from depression',\n",
       " 'all the helmets in destiny are trash  i wish i could just rock an invisible bubble instead  hunters look like robocop ',\n",
       " 'am so stressed between my hateful in laws and luke and trying to decide living arrangements just want to cry throw things scream etc',\n",
       " 'interview with monique rochon she is starring in pulpit secrets on september at landis theater in vineland listen at',\n",
       " '  remember all the trash on the floor of your car  we upgraded it  amp  put wale is the gifted so it feels like your old car htt  ',\n",
       " 'what will it mean for to be a state  as gov  phil murphy promised as a candidate  this is what it means    ',\n",
       " 'sad boy hours missed really important phone call because went back to sleep now all depressed and sad and just want to be distracted before cry myself to sleep again',\n",
       " 'your a no nothing woman hating cunt reliving you sad little hatred of your unloving mothe',\n",
       " 'god is major judgement is coming to bob woodward   thou shalt not bare false witness     let no man be deceived  god will not be mocked  for whatsoever a man sows  that he will reap     touch not my annointed  appointed trump   do them no harm   god is not kidding   ',\n",
       " 'so damn ready for jooheons mixtape it about to cure all my anxiety and school',\n",
       " 'life insurance that covers suicide   overdose i am and unemployed and want a family member as beneficiary  does anyone else have experience in this area  i am stupid',\n",
       " 'girl went through great depression when my mama passed lost all that weight that was talking about losing but not in the way wanted my titties went with and am hurt need either another baby or some boobs lmao',\n",
       " 'to further clarify come from an abusive chaotic family on both sides and suffer from severe anxiety and depression have days where have resentful aggressive feelings but my personality is inherently peaceful and have conscious commitment to the nap cont',\n",
       " 'this is the difference between a grateful immigrant and an illegal gimmegrant ',\n",
       " 'just want to cry so much have so much shit to do for school like have three midterms this week and just struggling balancing work and school and like just received rlly bad news so like am so stressed fuck',\n",
       " 'appreciationtweet just want to say how much this cb week has been life changing for me know it might sound too much but it truly has suffer from severe case of depression and anxiety to the point where barely leave the house bcs of my fear of the',\n",
       " 'i am nothingi can not even kill my self i am a failure',\n",
       " 'if i killed myself now  no one would know for days that is what my life has become  i am really alone  and the shitty part is that i am doing everything right  i have worked so hard  despite people trying to tear me down  the problem is that no matter how hard i have worked and how far i have come  the bad just keeps coming and it is completely out of my control  other people keep making everything worse and i can not stop them from deciding to treat me poorly  it is been too long  i am too tired to go on  i am not afraid of death anymore  i am tired of holding on  just a little bit longer   that is what got me here  nothing gets better  i feel like nothing  the dissociating is permanent now i think  there is only one thing that would make me feel like maybe i could go on  but we are probably never going to see each other again  i think they hate me  and after this  i genuinely feel like i am incapable of love  i do not feel love for anyone in my life anymore  just emptiness  i am so empty and tired and it is only going to get worse  i have had enough  i want to be done ',\n",
       " 'cry twice day rarely shower let my kid watch all the pbs kids he wants struggle to keep up with work stress eat like crazy and have panic attacks on the hour so basically normal',\n",
       " 'so literally want to cry right now kala ata ng mga tao dito super saiyan ako want to leave pero trapped ako depressed and stressed sorry for the negativity just ignore me',\n",
       " 'i made my position clear with the principal   that clearly he is used to dealing with young adults  my son is not mentally  i would ask they check before sending me that msg again  i think my likeness is a dart board in the staff lounge',\n",
       " 'cant stop my mindi think every night i wish i wouldnt wake up  i thought the divorce would help the feelings  i thought therapy would help  i thought pills would help  but everyday is sad and all consuming  i cant think about anything other than my situation or killing myself often at the same time  im so tired of the next day coming  finding myself praying to find the courage to do it vs the courage to not do it  today isnt the day for me but it feels inevitable ',\n",
       " 'do not miss while it is on the big screens   a courageous  eye opening expos of the truth about leftwing fascism  and tactics of the liberals   it took a legal grateful  intelligent immigrant to recognize and uncover the truth thanks   ',\n",
       " '  so long jamule ',\n",
       " 'shit forgot ordered groceries bc was running out of microwaveable depression food they re gonna be here in like half hour or so crap my head hurts too much for this stupid puffy eyes glad it no contact delivery',\n",
       " 'she is good at this game just like u were a true super fan for sure  she is focused thats why she is going to take this game  i hope ',\n",
       " 've been really depressed and anxious lately pain is relative so don judge me for sounding like cry baby angry at the world and want attention say nice things to me and reply to this with pics of your pets tik toks vines or memes so can smile again',\n",
       " 'one of the easiest things to happen as producer is being depressed and not realizing you are it ll manifest into heavy procrastination followed by very intensive periods of work your brain is trying to avoid the stress in my case sound design had me stressed lol',\n",
       " 'the early bird takes a nap before noon ',\n",
       " 'me minutes ago   thinking of a suicide plan  going online thinking about buying a gun and shooting myself in the shed    me now  i dont feel suicidal anymore  wtf brain  this happened to me yesterday  why does my brain do this  i now want to stay alive but i know for a fact that ill get the thought of wanting to kill myself',\n",
       " 'thats the entire basis for gun control facts dont matter',\n",
       " 'the current does not care what think  most want obamacare  most support the mueller investigation  they do not support the tax scam  most want   most do not want to   stop voting for people that do not support you',\n",
       " 'what exactly do you mean by common sense gun control you first need to understand firearms how they function what their role is in our constitutional republic and that banning them from law abiding citizens does nothing to protect law abiding citizens ',\n",
       " 'anyone who has spent any time at all in europe  canada or the usa in the last two descades know australia is problem is not migrant numbers  it is inaction on infrastructure development  our roads and public transport are closer to india is ',\n",
       " '      monkey look  just like you ',\n",
       " 'someone said that people who post about being depressed and of them self cry are attention seekers who wants to jump them with me',\n",
       " 'does she expect a mob in pussy hats shouting we believe her   in unison  based on a general distrust of conservatives   ',\n",
       " 'you can make fun of liberals that come up with fake stories ',\n",
       " '  apologies trash   what is understood ai not gotta be explained',\n",
       " 'can we all agree that tomlins seat is heating up  i am tired of hearing hes safe over his regular season record  he is wasting championship opportunities and the shenanigans are getting old',\n",
       " 'we the people not you the poitician',\n",
       " 'i like people that do not say hi when they walk by    those are my kind of people',\n",
       " 'it feels so bad almost want to cry but that world just make the exhaustion and pain worse dont know if hungry or just want to stress easy but dont have the energy for either',\n",
       " ' alina ae hah  makes me think of my friend catherine back at home  lt    mighty hunter that she is ',\n",
       " 'liberals have to sexualize everything ',\n",
       " 'mad depressed just want to cut myself cry and suck off hot dude need break need help',\n",
       " 'i want commit suicide but do not want to tell anyone irli feel like a failure and i hate everything about myself  i am stupid  ugly       face   autistic  have no social skills  anger issues  confused and can not relate to anyone  kids at school call me ugly everyday and remind me how incompetent i am  i think even my teachers hate me  no matter what i say people always make fun of me and then when i stand up for myself they play the victim  i get that  most likely  everyone hates me for being ugly and stupid and that is okay i guess  i have almost no friends  i mostly do not talk to people unless i have to  sometimes i get stuck when i speak irl and my speech gets blocky  i feel worthless  i am physically healthy       lbs m    and other kids think i am strong but those are the only positive traits i have  i have the ugliest face in school and everything else about me makes me wanna kill myself times over  i have never attempted because of possibly getting a life altering injury illness or having someone confront find me  i want a permanent method  i just want my death to be quick and painless and alone  i really do not want to talk to anyone irl about this because i think people would just treat me worse  if anyone found out irl i would probably just suicide out of rage fear or do anything to convince them otherwise  are there any good online resources and help without anyone irl finding out  i think i would just feel worse if i talked to someone irl  sorry if my post does not make sense ',\n",
       " 'the sun cant shine forever im years old  ive made it through abuse  years sober from opiate addiction after selling opiates for years after i got kicked out the week after high school graduation  was homeless for a while then  my papaw  who i looked up to  shot himself when i was   my drug addicted biological father drove into a tree and died the same year  been fighting depression my whole life  amp  trauma ptsd  this past year i was finally on the path i wanted to be  i have a girlfriend who loves me and has for almost years now  she pulled me out of addiction  amp  has never messed with drugs  she got her masters degree and is now a therapist who has been trying to help me deal with my trauma  i forgave my adoptive dad for what he put me through and we have a good relationship as well as the rest of my family now  i was finally feeling happy the past few years even with depression   if that makes sense  im in barber school and one of the top my teacher said hed ever had  which spoke volumes to me since hes owned and ran the college for   years  i was even the one teaching my classmates  only a few months of school left for me to graduate  i work the job i love at a vape shop  building coils  to make people healthier  i hadnt thought of suicide in years now  i never thought i was worth a shit but i slowly was being shown i was  as my girlfriend would tell me  i survived my struggles  amp  now i can be happy  but as i found out   the sun can only shine for so long  june th of this year  a tuesday  i woke up late for class so i hurried to get showered and ready  i dont remember much of that day now but i do remember some  tuesday was our monday so i had worked late the night before and overslept  by the time i was heading to my car it was      class starts at     and goes till     p m   amp  is a minute drive from my town to a bigger city  i had to get gas also so i was in a rush  the gas station was only miles away  i drove down the parkway towards the gas station at mph  speed limit is mph  without my seatbelt on cause i was in a hurry  it was sunny and warm  the fresh air smelled great and i knew it had to be a good day  i got a mile down the parkway in the fast lane   then the next thing i remember was someone saying ive called   the ambulance is coming  who can i call for you  immediately i remembered my moms phone number  i lived with her and my adoptive dad  amp  little sister so i could get back on my feet  so i gave him her number and asked what happened  the next memory of that morning i have is the helicopter noises  the next memory is days later in pain i have never felt  on my way to my second set of surgeries  hours of surgery total  lots of blood transfusions and days until i can remember anything more  a semi truck wasnt looking that morning and pulled straight into the fast lane in front of me  i hit them at mph  nobody understands how i didnt die  my engine was pushed through the dash causing me to be stuck  my right hip  amp  pelvis was shattered  my left hip  amp  pelvis severely broke  my dominant hand  the right one  broken along with my right wrist and thumb  a broken nose  my right knee bashed open exposing my knee cap  amp  a lot of glass in my face  its been months now  amp  im still in a hospital bed in my parents front room  i cant walk or bear weight but can sit up in my wheelchair for a half hour or so  i have to learn to walk again when the time comes but its all seemed so far away  last month my x rays showed my hip muscles are turning to bone which may require more surgery if i cant get it stopped  im in constant pain  amp  supposed to take pain medication  amp  muscle relaxers times a day along with a lot more medications  i fought to get away from opiates and now im forced back on them  i will more than likely not recover enough to be a barber now because of needing full motion of my right hand  amp  needing to stand all day  i have hated myself for waking up late that morning everyday now  my struggle didnt end like i thought  it became harder and worse  i am forced to lay here watching life move on for everyone else but stand still for me  i wish i didnt survive now  amp  i want to end it all now  today was all i could take and i dont know if i can struggle anymore  i tried to be positive  amp  strong but im tired of having to be strong  the shoes that i have walked miles of my life in have no more soles from the weight ive had to carry  amp  the road feels like its at an end  i dont know how to start again  i dont know how to smile  i dont know how to want to live when this isnt living  im crying out for help and i feel like no one has listened  my other traumas have come back  most that i made myself forget  the night terrors are killing me  amp  im terrified to sleep for i dont know what ill see in my dreams  ive always told myself that im needed on this planet  amp  i might not know why yet but ill find out one day  that im strong enough to stay and fight another day  but what if ive just prolonged the inevitable  the sad truth that the sun will shine brighter for everyone who knows me if i go  because everybody has had to take care of me through this and im wearing them thin  drowning them with me  i dont think i can make it through this ',\n",
       " 'it is getting worsei posted a little while ago  but shit is getting really bad fast  i tried reaching out to a friend in real life but their advice was  get drunk  and now they are ignoring me  i began giving myself cold burns with a can of deodorant and now all my mind can think about is tying a plastic bag over my head and filling it with deodorant  i am sure it is a side effect of zoloft  i just thought i would post this in case i go through with it and do not make it ',\n",
       " 'average dayi feel so sad  just like any other day ',\n",
       " 'he a bitch video  it cannot be  armed man catfishes teen boys online then rapes them ',\n",
       " 'yes as the democrats and liberals continue to sabotage the november elections it would be the intelligent thing to do so say  million veterans',\n",
       " 'sir it comes to something when you present a lie as a fact     have you no shame  this is the fact   of labour voters voted to remain  ref yougov polls  your position is based on a false premise      have a nice day',\n",
       " 'really depressed and dk why everything is going the way want it but yet still just want to get away and cry',\n",
       " 'their gullibility  they think if a politician has an r by their name he is a good guy and do not research that person at all ',\n",
       " 'you are my hero',\n",
       " 'quit being a fig and stop allowing violence against conservatives on your platform',\n",
       " 'you are not god and you have no idea who he is  god doesnt say we cant like people in fact i feel he sent us trump in answer to our prayers',\n",
       " 'laws not just for conservatives or an unpopular group with the media  women have long failed other women and the me too is no more sincere than the feminist movement was about bill clinton or ted kennedy ',\n",
       " 'ever been so stressed and tired that you want to cry but you dont even have time for that',\n",
       " 'damn it sucks not able to sleep because my anxiety and depression been up hours wish could have some form of sleep please',\n",
       " 'so depressed bruh like just want to die ion even cry anymore just sit and stare with an empty mind rlly can take this shit no mo',\n",
       " 'if train officers that are wearing body armor stand back to watch the smoke clear  why does every gun ho wanna be   ',\n",
       " 'elian gonzalez was a dreamer too  liberals  forcibly separated from legal guardians mon  ',\n",
       " 'it barely the second day and am already stressed and want to cry in my room while listening to sad music',\n",
       " 'hey genius hitler was dead two years before trump was born ',\n",
       " 'absolutely hate life so fucking much everything makes me want to cry',\n",
       " 'he is such a cutie  i love him ',\n",
       " '  if jeremy lin dunked on lebron in a yankees cap  and then celebrated by tebowing in front of brett favre  would espn exp    ',\n",
       " 'goodbyegoodbye  i have nothing  she doesnt like  she isnt even reading my messages  i legitimately have nothing  she meant so much to me  but know she hates me  goodbye  fuck this mortal coil  there is nothing  i just wanted her to just    love me  i want her to just fucking respond  she means everything to me  shes perfect in every way  and she hates me  i cant do this ',\n",
       " '   did you just get not all men from a woman  interesting when    women have experience attempted se',\n",
       " 'anal stimulation',\n",
       " 'i want to die it is simple  really  i continue to screw both my life and my marriage up  the majority of the time i am too depressed to find a better job or to do the schoolwork that km thousands in debt for  or i am on a dating site just because i want to talk to someone or to just fuck around with people  i fuck everything up ',\n",
       " 'rednose let out long whining noise but listens just wanna stop being stressed dont wanna cry or panic anymore dont want people yelling at me anymore feel like being treated like not pregnant and dont have anything inside me to worry about',\n",
       " 'idk you guys when the weather is hot would be easily get stressed out and irritated also love cold weather but when the weather is cold would feel soooooooooooooooooo down to earth and end up feeling depressed for absolutely no reason',\n",
       " 'to because     because she is amazing and has my boundless support and endless appreciation for her support in return  it is just a loop of love and respect',\n",
       " 'high key sad and severely depressed and last night at work did great gob hiding it think when all want to do is cry till die is that possible',\n",
       " 'there is nothing more joyous than watching a snowflake cry especially when it is a google order follower ',\n",
       " 'here comes the results of socialism  to all liberals who want communism  here comes your new roomies ',\n",
       " 'libya tells italy   we do not care how much you pay us  we do not want to take back the migrant wannabes that you reject because they include terrorists  criminals  and human traffickers  via',\n",
       " 'oh by the way also suffer from severe depression and anxiety tried to speak about it but people would call me an attention seeker thats why shut myself out of everybody and yes tried committing suicide before and they realized it that it wasnt attention seeking',\n",
       " 'while for republicans there is no difference in   of agw belief between phds and college freshmen because conservatives are more open minded people who are able to question consensus  plus tend to get degrees in more practical fields like eng  instead of airy fairy artsy bs ',\n",
       " 'more money more stress youre broke and youre already depressed how you gon handle the wealth youre chasing death',\n",
       " 'my life is ruinedits at a point of no return there is no way for me to be happy i will never enjoy anything again my entire life is fucked up and completely ruined ',\n",
       " 'new show thursdays with jinxy broadcast from the moon it is made of chunky blue cheese you know',\n",
       " 'being told that my depression is draining for other ppl bc not uppity and bubbly that hurts and makes it worse like imagine how drained feel',\n",
       " 'weighing my optionsi am years old  for the past years of my life  nearly half of it  i have had mental problems from the end of grade school  i have been depressed  anxious  even having periods of delusions and hallucinations  every day is agony  and every day it is just gotten worse i have been to multiple psychiatrists  i have taken many different drugs to try to make me into a normal person  nothing has worked completely though  i just do not know what to do i have tried killing myself once before  honestly  it was not so bad  and again i am contemplating suicide  as it seems nothing else has worked currently  i am a high school dropout  it is not that i am stupid  it is just that i could not handle school with my mental problems  i have since been studying solo   i became an autodidact  but that is worth nothing in this society  without a piece of paper saying that i passed some bullshit tests  i am nothing all i do  every day  is waste time on reddit  and program  that is it  i have no substantial human interaction  i have no friends  i live at my parents house  leeching off of their hard earned money and what makes it worse is that i am currently seeing a psychiatrist  without my medication i am a wreck   with it i am just a zombie  in my case  zombie is preferable  but it just costs too much to continue seeing my doctor i am putting a burden on everyone i know  i have wasted so much money  thrown away so many opportunities  destroyed my life it will be over quick  i know it well  i know my exact plan  and i know how and when i will execute it  i am sure it will bring great pain on my family  but that will be my final shitty action  before they are free from me i just can not take it anymore half of my life  tormented  is it really logical to continue living  i do not think so  i am ready to die ',\n",
       " 'best way to dieand go',\n",
       " 'keep seeing everyones cute birthday messages and now want to cry my birthday is tomorrow this is the first birthday am living miles from home and really dont expect much to come out of tomorrow and just depressed and homesick now',\n",
       " 'after today done eating like shit swear feel miserable from eating garbage all week',\n",
       " 'amp just as last side comment was gonna be aborted amp since wasn wanted suffer from severe depression amp anxiety there are many days wish would have been aborted over living with family who didn want me bc of the impact it had on me',\n",
       " 'did you make this  it is hysterical xd really  really accurate about that group  the only thing mis',\n",
       " 'happy birthday to hyunjea i love you you are very beautiful    ',\n",
       " 'palestinian refugees  living without work is a slow death    ',\n",
       " 'huh  the pot grows as council grows   in this case it is a reduction   and that amount    m is going right back to the city for police gun control   already announced ',\n",
       " 'has anyone ever been down and out because of women really have been so close to ending my life for years  yes to be blunt over women  there are plenty of things that i have a hard time with other than just women  ofcourse  but it really seems like that is all i am living for  they are so shallow so cold hearted and just do you wrong no matter how good you are to them  it is getting to the point when i see other couples i get sad depressed and just out of it  i feel as if i am to ugly  i am not good enough maybe if i was a dead beat  maybe if i abused women i could have one in my life  it seems like that is the only things they want and like put of men is the worst  and not the good  i have been planning on getting a gun and blowing my brains out to end this kind of thinking because their is no way that i will be able to have a woman in my life at all  seriously ',\n",
       " 'o the highest authority of all the authorities  help to end genocide and facilitate safe repatriation of refugees in   o the most liberal who is besought  liberate all persecuted people including rohingya on earth ',\n",
       " 'she is full of it  she will go for it ',\n",
       " 'he is a cockapoo lmao     would recommend tho  v small and cute and smart and lov to be ur bitch',\n",
       " 'happy birthday hope you are having a wonderful day',\n",
       " 'yes guys just entertain no matter what do drugs be in depression be in tough times no matter guys should entertain us thats it people are just damn entertainers and dont value them when am not in mood of entertainment',\n",
       " '  my favorite shark is megaldon  my least favorite is a mud shark  they are the worst',\n",
       " 'time to go home     syrian refugee group returns from lebanon   article  amp    reuters',\n",
       " 'voters will not accept a congresswoman who stands with the nra as shooting after shooting devastates communities across the country  we need common sense gun safety laws and we need them now ',\n",
       " 'beauty and the beast  that bitch fell in love w a whole animal before she even knew he was human tf',\n",
       " 'today im finally free of job that completely made me so miserable and depressed man feel soo damn happy',\n",
       " 'steve bannon movietrump at war',\n",
       " 'so she is desecrating graves with the best intentions no wonder jeremy wants her speaking  he wants jewish membership to know exactly what he thinks of them  i reiterate an absolute shit of a human being no offence to ewa ',\n",
       " 'this is my dad yrs ago on december st he passed away due to brain aneurysm losing my dad at sucked this time of year is very hardfor me suffer from multiple disabilities have bi polar one severe depression anxiety and ptsd',\n",
       " 'took nap and rested up today so starting to feel better idk what the hell got me but that was miserable',\n",
       " 'city of chicago  democrat run with some of the strictest gun control in the nation    all the white supremacists running for office in as republicans via',\n",
       " 'my head hurts and wave of depression hit me out of fucking nowhere',\n",
       " 'i wonder why you needed to bring up this point when i did not mention anything about that  but it seems like you are uncomfortable talking about race ',\n",
       " 'most young women have not been raped so you might need to apply a new logic to your theory  also  you are a cunt',\n",
       " 'when the dj plays your joint and the whole crew gets lit',\n",
       " 'hey biden  there is a reason why hard working americans will never tolerate you or your career politicians again  thank you trump',\n",
       " 'you know dan i used to think you were a pretty competent newsman now i can clearly see you are nothing more then a paid whore who sells himself and his once stellar reputation  trying to be relevant again  ',\n",
       " 'if shoot my shot and you curve me then move on to the next you get mad and now too friendly and want everybody you think imma be depressed and cry over you lmfaoooo jump off bridge',\n",
       " 'hate being dumb hate it so fucking much please my life is absolutely embarrassing',\n",
       " 'it is my birthday  i hope i will not live to see another i trusted my boyfriend  with my heart  my life  he has not broken up with me but he is been ghosting me for a month  he has not burned the bridge  i wish i was dead  i am always told how ungrateful i am or how spoiled i am  i just want to be happy  i want my boyfriend  i want to be happy with him  that is all i want for my birthday  but i can not have nice things without bpd ruining them  i want to overdose so nobody will ever have to spend money and time for my wellbeing  i wish i could disappear ',\n",
       " 'if there one thing in life absolutely hate seeing is people losing their light passion because of circumstance',\n",
       " 'whos the victim  that remains to be seen  liberals have turned kavanaughs hearings into a circus from the first minute it started ',\n",
       " 'thank you ',\n",
       " 'immigration diversion  forced injections  hodeida genocide  syria fights back  amp  psychopaths in d c ',\n",
       " 'just learn d dance nuh cuz u know after carnival we like to pick up months old yardie ting lol',\n",
       " 'if your comeback is just saying the words  bitch  and  hoe  dust yourself off and try again',\n",
       " 'found it tough to do anything yesterday it was wasted day and felt miserable today feel more productive and content also feel weirdly vulnerable first day of on campus classes is tomorrow eek this is my last semester at this school done in weeks',\n",
       " 'damn is everyone going through it rn thought was the only one who wanted to lay down on the ground and let the earth reclaim them gay depression',\n",
       " 'paxil odwondering how much paxil would be needed for a lethal od',\n",
       " 'feeling suicidal is overall f cking terrible  but deep down  a small  twisted part of me feels good about it because i deserve every second of miserytlr  not planning  suicide fantasies bordering on schadenfreude  relationship and intimacy issues  self hate  paranoid about others  jealousy being a plague of the mind  self doubt preface  im writing this on my phone  no autocorrect  so spelling and formating is not good  my english is not that good either  so feel free to correct me i dont have any plans for it  and probably lack courage  but ive been thinking about it daily  or at least a couple of times a week  for such a long time it just feels like a part of me its strange how the bodys instinct is self preservation yet my brain finds comfort and relish in pursuing my own mental anguish like a hummingbird looking for nectar  the suicidal fantasies feel so soft and sweet and comforting  like a warm blanket wrapping around me  safe i dont know why it feels so good  is it because its a reassurance of the fact that its always an option  or because i enjoy this self influcted schadenfreude   if you could call it that the moment i start thinking about realitically i hit a wall  ill start thinking about all of the statistics showing how most suicides fail  and how ill fail too because im a plain jane whose not an exception  surviving suicide will actually be worse than dying  in my eyes  because of all of the unwanted repercussions that would make me regret it and seek suicide even more  my life is not objectively bad  in fact id say it is average  i hope im not being arrogant when im saying that i might have potential to do better than now  and even being in the same solar system  or even orbit   as all of the people i look up to and admire  one can always improve  but i dont know how far i can reach  or if theres even a limit  now  there is only one thing that keeps me from being better in any way  myself   the norwegian word for suicide is selvmord which translates to self murder  now  the degree and the way i think of suicide graetly varies  but i almost always want to inflict some damage on this part of me  these fantasies of suicide may stem from my desire for killing this part of myself  this part is the bad part of me that ive managed to co exist with for the majority of my life  but i can feel her slowly dominating the controls of my body in a noticable manner  my thoughts are a bit more paranoid in that im throughoutly convinced all of my friends and even some of my loved ones genuinely despise me  every little action they make can be interpretted as them scheeming against me or making fun of me  i dont know why anyone would take advantage of me because theres nothing good to take from me  despite not being new fears  the fact that they are so frequent now and that i cant shake them off is scaring me  some days i am convinced even my dear sister detests my prescence  there are people i honestly want to be with  and i wouldve  if it wasnt for that warning  long unecessary rant ahead lt rant gt when i was younger i didnt have a large variety of potential friends  so i anchored myself to the one girl who could actually bear my existance  it honestly was a relief  because i only has one friend in kindergarten  she was the only other dark skinned girl there  sadly left before it was over   the rest bullied me and made me feel terrible about myself for things that i couldnt change things that defined me  while being in such a dark place socially she shone like a star in the distance  the closer i got to her  the clearer things got  you thought i would say brighter  right    i mightve been a not so smart kid  still am   but i knew she was using me  she told me one day that she got bullied a bit herself  combined with the way she treated me like she was above me  and how she immediately forgot about me when she was offered an opportunity to be with other girls  i felt used  my long lost friend from kindergarten returned in fifth grade and she was immediatley loved by everyone  including me  my other friend  lets call her eva now to differentiate  was furious and was being mean and bitter about her to me  she had built a small empire in the schoolyard  and it was crumbling quickly  eva was desperate for her power and tried to turn everyone against my friend  failed   i have fortunately burnt all bridges with her  we dont go to the same school now  but my friend does  were still close friends  currently bffs   eva is still a terrible person who i can not stand  this experience at least taught me about how to spot the bad apples  and that you should not be witv someone out of desperation   lt  rant gt the reason why i mentioned this event  yikes  its so rambly and bitter about f cking primary drama lmao  is because i am now not very trusting of people and fear intimacy  this ties back to everyone hating me  its actually fucking crazy how my mind will stretch and bend like its bloody playing twister to find ways in which people hate me  picture this  youre sitting on the bus  just minding your own business  you see two people whispering to eachother and you catch one of them briefly looking at you  a sinking feeling hits you  theyre taliking about you  about how youre so useless  how even your family thinks youre so whiny and dumb and self obssesed  about how ugly you look  the strangers have finished talking and are now looking at eachother and laughing  you see  you fucking see you dumbass  youre nothing but prime entertainment for them  a walking trainwreck that people poke fun of for instant dopamine  it would almost be a shame if you killed yourself  who would these people talk about  youre so good at pleasing people  its about the best you could do  another voice in your head joins the conversation  who said they ever think about you  god youre so self obsessed  of course people dont always think about you even if youre trash  they  like you  have their own lives to live  they dont care at all so shut up  only someone of actual worth would be able to catch their attention like that  or someone likewise  but in hideousness  youre so unremarkable in both ways they didnt even notice you  now that i think of it  they mightve laughed at just that at this point youre so immersed in these thoughts you dont notice the strangers leaving  or that your destination almost passed thats the type of thought processes i can have in everyday situations that are triggered by such simple gestures  and i hate it  i hate it  i hate it im the most insecure person ive ever seen  looking at myself in the mirror makes me nauseous from the sheer hideousness from inside and out  even if i believe  i know  albeit in denial out of fear of confrontation  that no one cares and theyre just faking it i dont want to cause them harm by talking about my feelingsmy suicide will cause harm too  no matter what i do there will be a mental battle in mind well  this might be the most dramatic thing that ive ever written  it makes me rather embarassed  despite that  im trying to push beyond because ill explode  or implode   i already told my friend about my suicidal thoughts and she was very worried  it made me guilty to make her feel that way as she does not deserve it  the internet is the only place i can vent this into  i feel selfish in that i want people to read this because i desperately need a second opinion  writing this made me realise all of the things that i did not know where affecting me worst thing is  this is just a scratch on the surface  like the fact that im not always sad and unmotivated  and can in fact be the opposite to the point where i think im cured and somewhat of a good person   id rather not plague the person reading all of it  if someones reading this  thank you  it really makes my day  im feeling sorry for you too  ',\n",
       " 'it is not ghetto you fool ',\n",
       " 'is it selfish to want to die  even though your life could be worse i mean  my parents are happily married  i have a roof over my head  college isnt too bad and i have enough money to afford the things i want  but i still cant shake off this feeling of emptiness  i dont know if anyone will actually read this  but heres my story  i guess that i started to develop suicidal feelings at around the age of   i was best friends with a guy for around a year before i confessed that i had feelings for him  he turned me down nicely but i just couldnt get over it  it sounds so lame when i think about it and i cringe every time  somewhere down the line  i started to pay more attention to my weight  even though i wouldnt go as far as saying that i had an eating disorder  i used to weigh myself a few times a day  always stare at myself in the mirror and restrict what i ate  since i skipped breakfast and didnt eat lunch at school because i became uncomfortable eating around people  i would only eat one meal a day  which was usually quite small and low in calories  i would consider this the lowest point in my life  even though i had four close friends that were always there supporting me  even though i had suicidal thoughts  i never self harmed in case someone would see the scars  and i never tried to commit suicide since i didnt know how to   overdose wasnt an option since i dont have any pills in my house  slitting my wrists seemed really painful and there was nothing to use to hang myself off of   now  things just seem to be going downhill for me  i left school with two close friends  and a few months ago  one of them cut contact with me because she just didnt want to be my friend anymore  i saw it coming as she became more distant but it really effected me because she was the first person that i talked to about my feelings  i miss her and sometimes hope that we can reconcile  but i know that that wont happen  i have another friend who is becoming more distant too  i hope that we stay friends since i wanted to have at least one school friend  the thing is  she is struggling with an eating disorder and i feel worthless because i dont know how to help her  this probably makes me a bad person but every time she tells me about how little calories shes eaten and how much excercise shes done  it makes me feel insecure about myself  you see  were around the same height and weight and when she talks about how shes too fat  it makes me wonder if she sees me in that way too   for reference we both weigh around stone   i dont know what im really doing with my life anymore  i enjoy my college course but i doubt that its going to get me far in life and sometimes i just want to end it all  but i think that im too cowardly to try  i probably went off track  and i dont know what im hoping to achieve by posting this  but i just wanted to get something off my chest ',\n",
       " 'you are unwell',\n",
       " 'endless but they really trash so none   men  how many positive s  and possibles do y all have on fri thru sun night ',\n",
       " 'if today is any indication of what feels like will be miserable how do people recover from drinking working out weddings and doing all three the day before',\n",
       " 'thank you for sharing your battle too suffer from severe clinical depression on antidepressants yet still can barely get out of bed had foot surgery months ago still cant walk and my foots so swollen cant even wear slippers nothing excites me',\n",
       " 'does quarantine life have you depressed and bored feeling stressed want some anime to watch with family then check out my wholesome anime anime animelife quaratinelife depression blog bloggers animeblog crunchyroll funimation otakugirl',\n",
       " 'antifa methinks    ',\n",
       " 'get so bloody stressed about my birthday like want to make big deal but the last years something has always gone wrong and cry not because year older but because some knob ruins it for me',\n",
       " 'this year a young immigrant from mali saved the life of a child in france  the president of france personally awarded him a national hero medal for bravery after inviting him to the elyse palace  offered him french citizenship and a job  this year  the',\n",
       " 'presidential determination on refugee admissions is a concern of myself and many others  can we push to raise the ceiling to something like again  we are a nation with an immigrant tradition and should be proud of that ',\n",
       " 'smoke weed bitch',\n",
       " 'one from adelaide and one antifa  i now understand why your both so angry ',\n",
       " 've been so depressed and stressed need motivation to work out',\n",
       " 'and do not forget her comment i am not some woman standing by my man like tammy wynette   but she was and she is  thus  she is his complicit enabling bimbo  ',\n",
       " 'right wanted to comment sorry not lucky like you and have husband and my own home but am depressed and stressed single mother so if don want to sit at home when my kids sleeping then sue meeeee',\n",
       " 'im slowly descending into insanityhave not showerd in almost weeks  my desk literally has towers of plates of rotting food that are almost as tall as my monitor at this point  still weaing the same clothes from weeks ago  i dont really care because i literally only leave my room for a total of like minutes a day to get food from the fridge put in microwave and go back  im becoming increasingly violent every day  i used to have monitor but no i only have one because i punched the other ones because i cant contain myself when i get extremly angry  been this way for years also breaking new records in weight    i was never very smart but now i genuinely think im losing my mind  but the funny thing is im still sane enough to know that im going insane  i dont know how to put it  but its weird',\n",
       " 'japanese immigration policy is not just sensible its meant act in the long term interests of the japanese and ensure that the japanese remaining the overwhelming majority in their nation ',\n",
       " 'give the kid a break  he is trying to bring about change  we desperately need something to change our violent society ',\n",
       " 'i miss u',\n",
       " 'actually know this is ready after see post damn it this is worst happend this is my friend got depression by drama and she gone idk too someone found out my favourite artist and art trade like is actually pe and this god damnit am going back draw now',\n",
       " 'my daughters are in school and most definitely do not consider this an adventure they tell me kids in their school are pissed depressed stressed and many are now afraid of each other this aint frickin war where kids will die from bomb blasts if we dont evacuate them',\n",
       " 'i am soooooooo lonelyi will drink cyanide ',\n",
       " 'the workers from the  census  just arrived  never seen people so excited to realize they got to interview  an in the flesh immigrant    ',\n",
       " 'we love an eagles family',\n",
       " 'not all men are stupid to mistake   no   for yes they are just using any means to stir up the movement',\n",
       " 'fuck marty seems like guy would absolutely hate in real life prove me wrong',\n",
       " 'anxious  live at home at   see everyone but me moving forward  want to blow my head offshould i  maybe take mg of klonopin and a pint of vodka idk  i do not wanna fuck up  man i tell myself why not get out there one last time if i am really going to end it  i am just filled with fucking rage  everyone has it so easy  instagram makes me want to fucking die  all you have to be in this world is a pretty girl with a fat ass and companies pay you    k month to sell their shit  then they prance around in they    k jeep while i rot at home for years  and they get upset when covid ruins their trip to italy  eat a fucking slug  bitch  i fucking hate you so much ',\n",
       " 'ive been through depression and know people who suffer from severe depression as well id say yes do know what depression means and also do know that can belittle someone pain problems even if personally wont be affected hurt by them',\n",
       " 'the enemy within seems greater at this point than compromising sources and methods  its the sources and methods we conservatives are concerned about ',\n",
       " 'i truly should have blocked carter when this bitch said orange juice and grape juice better than apple juice ',\n",
       " 'wanted to listen to some new calm music so turned on some random spotify indie playlist and like omg why do all of these sound so sad and make me want to cry shoo tryna pretend not to be sad depressed bitch',\n",
       " 'apes',\n",
       " 'when bae gives you a warm welcome home',\n",
       " 'this is making me majorly depressed lmao sooo might go ghost for the next month and be back when the show airs on netflix to stream the hell out of it being here honestly makes me really sad and don want to cry about it anymore renewannewithane',\n",
       " 'why do some men treat women like they are nothing but a pile of whore is that only want to have sex and do nothing else ',\n",
       " 'shades of eric chavez is past gold glove ',\n",
       " 'when the left cannot tell the difference between immigrants and illegal immigrants ',\n",
       " 'awake at damn near in the morning getting my ass kicked by this depression lol',\n",
       " 'liberals furious over this trump promisegood now  ',\n",
       " '  when other girls wear beanies they look cute  amp  stylish but when i wear them i look like a member of a drug cartel who sel  ',\n",
       " 'why did not she save her grandfather in puerto rico if she had that kind of cash  bc she is socialist ',\n",
       " 'covin on reads responses  amp  mocks fbi  andy on real politics  liv on her awakening  gretchen',\n",
       " 'you should tell the they have just posted a tweet about how much better the railways are since they privatised them   ',\n",
       " 'joshua    every place that the sole of your foot shall tread upon  that have i given unto you  as i said unto moses ',\n",
       " 'life is a bitch',\n",
       " 'depression is so rude like damn was just having good time and you just showed up',\n",
       " 'once again felt too much and too deep today and feel miserable right now',\n",
       " 'i love how i wasted years on a stupid cunt  only to find true love with the beautiful woman i was with before that  life is funny sometimes',\n",
       " 'yo when tell ppl have depression anxiety ptsd and social anxiety it like that shit means nothing until have mental break down and go ghost then its yea but you should have warned me now my feelings are hurt thats no excuse for you to not worry about me',\n",
       " 'so my unnie told me that yuka has been really depressed after left korea she hasn been making friends and she isn eating well feel very sorry and want to cry planning to book an air ticket right now so can go to her soon',\n",
       " 'you must be part of the new nazi party called antifa',\n",
       " 'oh my  there was an oreo baked into that chocolate chip cookie ',\n",
       " 'melting snow flakes',\n",
       " 'what does sciatic pain feel like during pregnancy cause omg literally feel more miserable on my left lower back everyday and today got this shooting pain down my leg and owwweeee',\n",
       " 'a little bigger than i like  she needs to join chubby chaser tour',\n",
       " 'tired of the tears that are streaming down my face tired of feeling like need to throw up tired of always fighting so gd damn tired of fighting depression anxiety mentalhealth',\n",
       " 'some of christine blasey ford fine upstanding americans she follows  beverly hills antifa laguna beach antifa neverland antifa midwest antifa boston bob antifa wait for it  anthony weiner   inmate kinda says it all  wwg wga patriots   ',\n",
       " 'so stressed out should have applied for scholarships way before now so stupid for waiting so late to try and do all this senior now and still haven taken the sat just stressed out and want to cry my eyes out being in honors is hard enough on me',\n",
       " 'it was deleted again    working on getting it back',\n",
       " 'just because it is not a sexy diagnosis does not mean it gets low quality care  you are making an incorrect assumption ',\n",
       " 'know how you feel am losing the battle against depression personally think people who suffer from severe mental illness should be able to be euthanized if they truly feel that death is the best option for themselves',\n",
       " 'hopefully it will be done soon i am young  but i have seen and been through a lot  more than i would like  i have decided to end my own life soon  there is no changing my mind  i have done all i can for my friends and family  but maybe i have done too much  they take advantage of my kindness and willingness to help with their    problems  my life is a burden to me now  and i am honestly sorry  to everyone that might even care about this  if i could end my life without hurting anyone  i would do it in a heartbeat  i care far too much for everyone dear to me  which is why i need to do this  i will end their stress of dealing with my problems  what is wrong with me  only makes their life worse  i have witnessed this in everyone  i can not do anything to help them anymore  i have thought about this for over a year  it is the only conclusion i can come to  i must do this  for them and for me  i am sorry  i honestly am ',\n",
       " '    frogger  best game ever   only cuz you suck at flappy bird',\n",
       " 'hahahaha    how lucky you are sor to witness din kakulitan live and on the spot   inggit me sir   and laugh your pain ang peg ni capt  barber  ',\n",
       " ' we are facing a global crisis  the refugee crisis affects all of us  it is a global crisis that needs global solutions  i believe we are at a crossroads in how we choose to treat  amp  deal with the refugee crisis    ',\n",
       " 'trump is slippery slope ',\n",
       " 'theres stuff dont mind about adhd but one thing wish could get rid of forever is the feeling of wanting to stress frustration cry when have to do work dont want to do it like dumb short circuit that feels physically painful and theres nothing can do about it',\n",
       " 'the family of ron o neal needs to sue wu tang for that trash song they released in his name ',\n",
       " 'are you a russian immigrant or of russian descent and living in los angeles  have you felt any blowback from the controversies and conflicts that the u s  has had with russia  we want to hear from you ',\n",
       " 'guess doing fine bit behind with some things due to an episode of depression from about april to late june and then an inflammation of the knee in early july which hurt like heck which came right after bacterial infection in my other leg',\n",
       " 'convincing conservatives  loosely defined  to have this change of mindset is definitively crucial to win  and the change will come regardless anyway   it is just a matter of it it will come before it is already too late ',\n",
       " 'i dream of deathi have constant fantasies about ending my life  i have never been with a woman in any way  i have been rejected by women  they cannot all be wrong therefore there must be something wrong with me  maybe i am too ugly  maybe i have a horrid personality  maybe i am just plain unlikable  but if i can never get love  what is the point  if i can never fall in love with somebody else so strongly that it hurts and know they love me back  what is the point  if i can never have a child  if i can never know what it is like to hold something in your arms and adore it so much that i know i would gladly give my life for it  what is the point  if i can never look back with my partner of many years on our journey and our children and grandchildren  what is the point  what is the point in shambling day from day with no real purpose like a zombie  why should not i end it  i have such vivid fantasies about it  there is no point to my existence  and if there is no point to it  why should i keep on living and wasting oxygen when there are others who could use it better  sometimes i believe the only reason i am not dead is because i am too much of a coward to do it ',\n",
       " 'he is waiting for the stone cutters to arrive  excuse me mr  stonecutter  do you think this is my best side     ',\n",
       " 'only week into online schooling and want to cry because so stressed',\n",
       " '  and i thought i had a problem ',\n",
       " 'don speak about it but suffer from body dysmorphia and my appearance causes me severe depression especially my legs decided to turn the thing hate the most into the thing now love which is why got magical pomeranian tattoo',\n",
       " 'this gives me sepia photos where everyone just looked too damn tired from the depression to ever give af about smilin for photo',\n",
       " 'soldier      more like antifa scum bag  ',\n",
       " 'my condolences to you praying and asking god to lift that spirit of depression replace it with healing stren h and comfort suffer from severe depression and fight it the enemy wants you to be depressed but don give him the',\n",
       " 'oh great dont have any chamomile tea now im depressed and stressed the fuck out',\n",
       " 'feel so bad for dak aside from full recovery you have to pray for his mental health he was very vocal about battling depression smh never wanna see anything like that happen damn',\n",
       " 'one of my coworkers just left a minute voicemail on my phone singing saying life is a bitch life is a whore   yt pi',\n",
       " 'dont know why people eat themselves to death doesnt help yourself or anyone just causes for stress not been able to do anything but just eat and get more depressed',\n",
       " 'absolutely hate her she an awful person spent her life making carreer out of diminishing people and now she on social media talking about empathy lol',\n",
       " 'think anyone who gets turned down for a date and calls her a bitch or slut  usually a phase that can be',\n",
       " 'justin trudeau and isqra khalid  funding the ideology of white genocide',\n",
       " 'lmao you guys i remember when someone hacked my twitter  called me a whore and shit and tried to say it wasnt them ',\n",
       " 'man what about wilson being the nd black qb to win a chip  talkn about trash talk  no shine for russell  ',\n",
       " '  results are not out yet for the pnp vice presidential race  those supporting damion crawford feel comfotable that he is in ',\n",
       " 'that is very very true indeed dont suffer from depression but do suffer from severe anxiety',\n",
       " 'funny  kerry should know  right  standing with our president',\n",
       " 'grover is antifa and keeps changing his appearance to hide from the government ',\n",
       " 'got very close to attempting to odi am done  i am so very done  i have been having random shit go wrong with my health and my doctors really  really do not give a shit   wait for it to pass  they say even though i have already waited months and my mystery back pain returns   do you really need an appointment for it so soon   yes because i do not want my nd bout of tonsillitis to develop to the point of my eyes also getting infected like last time and my neck was very visibly swollen on one side  my neck is in fact still swollen  but the tonsillitis has gone  and i am now concerned i have got a thyroid issue due to pretty sudden severe weight gain and other similar symptoms  am i gonna bother getting a blood test  fuck no  i wont even be able to get a fucking appointment t to discuss my symptoms i want to die and my body is finally trying to fulfill it  i took a couple of painkillers at work a few days ago because of my stupid back  and i just could not stop thinking about just casually sitting in the break room and swallowing every remaining paracetamol that remained in the packet  i was fairly close to doing it  i do not know why  but i did not do it ',\n",
       " 'architects  engineers  nurses ma  or they fit in and contribute ',\n",
       " 'this is a riveting investigative story uncovering kobach as the lyle lanley of anti immigrant ordinances',\n",
       " 'nigga   that is what i am saying   this white dude really raped and nearly killed a bitch and got probation',\n",
       " 'and there are stressful things happening in my personal life that already have me on edge and have my period and just tired and sad and stressed out want to cry and sleep forever want to be okay',\n",
       " 'i dont belong here theres always been something very wrong with me  i cant ever begin to be able to describe it to anybody  i hate this body and i hate how i keep on trying to pretend like i belong here  im just a fucking idiot and i never should have survived anything  im so stupid and alien in whatever the fuck this world is   i disappoint everybody because i can only play therapist and give them all my attention for so long  god i fucking wish i didnt have to come here and spill this  i wish i could be sitting with a loved one right now  thats not even possible because my guilt would eat me up and make me everything worse   its pathetic  ill keep on dragging myself along until nobody is left to want me alive anymore  i dont know whats fucking wrong with me im just so fucked up  im done trying to keep on believing that ill get better ',\n",
       " '  germany is like    next goal has to be a header  then next goal after that has to be a diving header  let is play monkey   ',\n",
       " 'everyone wants to put women who make false accusations of rape in prison for life but do not even fight to put actual rapists in jail',\n",
       " 'i find myself fantasizing a lot about blowing my brains out i am just so tired and anxious  i am stressed out to my breaking point with college  i do all this work  and i feel like i am getting nowhere  i have this job that makes me want to bleed myself out just thinking about it  the people  the hours  it is all just detestable  and then i only make enough to barely offset the cost of me existing while i still live at home with my parents i know my problems do not seem like anything special   because they are not  but they have all just worn away at me inside and there is just this gnawing feeling of hopelessness  i feel overwhelmingly guilty  i feel i cant make friends with anyone  because i would be doing them a favor not to  i just simply do not want to be alive anymore  i just want to go to sleep forever  i do not want to feel good  and i do not want to feel bad  i want to feel nothing whatsoever  i just want to cease being ',\n",
       " 'man really tried to put on happy face today but its just impossible feel miserable and theres really nothing can do except say that out loud',\n",
       " 'oh god that is so much worse  have a good evening  kbye',\n",
       " 'this wall is called tzompankli  in the maintempel of tetotitlan you find walls with more than heads  mostly they kill refugees and warprisoners from south and they did it also in other cities so ',\n",
       " 'ugh so sorry absolutely hate shit with ears guess that my weakness in life hope it goes away soon',\n",
       " 'yes im the cousin of the infamous cheese ',\n",
       " 'she is more influential so many japanese and british acts are influenced by her  why do so many foreign acts work with her producers  why does she have touring records in europe and japan  why did she win the legend award at the wmas',\n",
       " 'hope he is able to stay in the league',\n",
       " 'i want him to rest ever he is such a sleepy baby',\n",
       " 'cheap chinesium slave labor shite that does not need  and can make far better here if we decide we want it ',\n",
       " 'how do i hide the signs of my failed attempt tomorrow i attempted to suffocate myself tonight  i was not sure how to do it  so i just tied a belt really tight around my neck  amp  it did not work  but now i have scratches all over my arms and chest from my self harm and now a big  visible red mark around my neck from my failed attempt  i have to give presentations for classes tomorrow  i have also kept my suicidal ideation completely secret from my friends because i do not want to manipulate them  i am afraid that if they see the evidence of my most recent attempt that i will have manipulated them  amp  it is degrees tomorrow  how do i hide my marks ',\n",
       " 'because he is the reason for it ',\n",
       " 'everyone hates mei hate being so emotional  i love so hard  i bought new razors and have been drinking a lot more lately and going out hoping someone hurts me  im so alone  always  im hard to be around  ive attempted twice and i know i could do it this time  i just need one more push to do it  anything  i feel like itll happen soon',\n",
       " 'he would say that     hes running scared   and so he should be ',\n",
       " 'right so the hallucination is bothersome tonight not sure where that came from but wow what bitch it affecting my sleep and istg not extra depressed or stressed out lol stupid ass brain just glitching again and the intrusive thoughts be double stren h tonight',\n",
       " 'i use video games as escapismall my life i have loved video games  i still play even though some days it feels like i should not be  or i know i should not be as far as my memories go i know there will be some of a game i played at the time  but i think the first time i ever realised something was off with me  was in th grade  when i finally got off of a month grounding for a poor grade  only to hop back on the computer and feel different  like the grounding sucked the life from video games  i still played though  just different games  they never seemed the same though  now i still play them regularly  just with different priorities  now i have opened up to my girlfriend recently about some dysfunctional family issues that i had not realized were problems until now  one being a memory of how my dad would say  now hes becoming smart  after i learned to keep quiet when asked about things i did  good or bad or how i would have to cry nonstop at my door while grounded in elementary school for my dad to allow me outside the house with friends  my mom always told me its how he was raised in his family and that its to show he cares  so i went with it and let it go  but now i am beginning to understand why i would stay in my room all day  on the computer hiding i played through my worst and best times  after or before suicide attempts  and achievements  i do not feel emotionally involved or connected to anything anymore  my chest does not even hurt anymore when i cry to my girlfriend over text  instead i just feel hollow  even dread is losing the bite it once had ',\n",
       " 'i do not regret attempting suicidei have tried to commit suicide multiple times via trying to hang myself or suffocate myself i do not regret this  i hate western society and feel there is no point in participating in the corruption of capitalism i love my friends and music my family was abusive and i do not associate with them  and it makes me feel so lonely i feel like no one has the time or energy to help me survive i have no job  no place to live and i do not know if i can survive another winter i am addicted to alcohol  weed and cocaine and i am so tired of living i believe pharmaceutical companies are essentially capitalist propaganda designed to pacify descent and assimilate anyone who becomes aware of the immoral nature of capitalism and   wouldemocrasy  in my mind the only escape is death  society has become a filtration system that weeds out anyone who is emotionally aware enough of the pain capitalism causes we are told not to change our society but instead our minds and i believe this is a contradiction  my personal experiences have been a series of trauma and i feel unsafe to express the reality of my experience i feel that my experience has inherently forced me into isolation  so when people tell me there is so much to live for it feels fake because i am not permitted to feel or enjoy anything i have no idea why anyone would want to live and i do not think there is any hope of reform in my perceptions of realitysociety makes me sick and i just want to die it feels like torture knowing people want me to live i have so much suffering and i can not function in this world ',\n",
       " 'put money where your mouth is sir  they pour in ',\n",
       " 'they re all like so you know damn well they re not gonna hold back with the insults saying shut like at least don have depression and cry myself to sleep every night thinking about white man headass',\n",
       " 'years old swedish aspie like tacos but only with hard shells my favourite colour is green and absolutely hate long walks on the beach or anywhere really bc no once tried to calculate how much sewing thread ve used in my life and my brain cried',\n",
       " 'hate that just like little baby when get stressed or angry want to cry and shaking and can even speak',\n",
       " 'im black and what you are telling me is that i can be in my own dwelling and you can just walk in and kill me  no thats not it  lets run a smear campaign even though im the victim  this rage i feel has to be settled down with love but i will be at the next rally  i promise ',\n",
       " 'i do not think he can beat mayweather but he is far from trash  unlike floyd he actually put maidana down ',\n",
       " 'dallas hoe   why',\n",
       " 'can someone explain to me why one would get mad that other people care about them i am more of a drop in visitor from time to time in this reddit  what i do not understand from a lot of the posts here is why so many people get mad because random people tell them that life is worth living these are not paid or going to send the cops to your house like the hotlines will  not everyone in the world is a jerk  and although most are   it is wise to realize that there are some good people out there that genuinely care  they do not claim to know what you are going through half the time  so why take offense anyone care to explain ',\n",
       " 'bitch was like  did you know youre supposed to eat the tamale on its own   it s an hallaca you whore',\n",
       " 'there no trauma behind this things just piled up at the time was stressed depressed physically and emotionally drained felt like fucking failure and eventually sunk into such murky pit that my mind simply gave up there was just one thought die',\n",
       " 'court documents and written accounts claim the young boys were beaten while handcuffed  strapped to chairs with bags over their heads and locked in solitary confinement while nude and shivering in concrete cells ',\n",
       " 'my toxic trait is when going through some type of change stress depressed or whatever tend to stop talking to everyone and when have clear head again start back communicating with everyone like nothing ever happened',\n",
       " 'can we revisit is idea of two teams of playing against each other  i would like to see a game every now  amp  then ',\n",
       " 'today marks one year since i tried to take my life  vent ive been thinking about it all day  exactly one year ago i was unconscious in the hospital  its kinda surreal  ive been working on recovery and doing well for awhile  and i dont think ill ever attempt again  its kinda strange how it all turned out  i was sure i wanted to end it all  but immediately regret it second afterwards  all i could think about was everything i loved and how much i would miss it  ive developed a new appreciation for life since but damn thinking about it all has been painful  cheers to another year  alive and breathing ',\n",
       " 'n his empire  trust me  if my penance of a life n career are true  nature will leave no stone unturned in getting you  you will be left with nothing  every one of you  no matter how powerful you are ',\n",
       " '  so city lights is a charlie chaplin movie by via',\n",
       " 'i was singing in front of my whole family and i accidentally said bitch i feel so exposed',\n",
       " 'it is interesting that you are more aware of the political system than',\n",
       " 'so depressed and want to cry because aot is my favorite manga of all time but isayama rushed lot of things after the chapter',\n",
       " 'absolutely hate when people are caught using slur and their apology is like this is not who am bullshit you don accidentally say slur unless you use it in your everyday life that exactly who you are',\n",
       " '  but it is a blue wave of just from',\n",
       " 'walking around with a half hard dick all day is a really good look on me',\n",
       " 'it absolutely is and all parties ride high on the cash for kids merry go ride to abuse our children and our families and strip your life away hate this country for allowing it to go on',\n",
       " 'the following day your cousin gets admitted as well shes depressed and will have heart failure anytime soon because shes stressed she has been unemployed for too long',\n",
       " 'so stressed with the move physically anf mentally exhausted and depressed am gonma cut the seconf get there',\n",
       " 'pokemon go is quite in fact the real walking dead',\n",
       " 'having a hard time feeling things clearly had a suicide attempt about months ago  started feeling better with medication and therapy  discontinued psychedelics which helped push me towards suicide  i now get crippling anxiety around the friends i had before my suicide attempt  yesterday i almost blacked out during a panic attack  i have set up a schedule and tried to stick to it but have a really hard time sleeping  my girlfriend ended things last week which hurts but was not unexpected  my old best friend texted me out of the blue this week  we talked all night and i was laughing just talking to her through text but things will never be the same between us  the last time i saw her she spit in my face and we had not talked for a year and a half  my most important friend right now is with another one of my friends  i have been interested in her for awhile but am trying to chill out and feel like it is just friends  it is hard when i think about her a lot but i know she would not be interested and she is an important support for me  she does not reveal deeply personal things to me very often but when she does i feel important and that is a good thing  the semester is starting the th  i am scared to go back after missing last semester while dealing with my suicide  other then my breakup i have been feeling really good this week but the last days have been hard  i feel disconnected from my body when looking in the mirror  my scars still make me sick and i do not remember how my hand felt before my suicide  typing this puts things in perspective and i know i need to make a plan to deal with all of these things  best of luck',\n",
       " 'life sucks right now and i could use the supportcloseted trans  fair share of health problems and severe depresion  life seems like a pointless and endless parade of suffering ',\n",
       " 'update absolutely hate my bombas no show socks and my followers who encouraged me to buy them doubt ve ever had as disappointing an experience in my life as the moment when tried on one of these disgusting socks that are really just glorified loafer liners',\n",
       " 'one upmanship between guys in private is hardly the same as women claiming rape ',\n",
       " 'hate giving presents for absolutely shite at it like don think ve ever given anybody thoughtful gift in my life and always feel terrible cause ve got some lovely ones but just seriously lack the imagination this is my crisis about my mas bday monday',\n",
       " 'my shawty is a good girl not no freak hoe',\n",
       " 'newk is sells their whole cakes for       they smoking dick  they are delicious but     bitch please',\n",
       " 've been trying hard dig myself out of this crippling depression ve got ve never suffered with depression amp gone great len hs explain shrinks that have anxiety amp severe panic attacks but never depression now know how awful it is for people who suffer from it',\n",
       " 'illegal immigrant beheads  year old girl in alabama media blackout',\n",
       " 'always glad to see when a revolution hinges on calling women hysterical and needing medication to a',\n",
       " 'kind of like what trump does all the time huh ',\n",
       " 'depression is bitch same goes for anxiety whenever start to feel happiness feel as though don deserve it know do but something internally denies it through hardship and error ve come through strive to become better each and every damn day',\n",
       " 'i might kill myself in hours or sonothing here   if you wanna help then pm me but for now idk',\n",
       " 'might be because have day off ve been working non stop which kinda made me fall depressed and stressed',\n",
       " 'honestly dont know how to do this thing called life out naya but im going to try bc want to keep the promise made her last year right after came back home from the hospital it gets harder amp harder every day but know she would absolutely hate to see me up',\n",
       " 'get job had have depression and anxiety and fine got through it youre fine doesnt do anything to punish my brother when he does something that hurts me gets siblings what they want almost immediately takes asking multiple times for something for',\n",
       " 'they have literally written that their degradation of women is what all men want  so someone go  not all men  them wh',\n",
       " 'wish could nap more totally numb to anything no motivation weepy tuck your head between your knees and try to cry to make it stop depressed and have never felt like this before just want it to go away',\n",
       " 'havent ate in days i feel finally all is at peace i drink about  lt     l of water mostly for the mouth  but you know time takes it time  i dunno just why even eat',\n",
       " 'lmao redskins turnin up',\n",
       " 'execute him put him in the gas chamber  what a joke these liberals are  ',\n",
       " 'going to go turn on the phone now that you have to babysit that stupid gang behavior and idiotic graffiti ',\n",
       " 'finished the sandman audiobook and damn that was tense and personal and interesting chapter facade really made me appreciate some of the choices made to avoid the worst parts of isolation and depression over the last year and death might be my favorite character',\n",
       " 'i have been a failure all these yearsi am years old and havent done achieved something that i should be proud of  months ago i had job  something that i am grateful thought of finally my life has some directiin  but i have lost it because of my envious co workers  now im stuck on bills over bills  my car that i could not pay anymore  and im back living with my parent  christ actually  i did try on killing myself few years back  and guess what  i also failed on that one  here i am wide awake thinking what i did  how life can be so cruel  eeeeehhh lately  i have found myself staring on my parents and sibling somewhat like a one last look or goodbye  i will miss them  my parents  siblings  girlfriend and my pets   dogs and rabbits   and i am truly sorry  i am weak and worthless    ',\n",
       " 'we covered sevendust angel son tonight in remembrance of those that we have lost to depression no matter who you are you are loved too suffer from severe depression and the battle is tough however we can win love you guys alwayskeepfighting fuckdepression',\n",
       " 'wouldve eaten it all and honestly feel pretty miserable about it cause that was fuck load of cheese that ate today for no good reason other than boredom and wanting comfort food it wasnt really comforting tho',\n",
       " 'the trump administration wants to target legal immigrants who use programs like obamacare and potentially block    ',\n",
       " 'feel miserable today wtf these meds seriously aren doing anything so sick of this shit',\n",
       " 'so its finally time i guess  i have felt it coming a while now  i hope this is legible and coherent first of all  its all my fault and no one else  i just do not have any motivation left to improve  or even live this life  i am sorry mummy and papa  you are the best parents anyone could ever ask for  i am sorry to have been such a big failure  disappointment and to have wasted so much of your money sister  i love you so much  i was not the brother you wanted me to be  i could have been a better sibling if i tried  but i did not  i am sorry  i wish you all the best  please take care of mummy and papa my roommates  i am so fucking sorry to leave you all in such a mess  please try to understand that i tried my best  i really did  but it was not enough  it is never been enough  i am sorry to my advisor and professors  i am sorry to have wasted so much of your time and resources when they could have been spent on someone worthy of help  more than me  i am sorry  merry christmas and a happy new year to my friends back home  i am sorry  please take care of yourselves  you were always there for me when i needed to talk to someone  please seek help if you feel like it  i am so sorry you could not help me everyone else  finally  i wish you all the best  i just was not cut out to live a life  i am sorry for whatever pain i caused and i know i made all your lives so much more difficult  i will not be doing that anymore hopefully goodbye',\n",
       " 'gun control has nothing to do with taking away rights   as long as you agree to the stipulations you put in place   ',\n",
       " 'want to stay home for couple weeks work in tax and accounting office and have been working under so much stress trying to help my small business clients apply for disaster loans which never came cry every night for these people just want break',\n",
       " 'this will be great  hope puts someone in charge who makes sure all     goes toward construction costs  and he she better get it going after day  every million donated ',\n",
       " 'she should but probably cant stay awake long enough to leave the country  said she would move to new zeland but i see she is still here  too bad',\n",
       " 'watch  french police remove hundreds of illegal immigrants from cathedral near paris   free speech time  ',\n",
       " 'come on',\n",
       " 'my husband went back to va beach with out me bc didn want to leave my bunny and haven been away from him since deployments amp it fucking sucks it feels like damn deployment even though it only for feel days fuck the military for triggering my depression again',\n",
       " 'k i come on to twitter to make fun of you but i dont fucking need to bc you do it yourself fuck off cunt hole',\n",
       " 'he is leaning the wrong way',\n",
       " '  as nfl reportedly asks bird flipping m i a  for another    m  let is revisit is column on ridiculousness   ',\n",
       " 'i forgot he is their foster child ',\n",
       " 'listen up twitter this month period has taken me out for full weeks mean sure the depression has something to do it but damn',\n",
       " 'italian fm and special rep for libya talk migration',\n",
       " 'wow its been while since ve literally felt my brain click over into depression mode all of sudden my body hurts and want to die thanks brain',\n",
       " '  part of my cousin danny is yankee swap  pretty hilarious  very clever  and very danny ',\n",
       " 'this is such awful news could really use that relief can work due to new treatment for my gad and depression this one hurts know am not the only one out there to',\n",
       " ' you hit no lights  no line for toco bell at in he morning  and diana is back in her house  it is a miracle    charlie',\n",
       " 'i am killing myself october ththat would have been the anniversary of me and my girlfriend but i ruin everything in my life so she left me i am incredibly drunk so i might delete this post later but that does not change the fact that i plan on killing myself on october th',\n",
       " 'best not stray off message  we need to be using every death to blame guns and push for gun control  talking about actual causes distracts from that ',\n",
       " 'colored contacts',\n",
       " 'we know that all fund and support politicians who is funding and supporting    ',\n",
       " '  it looks like he is wearing a trash bag',\n",
       " 'at least my friends cared today feel so ungrateful laying here and sobbing because it feels like disregarding everything my friends did but not disregarding it just can stand this day can stand that so conditioned to cry amp feel miserable every year',\n",
       " 'it would',\n",
       " 'you are a true blessing',\n",
       " ...]"
      ]
     },
     "execution_count": 64,
     "metadata": {},
     "output_type": "execute_result"
    }
   ],
   "source": [
    "list(X_train)"
   ]
  },
  {
   "cell_type": "code",
   "execution_count": 66,
   "metadata": {},
   "outputs": [
    {
     "name": "stdout",
     "output_type": "stream",
     "text": [
      "i fucking want bto die\n"
     ]
    }
   ],
   "source": [
    "li=[]\n",
    "li.append(input())"
   ]
  },
  {
   "cell_type": "code",
   "execution_count": 67,
   "metadata": {},
   "outputs": [
    {
     "data": {
      "text/plain": [
       "['i fucking want bto die']"
      ]
     },
     "execution_count": 67,
     "metadata": {},
     "output_type": "execute_result"
    }
   ],
   "source": [
    "li"
   ]
  },
  {
   "cell_type": "code",
   "execution_count": 68,
   "metadata": {},
   "outputs": [],
   "source": [
    "j=embed(li)"
   ]
  },
  {
   "cell_type": "code",
   "execution_count": 69,
   "metadata": {},
   "outputs": [
    {
     "data": {
      "text/plain": [
       "TensorShape([1, 512])"
      ]
     },
     "execution_count": 69,
     "metadata": {},
     "output_type": "execute_result"
    }
   ],
   "source": [
    "j.shape"
   ]
  },
  {
   "cell_type": "code",
   "execution_count": null,
   "metadata": {},
   "outputs": [],
   "source": []
  }
 ],
 "metadata": {
  "accelerator": "GPU",
  "colab": {
   "authorship_tag": "ABX9TyNTQTbRqyPLSs8Fz3F7Sgj/",
   "mount_file_id": "14tSGFRIpj-yrnRd3io2n7p-b_7MpDAjs",
   "name": "Suicide+depression.ipynb",
   "provenance": []
  },
  "kernelspec": {
   "display_name": "Python 3 (ipykernel)",
   "language": "python",
   "name": "python3"
  },
  "language_info": {
   "codemirror_mode": {
    "name": "ipython",
    "version": 3
   },
   "file_extension": ".py",
   "mimetype": "text/x-python",
   "name": "python",
   "nbconvert_exporter": "python",
   "pygments_lexer": "ipython3",
   "version": "3.9.7"
  }
 },
 "nbformat": 4,
 "nbformat_minor": 1
}
