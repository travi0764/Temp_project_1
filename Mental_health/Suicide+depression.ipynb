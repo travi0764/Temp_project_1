{
 "cells": [
  {
   "cell_type": "code",
   "execution_count": 1,
   "metadata": {
    "executionInfo": {
     "elapsed": 439,
     "status": "ok",
     "timestamp": 1635775921812,
     "user": {
      "displayName": "Penny Tiwari",
      "photoUrl": "https://lh3.googleusercontent.com/a/default-user=s64",
      "userId": "14007942765575684471"
     },
     "user_tz": -330
    },
    "id": "blvw1AC5oFen"
   },
   "outputs": [],
   "source": [
    "root=\"/content/drive/MyDrive/Mental_health\""
   ]
  },
  {
   "cell_type": "code",
   "execution_count": 2,
   "metadata": {
    "executionInfo": {
     "elapsed": 39,
     "status": "ok",
     "timestamp": 1635775922459,
     "user": {
      "displayName": "Penny Tiwari",
      "photoUrl": "https://lh3.googleusercontent.com/a/default-user=s64",
      "userId": "14007942765575684471"
     },
     "user_tz": -330
    },
    "id": "WIJROiTNoLUh"
   },
   "outputs": [],
   "source": [
    "import os\n",
    "os.chdir(root)"
   ]
  },
  {
   "cell_type": "code",
   "execution_count": 3,
   "metadata": {
    "colab": {
     "base_uri": "https://localhost:8080/"
    },
    "executionInfo": {
     "elapsed": 38,
     "status": "ok",
     "timestamp": 1635775922460,
     "user": {
      "displayName": "Penny Tiwari",
      "photoUrl": "https://lh3.googleusercontent.com/a/default-user=s64",
      "userId": "14007942765575684471"
     },
     "user_tz": -330
    },
    "id": "wzVtx6dPoNJc",
    "outputId": "e609f16f-324e-4d22-cdc5-2b2be0f12e94"
   },
   "outputs": [
    {
     "name": "stdout",
     "output_type": "stream",
     "text": [
      " data_mixed.csv       gold_corpus.csv\t\t  Suicide_Detection.csv\n",
      " data_mixed_dep.csv   gold_corpus_rt.csv\t  Suicide.ipynb\n",
      " data_mixed_rt.csv    NEW_DATA.csv\t\t  test2Data.csv\n",
      " depression.csv      'Preprocessing data.ipynb'   train2Data.csv\n",
      " dummy_data.csv       Suicide+depression.ipynb\n"
     ]
    }
   ],
   "source": [
    "!ls"
   ]
  },
  {
   "cell_type": "code",
   "execution_count": 4,
   "metadata": {
    "executionInfo": {
     "elapsed": 3,
     "status": "ok",
     "timestamp": 1635775923053,
     "user": {
      "displayName": "Penny Tiwari",
      "photoUrl": "https://lh3.googleusercontent.com/a/default-user=s64",
      "userId": "14007942765575684471"
     },
     "user_tz": -330
    },
    "id": "w96IZAzqoekJ"
   },
   "outputs": [],
   "source": [
    "import pandas as pd\n",
    "import numpy as np"
   ]
  },
  {
   "cell_type": "code",
   "execution_count": 5,
   "metadata": {
    "colab": {
     "base_uri": "https://localhost:8080/",
     "height": 419
    },
    "executionInfo": {
     "elapsed": 5355,
     "status": "ok",
     "timestamp": 1635775928406,
     "user": {
      "displayName": "Penny Tiwari",
      "photoUrl": "https://lh3.googleusercontent.com/a/default-user=s64",
      "userId": "14007942765575684471"
     },
     "user_tz": -330
    },
    "id": "q1xbawG1ogDQ",
    "outputId": "5fc69f63-eac7-4aff-d1fc-731d3a948c6d"
   },
   "outputs": [
    {
     "data": {
      "text/html": [
       "<div>\n",
       "<style scoped>\n",
       "    .dataframe tbody tr th:only-of-type {\n",
       "        vertical-align: middle;\n",
       "    }\n",
       "\n",
       "    .dataframe tbody tr th {\n",
       "        vertical-align: top;\n",
       "    }\n",
       "\n",
       "    .dataframe thead th {\n",
       "        text-align: right;\n",
       "    }\n",
       "</style>\n",
       "<table border=\"1\" class=\"dataframe\">\n",
       "  <thead>\n",
       "    <tr style=\"text-align: right;\">\n",
       "      <th></th>\n",
       "      <th>Unnamed: 0</th>\n",
       "      <th>text</th>\n",
       "      <th>class</th>\n",
       "    </tr>\n",
       "  </thead>\n",
       "  <tbody>\n",
       "    <tr>\n",
       "      <th>0</th>\n",
       "      <td>2</td>\n",
       "      <td>Ex Wife Threatening SuicideRecently I left my ...</td>\n",
       "      <td>suicide</td>\n",
       "    </tr>\n",
       "    <tr>\n",
       "      <th>1</th>\n",
       "      <td>3</td>\n",
       "      <td>Am I weird I don't get affected by compliments...</td>\n",
       "      <td>non-suicide</td>\n",
       "    </tr>\n",
       "    <tr>\n",
       "      <th>2</th>\n",
       "      <td>4</td>\n",
       "      <td>Finally 2020 is almost over... So I can never ...</td>\n",
       "      <td>non-suicide</td>\n",
       "    </tr>\n",
       "    <tr>\n",
       "      <th>3</th>\n",
       "      <td>8</td>\n",
       "      <td>i need helpjust help me im crying so hard</td>\n",
       "      <td>suicide</td>\n",
       "    </tr>\n",
       "    <tr>\n",
       "      <th>4</th>\n",
       "      <td>9</td>\n",
       "      <td>I’m so lostHello, my name is Adam (16) and I’v...</td>\n",
       "      <td>suicide</td>\n",
       "    </tr>\n",
       "    <tr>\n",
       "      <th>...</th>\n",
       "      <td>...</td>\n",
       "      <td>...</td>\n",
       "      <td>...</td>\n",
       "    </tr>\n",
       "    <tr>\n",
       "      <th>232069</th>\n",
       "      <td>348103</td>\n",
       "      <td>If you don't like rock then your not going to ...</td>\n",
       "      <td>non-suicide</td>\n",
       "    </tr>\n",
       "    <tr>\n",
       "      <th>232070</th>\n",
       "      <td>348106</td>\n",
       "      <td>You how you can tell i have so many friends an...</td>\n",
       "      <td>non-suicide</td>\n",
       "    </tr>\n",
       "    <tr>\n",
       "      <th>232071</th>\n",
       "      <td>348107</td>\n",
       "      <td>pee probably tastes like salty tea😏💦‼️ can som...</td>\n",
       "      <td>non-suicide</td>\n",
       "    </tr>\n",
       "    <tr>\n",
       "      <th>232072</th>\n",
       "      <td>348108</td>\n",
       "      <td>The usual stuff you find hereI'm not posting t...</td>\n",
       "      <td>suicide</td>\n",
       "    </tr>\n",
       "    <tr>\n",
       "      <th>232073</th>\n",
       "      <td>348110</td>\n",
       "      <td>I still haven't beaten the first boss in Hollo...</td>\n",
       "      <td>non-suicide</td>\n",
       "    </tr>\n",
       "  </tbody>\n",
       "</table>\n",
       "<p>232074 rows × 3 columns</p>\n",
       "</div>"
      ],
      "text/plain": [
       "        Unnamed: 0  ...        class\n",
       "0                2  ...      suicide\n",
       "1                3  ...  non-suicide\n",
       "2                4  ...  non-suicide\n",
       "3                8  ...      suicide\n",
       "4                9  ...      suicide\n",
       "...            ...  ...          ...\n",
       "232069      348103  ...  non-suicide\n",
       "232070      348106  ...  non-suicide\n",
       "232071      348107  ...  non-suicide\n",
       "232072      348108  ...      suicide\n",
       "232073      348110  ...  non-suicide\n",
       "\n",
       "[232074 rows x 3 columns]"
      ]
     },
     "execution_count": 5,
     "metadata": {},
     "output_type": "execute_result"
    }
   ],
   "source": [
    "data=pd.read_csv(\"Suicide_Detection.csv\")\n",
    "data"
   ]
  },
  {
   "cell_type": "code",
   "execution_count": 6,
   "metadata": {
    "colab": {
     "base_uri": "https://localhost:8080/",
     "height": 419
    },
    "executionInfo": {
     "elapsed": 9,
     "status": "ok",
     "timestamp": 1635775928407,
     "user": {
      "displayName": "Penny Tiwari",
      "photoUrl": "https://lh3.googleusercontent.com/a/default-user=s64",
      "userId": "14007942765575684471"
     },
     "user_tz": -330
    },
    "id": "KMEIWnk6os1z",
    "outputId": "7a22eea3-0db7-43af-949e-58559ac0a6ef"
   },
   "outputs": [
    {
     "data": {
      "text/html": [
       "<div>\n",
       "<style scoped>\n",
       "    .dataframe tbody tr th:only-of-type {\n",
       "        vertical-align: middle;\n",
       "    }\n",
       "\n",
       "    .dataframe tbody tr th {\n",
       "        vertical-align: top;\n",
       "    }\n",
       "\n",
       "    .dataframe thead th {\n",
       "        text-align: right;\n",
       "    }\n",
       "</style>\n",
       "<table border=\"1\" class=\"dataframe\">\n",
       "  <thead>\n",
       "    <tr style=\"text-align: right;\">\n",
       "      <th></th>\n",
       "      <th>text</th>\n",
       "      <th>class</th>\n",
       "    </tr>\n",
       "  </thead>\n",
       "  <tbody>\n",
       "    <tr>\n",
       "      <th>0</th>\n",
       "      <td>Ex Wife Threatening SuicideRecently I left my ...</td>\n",
       "      <td>suicide</td>\n",
       "    </tr>\n",
       "    <tr>\n",
       "      <th>1</th>\n",
       "      <td>Am I weird I don't get affected by compliments...</td>\n",
       "      <td>non-suicide</td>\n",
       "    </tr>\n",
       "    <tr>\n",
       "      <th>2</th>\n",
       "      <td>Finally 2020 is almost over... So I can never ...</td>\n",
       "      <td>non-suicide</td>\n",
       "    </tr>\n",
       "    <tr>\n",
       "      <th>3</th>\n",
       "      <td>i need helpjust help me im crying so hard</td>\n",
       "      <td>suicide</td>\n",
       "    </tr>\n",
       "    <tr>\n",
       "      <th>4</th>\n",
       "      <td>I’m so lostHello, my name is Adam (16) and I’v...</td>\n",
       "      <td>suicide</td>\n",
       "    </tr>\n",
       "    <tr>\n",
       "      <th>...</th>\n",
       "      <td>...</td>\n",
       "      <td>...</td>\n",
       "    </tr>\n",
       "    <tr>\n",
       "      <th>232069</th>\n",
       "      <td>If you don't like rock then your not going to ...</td>\n",
       "      <td>non-suicide</td>\n",
       "    </tr>\n",
       "    <tr>\n",
       "      <th>232070</th>\n",
       "      <td>You how you can tell i have so many friends an...</td>\n",
       "      <td>non-suicide</td>\n",
       "    </tr>\n",
       "    <tr>\n",
       "      <th>232071</th>\n",
       "      <td>pee probably tastes like salty tea😏💦‼️ can som...</td>\n",
       "      <td>non-suicide</td>\n",
       "    </tr>\n",
       "    <tr>\n",
       "      <th>232072</th>\n",
       "      <td>The usual stuff you find hereI'm not posting t...</td>\n",
       "      <td>suicide</td>\n",
       "    </tr>\n",
       "    <tr>\n",
       "      <th>232073</th>\n",
       "      <td>I still haven't beaten the first boss in Hollo...</td>\n",
       "      <td>non-suicide</td>\n",
       "    </tr>\n",
       "  </tbody>\n",
       "</table>\n",
       "<p>232074 rows × 2 columns</p>\n",
       "</div>"
      ],
      "text/plain": [
       "                                                     text        class\n",
       "0       Ex Wife Threatening SuicideRecently I left my ...      suicide\n",
       "1       Am I weird I don't get affected by compliments...  non-suicide\n",
       "2       Finally 2020 is almost over... So I can never ...  non-suicide\n",
       "3               i need helpjust help me im crying so hard      suicide\n",
       "4       I’m so lostHello, my name is Adam (16) and I’v...      suicide\n",
       "...                                                   ...          ...\n",
       "232069  If you don't like rock then your not going to ...  non-suicide\n",
       "232070  You how you can tell i have so many friends an...  non-suicide\n",
       "232071  pee probably tastes like salty tea😏💦‼️ can som...  non-suicide\n",
       "232072  The usual stuff you find hereI'm not posting t...      suicide\n",
       "232073  I still haven't beaten the first boss in Hollo...  non-suicide\n",
       "\n",
       "[232074 rows x 2 columns]"
      ]
     },
     "execution_count": 6,
     "metadata": {},
     "output_type": "execute_result"
    }
   ],
   "source": [
    "data.drop(\"Unnamed: 0\",axis=1,inplace=True)\n",
    "data.dropna(inplace=True)\n",
    "data"
   ]
  },
  {
   "cell_type": "code",
   "execution_count": 7,
   "metadata": {
    "colab": {
     "base_uri": "https://localhost:8080/"
    },
    "executionInfo": {
     "elapsed": 4029,
     "status": "ok",
     "timestamp": 1635775932431,
     "user": {
      "displayName": "Penny Tiwari",
      "photoUrl": "https://lh3.googleusercontent.com/a/default-user=s64",
      "userId": "14007942765575684471"
     },
     "user_tz": -330
    },
    "id": "UwUiZZWJov3Z",
    "outputId": "e13acd16-e89a-412b-e3e5-8f5dac62e03d"
   },
   "outputs": [
    {
     "name": "stdout",
     "output_type": "stream",
     "text": [
      "Requirement already satisfied: tweet-preprocessor in /usr/local/lib/python3.7/dist-packages (0.6.0)\n"
     ]
    }
   ],
   "source": [
    "!pip install tweet-preprocessor"
   ]
  },
  {
   "cell_type": "code",
   "execution_count": 8,
   "metadata": {
    "colab": {
     "base_uri": "https://localhost:8080/"
    },
    "executionInfo": {
     "elapsed": 2011,
     "status": "ok",
     "timestamp": 1635775934437,
     "user": {
      "displayName": "Penny Tiwari",
      "photoUrl": "https://lh3.googleusercontent.com/a/default-user=s64",
      "userId": "14007942765575684471"
     },
     "user_tz": -330
    },
    "id": "YpoxgeLpo2LL",
    "outputId": "f11e497c-80bf-49e0-aef5-a4d4408e9682"
   },
   "outputs": [
    {
     "name": "stdout",
     "output_type": "stream",
     "text": [
      "[nltk_data] Downloading package punkt to /root/nltk_data...\n",
      "[nltk_data]   Package punkt is already up-to-date!\n",
      "[nltk_data] Downloading package stopwords to /root/nltk_data...\n",
      "[nltk_data]   Package stopwords is already up-to-date!\n"
     ]
    }
   ],
   "source": [
    "import pandas as pd\n",
    "import nltk\n",
    "import re\n",
    "import string\n",
    "from nltk.corpus import stopwords\n",
    "nltk.download('punkt')\n",
    "nltk.download('stopwords')\n",
    "from nltk.tokenize import word_tokenize\n",
    "import preprocessor as p\n",
    "from nltk.stem import WordNetLemmatizer \n",
    "from nltk import sent_tokenize\n",
    "from nltk import word_tokenize\n",
    "\n",
    "stop_words = stopwords.words()\n",
    "\n",
    "def cleaning(text):        \n",
    "    \n",
    "    text = re.sub(r\"won't\", \"will not\",text)\n",
    "    text = re.sub(r\"can\\'t\", \"can not\",text)\n",
    "    text = re.sub(r\"n\\'t\", \" not\",text)\n",
    "    text = re.sub(r\"\\'re\", \" are\",text)\n",
    "    text = re.sub(r\"\\'s\", \" is\",text)\n",
    "    text = re.sub(r\"\\'d\", \" would\",text)\n",
    "    text = re.sub(r\"\\'ll\", \" will\",text)\n",
    "    text = re.sub(r\"\\'t\", \" not\",text)\n",
    "    text = re.sub(r\"\\'ve\", \" have\",text)\n",
    "    text = re.sub(r\"\\'m\", \" am\",text)\n",
    "    text = re.sub('RT',\" \", text)\n",
    "    \n",
    "    text=p.clean(text)\n",
    "    text = re.sub(\"\\$RESERVED\\$ \\$MENTION\\$|\\$NUMBER\\$|\\$MENTION\\$\",' ', text)\n",
    "    text = text.lower()\n",
    "    text = re.sub('https?://\\S+|www\\.\\S+', ' ', text)\n",
    "    text = re.sub('<.*?>+', ' ', text)\n",
    "    text = re.sub('[%s]' % re.escape(string.punctuation), ' ', text)\n",
    "    text = re.sub('\\n', ' ', text)\n",
    "    text = re.sub('[’“”…]', ' ', text)   \n",
    "    \n",
    "    \n",
    "    text = re.sub('user',\" \", text)\n",
    "    text = re.sub('url',\" \", text)\n",
    "    \n",
    "    text = re.sub('reserved',\" \", text)\n",
    "    \n",
    "    \n",
    "    \n",
    "    \n",
    "    \n",
    "    \n",
    "    text = re.sub(\"[^A-Za-z]\",' ',text)\n",
    "    \n",
    "\n",
    "    # removing the emojies               \n",
    "    emoji_pattern = re.compile(\"[\"\n",
    "                           u\"\\U0001F600-\\U0001F64F\"  # emoticons\n",
    "                           u\"\\U0001F300-\\U0001F5FF\"  # symbols & pictographs\n",
    "                           u\"\\U0001F680-\\U0001F6FF\"  # transport & map symbols\n",
    "                           u\"\\U0001F1E0-\\U0001F1FF\"  # flags (iOS)\n",
    "                           u\"\\U00002702-\\U000027B0\"\n",
    "                           u\"\\U000024C2-\\U0001F251\"\n",
    "                           \"]+\", flags=re.UNICODE)\n",
    "    text = emoji_pattern.sub(r' ', text)   \n",
    "    \n",
    "    \n",
    "    \n",
    "    \n",
    "    \n",
    "    \n",
    "    return text\n",
    "\n"
   ]
  },
  {
   "cell_type": "code",
   "execution_count": 9,
   "metadata": {
    "colab": {
     "base_uri": "https://localhost:8080/"
    },
    "executionInfo": {
     "elapsed": 5,
     "status": "ok",
     "timestamp": 1635775934437,
     "user": {
      "displayName": "Penny Tiwari",
      "photoUrl": "https://lh3.googleusercontent.com/a/default-user=s64",
      "userId": "14007942765575684471"
     },
     "user_tz": -330
    },
    "id": "sjwsaldnpMxg",
    "outputId": "fb1c39f6-eae8-46d8-c96e-a3a931a7dc7f"
   },
   "outputs": [
    {
     "data": {
      "text/plain": [
       "non-suicide    5061\n",
       "suicide        4939\n",
       "Name: class, dtype: int64"
      ]
     },
     "execution_count": 9,
     "metadata": {},
     "output_type": "execute_result"
    }
   ],
   "source": [
    "k=np.random.randint(0,len(data),(10000))\n",
    "data1=data.loc[k]\n",
    "data1['class'].value_counts()"
   ]
  },
  {
   "cell_type": "code",
   "execution_count": 10,
   "metadata": {
    "colab": {
     "base_uri": "https://localhost:8080/"
    },
    "executionInfo": {
     "elapsed": 6645,
     "status": "ok",
     "timestamp": 1635775941080,
     "user": {
      "displayName": "Penny Tiwari",
      "photoUrl": "https://lh3.googleusercontent.com/a/default-user=s64",
      "userId": "14007942765575684471"
     },
     "user_tz": -330
    },
    "id": "4gVr9Jq2pPT6",
    "outputId": "33b1fed1-588a-47c4-fb05-50de1ffde138"
   },
   "outputs": [
    {
     "data": {
      "text/plain": [
       "(10000, 2)"
      ]
     },
     "execution_count": 10,
     "metadata": {},
     "output_type": "execute_result"
    }
   ],
   "source": [
    "data1.text=data1.text.apply(cleaning)\n",
    "data1.dropna(inplace=True)\n",
    "data1.shape"
   ]
  },
  {
   "cell_type": "code",
   "execution_count": 11,
   "metadata": {
    "colab": {
     "base_uri": "https://localhost:8080/"
    },
    "executionInfo": {
     "elapsed": 27,
     "status": "ok",
     "timestamp": 1635775941081,
     "user": {
      "displayName": "Penny Tiwari",
      "photoUrl": "https://lh3.googleusercontent.com/a/default-user=s64",
      "userId": "14007942765575684471"
     },
     "user_tz": -330
    },
    "id": "Jn7hTQw_pRft",
    "outputId": "1b660dfa-30c6-42b5-aba0-99e93a1da93f"
   },
   "outputs": [
    {
     "name": "stderr",
     "output_type": "stream",
     "text": [
      "/usr/local/lib/python3.7/dist-packages/ipykernel_launcher.py:3: SettingWithCopyWarning: \n",
      "A value is trying to be set on a copy of a slice from a DataFrame\n",
      "\n",
      "See the caveats in the documentation: https://pandas.pydata.org/pandas-docs/stable/user_guide/indexing.html#returning-a-view-versus-a-copy\n",
      "  This is separate from the ipykernel package so we can avoid doing imports until\n"
     ]
    },
    {
     "data": {
      "text/plain": [
       "suicide    4939\n",
       "Name: class, dtype: int64"
      ]
     },
     "execution_count": 11,
     "metadata": {},
     "output_type": "execute_result"
    }
   ],
   "source": [
    "mask=data1['class']=='suicide'\n",
    "data6=data1.loc[mask]\n",
    "data6.dropna(inplace=True)\n",
    "data6['class'].value_counts()"
   ]
  },
  {
   "cell_type": "code",
   "execution_count": 12,
   "metadata": {
    "colab": {
     "base_uri": "https://localhost:8080/",
     "height": 419
    },
    "executionInfo": {
     "elapsed": 18,
     "status": "ok",
     "timestamp": 1635775941082,
     "user": {
      "displayName": "Penny Tiwari",
      "photoUrl": "https://lh3.googleusercontent.com/a/default-user=s64",
      "userId": "14007942765575684471"
     },
     "user_tz": -330
    },
    "id": "qJfUu_3_pnVF",
    "outputId": "2ed13dc1-38a8-4373-89ea-5e345b0e0b9b"
   },
   "outputs": [
    {
     "data": {
      "text/html": [
       "<div>\n",
       "<style scoped>\n",
       "    .dataframe tbody tr th:only-of-type {\n",
       "        vertical-align: middle;\n",
       "    }\n",
       "\n",
       "    .dataframe tbody tr th {\n",
       "        vertical-align: top;\n",
       "    }\n",
       "\n",
       "    .dataframe thead th {\n",
       "        text-align: right;\n",
       "    }\n",
       "</style>\n",
       "<table border=\"1\" class=\"dataframe\">\n",
       "  <thead>\n",
       "    <tr style=\"text-align: right;\">\n",
       "      <th></th>\n",
       "      <th>Unnamed: 0</th>\n",
       "      <th>tweet</th>\n",
       "      <th>label</th>\n",
       "    </tr>\n",
       "  </thead>\n",
       "  <tbody>\n",
       "    <tr>\n",
       "      <th>0</th>\n",
       "      <td>0</td>\n",
       "      <td>damn taking this personality quiz and realizin...</td>\n",
       "      <td>4</td>\n",
       "    </tr>\n",
       "    <tr>\n",
       "      <th>1</th>\n",
       "      <td>1</td>\n",
       "      <td>remember experiencing as kid what now realize ...</td>\n",
       "      <td>4</td>\n",
       "    </tr>\n",
       "    <tr>\n",
       "      <th>2</th>\n",
       "      <td>2</td>\n",
       "      <td>damn louis really did pull me out of my depres...</td>\n",
       "      <td>4</td>\n",
       "    </tr>\n",
       "    <tr>\n",
       "      <th>3</th>\n",
       "      <td>3</td>\n",
       "      <td>my depression is really kicking my ass right n...</td>\n",
       "      <td>4</td>\n",
       "    </tr>\n",
       "    <tr>\n",
       "      <th>4</th>\n",
       "      <td>4</td>\n",
       "      <td>feel like my night is going bad family calling...</td>\n",
       "      <td>4</td>\n",
       "    </tr>\n",
       "    <tr>\n",
       "      <th>...</th>\n",
       "      <td>...</td>\n",
       "      <td>...</td>\n",
       "      <td>...</td>\n",
       "    </tr>\n",
       "    <tr>\n",
       "      <th>61995</th>\n",
       "      <td>30995</td>\n",
       "      <td>the only way they can attract good dicks is to...</td>\n",
       "      <td>2</td>\n",
       "    </tr>\n",
       "    <tr>\n",
       "      <th>61996</th>\n",
       "      <td>30996</td>\n",
       "      <td>gotta say like you think we have the same atti...</td>\n",
       "      <td>2</td>\n",
       "    </tr>\n",
       "    <tr>\n",
       "      <th>61997</th>\n",
       "      <td>30997</td>\n",
       "      <td>many product companies goes from right to left...</td>\n",
       "      <td>2</td>\n",
       "    </tr>\n",
       "    <tr>\n",
       "      <th>61998</th>\n",
       "      <td>30998</td>\n",
       "      <td>just casually playing animal crossing while wa...</td>\n",
       "      <td>2</td>\n",
       "    </tr>\n",
       "    <tr>\n",
       "      <th>61999</th>\n",
       "      <td>30999</td>\n",
       "      <td>in kushner speak look wasn born with silver sp...</td>\n",
       "      <td>2</td>\n",
       "    </tr>\n",
       "  </tbody>\n",
       "</table>\n",
       "<p>62000 rows × 3 columns</p>\n",
       "</div>"
      ],
      "text/plain": [
       "       Unnamed: 0                                              tweet  label\n",
       "0               0  damn taking this personality quiz and realizin...      4\n",
       "1               1  remember experiencing as kid what now realize ...      4\n",
       "2               2  damn louis really did pull me out of my depres...      4\n",
       "3               3  my depression is really kicking my ass right n...      4\n",
       "4               4  feel like my night is going bad family calling...      4\n",
       "...           ...                                                ...    ...\n",
       "61995       30995  the only way they can attract good dicks is to...      2\n",
       "61996       30996  gotta say like you think we have the same atti...      2\n",
       "61997       30997  many product companies goes from right to left...      2\n",
       "61998       30998  just casually playing animal crossing while wa...      2\n",
       "61999       30999  in kushner speak look wasn born with silver sp...      2\n",
       "\n",
       "[62000 rows x 3 columns]"
      ]
     },
     "execution_count": 12,
     "metadata": {},
     "output_type": "execute_result"
    }
   ],
   "source": [
    "data2=pd.read_csv(\"depression.csv\")\n",
    "data2"
   ]
  },
  {
   "cell_type": "code",
   "execution_count": 13,
   "metadata": {
    "colab": {
     "base_uri": "https://localhost:8080/",
     "height": 419
    },
    "executionInfo": {
     "elapsed": 14,
     "status": "ok",
     "timestamp": 1635775941082,
     "user": {
      "displayName": "Penny Tiwari",
      "photoUrl": "https://lh3.googleusercontent.com/a/default-user=s64",
      "userId": "14007942765575684471"
     },
     "user_tz": -330
    },
    "id": "H93wc4cYp6Py",
    "outputId": "5a604a57-5e1a-4e71-831e-628c83271f98"
   },
   "outputs": [
    {
     "data": {
      "text/html": [
       "<div>\n",
       "<style scoped>\n",
       "    .dataframe tbody tr th:only-of-type {\n",
       "        vertical-align: middle;\n",
       "    }\n",
       "\n",
       "    .dataframe tbody tr th {\n",
       "        vertical-align: top;\n",
       "    }\n",
       "\n",
       "    .dataframe thead th {\n",
       "        text-align: right;\n",
       "    }\n",
       "</style>\n",
       "<table border=\"1\" class=\"dataframe\">\n",
       "  <thead>\n",
       "    <tr style=\"text-align: right;\">\n",
       "      <th></th>\n",
       "      <th>tweet</th>\n",
       "      <th>label</th>\n",
       "    </tr>\n",
       "  </thead>\n",
       "  <tbody>\n",
       "    <tr>\n",
       "      <th>0</th>\n",
       "      <td>damn taking this personality quiz and realizin...</td>\n",
       "      <td>4</td>\n",
       "    </tr>\n",
       "    <tr>\n",
       "      <th>1</th>\n",
       "      <td>remember experiencing as kid what now realize ...</td>\n",
       "      <td>4</td>\n",
       "    </tr>\n",
       "    <tr>\n",
       "      <th>2</th>\n",
       "      <td>damn louis really did pull me out of my depres...</td>\n",
       "      <td>4</td>\n",
       "    </tr>\n",
       "    <tr>\n",
       "      <th>3</th>\n",
       "      <td>my depression is really kicking my ass right n...</td>\n",
       "      <td>4</td>\n",
       "    </tr>\n",
       "    <tr>\n",
       "      <th>4</th>\n",
       "      <td>feel like my night is going bad family calling...</td>\n",
       "      <td>4</td>\n",
       "    </tr>\n",
       "    <tr>\n",
       "      <th>...</th>\n",
       "      <td>...</td>\n",
       "      <td>...</td>\n",
       "    </tr>\n",
       "    <tr>\n",
       "      <th>61995</th>\n",
       "      <td>the only way they can attract good dicks is to...</td>\n",
       "      <td>2</td>\n",
       "    </tr>\n",
       "    <tr>\n",
       "      <th>61996</th>\n",
       "      <td>gotta say like you think we have the same atti...</td>\n",
       "      <td>2</td>\n",
       "    </tr>\n",
       "    <tr>\n",
       "      <th>61997</th>\n",
       "      <td>many product companies goes from right to left...</td>\n",
       "      <td>2</td>\n",
       "    </tr>\n",
       "    <tr>\n",
       "      <th>61998</th>\n",
       "      <td>just casually playing animal crossing while wa...</td>\n",
       "      <td>2</td>\n",
       "    </tr>\n",
       "    <tr>\n",
       "      <th>61999</th>\n",
       "      <td>in kushner speak look wasn born with silver sp...</td>\n",
       "      <td>2</td>\n",
       "    </tr>\n",
       "  </tbody>\n",
       "</table>\n",
       "<p>62000 rows × 2 columns</p>\n",
       "</div>"
      ],
      "text/plain": [
       "                                                   tweet  label\n",
       "0      damn taking this personality quiz and realizin...      4\n",
       "1      remember experiencing as kid what now realize ...      4\n",
       "2      damn louis really did pull me out of my depres...      4\n",
       "3      my depression is really kicking my ass right n...      4\n",
       "4      feel like my night is going bad family calling...      4\n",
       "...                                                  ...    ...\n",
       "61995  the only way they can attract good dicks is to...      2\n",
       "61996  gotta say like you think we have the same atti...      2\n",
       "61997  many product companies goes from right to left...      2\n",
       "61998  just casually playing animal crossing while wa...      2\n",
       "61999  in kushner speak look wasn born with silver sp...      2\n",
       "\n",
       "[62000 rows x 2 columns]"
      ]
     },
     "execution_count": 13,
     "metadata": {},
     "output_type": "execute_result"
    }
   ],
   "source": [
    "data2.drop(\"Unnamed: 0\",axis=1,inplace=True)\n",
    "data2"
   ]
  },
  {
   "cell_type": "code",
   "execution_count": 14,
   "metadata": {
    "colab": {
     "base_uri": "https://localhost:8080/",
     "height": 419
    },
    "executionInfo": {
     "elapsed": 19,
     "status": "ok",
     "timestamp": 1635775941767,
     "user": {
      "displayName": "Penny Tiwari",
      "photoUrl": "https://lh3.googleusercontent.com/a/default-user=s64",
      "userId": "14007942765575684471"
     },
     "user_tz": -330
    },
    "id": "aLEHdDUKp8wl",
    "outputId": "3e123602-47fb-4441-f343-2d507ee6ef35"
   },
   "outputs": [
    {
     "data": {
      "text/html": [
       "<div>\n",
       "<style scoped>\n",
       "    .dataframe tbody tr th:only-of-type {\n",
       "        vertical-align: middle;\n",
       "    }\n",
       "\n",
       "    .dataframe tbody tr th {\n",
       "        vertical-align: top;\n",
       "    }\n",
       "\n",
       "    .dataframe thead th {\n",
       "        text-align: right;\n",
       "    }\n",
       "</style>\n",
       "<table border=\"1\" class=\"dataframe\">\n",
       "  <thead>\n",
       "    <tr style=\"text-align: right;\">\n",
       "      <th></th>\n",
       "      <th>tweet</th>\n",
       "      <th>label</th>\n",
       "    </tr>\n",
       "  </thead>\n",
       "  <tbody>\n",
       "    <tr>\n",
       "      <th>0</th>\n",
       "      <td>damn taking this personality quiz and realizin...</td>\n",
       "      <td>4</td>\n",
       "    </tr>\n",
       "    <tr>\n",
       "      <th>1</th>\n",
       "      <td>remember experiencing as kid what now realize ...</td>\n",
       "      <td>4</td>\n",
       "    </tr>\n",
       "    <tr>\n",
       "      <th>2</th>\n",
       "      <td>damn louis really did pull me out of my depres...</td>\n",
       "      <td>4</td>\n",
       "    </tr>\n",
       "    <tr>\n",
       "      <th>3</th>\n",
       "      <td>my depression is really kicking my ass right n...</td>\n",
       "      <td>4</td>\n",
       "    </tr>\n",
       "    <tr>\n",
       "      <th>4</th>\n",
       "      <td>feel like my night is going bad family calling...</td>\n",
       "      <td>4</td>\n",
       "    </tr>\n",
       "    <tr>\n",
       "      <th>...</th>\n",
       "      <td>...</td>\n",
       "      <td>...</td>\n",
       "    </tr>\n",
       "    <tr>\n",
       "      <th>46995</th>\n",
       "      <td>love that this is your life paul railing again...</td>\n",
       "      <td>4</td>\n",
       "    </tr>\n",
       "    <tr>\n",
       "      <th>46996</th>\n",
       "      <td>all see now why fucking hate cops they are mon...</td>\n",
       "      <td>4</td>\n",
       "    </tr>\n",
       "    <tr>\n",
       "      <th>46997</th>\n",
       "      <td>this really just breaks my heart on so many le...</td>\n",
       "      <td>4</td>\n",
       "    </tr>\n",
       "    <tr>\n",
       "      <th>46998</th>\n",
       "      <td>currently doing this now and relieved but also...</td>\n",
       "      <td>4</td>\n",
       "    </tr>\n",
       "    <tr>\n",
       "      <th>46999</th>\n",
       "      <td>hate when men see other men being disrespectfu...</td>\n",
       "      <td>4</td>\n",
       "    </tr>\n",
       "  </tbody>\n",
       "</table>\n",
       "<p>32000 rows × 2 columns</p>\n",
       "</div>"
      ],
      "text/plain": [
       "                                                   tweet  label\n",
       "0      damn taking this personality quiz and realizin...      4\n",
       "1      remember experiencing as kid what now realize ...      4\n",
       "2      damn louis really did pull me out of my depres...      4\n",
       "3      my depression is really kicking my ass right n...      4\n",
       "4      feel like my night is going bad family calling...      4\n",
       "...                                                  ...    ...\n",
       "46995  love that this is your life paul railing again...      4\n",
       "46996  all see now why fucking hate cops they are mon...      4\n",
       "46997  this really just breaks my heart on so many le...      4\n",
       "46998  currently doing this now and relieved but also...      4\n",
       "46999  hate when men see other men being disrespectfu...      4\n",
       "\n",
       "[32000 rows x 2 columns]"
      ]
     },
     "execution_count": 14,
     "metadata": {},
     "output_type": "execute_result"
    }
   ],
   "source": [
    "mask=data2.label==4\n",
    "data2=data2.loc[mask]\n",
    "data2"
   ]
  },
  {
   "cell_type": "code",
   "execution_count": 15,
   "metadata": {
    "colab": {
     "base_uri": "https://localhost:8080/",
     "height": 521
    },
    "executionInfo": {
     "elapsed": 16,
     "status": "ok",
     "timestamp": 1635775941768,
     "user": {
      "displayName": "Penny Tiwari",
      "photoUrl": "https://lh3.googleusercontent.com/a/default-user=s64",
      "userId": "14007942765575684471"
     },
     "user_tz": -330
    },
    "id": "4VtyvQVgqVPA",
    "outputId": "11a4ebb1-3c28-4385-85fe-73b740633e63"
   },
   "outputs": [
    {
     "name": "stderr",
     "output_type": "stream",
     "text": [
      "/usr/local/lib/python3.7/dist-packages/pandas/core/generic.py:5170: SettingWithCopyWarning: \n",
      "A value is trying to be set on a copy of a slice from a DataFrame.\n",
      "Try using .loc[row_indexer,col_indexer] = value instead\n",
      "\n",
      "See the caveats in the documentation: https://pandas.pydata.org/pandas-docs/stable/user_guide/indexing.html#returning-a-view-versus-a-copy\n",
      "  self[name] = value\n"
     ]
    },
    {
     "data": {
      "text/html": [
       "<div>\n",
       "<style scoped>\n",
       "    .dataframe tbody tr th:only-of-type {\n",
       "        vertical-align: middle;\n",
       "    }\n",
       "\n",
       "    .dataframe tbody tr th {\n",
       "        vertical-align: top;\n",
       "    }\n",
       "\n",
       "    .dataframe thead th {\n",
       "        text-align: right;\n",
       "    }\n",
       "</style>\n",
       "<table border=\"1\" class=\"dataframe\">\n",
       "  <thead>\n",
       "    <tr style=\"text-align: right;\">\n",
       "      <th></th>\n",
       "      <th>tweet</th>\n",
       "      <th>label</th>\n",
       "    </tr>\n",
       "  </thead>\n",
       "  <tbody>\n",
       "    <tr>\n",
       "      <th>0</th>\n",
       "      <td>damn taking this personality quiz and realizin...</td>\n",
       "      <td>depression</td>\n",
       "    </tr>\n",
       "    <tr>\n",
       "      <th>1</th>\n",
       "      <td>remember experiencing as kid what now realize ...</td>\n",
       "      <td>depression</td>\n",
       "    </tr>\n",
       "    <tr>\n",
       "      <th>2</th>\n",
       "      <td>damn louis really did pull me out of my depres...</td>\n",
       "      <td>depression</td>\n",
       "    </tr>\n",
       "    <tr>\n",
       "      <th>3</th>\n",
       "      <td>my depression is really kicking my ass right n...</td>\n",
       "      <td>depression</td>\n",
       "    </tr>\n",
       "    <tr>\n",
       "      <th>4</th>\n",
       "      <td>feel like my night is going bad family calling...</td>\n",
       "      <td>depression</td>\n",
       "    </tr>\n",
       "    <tr>\n",
       "      <th>...</th>\n",
       "      <td>...</td>\n",
       "      <td>...</td>\n",
       "    </tr>\n",
       "    <tr>\n",
       "      <th>46995</th>\n",
       "      <td>love that this is your life paul railing again...</td>\n",
       "      <td>depression</td>\n",
       "    </tr>\n",
       "    <tr>\n",
       "      <th>46996</th>\n",
       "      <td>all see now why fucking hate cops they are mon...</td>\n",
       "      <td>depression</td>\n",
       "    </tr>\n",
       "    <tr>\n",
       "      <th>46997</th>\n",
       "      <td>this really just breaks my heart on so many le...</td>\n",
       "      <td>depression</td>\n",
       "    </tr>\n",
       "    <tr>\n",
       "      <th>46998</th>\n",
       "      <td>currently doing this now and relieved but also...</td>\n",
       "      <td>depression</td>\n",
       "    </tr>\n",
       "    <tr>\n",
       "      <th>46999</th>\n",
       "      <td>hate when men see other men being disrespectfu...</td>\n",
       "      <td>depression</td>\n",
       "    </tr>\n",
       "  </tbody>\n",
       "</table>\n",
       "<p>32000 rows × 2 columns</p>\n",
       "</div>"
      ],
      "text/plain": [
       "                                                   tweet       label\n",
       "0      damn taking this personality quiz and realizin...  depression\n",
       "1      remember experiencing as kid what now realize ...  depression\n",
       "2      damn louis really did pull me out of my depres...  depression\n",
       "3      my depression is really kicking my ass right n...  depression\n",
       "4      feel like my night is going bad family calling...  depression\n",
       "...                                                  ...         ...\n",
       "46995  love that this is your life paul railing again...  depression\n",
       "46996  all see now why fucking hate cops they are mon...  depression\n",
       "46997  this really just breaks my heart on so many le...  depression\n",
       "46998  currently doing this now and relieved but also...  depression\n",
       "46999  hate when men see other men being disrespectfu...  depression\n",
       "\n",
       "[32000 rows x 2 columns]"
      ]
     },
     "execution_count": 15,
     "metadata": {},
     "output_type": "execute_result"
    }
   ],
   "source": [
    "data2.label='depression'\n",
    "data2"
   ]
  },
  {
   "cell_type": "code",
   "execution_count": 16,
   "metadata": {
    "colab": {
     "base_uri": "https://localhost:8080/",
     "height": 419
    },
    "executionInfo": {
     "elapsed": 523,
     "status": "ok",
     "timestamp": 1635775945637,
     "user": {
      "displayName": "Penny Tiwari",
      "photoUrl": "https://lh3.googleusercontent.com/a/default-user=s64",
      "userId": "14007942765575684471"
     },
     "user_tz": -330
    },
    "id": "fO2uvQybthU-",
    "outputId": "ec9055ed-a1e0-4405-ed32-943490d7966b"
   },
   "outputs": [
    {
     "data": {
      "text/html": [
       "<div>\n",
       "<style scoped>\n",
       "    .dataframe tbody tr th:only-of-type {\n",
       "        vertical-align: middle;\n",
       "    }\n",
       "\n",
       "    .dataframe tbody tr th {\n",
       "        vertical-align: top;\n",
       "    }\n",
       "\n",
       "    .dataframe thead th {\n",
       "        text-align: right;\n",
       "    }\n",
       "</style>\n",
       "<table border=\"1\" class=\"dataframe\">\n",
       "  <thead>\n",
       "    <tr style=\"text-align: right;\">\n",
       "      <th></th>\n",
       "      <th>tweet</th>\n",
       "      <th>label</th>\n",
       "    </tr>\n",
       "  </thead>\n",
       "  <tbody>\n",
       "    <tr>\n",
       "      <th>6271</th>\n",
       "      <td>hate myself when get in random depressed moods...</td>\n",
       "      <td>depression</td>\n",
       "    </tr>\n",
       "    <tr>\n",
       "      <th>12269</th>\n",
       "      <td>even small talk from you can trigger my depres...</td>\n",
       "      <td>depression</td>\n",
       "    </tr>\n",
       "    <tr>\n",
       "      <th>41071</th>\n",
       "      <td>cbt can help with anxiety it has helped me how...</td>\n",
       "      <td>depression</td>\n",
       "    </tr>\n",
       "    <tr>\n",
       "      <th>33948</th>\n",
       "      <td>its been long journey since the show started i...</td>\n",
       "      <td>depression</td>\n",
       "    </tr>\n",
       "    <tr>\n",
       "      <th>41596</th>\n",
       "      <td>everyday mentally and physically suffer from s...</td>\n",
       "      <td>depression</td>\n",
       "    </tr>\n",
       "    <tr>\n",
       "      <th>...</th>\n",
       "      <td>...</td>\n",
       "      <td>...</td>\n",
       "    </tr>\n",
       "    <tr>\n",
       "      <th>32397</th>\n",
       "      <td>my butt is not very true to me and wanna go ho...</td>\n",
       "      <td>depression</td>\n",
       "    </tr>\n",
       "    <tr>\n",
       "      <th>10933</th>\n",
       "      <td>nah they ll probably just be incredibly embarr...</td>\n",
       "      <td>depression</td>\n",
       "    </tr>\n",
       "    <tr>\n",
       "      <th>5925</th>\n",
       "      <td>and this fact is making me insanely anxious an...</td>\n",
       "      <td>depression</td>\n",
       "    </tr>\n",
       "    <tr>\n",
       "      <th>35474</th>\n",
       "      <td>out of nowhere got really stressed and want to...</td>\n",
       "      <td>depression</td>\n",
       "    </tr>\n",
       "    <tr>\n",
       "      <th>5252</th>\n",
       "      <td>so stressed and anxious want to cry and feel l...</td>\n",
       "      <td>depression</td>\n",
       "    </tr>\n",
       "  </tbody>\n",
       "</table>\n",
       "<p>10000 rows × 2 columns</p>\n",
       "</div>"
      ],
      "text/plain": [
       "                                                   tweet       label\n",
       "6271   hate myself when get in random depressed moods...  depression\n",
       "12269  even small talk from you can trigger my depres...  depression\n",
       "41071  cbt can help with anxiety it has helped me how...  depression\n",
       "33948  its been long journey since the show started i...  depression\n",
       "41596  everyday mentally and physically suffer from s...  depression\n",
       "...                                                  ...         ...\n",
       "32397  my butt is not very true to me and wanna go ho...  depression\n",
       "10933  nah they ll probably just be incredibly embarr...  depression\n",
       "5925   and this fact is making me insanely anxious an...  depression\n",
       "35474  out of nowhere got really stressed and want to...  depression\n",
       "5252   so stressed and anxious want to cry and feel l...  depression\n",
       "\n",
       "[10000 rows x 2 columns]"
      ]
     },
     "execution_count": 16,
     "metadata": {},
     "output_type": "execute_result"
    }
   ],
   "source": [
    "k=np.random.randint(0,len(data2),(10000))\n",
    "data2=data2.iloc[k]\n",
    "data2"
   ]
  },
  {
   "cell_type": "code",
   "execution_count": 17,
   "metadata": {
    "colab": {
     "base_uri": "https://localhost:8080/"
    },
    "executionInfo": {
     "elapsed": 5,
     "status": "ok",
     "timestamp": 1635775950554,
     "user": {
      "displayName": "Penny Tiwari",
      "photoUrl": "https://lh3.googleusercontent.com/a/default-user=s64",
      "userId": "14007942765575684471"
     },
     "user_tz": -330
    },
    "id": "aFKNkb7HuBDO",
    "outputId": "0358d20a-5026-4b78-bbd4-0c97992ab86e"
   },
   "outputs": [
    {
     "data": {
      "text/plain": [
       "depression    10000\n",
       "Name: label, dtype: int64"
      ]
     },
     "execution_count": 17,
     "metadata": {},
     "output_type": "execute_result"
    }
   ],
   "source": [
    "data2.label.value_counts()"
   ]
  },
  {
   "cell_type": "code",
   "execution_count": 18,
   "metadata": {
    "colab": {
     "base_uri": "https://localhost:8080/",
     "height": 419
    },
    "executionInfo": {
     "elapsed": 604,
     "status": "ok",
     "timestamp": 1635775951984,
     "user": {
      "displayName": "Penny Tiwari",
      "photoUrl": "https://lh3.googleusercontent.com/a/default-user=s64",
      "userId": "14007942765575684471"
     },
     "user_tz": -330
    },
    "id": "X97ssp4bqgDr",
    "outputId": "747448fe-5816-4c2e-c6c0-1022ce2ebaa2"
   },
   "outputs": [
    {
     "data": {
      "text/html": [
       "<div>\n",
       "<style scoped>\n",
       "    .dataframe tbody tr th:only-of-type {\n",
       "        vertical-align: middle;\n",
       "    }\n",
       "\n",
       "    .dataframe tbody tr th {\n",
       "        vertical-align: top;\n",
       "    }\n",
       "\n",
       "    .dataframe thead th {\n",
       "        text-align: right;\n",
       "    }\n",
       "</style>\n",
       "<table border=\"1\" class=\"dataframe\">\n",
       "  <thead>\n",
       "    <tr style=\"text-align: right;\">\n",
       "      <th></th>\n",
       "      <th>Unnamed: 0</th>\n",
       "      <th>tweet</th>\n",
       "      <th>label</th>\n",
       "    </tr>\n",
       "  </thead>\n",
       "  <tbody>\n",
       "    <tr>\n",
       "      <th>0</th>\n",
       "      <td>0</td>\n",
       "      <td>conservatives are excellent at running up debt...</td>\n",
       "      <td>2</td>\n",
       "    </tr>\n",
       "    <tr>\n",
       "      <th>1</th>\n",
       "      <td>1</td>\n",
       "      <td>great example as an immigrant and woman ceo  i...</td>\n",
       "      <td>2</td>\n",
       "    </tr>\n",
       "    <tr>\n",
       "      <th>2</th>\n",
       "      <td>2</td>\n",
       "      <td>fuckhead for awhile    i open two stores for...</td>\n",
       "      <td>2</td>\n",
       "    </tr>\n",
       "    <tr>\n",
       "      <th>3</th>\n",
       "      <td>3</td>\n",
       "      <td>i just cracked my motherfuckin phone god damn ...</td>\n",
       "      <td>1</td>\n",
       "    </tr>\n",
       "    <tr>\n",
       "      <th>4</th>\n",
       "      <td>4</td>\n",
       "      <td>i could never have a bby by a lil dick thts...</td>\n",
       "      <td>1</td>\n",
       "    </tr>\n",
       "    <tr>\n",
       "      <th>...</th>\n",
       "      <td>...</td>\n",
       "      <td>...</td>\n",
       "      <td>...</td>\n",
       "    </tr>\n",
       "    <tr>\n",
       "      <th>49517</th>\n",
       "      <td>49524</td>\n",
       "      <td>aye and when the hoes start coming do not ...</td>\n",
       "      <td>1</td>\n",
       "    </tr>\n",
       "    <tr>\n",
       "      <th>49518</th>\n",
       "      <td>49525</td>\n",
       "      <td>kevin williamson is excellent piece on why e...</td>\n",
       "      <td>2</td>\n",
       "    </tr>\n",
       "    <tr>\n",
       "      <th>49519</th>\n",
       "      <td>49526</td>\n",
       "      <td>in an age where progressives demand full ...</td>\n",
       "      <td>2</td>\n",
       "    </tr>\n",
       "    <tr>\n",
       "      <th>49520</th>\n",
       "      <td>49527</td>\n",
       "      <td>all dirty vote bank politics  aap rule has mad...</td>\n",
       "      <td>0</td>\n",
       "    </tr>\n",
       "    <tr>\n",
       "      <th>49521</th>\n",
       "      <td>49528</td>\n",
       "      <td>old are you    she looks like a baby  m...</td>\n",
       "      <td>2</td>\n",
       "    </tr>\n",
       "  </tbody>\n",
       "</table>\n",
       "<p>49522 rows × 3 columns</p>\n",
       "</div>"
      ],
      "text/plain": [
       "       Unnamed: 0                                              tweet  label\n",
       "0               0  conservatives are excellent at running up debt...      2\n",
       "1               1  great example as an immigrant and woman ceo  i...      2\n",
       "2               2    fuckhead for awhile    i open two stores for...      2\n",
       "3               3  i just cracked my motherfuckin phone god damn ...      1\n",
       "4               4     i could never have a bby by a lil dick thts...      1\n",
       "...           ...                                                ...    ...\n",
       "49517       49524      aye and when the hoes start coming do not ...      1\n",
       "49518       49525    kevin williamson is excellent piece on why e...      2\n",
       "49519       49526       in an age where progressives demand full ...      2\n",
       "49520       49527  all dirty vote bank politics  aap rule has mad...      0\n",
       "49521       49528         old are you    she looks like a baby  m...      2\n",
       "\n",
       "[49522 rows x 3 columns]"
      ]
     },
     "execution_count": 18,
     "metadata": {},
     "output_type": "execute_result"
    }
   ],
   "source": [
    "data3=pd.read_csv(\"data_mixed_rt.csv\")\n",
    "data3"
   ]
  },
  {
   "cell_type": "code",
   "execution_count": 19,
   "metadata": {
    "colab": {
     "base_uri": "https://localhost:8080/",
     "height": 419
    },
    "executionInfo": {
     "elapsed": 7,
     "status": "ok",
     "timestamp": 1635775951985,
     "user": {
      "displayName": "Penny Tiwari",
      "photoUrl": "https://lh3.googleusercontent.com/a/default-user=s64",
      "userId": "14007942765575684471"
     },
     "user_tz": -330
    },
    "id": "YQz-bJyBqw8q",
    "outputId": "896bfd7e-8ff6-4ee2-f9ab-44009ab9f20b"
   },
   "outputs": [
    {
     "data": {
      "text/html": [
       "<div>\n",
       "<style scoped>\n",
       "    .dataframe tbody tr th:only-of-type {\n",
       "        vertical-align: middle;\n",
       "    }\n",
       "\n",
       "    .dataframe tbody tr th {\n",
       "        vertical-align: top;\n",
       "    }\n",
       "\n",
       "    .dataframe thead th {\n",
       "        text-align: right;\n",
       "    }\n",
       "</style>\n",
       "<table border=\"1\" class=\"dataframe\">\n",
       "  <thead>\n",
       "    <tr style=\"text-align: right;\">\n",
       "      <th></th>\n",
       "      <th>tweet</th>\n",
       "      <th>label</th>\n",
       "    </tr>\n",
       "  </thead>\n",
       "  <tbody>\n",
       "    <tr>\n",
       "      <th>0</th>\n",
       "      <td>conservatives are excellent at running up debt...</td>\n",
       "      <td>2</td>\n",
       "    </tr>\n",
       "    <tr>\n",
       "      <th>1</th>\n",
       "      <td>great example as an immigrant and woman ceo  i...</td>\n",
       "      <td>2</td>\n",
       "    </tr>\n",
       "    <tr>\n",
       "      <th>2</th>\n",
       "      <td>fuckhead for awhile    i open two stores for...</td>\n",
       "      <td>2</td>\n",
       "    </tr>\n",
       "    <tr>\n",
       "      <th>3</th>\n",
       "      <td>i just cracked my motherfuckin phone god damn ...</td>\n",
       "      <td>1</td>\n",
       "    </tr>\n",
       "    <tr>\n",
       "      <th>4</th>\n",
       "      <td>i could never have a bby by a lil dick thts...</td>\n",
       "      <td>1</td>\n",
       "    </tr>\n",
       "    <tr>\n",
       "      <th>...</th>\n",
       "      <td>...</td>\n",
       "      <td>...</td>\n",
       "    </tr>\n",
       "    <tr>\n",
       "      <th>49517</th>\n",
       "      <td>aye and when the hoes start coming do not ...</td>\n",
       "      <td>1</td>\n",
       "    </tr>\n",
       "    <tr>\n",
       "      <th>49518</th>\n",
       "      <td>kevin williamson is excellent piece on why e...</td>\n",
       "      <td>2</td>\n",
       "    </tr>\n",
       "    <tr>\n",
       "      <th>49519</th>\n",
       "      <td>in an age where progressives demand full ...</td>\n",
       "      <td>2</td>\n",
       "    </tr>\n",
       "    <tr>\n",
       "      <th>49520</th>\n",
       "      <td>all dirty vote bank politics  aap rule has mad...</td>\n",
       "      <td>0</td>\n",
       "    </tr>\n",
       "    <tr>\n",
       "      <th>49521</th>\n",
       "      <td>old are you    she looks like a baby  m...</td>\n",
       "      <td>2</td>\n",
       "    </tr>\n",
       "  </tbody>\n",
       "</table>\n",
       "<p>49522 rows × 2 columns</p>\n",
       "</div>"
      ],
      "text/plain": [
       "                                                   tweet  label\n",
       "0      conservatives are excellent at running up debt...      2\n",
       "1      great example as an immigrant and woman ceo  i...      2\n",
       "2        fuckhead for awhile    i open two stores for...      2\n",
       "3      i just cracked my motherfuckin phone god damn ...      1\n",
       "4         i could never have a bby by a lil dick thts...      1\n",
       "...                                                  ...    ...\n",
       "49517      aye and when the hoes start coming do not ...      1\n",
       "49518    kevin williamson is excellent piece on why e...      2\n",
       "49519       in an age where progressives demand full ...      2\n",
       "49520  all dirty vote bank politics  aap rule has mad...      0\n",
       "49521         old are you    she looks like a baby  m...      2\n",
       "\n",
       "[49522 rows x 2 columns]"
      ]
     },
     "execution_count": 19,
     "metadata": {},
     "output_type": "execute_result"
    }
   ],
   "source": [
    "data3.drop(\"Unnamed: 0\",axis=1,inplace=True)\n",
    "data3.rename(columns={'text':'tweet'},inplace=True)\n",
    "data3"
   ]
  },
  {
   "cell_type": "code",
   "execution_count": 20,
   "metadata": {
    "colab": {
     "base_uri": "https://localhost:8080/",
     "height": 419
    },
    "executionInfo": {
     "elapsed": 6,
     "status": "ok",
     "timestamp": 1635775951986,
     "user": {
      "displayName": "Penny Tiwari",
      "photoUrl": "https://lh3.googleusercontent.com/a/default-user=s64",
      "userId": "14007942765575684471"
     },
     "user_tz": -330
    },
    "id": "ipud0lNbq5Jd",
    "outputId": "1881f740-cf30-4310-ad89-0015b572898c"
   },
   "outputs": [
    {
     "data": {
      "text/html": [
       "<div>\n",
       "<style scoped>\n",
       "    .dataframe tbody tr th:only-of-type {\n",
       "        vertical-align: middle;\n",
       "    }\n",
       "\n",
       "    .dataframe tbody tr th {\n",
       "        vertical-align: top;\n",
       "    }\n",
       "\n",
       "    .dataframe thead th {\n",
       "        text-align: right;\n",
       "    }\n",
       "</style>\n",
       "<table border=\"1\" class=\"dataframe\">\n",
       "  <thead>\n",
       "    <tr style=\"text-align: right;\">\n",
       "      <th></th>\n",
       "      <th>tweet</th>\n",
       "      <th>label</th>\n",
       "    </tr>\n",
       "  </thead>\n",
       "  <tbody>\n",
       "    <tr>\n",
       "      <th>0</th>\n",
       "      <td>conservatives are excellent at running up debt...</td>\n",
       "      <td>2</td>\n",
       "    </tr>\n",
       "    <tr>\n",
       "      <th>1</th>\n",
       "      <td>great example as an immigrant and woman ceo  i...</td>\n",
       "      <td>2</td>\n",
       "    </tr>\n",
       "    <tr>\n",
       "      <th>2</th>\n",
       "      <td>fuckhead for awhile    i open two stores for...</td>\n",
       "      <td>2</td>\n",
       "    </tr>\n",
       "    <tr>\n",
       "      <th>5</th>\n",
       "      <td>what a hateful  spiteful  self righteous  self...</td>\n",
       "      <td>2</td>\n",
       "    </tr>\n",
       "    <tr>\n",
       "      <th>6</th>\n",
       "      <td>as thousands flee violence in nicaragua  un re...</td>\n",
       "      <td>2</td>\n",
       "    </tr>\n",
       "    <tr>\n",
       "      <th>...</th>\n",
       "      <td>...</td>\n",
       "      <td>...</td>\n",
       "    </tr>\n",
       "    <tr>\n",
       "      <th>49512</th>\n",
       "      <td>avoid this movie  un american</td>\n",
       "      <td>2</td>\n",
       "    </tr>\n",
       "    <tr>\n",
       "      <th>49515</th>\n",
       "      <td>you knowmandni know you are on the verge from ...</td>\n",
       "      <td>2</td>\n",
       "    </tr>\n",
       "    <tr>\n",
       "      <th>49518</th>\n",
       "      <td>kevin williamson is excellent piece on why e...</td>\n",
       "      <td>2</td>\n",
       "    </tr>\n",
       "    <tr>\n",
       "      <th>49519</th>\n",
       "      <td>in an age where progressives demand full ...</td>\n",
       "      <td>2</td>\n",
       "    </tr>\n",
       "    <tr>\n",
       "      <th>49521</th>\n",
       "      <td>old are you    she looks like a baby  m...</td>\n",
       "      <td>2</td>\n",
       "    </tr>\n",
       "  </tbody>\n",
       "</table>\n",
       "<p>19690 rows × 2 columns</p>\n",
       "</div>"
      ],
      "text/plain": [
       "                                                   tweet  label\n",
       "0      conservatives are excellent at running up debt...      2\n",
       "1      great example as an immigrant and woman ceo  i...      2\n",
       "2        fuckhead for awhile    i open two stores for...      2\n",
       "5      what a hateful  spiteful  self righteous  self...      2\n",
       "6      as thousands flee violence in nicaragua  un re...      2\n",
       "...                                                  ...    ...\n",
       "49512                     avoid this movie  un american       2\n",
       "49515  you knowmandni know you are on the verge from ...      2\n",
       "49518    kevin williamson is excellent piece on why e...      2\n",
       "49519       in an age where progressives demand full ...      2\n",
       "49521         old are you    she looks like a baby  m...      2\n",
       "\n",
       "[19690 rows x 2 columns]"
      ]
     },
     "execution_count": 20,
     "metadata": {},
     "output_type": "execute_result"
    }
   ],
   "source": [
    "mask=data3.label==2\n",
    "data3=data3.loc[mask]\n",
    "data3"
   ]
  },
  {
   "cell_type": "code",
   "execution_count": 21,
   "metadata": {
    "colab": {
     "base_uri": "https://localhost:8080/",
     "height": 419
    },
    "executionInfo": {
     "elapsed": 430,
     "status": "ok",
     "timestamp": 1635775959052,
     "user": {
      "displayName": "Penny Tiwari",
      "photoUrl": "https://lh3.googleusercontent.com/a/default-user=s64",
      "userId": "14007942765575684471"
     },
     "user_tz": -330
    },
    "id": "yC-b3zDRrPMR",
    "outputId": "afbce800-e6fd-4938-cf9e-859b09800665"
   },
   "outputs": [
    {
     "data": {
      "text/html": [
       "<div>\n",
       "<style scoped>\n",
       "    .dataframe tbody tr th:only-of-type {\n",
       "        vertical-align: middle;\n",
       "    }\n",
       "\n",
       "    .dataframe tbody tr th {\n",
       "        vertical-align: top;\n",
       "    }\n",
       "\n",
       "    .dataframe thead th {\n",
       "        text-align: right;\n",
       "    }\n",
       "</style>\n",
       "<table border=\"1\" class=\"dataframe\">\n",
       "  <thead>\n",
       "    <tr style=\"text-align: right;\">\n",
       "      <th></th>\n",
       "      <th>Unnamed: 0</th>\n",
       "      <th>tweet</th>\n",
       "      <th>label</th>\n",
       "    </tr>\n",
       "  </thead>\n",
       "  <tbody>\n",
       "    <tr>\n",
       "      <th>0</th>\n",
       "      <td>0</td>\n",
       "      <td>gameday  fan ejected from kyle field for va...</td>\n",
       "      <td>3</td>\n",
       "    </tr>\n",
       "    <tr>\n",
       "      <th>1</th>\n",
       "      <td>1</td>\n",
       "      <td>what is your stance on vaping</td>\n",
       "      <td>3</td>\n",
       "    </tr>\n",
       "    <tr>\n",
       "      <th>2</th>\n",
       "      <td>2</td>\n",
       "      <td>nicotine stans are getting brave</td>\n",
       "      <td>3</td>\n",
       "    </tr>\n",
       "    <tr>\n",
       "      <th>3</th>\n",
       "      <td>3</td>\n",
       "      <td>pulse x bf kit l by tony b  and vandy vape l a...</td>\n",
       "      <td>3</td>\n",
       "    </tr>\n",
       "    <tr>\n",
       "      <th>4</th>\n",
       "      <td>4</td>\n",
       "      <td>fda takes  s of documents from juul e cig m...</td>\n",
       "      <td>3</td>\n",
       "    </tr>\n",
       "    <tr>\n",
       "      <th>...</th>\n",
       "      <td>...</td>\n",
       "      <td>...</td>\n",
       "      <td>...</td>\n",
       "    </tr>\n",
       "    <tr>\n",
       "      <th>2111</th>\n",
       "      <td>2111</td>\n",
       "      <td>you are my nicotine  heroine  novocaine  fvck ...</td>\n",
       "      <td>3</td>\n",
       "    </tr>\n",
       "    <tr>\n",
       "      <th>2112</th>\n",
       "      <td>2112</td>\n",
       "      <td>maybe but that would be as the assistant smo...</td>\n",
       "      <td>3</td>\n",
       "    </tr>\n",
       "    <tr>\n",
       "      <th>2113</th>\n",
       "      <td>2113</td>\n",
       "      <td>jasmine   star star theyre smoking outside y...</td>\n",
       "      <td>3</td>\n",
       "    </tr>\n",
       "    <tr>\n",
       "      <th>2114</th>\n",
       "      <td>2114</td>\n",
       "      <td>think you can smoke or vape cannabis anywhe...</td>\n",
       "      <td>3</td>\n",
       "    </tr>\n",
       "    <tr>\n",
       "      <th>2115</th>\n",
       "      <td>2115</td>\n",
       "      <td>what you doing  nothing   smoking a lil pur...</td>\n",
       "      <td>3</td>\n",
       "    </tr>\n",
       "  </tbody>\n",
       "</table>\n",
       "<p>2116 rows × 3 columns</p>\n",
       "</div>"
      ],
      "text/plain": [
       "      Unnamed: 0                                              tweet  label\n",
       "0              0     gameday  fan ejected from kyle field for va...      3\n",
       "1              1                     what is your stance on vaping       3\n",
       "2              2                   nicotine stans are getting brave      3\n",
       "3              3  pulse x bf kit l by tony b  and vandy vape l a...      3\n",
       "4              4     fda takes  s of documents from juul e cig m...      3\n",
       "...          ...                                                ...    ...\n",
       "2111        2111  you are my nicotine  heroine  novocaine  fvck ...      3\n",
       "2112        2112    maybe but that would be as the assistant smo...      3\n",
       "2113        2113    jasmine   star star theyre smoking outside y...      3\n",
       "2114        2114     think you can smoke or vape cannabis anywhe...      3\n",
       "2115        2115     what you doing  nothing   smoking a lil pur...      3\n",
       "\n",
       "[2116 rows x 3 columns]"
      ]
     },
     "execution_count": 21,
     "metadata": {},
     "output_type": "execute_result"
    }
   ],
   "source": [
    "data4=pd.read_csv('gold_corpus_rt.csv')\n",
    "data4"
   ]
  },
  {
   "cell_type": "code",
   "execution_count": 22,
   "metadata": {
    "colab": {
     "base_uri": "https://localhost:8080/",
     "height": 419
    },
    "executionInfo": {
     "elapsed": 13,
     "status": "ok",
     "timestamp": 1635775960287,
     "user": {
      "displayName": "Penny Tiwari",
      "photoUrl": "https://lh3.googleusercontent.com/a/default-user=s64",
      "userId": "14007942765575684471"
     },
     "user_tz": -330
    },
    "id": "jXUjVFIFrhCj",
    "outputId": "a8e0e3a0-d57f-4bf3-84b3-27aaee94a2d8"
   },
   "outputs": [
    {
     "data": {
      "text/html": [
       "<div>\n",
       "<style scoped>\n",
       "    .dataframe tbody tr th:only-of-type {\n",
       "        vertical-align: middle;\n",
       "    }\n",
       "\n",
       "    .dataframe tbody tr th {\n",
       "        vertical-align: top;\n",
       "    }\n",
       "\n",
       "    .dataframe thead th {\n",
       "        text-align: right;\n",
       "    }\n",
       "</style>\n",
       "<table border=\"1\" class=\"dataframe\">\n",
       "  <thead>\n",
       "    <tr style=\"text-align: right;\">\n",
       "      <th></th>\n",
       "      <th>tweet</th>\n",
       "      <th>label</th>\n",
       "    </tr>\n",
       "  </thead>\n",
       "  <tbody>\n",
       "    <tr>\n",
       "      <th>0</th>\n",
       "      <td>gameday  fan ejected from kyle field for va...</td>\n",
       "      <td>smoking</td>\n",
       "    </tr>\n",
       "    <tr>\n",
       "      <th>1</th>\n",
       "      <td>what is your stance on vaping</td>\n",
       "      <td>smoking</td>\n",
       "    </tr>\n",
       "    <tr>\n",
       "      <th>2</th>\n",
       "      <td>nicotine stans are getting brave</td>\n",
       "      <td>smoking</td>\n",
       "    </tr>\n",
       "    <tr>\n",
       "      <th>3</th>\n",
       "      <td>pulse x bf kit l by tony b  and vandy vape l a...</td>\n",
       "      <td>smoking</td>\n",
       "    </tr>\n",
       "    <tr>\n",
       "      <th>4</th>\n",
       "      <td>fda takes  s of documents from juul e cig m...</td>\n",
       "      <td>smoking</td>\n",
       "    </tr>\n",
       "    <tr>\n",
       "      <th>...</th>\n",
       "      <td>...</td>\n",
       "      <td>...</td>\n",
       "    </tr>\n",
       "    <tr>\n",
       "      <th>2111</th>\n",
       "      <td>you are my nicotine  heroine  novocaine  fvck ...</td>\n",
       "      <td>smoking</td>\n",
       "    </tr>\n",
       "    <tr>\n",
       "      <th>2112</th>\n",
       "      <td>maybe but that would be as the assistant smo...</td>\n",
       "      <td>smoking</td>\n",
       "    </tr>\n",
       "    <tr>\n",
       "      <th>2113</th>\n",
       "      <td>jasmine   star star theyre smoking outside y...</td>\n",
       "      <td>smoking</td>\n",
       "    </tr>\n",
       "    <tr>\n",
       "      <th>2114</th>\n",
       "      <td>think you can smoke or vape cannabis anywhe...</td>\n",
       "      <td>smoking</td>\n",
       "    </tr>\n",
       "    <tr>\n",
       "      <th>2115</th>\n",
       "      <td>what you doing  nothing   smoking a lil pur...</td>\n",
       "      <td>smoking</td>\n",
       "    </tr>\n",
       "  </tbody>\n",
       "</table>\n",
       "<p>2116 rows × 2 columns</p>\n",
       "</div>"
      ],
      "text/plain": [
       "                                                  tweet    label\n",
       "0        gameday  fan ejected from kyle field for va...  smoking\n",
       "1                        what is your stance on vaping   smoking\n",
       "2                      nicotine stans are getting brave  smoking\n",
       "3     pulse x bf kit l by tony b  and vandy vape l a...  smoking\n",
       "4        fda takes  s of documents from juul e cig m...  smoking\n",
       "...                                                 ...      ...\n",
       "2111  you are my nicotine  heroine  novocaine  fvck ...  smoking\n",
       "2112    maybe but that would be as the assistant smo...  smoking\n",
       "2113    jasmine   star star theyre smoking outside y...  smoking\n",
       "2114     think you can smoke or vape cannabis anywhe...  smoking\n",
       "2115     what you doing  nothing   smoking a lil pur...  smoking\n",
       "\n",
       "[2116 rows x 2 columns]"
      ]
     },
     "execution_count": 22,
     "metadata": {},
     "output_type": "execute_result"
    }
   ],
   "source": [
    "data4.drop(\"Unnamed: 0\",axis=1,inplace=True)\n",
    "data4.label='smoking'\n",
    "data4"
   ]
  },
  {
   "cell_type": "code",
   "execution_count": 23,
   "metadata": {
    "colab": {
     "base_uri": "https://localhost:8080/",
     "height": 521
    },
    "executionInfo": {
     "elapsed": 12,
     "status": "ok",
     "timestamp": 1635775960288,
     "user": {
      "displayName": "Penny Tiwari",
      "photoUrl": "https://lh3.googleusercontent.com/a/default-user=s64",
      "userId": "14007942765575684471"
     },
     "user_tz": -330
    },
    "id": "wHi5ItomrwQc",
    "outputId": "05155a12-2c01-49a2-d424-8367fafe78ba"
   },
   "outputs": [
    {
     "name": "stderr",
     "output_type": "stream",
     "text": [
      "/usr/local/lib/python3.7/dist-packages/pandas/core/generic.py:5170: SettingWithCopyWarning: \n",
      "A value is trying to be set on a copy of a slice from a DataFrame.\n",
      "Try using .loc[row_indexer,col_indexer] = value instead\n",
      "\n",
      "See the caveats in the documentation: https://pandas.pydata.org/pandas-docs/stable/user_guide/indexing.html#returning-a-view-versus-a-copy\n",
      "  self[name] = value\n"
     ]
    },
    {
     "data": {
      "text/html": [
       "<div>\n",
       "<style scoped>\n",
       "    .dataframe tbody tr th:only-of-type {\n",
       "        vertical-align: middle;\n",
       "    }\n",
       "\n",
       "    .dataframe tbody tr th {\n",
       "        vertical-align: top;\n",
       "    }\n",
       "\n",
       "    .dataframe thead th {\n",
       "        text-align: right;\n",
       "    }\n",
       "</style>\n",
       "<table border=\"1\" class=\"dataframe\">\n",
       "  <thead>\n",
       "    <tr style=\"text-align: right;\">\n",
       "      <th></th>\n",
       "      <th>tweet</th>\n",
       "      <th>label</th>\n",
       "    </tr>\n",
       "  </thead>\n",
       "  <tbody>\n",
       "    <tr>\n",
       "      <th>0</th>\n",
       "      <td>conservatives are excellent at running up debt...</td>\n",
       "      <td>normal</td>\n",
       "    </tr>\n",
       "    <tr>\n",
       "      <th>1</th>\n",
       "      <td>great example as an immigrant and woman ceo  i...</td>\n",
       "      <td>normal</td>\n",
       "    </tr>\n",
       "    <tr>\n",
       "      <th>2</th>\n",
       "      <td>fuckhead for awhile    i open two stores for...</td>\n",
       "      <td>normal</td>\n",
       "    </tr>\n",
       "    <tr>\n",
       "      <th>5</th>\n",
       "      <td>what a hateful  spiteful  self righteous  self...</td>\n",
       "      <td>normal</td>\n",
       "    </tr>\n",
       "    <tr>\n",
       "      <th>6</th>\n",
       "      <td>as thousands flee violence in nicaragua  un re...</td>\n",
       "      <td>normal</td>\n",
       "    </tr>\n",
       "    <tr>\n",
       "      <th>...</th>\n",
       "      <td>...</td>\n",
       "      <td>...</td>\n",
       "    </tr>\n",
       "    <tr>\n",
       "      <th>49512</th>\n",
       "      <td>avoid this movie  un american</td>\n",
       "      <td>normal</td>\n",
       "    </tr>\n",
       "    <tr>\n",
       "      <th>49515</th>\n",
       "      <td>you knowmandni know you are on the verge from ...</td>\n",
       "      <td>normal</td>\n",
       "    </tr>\n",
       "    <tr>\n",
       "      <th>49518</th>\n",
       "      <td>kevin williamson is excellent piece on why e...</td>\n",
       "      <td>normal</td>\n",
       "    </tr>\n",
       "    <tr>\n",
       "      <th>49519</th>\n",
       "      <td>in an age where progressives demand full ...</td>\n",
       "      <td>normal</td>\n",
       "    </tr>\n",
       "    <tr>\n",
       "      <th>49521</th>\n",
       "      <td>old are you    she looks like a baby  m...</td>\n",
       "      <td>normal</td>\n",
       "    </tr>\n",
       "  </tbody>\n",
       "</table>\n",
       "<p>19690 rows × 2 columns</p>\n",
       "</div>"
      ],
      "text/plain": [
       "                                                   tweet   label\n",
       "0      conservatives are excellent at running up debt...  normal\n",
       "1      great example as an immigrant and woman ceo  i...  normal\n",
       "2        fuckhead for awhile    i open two stores for...  normal\n",
       "5      what a hateful  spiteful  self righteous  self...  normal\n",
       "6      as thousands flee violence in nicaragua  un re...  normal\n",
       "...                                                  ...     ...\n",
       "49512                     avoid this movie  un american   normal\n",
       "49515  you knowmandni know you are on the verge from ...  normal\n",
       "49518    kevin williamson is excellent piece on why e...  normal\n",
       "49519       in an age where progressives demand full ...  normal\n",
       "49521         old are you    she looks like a baby  m...  normal\n",
       "\n",
       "[19690 rows x 2 columns]"
      ]
     },
     "execution_count": 23,
     "metadata": {},
     "output_type": "execute_result"
    }
   ],
   "source": [
    "data3.label='normal'\n",
    "data3"
   ]
  },
  {
   "cell_type": "code",
   "execution_count": 24,
   "metadata": {
    "colab": {
     "base_uri": "https://localhost:8080/"
    },
    "executionInfo": {
     "elapsed": 4,
     "status": "ok",
     "timestamp": 1635775960728,
     "user": {
      "displayName": "Penny Tiwari",
      "photoUrl": "https://lh3.googleusercontent.com/a/default-user=s64",
      "userId": "14007942765575684471"
     },
     "user_tz": -330
    },
    "id": "MSc9vHeCsGBt",
    "outputId": "174b57a2-ae9d-41ad-9af3-445007b1172b"
   },
   "outputs": [
    {
     "name": "stderr",
     "output_type": "stream",
     "text": [
      "/usr/local/lib/python3.7/dist-packages/pandas/core/frame.py:4308: SettingWithCopyWarning: \n",
      "A value is trying to be set on a copy of a slice from a DataFrame\n",
      "\n",
      "See the caveats in the documentation: https://pandas.pydata.org/pandas-docs/stable/user_guide/indexing.html#returning-a-view-versus-a-copy\n",
      "  errors=errors,\n"
     ]
    }
   ],
   "source": [
    "data6.rename(columns={'text':'tweet',\"class\":'label'},inplace=True)"
   ]
  },
  {
   "cell_type": "code",
   "execution_count": 25,
   "metadata": {
    "colab": {
     "base_uri": "https://localhost:8080/"
    },
    "executionInfo": {
     "elapsed": 608,
     "status": "ok",
     "timestamp": 1635775961334,
     "user": {
      "displayName": "Penny Tiwari",
      "photoUrl": "https://lh3.googleusercontent.com/a/default-user=s64",
      "userId": "14007942765575684471"
     },
     "user_tz": -330
    },
    "id": "Ppo-ANW0r46i",
    "outputId": "319fff87-e8c5-48c3-e587-a349a2dde870"
   },
   "outputs": [
    {
     "data": {
      "text/plain": [
       "normal        19658\n",
       "depression    10000\n",
       "suicide        4939\n",
       "smoking        2114\n",
       "Name: label, dtype: int64"
      ]
     },
     "execution_count": 25,
     "metadata": {},
     "output_type": "execute_result"
    }
   ],
   "source": [
    "new_data=pd.concat([data6,data2,data3,data4])\n",
    "new_data.dropna(inplace=True)\n",
    "new_data.label.value_counts()"
   ]
  },
  {
   "cell_type": "code",
   "execution_count": 26,
   "metadata": {
    "executionInfo": {
     "elapsed": 4,
     "status": "ok",
     "timestamp": 1635775962164,
     "user": {
      "displayName": "Penny Tiwari",
      "photoUrl": "https://lh3.googleusercontent.com/a/default-user=s64",
      "userId": "14007942765575684471"
     },
     "user_tz": -330
    },
    "id": "wsiIOhb0s1j_"
   },
   "outputs": [],
   "source": [
    "new_data.to_csv(\"NEW_DATA.csv\")"
   ]
  },
  {
   "cell_type": "code",
   "execution_count": 27,
   "metadata": {
    "colab": {
     "base_uri": "https://localhost:8080/",
     "height": 419
    },
    "executionInfo": {
     "elapsed": 3,
     "status": "ok",
     "timestamp": 1635775962164,
     "user": {
      "displayName": "Penny Tiwari",
      "photoUrl": "https://lh3.googleusercontent.com/a/default-user=s64",
      "userId": "14007942765575684471"
     },
     "user_tz": -330
    },
    "id": "t9JK_oB6sScy",
    "outputId": "8d950353-1546-4bef-a35a-78450d285f08"
   },
   "outputs": [
    {
     "data": {
      "text/html": [
       "<div>\n",
       "<style scoped>\n",
       "    .dataframe tbody tr th:only-of-type {\n",
       "        vertical-align: middle;\n",
       "    }\n",
       "\n",
       "    .dataframe tbody tr th {\n",
       "        vertical-align: top;\n",
       "    }\n",
       "\n",
       "    .dataframe thead th {\n",
       "        text-align: right;\n",
       "    }\n",
       "</style>\n",
       "<table border=\"1\" class=\"dataframe\">\n",
       "  <thead>\n",
       "    <tr style=\"text-align: right;\">\n",
       "      <th></th>\n",
       "      <th>tweet</th>\n",
       "      <th>label</th>\n",
       "    </tr>\n",
       "  </thead>\n",
       "  <tbody>\n",
       "    <tr>\n",
       "      <th>178725</th>\n",
       "      <td>frightened of what people might thinkdo a lot ...</td>\n",
       "      <td>suicide</td>\n",
       "    </tr>\n",
       "    <tr>\n",
       "      <th>199157</th>\n",
       "      <td>unknown title as not sure if i can find a fitt...</td>\n",
       "      <td>suicide</td>\n",
       "    </tr>\n",
       "    <tr>\n",
       "      <th>151401</th>\n",
       "      <td>just a reminder  no one here cares about you t...</td>\n",
       "      <td>suicide</td>\n",
       "    </tr>\n",
       "    <tr>\n",
       "      <th>75397</th>\n",
       "      <td>years old  socially awkward  easily intimidate...</td>\n",
       "      <td>suicide</td>\n",
       "    </tr>\n",
       "    <tr>\n",
       "      <th>90012</th>\n",
       "      <td>a common deterrent is to think of your family ...</td>\n",
       "      <td>suicide</td>\n",
       "    </tr>\n",
       "    <tr>\n",
       "      <th>...</th>\n",
       "      <td>...</td>\n",
       "      <td>...</td>\n",
       "    </tr>\n",
       "    <tr>\n",
       "      <th>2111</th>\n",
       "      <td>you are my nicotine  heroine  novocaine  fvck ...</td>\n",
       "      <td>smoking</td>\n",
       "    </tr>\n",
       "    <tr>\n",
       "      <th>2112</th>\n",
       "      <td>maybe but that would be as the assistant smo...</td>\n",
       "      <td>smoking</td>\n",
       "    </tr>\n",
       "    <tr>\n",
       "      <th>2113</th>\n",
       "      <td>jasmine   star star theyre smoking outside y...</td>\n",
       "      <td>smoking</td>\n",
       "    </tr>\n",
       "    <tr>\n",
       "      <th>2114</th>\n",
       "      <td>think you can smoke or vape cannabis anywhe...</td>\n",
       "      <td>smoking</td>\n",
       "    </tr>\n",
       "    <tr>\n",
       "      <th>2115</th>\n",
       "      <td>what you doing  nothing   smoking a lil pur...</td>\n",
       "      <td>smoking</td>\n",
       "    </tr>\n",
       "  </tbody>\n",
       "</table>\n",
       "<p>36711 rows × 2 columns</p>\n",
       "</div>"
      ],
      "text/plain": [
       "                                                    tweet    label\n",
       "178725  frightened of what people might thinkdo a lot ...  suicide\n",
       "199157  unknown title as not sure if i can find a fitt...  suicide\n",
       "151401  just a reminder  no one here cares about you t...  suicide\n",
       "75397   years old  socially awkward  easily intimidate...  suicide\n",
       "90012   a common deterrent is to think of your family ...  suicide\n",
       "...                                                   ...      ...\n",
       "2111    you are my nicotine  heroine  novocaine  fvck ...  smoking\n",
       "2112      maybe but that would be as the assistant smo...  smoking\n",
       "2113      jasmine   star star theyre smoking outside y...  smoking\n",
       "2114       think you can smoke or vape cannabis anywhe...  smoking\n",
       "2115       what you doing  nothing   smoking a lil pur...  smoking\n",
       "\n",
       "[36711 rows x 2 columns]"
      ]
     },
     "execution_count": 27,
     "metadata": {},
     "output_type": "execute_result"
    }
   ],
   "source": [
    "new_data"
   ]
  },
  {
   "cell_type": "code",
   "execution_count": 28,
   "metadata": {
    "executionInfo": {
     "elapsed": 2,
     "status": "ok",
     "timestamp": 1635775962164,
     "user": {
      "displayName": "Penny Tiwari",
      "photoUrl": "https://lh3.googleusercontent.com/a/default-user=s64",
      "userId": "14007942765575684471"
     },
     "user_tz": -330
    },
    "id": "Hc6qYDOjsZD6"
   },
   "outputs": [],
   "source": [
    "y=new_data['label']\n",
    "x=new_data['tweet']"
   ]
  },
  {
   "cell_type": "code",
   "execution_count": 29,
   "metadata": {
    "colab": {
     "base_uri": "https://localhost:8080/",
     "height": 419
    },
    "executionInfo": {
     "elapsed": 2,
     "status": "ok",
     "timestamp": 1635775962840,
     "user": {
      "displayName": "Penny Tiwari",
      "photoUrl": "https://lh3.googleusercontent.com/a/default-user=s64",
      "userId": "14007942765575684471"
     },
     "user_tz": -330
    },
    "id": "vZIqpMshu6mR",
    "outputId": "b35ccad3-e075-4387-e16a-5331831bd564"
   },
   "outputs": [
    {
     "data": {
      "text/html": [
       "<div>\n",
       "<style scoped>\n",
       "    .dataframe tbody tr th:only-of-type {\n",
       "        vertical-align: middle;\n",
       "    }\n",
       "\n",
       "    .dataframe tbody tr th {\n",
       "        vertical-align: top;\n",
       "    }\n",
       "\n",
       "    .dataframe thead th {\n",
       "        text-align: right;\n",
       "    }\n",
       "</style>\n",
       "<table border=\"1\" class=\"dataframe\">\n",
       "  <thead>\n",
       "    <tr style=\"text-align: right;\">\n",
       "      <th></th>\n",
       "      <th>Unnamed: 0</th>\n",
       "      <th>text</th>\n",
       "      <th>label</th>\n",
       "    </tr>\n",
       "  </thead>\n",
       "  <tbody>\n",
       "    <tr>\n",
       "      <th>0</th>\n",
       "      <td>616</td>\n",
       "      <td>he is here every one on council is here</td>\n",
       "      <td>normal</td>\n",
       "    </tr>\n",
       "    <tr>\n",
       "      <th>1</th>\n",
       "      <td>460</td>\n",
       "      <td>how many women commited jouhar to avoid rape a...</td>\n",
       "      <td>normal</td>\n",
       "    </tr>\n",
       "    <tr>\n",
       "      <th>2</th>\n",
       "      <td>372</td>\n",
       "      <td>well you are dumped</td>\n",
       "      <td>normal</td>\n",
       "    </tr>\n",
       "    <tr>\n",
       "      <th>3</th>\n",
       "      <td>287</td>\n",
       "      <td>could you guys go say  hey  to this guy for me...</td>\n",
       "      <td>suicide</td>\n",
       "    </tr>\n",
       "    <tr>\n",
       "      <th>4</th>\n",
       "      <td>136</td>\n",
       "      <td>depression is the inability to construct a fut...</td>\n",
       "      <td>depression</td>\n",
       "    </tr>\n",
       "    <tr>\n",
       "      <th>...</th>\n",
       "      <td>...</td>\n",
       "      <td>...</td>\n",
       "      <td>...</td>\n",
       "    </tr>\n",
       "    <tr>\n",
       "      <th>615</th>\n",
       "      <td>584</td>\n",
       "      <td>bitch you are so brave and smart and hysterica...</td>\n",
       "      <td>normal</td>\n",
       "    </tr>\n",
       "    <tr>\n",
       "      <th>616</th>\n",
       "      <td>219</td>\n",
       "      <td>im almost done i posted on here months ago say...</td>\n",
       "      <td>suicide</td>\n",
       "    </tr>\n",
       "    <tr>\n",
       "      <th>617</th>\n",
       "      <td>394</td>\n",
       "      <td>says he is the best tx he is for ending open b...</td>\n",
       "      <td>normal</td>\n",
       "    </tr>\n",
       "    <tr>\n",
       "      <th>618</th>\n",
       "      <td>18</td>\n",
       "      <td>the perfect is the enemy of the good</td>\n",
       "      <td>depression</td>\n",
       "    </tr>\n",
       "    <tr>\n",
       "      <th>619</th>\n",
       "      <td>165</td>\n",
       "      <td>i dont want to do anything  i dont even want t...</td>\n",
       "      <td>depression</td>\n",
       "    </tr>\n",
       "  </tbody>\n",
       "</table>\n",
       "<p>620 rows × 3 columns</p>\n",
       "</div>"
      ],
      "text/plain": [
       "     Unnamed: 0                                               text       label\n",
       "0           616            he is here every one on council is here      normal\n",
       "1           460  how many women commited jouhar to avoid rape a...      normal\n",
       "2           372                                well you are dumped      normal\n",
       "3           287  could you guys go say  hey  to this guy for me...     suicide\n",
       "4           136  depression is the inability to construct a fut...  depression\n",
       "..          ...                                                ...         ...\n",
       "615         584  bitch you are so brave and smart and hysterica...      normal\n",
       "616         219  im almost done i posted on here months ago say...     suicide\n",
       "617         394  says he is the best tx he is for ending open b...      normal\n",
       "618          18              the perfect is the enemy of the good   depression\n",
       "619         165  i dont want to do anything  i dont even want t...  depression\n",
       "\n",
       "[620 rows x 3 columns]"
      ]
     },
     "execution_count": 29,
     "metadata": {},
     "output_type": "execute_result"
    }
   ],
   "source": [
    "dummy_data=pd.read_csv(\"dummy_data.csv\")\n",
    "dummy_data"
   ]
  },
  {
   "cell_type": "code",
   "execution_count": 30,
   "metadata": {
    "executionInfo": {
     "elapsed": 2,
     "status": "ok",
     "timestamp": 1635775962841,
     "user": {
      "displayName": "Penny Tiwari",
      "photoUrl": "https://lh3.googleusercontent.com/a/default-user=s64",
      "userId": "14007942765575684471"
     },
     "user_tz": -330
    },
    "id": "xh9XrkIvvJKO"
   },
   "outputs": [],
   "source": [
    "dummy_data.drop(\"Unnamed: 0\",axis=1,inplace=True)\n",
    "dummy_data.dropna(inplace=True)\n",
    "dummy_data_test=dummy_data['text']\n",
    "dummy_data_label=dummy_data['label']"
   ]
  },
  {
   "cell_type": "code",
   "execution_count": 50,
   "metadata": {
    "colab": {
     "base_uri": "https://localhost:8080/"
    },
    "executionInfo": {
     "elapsed": 536,
     "status": "ok",
     "timestamp": 1635776560019,
     "user": {
      "displayName": "Penny Tiwari",
      "photoUrl": "https://lh3.googleusercontent.com/a/default-user=s64",
      "userId": "14007942765575684471"
     },
     "user_tz": -330
    },
    "id": "PYcAplxlvJHa",
    "outputId": "5728530a-6f13-45d2-f5cc-6b1888ac8244"
   },
   "outputs": [
    {
     "data": {
      "text/plain": [
       "normal        297\n",
       "depression    171\n",
       "suicide       151\n",
       "Name: label, dtype: int64"
      ]
     },
     "execution_count": 50,
     "metadata": {},
     "output_type": "execute_result"
    }
   ],
   "source": [
    "dummy_data.label.value_counts()"
   ]
  },
  {
   "cell_type": "code",
   "execution_count": 31,
   "metadata": {
    "colab": {
     "base_uri": "https://localhost:8080/"
    },
    "executionInfo": {
     "elapsed": 3,
     "status": "ok",
     "timestamp": 1635775963802,
     "user": {
      "displayName": "Penny Tiwari",
      "photoUrl": "https://lh3.googleusercontent.com/a/default-user=s64",
      "userId": "14007942765575684471"
     },
     "user_tz": -330
    },
    "id": "_H7kBZHBsqHV",
    "outputId": "81594cea-96b1-4822-94e3-df30533b601b"
   },
   "outputs": [
    {
     "name": "stdout",
     "output_type": "stream",
     "text": [
      "(29368,) (29368,)\n",
      "(7343,) (7343,)\n"
     ]
    }
   ],
   "source": [
    "from sklearn.model_selection import train_test_split\n",
    "X_train, X_test, y_train, y_test = train_test_split(x, y, test_size=0.20, stratify=y)\n",
    "#X_train, X_cv, y_train, y_cv = train_test_split(X_train, y_train, test_size=0.20, stratify=y_train)\n",
    "\n",
    "print(X_train.shape, y_train.shape)\n",
    "#print(X_cv.shape, y_cv.shape)\n",
    "\n",
    "print(X_test.shape, y_test.shape)\n"
   ]
  },
  {
   "cell_type": "code",
   "execution_count": 32,
   "metadata": {
    "executionInfo": {
     "elapsed": 1,
     "status": "ok",
     "timestamp": 1635775963802,
     "user": {
      "displayName": "Penny Tiwari",
      "photoUrl": "https://lh3.googleusercontent.com/a/default-user=s64",
      "userId": "14007942765575684471"
     },
     "user_tz": -330
    },
    "id": "ChBIJi8vzkz8"
   },
   "outputs": [],
   "source": [
    "d={}\n",
    "for i in y_test:\n",
    "  if i in d:\n",
    "    d[i]+=1\n",
    "  else:\n",
    "    d[i]=1"
   ]
  },
  {
   "cell_type": "code",
   "execution_count": 33,
   "metadata": {
    "colab": {
     "base_uri": "https://localhost:8080/"
    },
    "executionInfo": {
     "elapsed": 2,
     "status": "ok",
     "timestamp": 1635775964460,
     "user": {
      "displayName": "Penny Tiwari",
      "photoUrl": "https://lh3.googleusercontent.com/a/default-user=s64",
      "userId": "14007942765575684471"
     },
     "user_tz": -330
    },
    "id": "tPaoraXkzvpM",
    "outputId": "8792304c-585b-472d-d381-c119b23d1bc7"
   },
   "outputs": [
    {
     "name": "stdout",
     "output_type": "stream",
     "text": [
      "{'depression': 2000, 'normal': 3932, 'smoking': 423, 'suicide': 988}\n"
     ]
    }
   ],
   "source": [
    "print(d)"
   ]
  },
  {
   "cell_type": "code",
   "execution_count": 34,
   "metadata": {
    "executionInfo": {
     "elapsed": 1,
     "status": "ok",
     "timestamp": 1635775964460,
     "user": {
      "displayName": "Penny Tiwari",
      "photoUrl": "https://lh3.googleusercontent.com/a/default-user=s64",
      "userId": "14007942765575684471"
     },
     "user_tz": -330
    },
    "id": "qpDL5mLlswGB"
   },
   "outputs": [],
   "source": [
    "from sklearn.feature_extraction.text import TfidfVectorizer\n",
    "from sklearn.feature_extraction.text import CountVectorizer\n",
    "from sklearn.metrics import confusion_matrix\n",
    "from sklearn import metrics\n",
    "from sklearn.metrics import roc_curve, auc\n",
    "from sklearn.naive_bayes import MultinomialNB\n"
   ]
  },
  {
   "cell_type": "code",
   "execution_count": 35,
   "metadata": {
    "executionInfo": {
     "elapsed": 7888,
     "status": "ok",
     "timestamp": 1635775972818,
     "user": {
      "displayName": "Penny Tiwari",
      "photoUrl": "https://lh3.googleusercontent.com/a/default-user=s64",
      "userId": "14007942765575684471"
     },
     "user_tz": -330
    },
    "id": "X2HRMMDqtDO9"
   },
   "outputs": [],
   "source": [
    "import tensorflow as tf\n",
    "import tensorflow_hub as hub"
   ]
  },
  {
   "cell_type": "code",
   "execution_count": 36,
   "metadata": {
    "colab": {
     "base_uri": "https://localhost:8080/"
    },
    "executionInfo": {
     "elapsed": 34529,
     "status": "ok",
     "timestamp": 1635776007343,
     "user": {
      "displayName": "Penny Tiwari",
      "photoUrl": "https://lh3.googleusercontent.com/a/default-user=s64",
      "userId": "14007942765575684471"
     },
     "user_tz": -330
    },
    "id": "XFUqKna5tDF7",
    "outputId": "cd632c80-d09b-408f-b36f-fbd1d4613f3a"
   },
   "outputs": [
    {
     "name": "stdout",
     "output_type": "stream",
     "text": [
      "module https://tfhub.dev/google/universal-sentence-encoder/4 loaded\n"
     ]
    }
   ],
   "source": [
    "module_url = \"https://tfhub.dev/google/universal-sentence-encoder/4\" #@param [\"https://tfhub.dev/google/universal-sentence-encoder/4\", \"https://tfhub.dev/google/universal-sentence-encoder-large/5\"]\n",
    "model = hub.load(module_url)\n",
    "print (\"module %s loaded\" % module_url)\n",
    "def embed(text):\n",
    "    return model(text)"
   ]
  },
  {
   "cell_type": "code",
   "execution_count": 37,
   "metadata": {
    "colab": {
     "base_uri": "https://localhost:8080/"
    },
    "executionInfo": {
     "elapsed": 121525,
     "status": "ok",
     "timestamp": 1635776128850,
     "user": {
      "displayName": "Penny Tiwari",
      "photoUrl": "https://lh3.googleusercontent.com/a/default-user=s64",
      "userId": "14007942765575684471"
     },
     "user_tz": -330
    },
    "id": "4rUfqiRfs6uY",
    "outputId": "87562129-1bb9-49bb-bdcc-35a2a6360ca5"
   },
   "outputs": [
    {
     "name": "stdout",
     "output_type": "stream",
     "text": [
      "After Embedding vectorizations\n",
      "(29368, 512) (29368,)\n",
      "(7343, 512) (7343,)\n",
      "====================================================================================================\n"
     ]
    }
   ],
   "source": [
    "X_train_tweet = embed(list(X_train))\n",
    "#X_cv_tweet = embed(list(X_cv))\n",
    "\n",
    "X_test_tweet = embed(list(X_test))\n",
    "\n",
    "print(\"After Embedding vectorizations\")\n",
    "print(X_train_tweet.shape, y_train.shape)\n",
    "#print(X_cv_tweet.shape, y_cv.shape)\n",
    "print(X_test_tweet.shape, y_test.shape)\n",
    "print(\"=\"*100)"
   ]
  },
  {
   "cell_type": "code",
   "execution_count": 38,
   "metadata": {
    "colab": {
     "base_uri": "https://localhost:8080/"
    },
    "executionInfo": {
     "elapsed": 966,
     "status": "ok",
     "timestamp": 1635776152326,
     "user": {
      "displayName": "Penny Tiwari",
      "photoUrl": "https://lh3.googleusercontent.com/a/default-user=s64",
      "userId": "14007942765575684471"
     },
     "user_tz": -330
    },
    "id": "40Kspb7Jv7Uw",
    "outputId": "acc82b9c-aff3-4423-9d0a-341dc0f0d68d"
   },
   "outputs": [
    {
     "name": "stdout",
     "output_type": "stream",
     "text": [
      "(619, 512)\n",
      "====================================================================================================\n"
     ]
    }
   ],
   "source": [
    "dummy_test = embed(list(dummy_data_test))\n",
    "\n",
    "print(dummy_test.shape)\n",
    "print(\"=\"*100)"
   ]
  },
  {
   "cell_type": "code",
   "execution_count": 39,
   "metadata": {
    "executionInfo": {
     "elapsed": 401,
     "status": "ok",
     "timestamp": 1635776155995,
     "user": {
      "displayName": "Penny Tiwari",
      "photoUrl": "https://lh3.googleusercontent.com/a/default-user=s64",
      "userId": "14007942765575684471"
     },
     "user_tz": -330
    },
    "id": "bqIArUnRx-EV"
   },
   "outputs": [],
   "source": [
    "from sklearn.multiclass import OneVsRestClassifier\n",
    "from sklearn.naive_bayes import MultinomialNB\n",
    "from sklearn.linear_model import LogisticRegression\n",
    "from sklearn.svm import LinearSVC\n",
    "from sklearn.ensemble import RandomForestRegressor\n",
    "from sklearn.ensemble import RandomForestClassifier\n",
    "from sklearn.metrics import confusion_matrix\n",
    "import joblib\n",
    "from sklearn.svm import SVC\n",
    "from sklearn.metrics import f1_score\n",
    "from sklearn.model_selection import GridSearchCV\n",
    "\n",
    "from sklearn.feature_extraction.text import CountVectorizer, TfidfVectorizer\n",
    "from sklearn import preprocessing\n",
    "from sklearn.model_selection import train_test_split, StratifiedKFold, KFold\n",
    "\n",
    "from sklearn.naive_bayes import MultinomialNB\n",
    "from sklearn.linear_model import SGDClassifier\n",
    "from sklearn.linear_model import LogisticRegression\n",
    "from sklearn.svm import LinearSVC\n",
    "from sklearn.ensemble import RandomForestClassifier, GradientBoostingClassifier\n",
    "\n",
    "from sklearn.metrics import classification_report\n",
    "from sklearn.metrics import confusion_matrix\n",
    "from sklearn.metrics import plot_confusion_matrix\n",
    "from sklearn.metrics import precision_recall_fscore_support as score"
   ]
  },
  {
   "cell_type": "code",
   "execution_count": 40,
   "metadata": {
    "executionInfo": {
     "elapsed": 414,
     "status": "ok",
     "timestamp": 1635776223862,
     "user": {
      "displayName": "Penny Tiwari",
      "photoUrl": "https://lh3.googleusercontent.com/a/default-user=s64",
      "userId": "14007942765575684471"
     },
     "user_tz": -330
    },
    "id": "gUi6Frvzx-kw"
   },
   "outputs": [],
   "source": [
    "def train_test_model(model, X_train, X_test, y_train, y_test,labels):\n",
    "    print('Start training...', end='')\n",
    "    model.fit(X_train, y_train)\n",
    "    print('done!')\n",
    "    print(\"=\"*80)\n",
    "    print('Start testing...', end='')\n",
    "    predictions = model.predict(X_test)\n",
    "    accuracy = model.score(X_test, y_test)\n",
    "    metrics_report = classification_report(y_test, predictions, target_names=labels)\n",
    "    precision, recall, fscore, train_support = score(y_test, predictions, average='weighted')\n",
    "    print('done!')\n",
    "    print(\"=\"*80)\n",
    "    return predictions, accuracy, metrics_report, (precision, recall, fscore)"
   ]
  },
  {
   "cell_type": "code",
   "execution_count": 41,
   "metadata": {
    "executionInfo": {
     "elapsed": 352,
     "status": "ok",
     "timestamp": 1635776225673,
     "user": {
      "displayName": "Penny Tiwari",
      "photoUrl": "https://lh3.googleusercontent.com/a/default-user=s64",
      "userId": "14007942765575684471"
     },
     "user_tz": -330
    },
    "id": "kD8KtWqGyErl"
   },
   "outputs": [],
   "source": [
    "labels_=['Depression','Normal','Smoking','Suicide']"
   ]
  },
  {
   "cell_type": "code",
   "execution_count": 42,
   "metadata": {
    "colab": {
     "base_uri": "https://localhost:8080/",
     "height": 631
    },
    "executionInfo": {
     "elapsed": 16870,
     "status": "ok",
     "timestamp": 1635776244635,
     "user": {
      "displayName": "Penny Tiwari",
      "photoUrl": "https://lh3.googleusercontent.com/a/default-user=s64",
      "userId": "14007942765575684471"
     },
     "user_tz": -330
    },
    "id": "6xTuH8UNyk24",
    "outputId": "c8145502-989f-41c8-a94d-e5015271283d"
   },
   "outputs": [
    {
     "name": "stdout",
     "output_type": "stream",
     "text": [
      "Start training...done!\n",
      "================================================================================\n",
      "Start testing...done!\n",
      "================================================================================\n",
      "accuracy: 0.9685414680648237\n",
      "====================================================================================================\n",
      "              precision    recall  f1-score   support\n",
      "\n",
      "  Depression       0.96      0.98      0.97      2000\n",
      "      Normal       0.97      0.99      0.98      3932\n",
      "     Smoking       0.97      0.90      0.93       423\n",
      "     Suicide       0.98      0.92      0.95       988\n",
      "\n",
      "    accuracy                           0.97      7343\n",
      "   macro avg       0.97      0.94      0.96      7343\n",
      "weighted avg       0.97      0.97      0.97      7343\n",
      "\n"
     ]
    },
    {
     "data": {
      "text/plain": [
       "<sklearn.metrics._plot.confusion_matrix.ConfusionMatrixDisplay at 0x7f9f4361ee10>"
      ]
     },
     "execution_count": 42,
     "metadata": {},
     "output_type": "execute_result"
    },
    {
     "data": {
      "image/png": "[encoded data removed]",
      "text/plain": [
       "<Figure size 432x288 with 2 Axes>"
      ]
     },
     "metadata": {
      "needs_background": "light"
     },
     "output_type": "display_data"
    }
   ],
   "source": [
    "log_model=LogisticRegression(penalty='l2',max_iter=1000)\n",
    "predictions, accuracy, metrics_report, log_prf = train_test_model(log_model, X_train_tweet, X_test_tweet, y_train, y_test, labels_)\n",
    "\n",
    "\n",
    "print('accuracy: {}'.format(accuracy))\n",
    "print('='*100)\n",
    "print(metrics_report)\n",
    "\n",
    "plot_confusion_matrix(log_model, X_test_tweet, y_test, display_labels=labels_, xticks_rotation='vertical', cmap=\"BuPu\")"
   ]
  },
  {
   "cell_type": "code",
   "execution_count": 43,
   "metadata": {
    "colab": {
     "base_uri": "https://localhost:8080/",
     "height": 631
    },
    "executionInfo": {
     "elapsed": 2542,
     "status": "ok",
     "timestamp": 1635776247158,
     "user": {
      "displayName": "Penny Tiwari",
      "photoUrl": "https://lh3.googleusercontent.com/a/default-user=s64",
      "userId": "14007942765575684471"
     },
     "user_tz": -330
    },
    "id": "uVwqyTg9ynTC",
    "outputId": "1139cd1d-39ff-4259-a0ed-3420ea315f31"
   },
   "outputs": [
    {
     "name": "stdout",
     "output_type": "stream",
     "text": [
      "Start training...done!\n",
      "================================================================================\n",
      "Start testing...done!\n",
      "================================================================================\n",
      "accuracy: 0.9685414680648237\n",
      "====================================================================================================\n",
      "              precision    recall  f1-score   support\n",
      "\n",
      "  Depression       0.96      0.98      0.97      2000\n",
      "      Normal       0.98      0.98      0.98      3932\n",
      "     Smoking       0.94      0.94      0.94       423\n",
      "     Suicide       0.98      0.93      0.95       988\n",
      "\n",
      "    accuracy                           0.97      7343\n",
      "   macro avg       0.96      0.95      0.96      7343\n",
      "weighted avg       0.97      0.97      0.97      7343\n",
      "\n"
     ]
    },
    {
     "data": {
      "text/plain": [
       "<sklearn.metrics._plot.confusion_matrix.ConfusionMatrixDisplay at 0x7f9e78c15950>"
      ]
     },
     "execution_count": 43,
     "metadata": {},
     "output_type": "execute_result"
    },
    {
     "data": {
      "image/png": "[encoded data removed]",
      "text/plain": [
       "<Figure size 432x288 with 2 Axes>"
      ]
     },
     "metadata": {
      "needs_background": "light"
     },
     "output_type": "display_data"
    }
   ],
   "source": [
    "svm = LinearSVC(class_weight='balanced', verbose=False, max_iter=10000, tol=1e-4, C=0.1)\n",
    "\n",
    "predictions, accuracy, metrics_report, svm_prf = train_test_model(svm, X_train_tweet, X_test_tweet, y_train, y_test, labels_)\n",
    "\n",
    "\n",
    "print('accuracy: {}'.format(accuracy))\n",
    "print('='*100)\n",
    "print(metrics_report)\n",
    "\n",
    "plot_confusion_matrix(svm, X_test_tweet, y_test, display_labels=labels_, xticks_rotation='vertical', cmap=\"BuPu\")"
   ]
  },
  {
   "cell_type": "code",
   "execution_count": null,
   "metadata": {
    "id": "e4KtlLZDy3qo"
   },
   "outputs": [],
   "source": []
  },
  {
   "cell_type": "code",
   "execution_count": 47,
   "metadata": {
    "executionInfo": {
     "elapsed": 412,
     "status": "ok",
     "timestamp": 1635776361801,
     "user": {
      "displayName": "Penny Tiwari",
      "photoUrl": "https://lh3.googleusercontent.com/a/default-user=s64",
      "userId": "14007942765575684471"
     },
     "user_tz": -330
    },
    "id": "MjCoVUrn3mJO"
   },
   "outputs": [],
   "source": [
    "def train_test_model(model, X_train, X_test, y_train, y_test,labels):\n",
    "    print('Start training...', end='')\n",
    "    model.fit(X_train, y_train)\n",
    "    print('done!')\n",
    "    print(\"=\"*80)\n",
    "    print('Start testing...', end='')\n",
    "    predictions = model.predict(X_test)\n",
    "    accuracy = model.score(X_test, y_test)\n",
    "    metrics_report = classification_report(y_test, predictions, target_names=labels)\n",
    "    precision, recall, fscore, train_support = score(y_test, predictions, average='weighted')\n",
    "    print('done!')\n",
    "    print(\"=\"*80)\n",
    "    return predictions, accuracy, metrics_report, (precision, recall, fscore)"
   ]
  },
  {
   "cell_type": "code",
   "execution_count": 48,
   "metadata": {
    "colab": {
     "base_uri": "https://localhost:8080/",
     "height": 685
    },
    "executionInfo": {
     "elapsed": 16217,
     "status": "ok",
     "timestamp": 1635776425849,
     "user": {
      "displayName": "Penny Tiwari",
      "photoUrl": "https://lh3.googleusercontent.com/a/default-user=s64",
      "userId": "14007942765575684471"
     },
     "user_tz": -330
    },
    "id": "xe8JIGA53nEF",
    "outputId": "84fd3cd8-259e-41d6-ea64-c0c448841ec4"
   },
   "outputs": [
    {
     "name": "stdout",
     "output_type": "stream",
     "text": [
      "Start training...done!\n",
      "================================================================================\n",
      "Start testing...done!\n",
      "================================================================================\n",
      "accuracy: 0.8546042003231018\n",
      "====================================================================================================\n",
      "              precision    recall  f1-score   support\n",
      "\n",
      "  Depression       0.92      0.54      0.68       171\n",
      "      Normal       0.85      0.99      0.92       297\n",
      "     Smoking       0.00      0.00      0.00         0\n",
      "     Suicide       0.83      0.94      0.88       151\n",
      "\n",
      "    accuracy                           0.85       619\n",
      "   macro avg       0.65      0.62      0.62       619\n",
      "weighted avg       0.87      0.85      0.84       619\n",
      "\n"
     ]
    },
    {
     "name": "stderr",
     "output_type": "stream",
     "text": [
      "/usr/local/lib/python3.7/dist-packages/sklearn/metrics/_classification.py:1272: UndefinedMetricWarning: Recall and F-score are ill-defined and being set to 0.0 in labels with no true samples. Use `zero_division` parameter to control this behavior.\n",
      "  _warn_prf(average, modifier, msg_start, len(result))\n"
     ]
    },
    {
     "data": {
      "text/plain": [
       "<sklearn.metrics._plot.confusion_matrix.ConfusionMatrixDisplay at 0x7f9e786e75d0>"
      ]
     },
     "execution_count": 48,
     "metadata": {},
     "output_type": "execute_result"
    },
    {
     "data": {
      "image/png": "[encoded data removed]",
      "text/plain": [
       "<Figure size 432x288 with 2 Axes>"
      ]
     },
     "metadata": {
      "needs_background": "light"
     },
     "output_type": "display_data"
    }
   ],
   "source": [
    "log_model=LogisticRegression(penalty='l2',max_iter=1000)\n",
    "predictions, accuracy, metrics_report, log_prf = train_test_model(log_model, X_train_tweet, dummy_test, y_train, dummy_data_label, labels_)\n",
    "\n",
    "\n",
    "print('accuracy: {}'.format(accuracy))\n",
    "print('='*100)\n",
    "print(metrics_report)\n",
    "\n",
    "plot_confusion_matrix(log_model, dummy_test, dummy_data_label, display_labels=labels_, xticks_rotation='vertical', cmap=\"BuPu\")"
   ]
  },
  {
   "cell_type": "code",
   "execution_count": 49,
   "metadata": {
    "colab": {
     "base_uri": "https://localhost:8080/",
     "height": 685
    },
    "executionInfo": {
     "elapsed": 2597,
     "status": "ok",
     "timestamp": 1635776485767,
     "user": {
      "displayName": "Penny Tiwari",
      "photoUrl": "https://lh3.googleusercontent.com/a/default-user=s64",
      "userId": "14007942765575684471"
     },
     "user_tz": -330
    },
    "id": "eY_IouSY3y2y",
    "outputId": "8bfaced7-07ac-4634-ae44-74a86bf90bda"
   },
   "outputs": [
    {
     "name": "stdout",
     "output_type": "stream",
     "text": [
      "Start training...done!\n",
      "================================================================================\n",
      "Start testing...done!\n",
      "================================================================================\n",
      "accuracy: 0.8546042003231018\n",
      "====================================================================================================\n",
      "              precision    recall  f1-score   support\n",
      "\n",
      "  Depression       0.91      0.57      0.70       171\n",
      "      Normal       0.86      0.98      0.92       297\n",
      "     Smoking       0.00      0.00      0.00         0\n",
      "     Suicide       0.83      0.94      0.88       151\n",
      "\n",
      "    accuracy                           0.85       619\n",
      "   macro avg       0.65      0.62      0.62       619\n",
      "weighted avg       0.87      0.85      0.85       619\n",
      "\n"
     ]
    },
    {
     "name": "stderr",
     "output_type": "stream",
     "text": [
      "/usr/local/lib/python3.7/dist-packages/sklearn/metrics/_classification.py:1272: UndefinedMetricWarning: Recall and F-score are ill-defined and being set to 0.0 in labels with no true samples. Use `zero_division` parameter to control this behavior.\n",
      "  _warn_prf(average, modifier, msg_start, len(result))\n"
     ]
    },
    {
     "data": {
      "text/plain": [
       "<sklearn.metrics._plot.confusion_matrix.ConfusionMatrixDisplay at 0x7f9e7855e490>"
      ]
     },
     "execution_count": 49,
     "metadata": {},
     "output_type": "execute_result"
    },
    {
     "data": {
      "image/png": "[encoded data removed]",
      "text/plain": [
       "<Figure size 432x288 with 2 Axes>"
      ]
     },
     "metadata": {
      "needs_background": "light"
     },
     "output_type": "display_data"
    }
   ],
   "source": [
    "svm = LinearSVC(class_weight='balanced', verbose=False, max_iter=10000, tol=1e-4, C=0.1)\n",
    "\n",
    "predictions, accuracy, metrics_report, svm_prf = train_test_model(svm, X_train_tweet,dummy_test, y_train, dummy_data_label, labels_)\n",
    "\n",
    "\n",
    "print('accuracy: {}'.format(accuracy))\n",
    "print('='*100)\n",
    "print(metrics_report)\n",
    "\n",
    "plot_confusion_matrix(svm, dummy_test, dummy_data_label, display_labels=labels_, xticks_rotation='vertical', cmap=\"BuPu\")"
   ]
  },
  {
   "cell_type": "code",
   "execution_count": null,
   "metadata": {
    "id": "XgOGZ6t74Eim"
   },
   "outputs": [],
   "source": []
  }
 ],
 "metadata": {
  "accelerator": "GPU",
  "colab": {
   "authorship_tag": "ABX9TyNTQTbRqyPLSs8Fz3F7Sgj/",
   "mount_file_id": "14tSGFRIpj-yrnRd3io2n7p-b_7MpDAjs",
   "name": "Suicide+depression.ipynb",
   "provenance": []
  },
  "kernelspec": {
   "display_name": "Python 3 (ipykernel)",
   "language": "python",
   "name": "python3"
  },
  "language_info": {
   "codemirror_mode": {
    "name": "ipython",
    "version": 3
   },
   "file_extension": ".py",
   "mimetype": "text/x-python",
   "name": "python",
   "nbconvert_exporter": "python",
   "pygments_lexer": "ipython3",
   "version": "3.9.7"
  }
 },
 "nbformat": 4,
 "nbformat_minor": 1
}
