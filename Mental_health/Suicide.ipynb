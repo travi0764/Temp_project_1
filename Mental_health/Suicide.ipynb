{
 "cells": [
  {
   "cell_type": "code",
   "execution_count": 1,
   "metadata": {
    "executionInfo": {
     "elapsed": 619,
     "status": "ok",
     "timestamp": 1635777139579,
     "user": {
      "displayName": "Penny Tiwari",
      "photoUrl": "https://lh3.googleusercontent.com/a/default-user=s64",
      "userId": "14007942765575684471"
     },
     "user_tz": -330
    },
    "id": "wDdnX-bwcRiR"
   },
   "outputs": [],
   "source": [
    "root=\"/content/drive/MyDrive/Mental_health\""
   ]
  },
  {
   "cell_type": "code",
   "execution_count": 2,
   "metadata": {
    "executionInfo": {
     "elapsed": 12,
     "status": "ok",
     "timestamp": 1635777140201,
     "user": {
      "displayName": "Penny Tiwari",
      "photoUrl": "https://lh3.googleusercontent.com/a/default-user=s64",
      "userId": "14007942765575684471"
     },
     "user_tz": -330
    },
    "id": "cn8hpUD5ctCp"
   },
   "outputs": [],
   "source": [
    "import os\n",
    "os.chdir(root)"
   ]
  },
  {
   "cell_type": "code",
   "execution_count": 3,
   "metadata": {
    "colab": {
     "base_uri": "https://localhost:8080/"
    },
    "executionInfo": {
     "elapsed": 12,
     "status": "ok",
     "timestamp": 1635777140202,
     "user": {
      "displayName": "Penny Tiwari",
      "photoUrl": "https://lh3.googleusercontent.com/a/default-user=s64",
      "userId": "14007942765575684471"
     },
     "user_tz": -330
    },
    "id": "1t_6atPSc8CM",
    "outputId": "0f284650-9bff-464b-cf9c-b453226a28e8"
   },
   "outputs": [
    {
     "name": "stdout",
     "output_type": "stream",
     "text": [
      " data_mixed.csv       gold_corpus.csv\t\t  Suicide_Detection.csv\n",
      " data_mixed_dep.csv   gold_corpus_rt.csv\t  Suicide.ipynb\n",
      " data_mixed_rt.csv    NEW_DATA.csv\t\t  test2Data.csv\n",
      " depression.csv      'Preprocessing data.ipynb'   train2Data.csv\n",
      " dummy_data.csv       Suicide+depression.ipynb\n"
     ]
    }
   ],
   "source": [
    "!ls"
   ]
  },
  {
   "cell_type": "code",
   "execution_count": 4,
   "metadata": {
    "executionInfo": {
     "elapsed": 3,
     "status": "ok",
     "timestamp": 1635777140700,
     "user": {
      "displayName": "Penny Tiwari",
      "photoUrl": "https://lh3.googleusercontent.com/a/default-user=s64",
      "userId": "14007942765575684471"
     },
     "user_tz": -330
    },
    "id": "MBkce8y8dFY8"
   },
   "outputs": [],
   "source": [
    "import pandas as pd\n",
    "import numpy as np"
   ]
  },
  {
   "cell_type": "code",
   "execution_count": 5,
   "metadata": {
    "colab": {
     "base_uri": "https://localhost:8080/",
     "height": 419
    },
    "executionInfo": {
     "elapsed": 5345,
     "status": "ok",
     "timestamp": 1635777146043,
     "user": {
      "displayName": "Penny Tiwari",
      "photoUrl": "https://lh3.googleusercontent.com/a/default-user=s64",
      "userId": "14007942765575684471"
     },
     "user_tz": -330
    },
    "id": "SZxFpnl_c915",
    "outputId": "cc2f4b60-c8b4-4234-ae9f-cf55b90a18c7"
   },
   "outputs": [
    {
     "data": {
      "text/html": [
       "<div>\n",
       "<style scoped>\n",
       "    .dataframe tbody tr th:only-of-type {\n",
       "        vertical-align: middle;\n",
       "    }\n",
       "\n",
       "    .dataframe tbody tr th {\n",
       "        vertical-align: top;\n",
       "    }\n",
       "\n",
       "    .dataframe thead th {\n",
       "        text-align: right;\n",
       "    }\n",
       "</style>\n",
       "<table border=\"1\" class=\"dataframe\">\n",
       "  <thead>\n",
       "    <tr style=\"text-align: right;\">\n",
       "      <th></th>\n",
       "      <th>Unnamed: 0</th>\n",
       "      <th>text</th>\n",
       "      <th>class</th>\n",
       "    </tr>\n",
       "  </thead>\n",
       "  <tbody>\n",
       "    <tr>\n",
       "      <th>0</th>\n",
       "      <td>2</td>\n",
       "      <td>Ex Wife Threatening SuicideRecently I left my ...</td>\n",
       "      <td>suicide</td>\n",
       "    </tr>\n",
       "    <tr>\n",
       "      <th>1</th>\n",
       "      <td>3</td>\n",
       "      <td>Am I weird I don't get affected by compliments...</td>\n",
       "      <td>non-suicide</td>\n",
       "    </tr>\n",
       "    <tr>\n",
       "      <th>2</th>\n",
       "      <td>4</td>\n",
       "      <td>Finally 2020 is almost over... So I can never ...</td>\n",
       "      <td>non-suicide</td>\n",
       "    </tr>\n",
       "    <tr>\n",
       "      <th>3</th>\n",
       "      <td>8</td>\n",
       "      <td>i need helpjust help me im crying so hard</td>\n",
       "      <td>suicide</td>\n",
       "    </tr>\n",
       "    <tr>\n",
       "      <th>4</th>\n",
       "      <td>9</td>\n",
       "      <td>I’m so lostHello, my name is Adam (16) and I’v...</td>\n",
       "      <td>suicide</td>\n",
       "    </tr>\n",
       "    <tr>\n",
       "      <th>...</th>\n",
       "      <td>...</td>\n",
       "      <td>...</td>\n",
       "      <td>...</td>\n",
       "    </tr>\n",
       "    <tr>\n",
       "      <th>232069</th>\n",
       "      <td>348103</td>\n",
       "      <td>If you don't like rock then your not going to ...</td>\n",
       "      <td>non-suicide</td>\n",
       "    </tr>\n",
       "    <tr>\n",
       "      <th>232070</th>\n",
       "      <td>348106</td>\n",
       "      <td>You how you can tell i have so many friends an...</td>\n",
       "      <td>non-suicide</td>\n",
       "    </tr>\n",
       "    <tr>\n",
       "      <th>232071</th>\n",
       "      <td>348107</td>\n",
       "      <td>pee probably tastes like salty tea😏💦‼️ can som...</td>\n",
       "      <td>non-suicide</td>\n",
       "    </tr>\n",
       "    <tr>\n",
       "      <th>232072</th>\n",
       "      <td>348108</td>\n",
       "      <td>The usual stuff you find hereI'm not posting t...</td>\n",
       "      <td>suicide</td>\n",
       "    </tr>\n",
       "    <tr>\n",
       "      <th>232073</th>\n",
       "      <td>348110</td>\n",
       "      <td>I still haven't beaten the first boss in Hollo...</td>\n",
       "      <td>non-suicide</td>\n",
       "    </tr>\n",
       "  </tbody>\n",
       "</table>\n",
       "<p>232074 rows × 3 columns</p>\n",
       "</div>"
      ],
      "text/plain": [
       "        Unnamed: 0  ...        class\n",
       "0                2  ...      suicide\n",
       "1                3  ...  non-suicide\n",
       "2                4  ...  non-suicide\n",
       "3                8  ...      suicide\n",
       "4                9  ...      suicide\n",
       "...            ...  ...          ...\n",
       "232069      348103  ...  non-suicide\n",
       "232070      348106  ...  non-suicide\n",
       "232071      348107  ...  non-suicide\n",
       "232072      348108  ...      suicide\n",
       "232073      348110  ...  non-suicide\n",
       "\n",
       "[232074 rows x 3 columns]"
      ]
     },
     "execution_count": 5,
     "metadata": {},
     "output_type": "execute_result"
    }
   ],
   "source": [
    "data=pd.read_csv(\"Suicide_Detection.csv\")\n",
    "data"
   ]
  },
  {
   "cell_type": "code",
   "execution_count": 6,
   "metadata": {
    "colab": {
     "base_uri": "https://localhost:8080/",
     "height": 419
    },
    "executionInfo": {
     "elapsed": 7,
     "status": "ok",
     "timestamp": 1635777146044,
     "user": {
      "displayName": "Penny Tiwari",
      "photoUrl": "https://lh3.googleusercontent.com/a/default-user=s64",
      "userId": "14007942765575684471"
     },
     "user_tz": -330
    },
    "id": "BXaNisxcdCIP",
    "outputId": "30ca7646-dbf7-4889-a900-d8a4e8f10e8a"
   },
   "outputs": [
    {
     "data": {
      "text/html": [
       "<div>\n",
       "<style scoped>\n",
       "    .dataframe tbody tr th:only-of-type {\n",
       "        vertical-align: middle;\n",
       "    }\n",
       "\n",
       "    .dataframe tbody tr th {\n",
       "        vertical-align: top;\n",
       "    }\n",
       "\n",
       "    .dataframe thead th {\n",
       "        text-align: right;\n",
       "    }\n",
       "</style>\n",
       "<table border=\"1\" class=\"dataframe\">\n",
       "  <thead>\n",
       "    <tr style=\"text-align: right;\">\n",
       "      <th></th>\n",
       "      <th>text</th>\n",
       "      <th>class</th>\n",
       "    </tr>\n",
       "  </thead>\n",
       "  <tbody>\n",
       "    <tr>\n",
       "      <th>0</th>\n",
       "      <td>Ex Wife Threatening SuicideRecently I left my ...</td>\n",
       "      <td>suicide</td>\n",
       "    </tr>\n",
       "    <tr>\n",
       "      <th>1</th>\n",
       "      <td>Am I weird I don't get affected by compliments...</td>\n",
       "      <td>non-suicide</td>\n",
       "    </tr>\n",
       "    <tr>\n",
       "      <th>2</th>\n",
       "      <td>Finally 2020 is almost over... So I can never ...</td>\n",
       "      <td>non-suicide</td>\n",
       "    </tr>\n",
       "    <tr>\n",
       "      <th>3</th>\n",
       "      <td>i need helpjust help me im crying so hard</td>\n",
       "      <td>suicide</td>\n",
       "    </tr>\n",
       "    <tr>\n",
       "      <th>4</th>\n",
       "      <td>I’m so lostHello, my name is Adam (16) and I’v...</td>\n",
       "      <td>suicide</td>\n",
       "    </tr>\n",
       "    <tr>\n",
       "      <th>...</th>\n",
       "      <td>...</td>\n",
       "      <td>...</td>\n",
       "    </tr>\n",
       "    <tr>\n",
       "      <th>232069</th>\n",
       "      <td>If you don't like rock then your not going to ...</td>\n",
       "      <td>non-suicide</td>\n",
       "    </tr>\n",
       "    <tr>\n",
       "      <th>232070</th>\n",
       "      <td>You how you can tell i have so many friends an...</td>\n",
       "      <td>non-suicide</td>\n",
       "    </tr>\n",
       "    <tr>\n",
       "      <th>232071</th>\n",
       "      <td>pee probably tastes like salty tea😏💦‼️ can som...</td>\n",
       "      <td>non-suicide</td>\n",
       "    </tr>\n",
       "    <tr>\n",
       "      <th>232072</th>\n",
       "      <td>The usual stuff you find hereI'm not posting t...</td>\n",
       "      <td>suicide</td>\n",
       "    </tr>\n",
       "    <tr>\n",
       "      <th>232073</th>\n",
       "      <td>I still haven't beaten the first boss in Hollo...</td>\n",
       "      <td>non-suicide</td>\n",
       "    </tr>\n",
       "  </tbody>\n",
       "</table>\n",
       "<p>232074 rows × 2 columns</p>\n",
       "</div>"
      ],
      "text/plain": [
       "                                                     text        class\n",
       "0       Ex Wife Threatening SuicideRecently I left my ...      suicide\n",
       "1       Am I weird I don't get affected by compliments...  non-suicide\n",
       "2       Finally 2020 is almost over... So I can never ...  non-suicide\n",
       "3               i need helpjust help me im crying so hard      suicide\n",
       "4       I’m so lostHello, my name is Adam (16) and I’v...      suicide\n",
       "...                                                   ...          ...\n",
       "232069  If you don't like rock then your not going to ...  non-suicide\n",
       "232070  You how you can tell i have so many friends an...  non-suicide\n",
       "232071  pee probably tastes like salty tea😏💦‼️ can som...  non-suicide\n",
       "232072  The usual stuff you find hereI'm not posting t...      suicide\n",
       "232073  I still haven't beaten the first boss in Hollo...  non-suicide\n",
       "\n",
       "[232074 rows x 2 columns]"
      ]
     },
     "execution_count": 6,
     "metadata": {},
     "output_type": "execute_result"
    }
   ],
   "source": [
    "data.drop(\"Unnamed: 0\",axis=1,inplace=True)\n",
    "data.dropna(inplace=True)\n",
    "data"
   ]
  },
  {
   "cell_type": "code",
   "execution_count": 7,
   "metadata": {
    "colab": {
     "base_uri": "https://localhost:8080/"
    },
    "executionInfo": {
     "elapsed": 4053,
     "status": "ok",
     "timestamp": 1635777150093,
     "user": {
      "displayName": "Penny Tiwari",
      "photoUrl": "https://lh3.googleusercontent.com/a/default-user=s64",
      "userId": "14007942765575684471"
     },
     "user_tz": -330
    },
    "id": "a-nw-ORNdQxH",
    "outputId": "7ec082aa-914a-4d99-8195-33508cf8eb72"
   },
   "outputs": [
    {
     "name": "stdout",
     "output_type": "stream",
     "text": [
      "Requirement already satisfied: tweet-preprocessor in /usr/local/lib/python3.7/dist-packages (0.6.0)\n"
     ]
    }
   ],
   "source": [
    "!pip install tweet-preprocessor"
   ]
  },
  {
   "cell_type": "code",
   "execution_count": 8,
   "metadata": {
    "colab": {
     "base_uri": "https://localhost:8080/"
    },
    "executionInfo": {
     "elapsed": 1766,
     "status": "ok",
     "timestamp": 1635777151854,
     "user": {
      "displayName": "Penny Tiwari",
      "photoUrl": "https://lh3.googleusercontent.com/a/default-user=s64",
      "userId": "14007942765575684471"
     },
     "user_tz": -330
    },
    "id": "pFNJWH1rdHyd",
    "outputId": "8088c094-9a15-435a-8d53-dee9ef9819c0"
   },
   "outputs": [
    {
     "name": "stdout",
     "output_type": "stream",
     "text": [
      "[nltk_data] Downloading package punkt to /root/nltk_data...\n",
      "[nltk_data]   Package punkt is already up-to-date!\n",
      "[nltk_data] Downloading package stopwords to /root/nltk_data...\n",
      "[nltk_data]   Package stopwords is already up-to-date!\n"
     ]
    }
   ],
   "source": [
    "import pandas as pd\n",
    "import nltk\n",
    "import re\n",
    "import string\n",
    "from nltk.corpus import stopwords\n",
    "nltk.download('punkt')\n",
    "nltk.download('stopwords')\n",
    "from nltk.tokenize import word_tokenize\n",
    "import preprocessor as p\n",
    "from nltk.stem import WordNetLemmatizer \n",
    "from nltk import sent_tokenize\n",
    "from nltk import word_tokenize\n",
    "\n",
    "stop_words = stopwords.words()\n",
    "\n",
    "def cleaning(text):        \n",
    "    # converting to lowercase, removing URL links, special characters, punctuations...\n",
    "    \n",
    "    #using full form in place of abbrevations\n",
    "    text = re.sub(r\"won't\", \"will not\",text)\n",
    "    text = re.sub(r\"can\\'t\", \"can not\",text)\n",
    "    text = re.sub(r\"n\\'t\", \" not\",text)\n",
    "    text = re.sub(r\"\\'re\", \" are\",text)\n",
    "    text = re.sub(r\"\\'s\", \" is\",text)\n",
    "    text = re.sub(r\"\\'d\", \" would\",text)\n",
    "    text = re.sub(r\"\\'ll\", \" will\",text)\n",
    "    text = re.sub(r\"\\'t\", \" not\",text)\n",
    "    text = re.sub(r\"\\'ve\", \" have\",text)\n",
    "    text = re.sub(r\"\\'m\", \" am\",text)\n",
    "    text = re.sub('RT',\" \", text)\n",
    "    \n",
    "    text=p.clean(text)\n",
    "    text = re.sub(\"\\$RESERVED\\$ \\$MENTION\\$|\\$NUMBER\\$|\\$MENTION\\$\",' ', text)\n",
    "    text = text.lower()\n",
    "    text = re.sub('https?://\\S+|www\\.\\S+', ' ', text)\n",
    "    text = re.sub('<.*?>+', ' ', text)\n",
    "    text = re.sub('[%s]' % re.escape(string.punctuation), ' ', text)\n",
    "    text = re.sub('\\n', ' ', text)\n",
    "    text = re.sub('[’“”…]', ' ', text)   \n",
    "    \n",
    "    \n",
    "    text = re.sub('user',\" \", text)\n",
    "    text = re.sub('url',\" \", text)\n",
    "    \n",
    "    text = re.sub('reserved',\" \", text)\n",
    "    \n",
    "    \n",
    "    \n",
    "    \n",
    "    \n",
    "    \n",
    "    text = re.sub(\"[^A-Za-z]\",' ',text)\n",
    "    \n",
    "\n",
    "    # removing the emojies               \n",
    "    emoji_pattern = re.compile(\"[\"\n",
    "                           u\"\\U0001F600-\\U0001F64F\"  # emoticons\n",
    "                           u\"\\U0001F300-\\U0001F5FF\"  # symbols & pictographs\n",
    "                           u\"\\U0001F680-\\U0001F6FF\"  # transport & map symbols\n",
    "                           u\"\\U0001F1E0-\\U0001F1FF\"  # flags (iOS)\n",
    "                           u\"\\U00002702-\\U000027B0\"\n",
    "                           u\"\\U000024C2-\\U0001F251\"\n",
    "                           \"]+\", flags=re.UNICODE)\n",
    "    text = emoji_pattern.sub(r' ', text)   \n",
    "    \n",
    "    \n",
    "    \n",
    "    \n",
    "    \n",
    "    \n",
    "    return text\n",
    "\n"
   ]
  },
  {
   "cell_type": "code",
   "execution_count": 9,
   "metadata": {
    "colab": {
     "base_uri": "https://localhost:8080/"
    },
    "executionInfo": {
     "elapsed": 14,
     "status": "ok",
     "timestamp": 1635777151854,
     "user": {
      "displayName": "Penny Tiwari",
      "photoUrl": "https://lh3.googleusercontent.com/a/default-user=s64",
      "userId": "14007942765575684471"
     },
     "user_tz": -330
    },
    "id": "YC4tvEulpqqE",
    "outputId": "ec12fd1d-b566-4917-a6ba-05b3182f375d"
   },
   "outputs": [
    {
     "data": {
      "text/plain": [
       "non-suicide    7505\n",
       "suicide        7495\n",
       "Name: class, dtype: int64"
      ]
     },
     "execution_count": 9,
     "metadata": {},
     "output_type": "execute_result"
    }
   ],
   "source": [
    "k=np.random.randint(0,len(data),(15000))\n",
    "data1=data.loc[k]\n",
    "data1['class'].value_counts()"
   ]
  },
  {
   "cell_type": "code",
   "execution_count": 10,
   "metadata": {
    "colab": {
     "base_uri": "https://localhost:8080/"
    },
    "executionInfo": {
     "elapsed": 9649,
     "status": "ok",
     "timestamp": 1635777161499,
     "user": {
      "displayName": "Penny Tiwari",
      "photoUrl": "https://lh3.googleusercontent.com/a/default-user=s64",
      "userId": "14007942765575684471"
     },
     "user_tz": -330
    },
    "id": "JHXnyViydJRq",
    "outputId": "93782676-a56c-4806-8a22-98be388b2379"
   },
   "outputs": [
    {
     "data": {
      "text/plain": [
       "(15000, 2)"
      ]
     },
     "execution_count": 10,
     "metadata": {},
     "output_type": "execute_result"
    }
   ],
   "source": [
    "data1.text=data1.text.apply(cleaning)\n",
    "data1.dropna(inplace=True)\n",
    "data1.shape"
   ]
  },
  {
   "cell_type": "code",
   "execution_count": 11,
   "metadata": {
    "executionInfo": {
     "elapsed": 6078,
     "status": "ok",
     "timestamp": 1635777167574,
     "user": {
      "displayName": "Penny Tiwari",
      "photoUrl": "https://lh3.googleusercontent.com/a/default-user=s64",
      "userId": "14007942765575684471"
     },
     "user_tz": -330
    },
    "id": "ePcFS1NkdYvk"
   },
   "outputs": [],
   "source": [
    "import tensorflow as tf\n",
    "import tensorflow_hub as hub"
   ]
  },
  {
   "cell_type": "code",
   "execution_count": 12,
   "metadata": {
    "colab": {
     "base_uri": "https://localhost:8080/"
    },
    "executionInfo": {
     "elapsed": 34464,
     "status": "ok",
     "timestamp": 1635777202035,
     "user": {
      "displayName": "Penny Tiwari",
      "photoUrl": "https://lh3.googleusercontent.com/a/default-user=s64",
      "userId": "14007942765575684471"
     },
     "user_tz": -330
    },
    "id": "7jPPbHHqdr9f",
    "outputId": "dcfd161f-4074-4fd7-ffcf-a69e43f9595b"
   },
   "outputs": [
    {
     "name": "stdout",
     "output_type": "stream",
     "text": [
      "module https://tfhub.dev/google/universal-sentence-encoder/4 loaded\n"
     ]
    }
   ],
   "source": [
    "module_url = \"https://tfhub.dev/google/universal-sentence-encoder/4\" #@param [\"https://tfhub.dev/google/universal-sentence-encoder/4\", \"https://tfhub.dev/google/universal-sentence-encoder-large/5\"]\n",
    "model = hub.load(module_url)\n",
    "print (\"module %s loaded\" % module_url)\n",
    "def embed(text):\n",
    "    return model(text)"
   ]
  },
  {
   "cell_type": "code",
   "execution_count": 13,
   "metadata": {
    "colab": {
     "base_uri": "https://localhost:8080/",
     "height": 419
    },
    "executionInfo": {
     "elapsed": 21,
     "status": "ok",
     "timestamp": 1635777202036,
     "user": {
      "displayName": "Penny Tiwari",
      "photoUrl": "https://lh3.googleusercontent.com/a/default-user=s64",
      "userId": "14007942765575684471"
     },
     "user_tz": -330
    },
    "id": "DbB_55U_oMK0",
    "outputId": "4507f5fb-ff79-43bd-aa13-cdca5b09b089"
   },
   "outputs": [
    {
     "data": {
      "text/html": [
       "<div>\n",
       "<style scoped>\n",
       "    .dataframe tbody tr th:only-of-type {\n",
       "        vertical-align: middle;\n",
       "    }\n",
       "\n",
       "    .dataframe tbody tr th {\n",
       "        vertical-align: top;\n",
       "    }\n",
       "\n",
       "    .dataframe thead th {\n",
       "        text-align: right;\n",
       "    }\n",
       "</style>\n",
       "<table border=\"1\" class=\"dataframe\">\n",
       "  <thead>\n",
       "    <tr style=\"text-align: right;\">\n",
       "      <th></th>\n",
       "      <th>tweet</th>\n",
       "      <th>label</th>\n",
       "    </tr>\n",
       "  </thead>\n",
       "  <tbody>\n",
       "    <tr>\n",
       "      <th>123981</th>\n",
       "      <td>happy suicidehello everyone i would like to st...</td>\n",
       "      <td>suicide</td>\n",
       "    </tr>\n",
       "    <tr>\n",
       "      <th>125057</th>\n",
       "      <td>i tried my best i really tried</td>\n",
       "      <td>suicide</td>\n",
       "    </tr>\n",
       "    <tr>\n",
       "      <th>74921</th>\n",
       "      <td>let is dance  o</td>\n",
       "      <td>non-suicide</td>\n",
       "    </tr>\n",
       "    <tr>\n",
       "      <th>71814</th>\n",
       "      <td>streaming atm streaming rocket league at come ...</td>\n",
       "      <td>non-suicide</td>\n",
       "    </tr>\n",
       "    <tr>\n",
       "      <th>171987</th>\n",
       "      <td>gender is whats in your pants therefore  i req...</td>\n",
       "      <td>non-suicide</td>\n",
       "    </tr>\n",
       "    <tr>\n",
       "      <th>...</th>\n",
       "      <td>...</td>\n",
       "      <td>...</td>\n",
       "    </tr>\n",
       "    <tr>\n",
       "      <th>65149</th>\n",
       "      <td>just experienced a high speed crash on the hig...</td>\n",
       "      <td>non-suicide</td>\n",
       "    </tr>\n",
       "    <tr>\n",
       "      <th>67723</th>\n",
       "      <td>has puberty affected you  in the span of month...</td>\n",
       "      <td>non-suicide</td>\n",
       "    </tr>\n",
       "    <tr>\n",
       "      <th>164931</th>\n",
       "      <td>after all these years    boyfriend  acquiredmi...</td>\n",
       "      <td>non-suicide</td>\n",
       "    </tr>\n",
       "    <tr>\n",
       "      <th>164683</th>\n",
       "      <td>reasons to date me   not many but ask whatever...</td>\n",
       "      <td>non-suicide</td>\n",
       "    </tr>\n",
       "    <tr>\n",
       "      <th>230104</th>\n",
       "      <td>what do you do to outweigh the positives of ki...</td>\n",
       "      <td>suicide</td>\n",
       "    </tr>\n",
       "  </tbody>\n",
       "</table>\n",
       "<p>15000 rows × 2 columns</p>\n",
       "</div>"
      ],
      "text/plain": [
       "                                                    tweet        label\n",
       "123981  happy suicidehello everyone i would like to st...      suicide\n",
       "125057                     i tried my best i really tried      suicide\n",
       "74921                                    let is dance  o   non-suicide\n",
       "71814   streaming atm streaming rocket league at come ...  non-suicide\n",
       "171987  gender is whats in your pants therefore  i req...  non-suicide\n",
       "...                                                   ...          ...\n",
       "65149   just experienced a high speed crash on the hig...  non-suicide\n",
       "67723   has puberty affected you  in the span of month...  non-suicide\n",
       "164931  after all these years    boyfriend  acquiredmi...  non-suicide\n",
       "164683  reasons to date me   not many but ask whatever...  non-suicide\n",
       "230104  what do you do to outweigh the positives of ki...      suicide\n",
       "\n",
       "[15000 rows x 2 columns]"
      ]
     },
     "execution_count": 13,
     "metadata": {},
     "output_type": "execute_result"
    }
   ],
   "source": [
    "data1.rename(columns={'text':'tweet','class':'label'},inplace=True)\n",
    "data1"
   ]
  },
  {
   "cell_type": "code",
   "execution_count": 14,
   "metadata": {
    "executionInfo": {
     "elapsed": 17,
     "status": "ok",
     "timestamp": 1635777202037,
     "user": {
      "displayName": "Penny Tiwari",
      "photoUrl": "https://lh3.googleusercontent.com/a/default-user=s64",
      "userId": "14007942765575684471"
     },
     "user_tz": -330
    },
    "id": "Lt81VxmWoUpz"
   },
   "outputs": [],
   "source": [
    "def label_(text):\n",
    "  if text=='suicide':\n",
    "    return 4\n",
    "  else:\n",
    "    return 2"
   ]
  },
  {
   "cell_type": "code",
   "execution_count": 15,
   "metadata": {
    "colab": {
     "base_uri": "https://localhost:8080/"
    },
    "executionInfo": {
     "elapsed": 16,
     "status": "ok",
     "timestamp": 1635777202037,
     "user": {
      "displayName": "Penny Tiwari",
      "photoUrl": "https://lh3.googleusercontent.com/a/default-user=s64",
      "userId": "14007942765575684471"
     },
     "user_tz": -330
    },
    "id": "xTBS5QyBoa6Y",
    "outputId": "d3b81b9a-e138-4d1c-d835-b4eff91dc133"
   },
   "outputs": [
    {
     "data": {
      "text/plain": [
       "2    7505\n",
       "4    7495\n",
       "Name: label, dtype: int64"
      ]
     },
     "execution_count": 15,
     "metadata": {},
     "output_type": "execute_result"
    }
   ],
   "source": [
    "data1.label=data1.label.apply(label_)\n",
    "data1.label.value_counts()"
   ]
  },
  {
   "cell_type": "code",
   "execution_count": 16,
   "metadata": {
    "colab": {
     "base_uri": "https://localhost:8080/"
    },
    "executionInfo": {
     "elapsed": 12,
     "status": "ok",
     "timestamp": 1635777202037,
     "user": {
      "displayName": "Penny Tiwari",
      "photoUrl": "https://lh3.googleusercontent.com/a/default-user=s64",
      "userId": "14007942765575684471"
     },
     "user_tz": -330
    },
    "id": "khA3cpO0onMt",
    "outputId": "c20b0de1-6853-47b0-8b7f-bece37479e67"
   },
   "outputs": [
    {
     "name": "stderr",
     "output_type": "stream",
     "text": [
      "/usr/local/lib/python3.7/dist-packages/ipykernel_launcher.py:3: SettingWithCopyWarning: \n",
      "A value is trying to be set on a copy of a slice from a DataFrame\n",
      "\n",
      "See the caveats in the documentation: https://pandas.pydata.org/pandas-docs/stable/user_guide/indexing.html#returning-a-view-versus-a-copy\n",
      "  This is separate from the ipykernel package so we can avoid doing imports until\n"
     ]
    },
    {
     "data": {
      "text/plain": [
       "4    7495\n",
       "Name: label, dtype: int64"
      ]
     },
     "execution_count": 16,
     "metadata": {},
     "output_type": "execute_result"
    }
   ],
   "source": [
    "mask=data1.label==4\n",
    "data6=data1.loc[mask]\n",
    "data6.dropna(inplace=True)\n",
    "data6.label.value_counts()"
   ]
  },
  {
   "cell_type": "code",
   "execution_count": 17,
   "metadata": {
    "colab": {
     "base_uri": "https://localhost:8080/",
     "height": 419
    },
    "executionInfo": {
     "elapsed": 9,
     "status": "ok",
     "timestamp": 1635777202038,
     "user": {
      "displayName": "Penny Tiwari",
      "photoUrl": "https://lh3.googleusercontent.com/a/default-user=s64",
      "userId": "14007942765575684471"
     },
     "user_tz": -330
    },
    "id": "mGauGcgQeuCW",
    "outputId": "f2a5c56f-c3c5-4499-fb83-c7fab4a55989"
   },
   "outputs": [
    {
     "data": {
      "text/html": [
       "<div>\n",
       "<style scoped>\n",
       "    .dataframe tbody tr th:only-of-type {\n",
       "        vertical-align: middle;\n",
       "    }\n",
       "\n",
       "    .dataframe tbody tr th {\n",
       "        vertical-align: top;\n",
       "    }\n",
       "\n",
       "    .dataframe thead th {\n",
       "        text-align: right;\n",
       "    }\n",
       "</style>\n",
       "<table border=\"1\" class=\"dataframe\">\n",
       "  <thead>\n",
       "    <tr style=\"text-align: right;\">\n",
       "      <th></th>\n",
       "      <th>tweet</th>\n",
       "      <th>label</th>\n",
       "    </tr>\n",
       "  </thead>\n",
       "  <tbody>\n",
       "    <tr>\n",
       "      <th>0</th>\n",
       "      <td>conservatives are excellent at running up debt...</td>\n",
       "      <td>2</td>\n",
       "    </tr>\n",
       "    <tr>\n",
       "      <th>1</th>\n",
       "      <td>great example as an immigrant and woman ceo  i...</td>\n",
       "      <td>2</td>\n",
       "    </tr>\n",
       "    <tr>\n",
       "      <th>2</th>\n",
       "      <td>fuckhead for awhile    i open two stores for...</td>\n",
       "      <td>2</td>\n",
       "    </tr>\n",
       "    <tr>\n",
       "      <th>3</th>\n",
       "      <td>i just cracked my motherfuckin phone god damn ...</td>\n",
       "      <td>1</td>\n",
       "    </tr>\n",
       "    <tr>\n",
       "      <th>4</th>\n",
       "      <td>i could never have a bby by a lil dick thts...</td>\n",
       "      <td>1</td>\n",
       "    </tr>\n",
       "    <tr>\n",
       "      <th>...</th>\n",
       "      <td>...</td>\n",
       "      <td>...</td>\n",
       "    </tr>\n",
       "    <tr>\n",
       "      <th>49517</th>\n",
       "      <td>aye and when the hoes start coming do not ...</td>\n",
       "      <td>1</td>\n",
       "    </tr>\n",
       "    <tr>\n",
       "      <th>49518</th>\n",
       "      <td>kevin williamson is excellent piece on why e...</td>\n",
       "      <td>2</td>\n",
       "    </tr>\n",
       "    <tr>\n",
       "      <th>49519</th>\n",
       "      <td>in an age where progressives demand full ...</td>\n",
       "      <td>2</td>\n",
       "    </tr>\n",
       "    <tr>\n",
       "      <th>49520</th>\n",
       "      <td>all dirty vote bank politics  aap rule has mad...</td>\n",
       "      <td>0</td>\n",
       "    </tr>\n",
       "    <tr>\n",
       "      <th>49521</th>\n",
       "      <td>old are you    she looks like a baby  m...</td>\n",
       "      <td>2</td>\n",
       "    </tr>\n",
       "  </tbody>\n",
       "</table>\n",
       "<p>49473 rows × 2 columns</p>\n",
       "</div>"
      ],
      "text/plain": [
       "                                                   tweet  label\n",
       "0      conservatives are excellent at running up debt...      2\n",
       "1      great example as an immigrant and woman ceo  i...      2\n",
       "2        fuckhead for awhile    i open two stores for...      2\n",
       "3      i just cracked my motherfuckin phone god damn ...      1\n",
       "4         i could never have a bby by a lil dick thts...      1\n",
       "...                                                  ...    ...\n",
       "49517      aye and when the hoes start coming do not ...      1\n",
       "49518    kevin williamson is excellent piece on why e...      2\n",
       "49519       in an age where progressives demand full ...      2\n",
       "49520  all dirty vote bank politics  aap rule has mad...      0\n",
       "49521         old are you    she looks like a baby  m...      2\n",
       "\n",
       "[49473 rows x 2 columns]"
      ]
     },
     "execution_count": 17,
     "metadata": {},
     "output_type": "execute_result"
    }
   ],
   "source": [
    "data2=pd.read_csv(\"data_mixed_rt.csv\")\n",
    "data2.drop(\"Unnamed: 0\",axis=1,inplace=True)\n",
    "data2.dropna(inplace=True)\n",
    "data2"
   ]
  },
  {
   "cell_type": "code",
   "execution_count": 18,
   "metadata": {
    "colab": {
     "base_uri": "https://localhost:8080/",
     "height": 419
    },
    "executionInfo": {
     "elapsed": 8,
     "status": "ok",
     "timestamp": 1635777202038,
     "user": {
      "displayName": "Penny Tiwari",
      "photoUrl": "https://lh3.googleusercontent.com/a/default-user=s64",
      "userId": "14007942765575684471"
     },
     "user_tz": -330
    },
    "id": "Knx353nUfqs6",
    "outputId": "45ebc2c7-b3f4-47c3-e3a8-483ad40ec2b8"
   },
   "outputs": [
    {
     "data": {
      "text/html": [
       "<div>\n",
       "<style scoped>\n",
       "    .dataframe tbody tr th:only-of-type {\n",
       "        vertical-align: middle;\n",
       "    }\n",
       "\n",
       "    .dataframe tbody tr th {\n",
       "        vertical-align: top;\n",
       "    }\n",
       "\n",
       "    .dataframe thead th {\n",
       "        text-align: right;\n",
       "    }\n",
       "</style>\n",
       "<table border=\"1\" class=\"dataframe\">\n",
       "  <thead>\n",
       "    <tr style=\"text-align: right;\">\n",
       "      <th></th>\n",
       "      <th>tweet</th>\n",
       "      <th>label</th>\n",
       "      <th>Unnamed: 2</th>\n",
       "      <th>Unnamed: 3</th>\n",
       "      <th>Unnamed: 4</th>\n",
       "      <th>Unnamed: 5</th>\n",
       "      <th>Unnamed: 6</th>\n",
       "    </tr>\n",
       "  </thead>\n",
       "  <tbody>\n",
       "    <tr>\n",
       "      <th>0</th>\n",
       "      <td>$RESERVED$ $MENTION$: GAMEDAY] Fan ejected fro...</td>\n",
       "      <td>6</td>\n",
       "      <td>NaN</td>\n",
       "      <td>NaN</td>\n",
       "      <td>NaN</td>\n",
       "      <td>NaN</td>\n",
       "      <td>NaN</td>\n",
       "    </tr>\n",
       "    <tr>\n",
       "      <th>1</th>\n",
       "      <td>$MENTION$ What is your stance on vaping?</td>\n",
       "      <td>6</td>\n",
       "      <td>NaN</td>\n",
       "      <td>NaN</td>\n",
       "      <td>NaN</td>\n",
       "      <td>NaN</td>\n",
       "      <td>NaN</td>\n",
       "    </tr>\n",
       "    <tr>\n",
       "      <th>2</th>\n",
       "      <td>Nicotine stans are getting brave</td>\n",
       "      <td>6</td>\n",
       "      <td>NaN</td>\n",
       "      <td>NaN</td>\n",
       "      <td>NaN</td>\n",
       "      <td>NaN</td>\n",
       "      <td>NaN</td>\n",
       "    </tr>\n",
       "    <tr>\n",
       "      <th>3</th>\n",
       "      <td>PULSE X BF Kit l by Tony B. and Vandy Vape l A...</td>\n",
       "      <td>6</td>\n",
       "      <td>NaN</td>\n",
       "      <td>NaN</td>\n",
       "      <td>NaN</td>\n",
       "      <td>NaN</td>\n",
       "      <td>NaN</td>\n",
       "    </tr>\n",
       "    <tr>\n",
       "      <th>4</th>\n",
       "      <td>$RESERVED$ $MENTION$: FDA Takes $NUMBER$s of D...</td>\n",
       "      <td>6</td>\n",
       "      <td>NaN</td>\n",
       "      <td>NaN</td>\n",
       "      <td>NaN</td>\n",
       "      <td>NaN</td>\n",
       "      <td>NaN</td>\n",
       "    </tr>\n",
       "    <tr>\n",
       "      <th>...</th>\n",
       "      <td>...</td>\n",
       "      <td>...</td>\n",
       "      <td>...</td>\n",
       "      <td>...</td>\n",
       "      <td>...</td>\n",
       "      <td>...</td>\n",
       "      <td>...</td>\n",
       "    </tr>\n",
       "    <tr>\n",
       "      <th>2111</th>\n",
       "      <td>You are my nicotine, heroine, novocaine. Fvck....</td>\n",
       "      <td>-1</td>\n",
       "      <td>NaN</td>\n",
       "      <td>NaN</td>\n",
       "      <td>NaN</td>\n",
       "      <td>NaN</td>\n",
       "      <td>NaN</td>\n",
       "    </tr>\n",
       "    <tr>\n",
       "      <th>2112</th>\n",
       "      <td>$MENTION$ Maybe but that would be as the assis...</td>\n",
       "      <td>-1</td>\n",
       "      <td>NaN</td>\n",
       "      <td>NaN</td>\n",
       "      <td>NaN</td>\n",
       "      <td>NaN</td>\n",
       "      <td>NaN</td>\n",
       "    </tr>\n",
       "    <tr>\n",
       "      <th>2113</th>\n",
       "      <td>$MENTION$ Jasmine : star star they’re smoking ...</td>\n",
       "      <td>-1</td>\n",
       "      <td>NaN</td>\n",
       "      <td>NaN</td>\n",
       "      <td>NaN</td>\n",
       "      <td>NaN</td>\n",
       "      <td>NaN</td>\n",
       "    </tr>\n",
       "    <tr>\n",
       "      <th>2114</th>\n",
       "      <td>$RESERVED$ $MENTION$: Think you can smoke or v...</td>\n",
       "      <td>-1</td>\n",
       "      <td>NaN</td>\n",
       "      <td>NaN</td>\n",
       "      <td>NaN</td>\n",
       "      <td>NaN</td>\n",
       "      <td>NaN</td>\n",
       "    </tr>\n",
       "    <tr>\n",
       "      <th>2115</th>\n",
       "      <td>$RESERVED$ $MENTION$: What you doing? Nothing....</td>\n",
       "      <td>-1</td>\n",
       "      <td>NaN</td>\n",
       "      <td>NaN</td>\n",
       "      <td>NaN</td>\n",
       "      <td>NaN</td>\n",
       "      <td>NaN</td>\n",
       "    </tr>\n",
       "  </tbody>\n",
       "</table>\n",
       "<p>2116 rows × 7 columns</p>\n",
       "</div>"
      ],
      "text/plain": [
       "                                                  tweet  ...  Unnamed: 6\n",
       "0     $RESERVED$ $MENTION$: GAMEDAY] Fan ejected fro...  ...         NaN\n",
       "1              $MENTION$ What is your stance on vaping?  ...         NaN\n",
       "2                      Nicotine stans are getting brave  ...         NaN\n",
       "3     PULSE X BF Kit l by Tony B. and Vandy Vape l A...  ...         NaN\n",
       "4     $RESERVED$ $MENTION$: FDA Takes $NUMBER$s of D...  ...         NaN\n",
       "...                                                 ...  ...         ...\n",
       "2111  You are my nicotine, heroine, novocaine. Fvck....  ...         NaN\n",
       "2112  $MENTION$ Maybe but that would be as the assis...  ...         NaN\n",
       "2113  $MENTION$ Jasmine : star star they’re smoking ...  ...         NaN\n",
       "2114  $RESERVED$ $MENTION$: Think you can smoke or v...  ...         NaN\n",
       "2115  $RESERVED$ $MENTION$: What you doing? Nothing....  ...         NaN\n",
       "\n",
       "[2116 rows x 7 columns]"
      ]
     },
     "execution_count": 18,
     "metadata": {},
     "output_type": "execute_result"
    }
   ],
   "source": [
    "data3=pd.read_csv(\"gold_corpus.csv\")\n",
    "data3"
   ]
  },
  {
   "cell_type": "code",
   "execution_count": 19,
   "metadata": {
    "colab": {
     "base_uri": "https://localhost:8080/",
     "height": 419
    },
    "executionInfo": {
     "elapsed": 11,
     "status": "ok",
     "timestamp": 1635777202673,
     "user": {
      "displayName": "Penny Tiwari",
      "photoUrl": "https://lh3.googleusercontent.com/a/default-user=s64",
      "userId": "14007942765575684471"
     },
     "user_tz": -330
    },
    "id": "b-msvxzlfqp-",
    "outputId": "b6b40435-949b-43f5-d409-902e2fa373ac"
   },
   "outputs": [
    {
     "data": {
      "text/html": [
       "<div>\n",
       "<style scoped>\n",
       "    .dataframe tbody tr th:only-of-type {\n",
       "        vertical-align: middle;\n",
       "    }\n",
       "\n",
       "    .dataframe tbody tr th {\n",
       "        vertical-align: top;\n",
       "    }\n",
       "\n",
       "    .dataframe thead th {\n",
       "        text-align: right;\n",
       "    }\n",
       "</style>\n",
       "<table border=\"1\" class=\"dataframe\">\n",
       "  <thead>\n",
       "    <tr style=\"text-align: right;\">\n",
       "      <th></th>\n",
       "      <th>tweet</th>\n",
       "      <th>label</th>\n",
       "      <th>Unnamed: 2</th>\n",
       "      <th>Unnamed: 3</th>\n",
       "      <th>Unnamed: 4</th>\n",
       "      <th>Unnamed: 5</th>\n",
       "      <th>Unnamed: 6</th>\n",
       "    </tr>\n",
       "  </thead>\n",
       "  <tbody>\n",
       "    <tr>\n",
       "      <th>0</th>\n",
       "      <td>$RESERVED$ @$MENTION$: GAMEDAY] Fan ejected fr...</td>\n",
       "      <td>6</td>\n",
       "      <td>NaN</td>\n",
       "      <td>NaN</td>\n",
       "      <td>NaN</td>\n",
       "      <td>NaN</td>\n",
       "      <td>NaN</td>\n",
       "    </tr>\n",
       "    <tr>\n",
       "      <th>1</th>\n",
       "      <td>@$MENTION$ What is your stance on vaping?</td>\n",
       "      <td>6</td>\n",
       "      <td>NaN</td>\n",
       "      <td>NaN</td>\n",
       "      <td>NaN</td>\n",
       "      <td>NaN</td>\n",
       "      <td>NaN</td>\n",
       "    </tr>\n",
       "    <tr>\n",
       "      <th>2</th>\n",
       "      <td>Nicotine stans are getting brave</td>\n",
       "      <td>6</td>\n",
       "      <td>NaN</td>\n",
       "      <td>NaN</td>\n",
       "      <td>NaN</td>\n",
       "      <td>NaN</td>\n",
       "      <td>NaN</td>\n",
       "    </tr>\n",
       "    <tr>\n",
       "      <th>3</th>\n",
       "      <td>PULSE X BF Kit l by Tony B. and Vandy Vape l A...</td>\n",
       "      <td>6</td>\n",
       "      <td>NaN</td>\n",
       "      <td>NaN</td>\n",
       "      <td>NaN</td>\n",
       "      <td>NaN</td>\n",
       "      <td>NaN</td>\n",
       "    </tr>\n",
       "    <tr>\n",
       "      <th>4</th>\n",
       "      <td>$RESERVED$ @$MENTION$: FDA Takes $NUMBER$s of ...</td>\n",
       "      <td>6</td>\n",
       "      <td>NaN</td>\n",
       "      <td>NaN</td>\n",
       "      <td>NaN</td>\n",
       "      <td>NaN</td>\n",
       "      <td>NaN</td>\n",
       "    </tr>\n",
       "    <tr>\n",
       "      <th>...</th>\n",
       "      <td>...</td>\n",
       "      <td>...</td>\n",
       "      <td>...</td>\n",
       "      <td>...</td>\n",
       "      <td>...</td>\n",
       "      <td>...</td>\n",
       "      <td>...</td>\n",
       "    </tr>\n",
       "    <tr>\n",
       "      <th>2111</th>\n",
       "      <td>You are my nicotine, heroine, novocaine. Fvck....</td>\n",
       "      <td>-1</td>\n",
       "      <td>NaN</td>\n",
       "      <td>NaN</td>\n",
       "      <td>NaN</td>\n",
       "      <td>NaN</td>\n",
       "      <td>NaN</td>\n",
       "    </tr>\n",
       "    <tr>\n",
       "      <th>2112</th>\n",
       "      <td>@$MENTION$ Maybe but that would be as the assi...</td>\n",
       "      <td>-1</td>\n",
       "      <td>NaN</td>\n",
       "      <td>NaN</td>\n",
       "      <td>NaN</td>\n",
       "      <td>NaN</td>\n",
       "      <td>NaN</td>\n",
       "    </tr>\n",
       "    <tr>\n",
       "      <th>2113</th>\n",
       "      <td>@$MENTION$ Jasmine : star star they’re smoking...</td>\n",
       "      <td>-1</td>\n",
       "      <td>NaN</td>\n",
       "      <td>NaN</td>\n",
       "      <td>NaN</td>\n",
       "      <td>NaN</td>\n",
       "      <td>NaN</td>\n",
       "    </tr>\n",
       "    <tr>\n",
       "      <th>2114</th>\n",
       "      <td>$RESERVED$ @$MENTION$: Think you can smoke or ...</td>\n",
       "      <td>-1</td>\n",
       "      <td>NaN</td>\n",
       "      <td>NaN</td>\n",
       "      <td>NaN</td>\n",
       "      <td>NaN</td>\n",
       "      <td>NaN</td>\n",
       "    </tr>\n",
       "    <tr>\n",
       "      <th>2115</th>\n",
       "      <td>$RESERVED$ @$MENTION$: What you doing? Nothing...</td>\n",
       "      <td>-1</td>\n",
       "      <td>NaN</td>\n",
       "      <td>NaN</td>\n",
       "      <td>NaN</td>\n",
       "      <td>NaN</td>\n",
       "      <td>NaN</td>\n",
       "    </tr>\n",
       "  </tbody>\n",
       "</table>\n",
       "<p>2116 rows × 7 columns</p>\n",
       "</div>"
      ],
      "text/plain": [
       "                                                  tweet  ...  Unnamed: 6\n",
       "0     $RESERVED$ @$MENTION$: GAMEDAY] Fan ejected fr...  ...         NaN\n",
       "1             @$MENTION$ What is your stance on vaping?  ...         NaN\n",
       "2                      Nicotine stans are getting brave  ...         NaN\n",
       "3     PULSE X BF Kit l by Tony B. and Vandy Vape l A...  ...         NaN\n",
       "4     $RESERVED$ @$MENTION$: FDA Takes $NUMBER$s of ...  ...         NaN\n",
       "...                                                 ...  ...         ...\n",
       "2111  You are my nicotine, heroine, novocaine. Fvck....  ...         NaN\n",
       "2112  @$MENTION$ Maybe but that would be as the assi...  ...         NaN\n",
       "2113  @$MENTION$ Jasmine : star star they’re smoking...  ...         NaN\n",
       "2114  $RESERVED$ @$MENTION$: Think you can smoke or ...  ...         NaN\n",
       "2115  $RESERVED$ @$MENTION$: What you doing? Nothing...  ...         NaN\n",
       "\n",
       "[2116 rows x 7 columns]"
      ]
     },
     "execution_count": 19,
     "metadata": {},
     "output_type": "execute_result"
    }
   ],
   "source": [
    "data3.tweet=data3.tweet.str.replace(\"\\$RESERVED\\$\\$MENTION\\$\", '@$RESERVED$ $MENTION$',regex=True)\n",
    "data3.tweet=data3.tweet.str.replace(\"\\$MENTION\\$\", '@$MENTION$',regex=True)\n",
    "data3.tweet=data3.tweet.str.replace(\"\\$NUMBER\\$ \", '#$NUMBER$',regex=True)\n",
    "data3"
   ]
  },
  {
   "cell_type": "code",
   "execution_count": 20,
   "metadata": {
    "executionInfo": {
     "elapsed": 10,
     "status": "ok",
     "timestamp": 1635777202674,
     "user": {
      "displayName": "Penny Tiwari",
      "photoUrl": "https://lh3.googleusercontent.com/a/default-user=s64",
      "userId": "14007942765575684471"
     },
     "user_tz": -330
    },
    "id": "XmcS0-uFfqm1"
   },
   "outputs": [],
   "source": [
    "data3.tweet=data3.tweet.str.replace(\"\\$URL\\$ \", '$URL.com$',regex=True)"
   ]
  },
  {
   "cell_type": "code",
   "execution_count": 21,
   "metadata": {
    "executionInfo": {
     "elapsed": 10,
     "status": "ok",
     "timestamp": 1635777202675,
     "user": {
      "displayName": "Penny Tiwari",
      "photoUrl": "https://lh3.googleusercontent.com/a/default-user=s64",
      "userId": "14007942765575684471"
     },
     "user_tz": -330
    },
    "id": "GlVFdJn1fqjw"
   },
   "outputs": [],
   "source": [
    "data3.drop(['Unnamed: 2', 'Unnamed: 3', 'Unnamed: 4',\n",
    "       'Unnamed: 5', 'Unnamed: 6'],axis=1,inplace=True)"
   ]
  },
  {
   "cell_type": "code",
   "execution_count": 22,
   "metadata": {
    "executionInfo": {
     "elapsed": 9,
     "status": "ok",
     "timestamp": 1635777202675,
     "user": {
      "displayName": "Penny Tiwari",
      "photoUrl": "https://lh3.googleusercontent.com/a/default-user=s64",
      "userId": "14007942765575684471"
     },
     "user_tz": -330
    },
    "id": "aUN_W1zQfqgp"
   },
   "outputs": [],
   "source": [
    "data3.label=3"
   ]
  },
  {
   "cell_type": "code",
   "execution_count": 23,
   "metadata": {
    "executionInfo": {
     "elapsed": 9,
     "status": "ok",
     "timestamp": 1635777202676,
     "user": {
      "displayName": "Penny Tiwari",
      "photoUrl": "https://lh3.googleusercontent.com/a/default-user=s64",
      "userId": "14007942765575684471"
     },
     "user_tz": -330
    },
    "id": "b-3iSM9Nkm9T"
   },
   "outputs": [],
   "source": [
    "data3.dropna(inplace=True)"
   ]
  },
  {
   "cell_type": "code",
   "execution_count": 24,
   "metadata": {
    "colab": {
     "base_uri": "https://localhost:8080/",
     "height": 419
    },
    "executionInfo": {
     "elapsed": 9,
     "status": "ok",
     "timestamp": 1635777202676,
     "user": {
      "displayName": "Penny Tiwari",
      "photoUrl": "https://lh3.googleusercontent.com/a/default-user=s64",
      "userId": "14007942765575684471"
     },
     "user_tz": -330
    },
    "id": "dDkevCb_km5m",
    "outputId": "58ca5b80-c565-4af2-c785-84e46a1fa818"
   },
   "outputs": [
    {
     "data": {
      "text/html": [
       "<div>\n",
       "<style scoped>\n",
       "    .dataframe tbody tr th:only-of-type {\n",
       "        vertical-align: middle;\n",
       "    }\n",
       "\n",
       "    .dataframe tbody tr th {\n",
       "        vertical-align: top;\n",
       "    }\n",
       "\n",
       "    .dataframe thead th {\n",
       "        text-align: right;\n",
       "    }\n",
       "</style>\n",
       "<table border=\"1\" class=\"dataframe\">\n",
       "  <thead>\n",
       "    <tr style=\"text-align: right;\">\n",
       "      <th></th>\n",
       "      <th>tweet</th>\n",
       "      <th>label</th>\n",
       "    </tr>\n",
       "  </thead>\n",
       "  <tbody>\n",
       "    <tr>\n",
       "      <th>0</th>\n",
       "      <td>gameday  fan ejected from kyle field for va...</td>\n",
       "      <td>3</td>\n",
       "    </tr>\n",
       "    <tr>\n",
       "      <th>1</th>\n",
       "      <td>what is your stance on vaping</td>\n",
       "      <td>3</td>\n",
       "    </tr>\n",
       "    <tr>\n",
       "      <th>2</th>\n",
       "      <td>nicotine stans are getting brave</td>\n",
       "      <td>3</td>\n",
       "    </tr>\n",
       "    <tr>\n",
       "      <th>3</th>\n",
       "      <td>pulse x bf kit l by tony b  and vandy vape l a...</td>\n",
       "      <td>3</td>\n",
       "    </tr>\n",
       "    <tr>\n",
       "      <th>4</th>\n",
       "      <td>fda takes  s of documents from juul e cig m...</td>\n",
       "      <td>3</td>\n",
       "    </tr>\n",
       "    <tr>\n",
       "      <th>...</th>\n",
       "      <td>...</td>\n",
       "      <td>...</td>\n",
       "    </tr>\n",
       "    <tr>\n",
       "      <th>2111</th>\n",
       "      <td>you are my nicotine  heroine  novocaine  fvck ...</td>\n",
       "      <td>3</td>\n",
       "    </tr>\n",
       "    <tr>\n",
       "      <th>2112</th>\n",
       "      <td>maybe but that would be as the assistant smo...</td>\n",
       "      <td>3</td>\n",
       "    </tr>\n",
       "    <tr>\n",
       "      <th>2113</th>\n",
       "      <td>jasmine   star star theyre smoking outside y...</td>\n",
       "      <td>3</td>\n",
       "    </tr>\n",
       "    <tr>\n",
       "      <th>2114</th>\n",
       "      <td>think you can smoke or vape cannabis anywhe...</td>\n",
       "      <td>3</td>\n",
       "    </tr>\n",
       "    <tr>\n",
       "      <th>2115</th>\n",
       "      <td>what you doing  nothing   smoking a lil pur...</td>\n",
       "      <td>3</td>\n",
       "    </tr>\n",
       "  </tbody>\n",
       "</table>\n",
       "<p>2116 rows × 2 columns</p>\n",
       "</div>"
      ],
      "text/plain": [
       "                                                  tweet  label\n",
       "0        gameday  fan ejected from kyle field for va...      3\n",
       "1                        what is your stance on vaping       3\n",
       "2                      nicotine stans are getting brave      3\n",
       "3     pulse x bf kit l by tony b  and vandy vape l a...      3\n",
       "4        fda takes  s of documents from juul e cig m...      3\n",
       "...                                                 ...    ...\n",
       "2111  you are my nicotine  heroine  novocaine  fvck ...      3\n",
       "2112    maybe but that would be as the assistant smo...      3\n",
       "2113    jasmine   star star theyre smoking outside y...      3\n",
       "2114     think you can smoke or vape cannabis anywhe...      3\n",
       "2115     what you doing  nothing   smoking a lil pur...      3\n",
       "\n",
       "[2116 rows x 2 columns]"
      ]
     },
     "execution_count": 24,
     "metadata": {},
     "output_type": "execute_result"
    }
   ],
   "source": [
    "data3.tweet=data3.tweet.apply(cleaning)\n",
    "data3.to_csv(\"gold_corpus_rt.csv\")\n",
    "data3"
   ]
  },
  {
   "cell_type": "code",
   "execution_count": 25,
   "metadata": {
    "executionInfo": {
     "elapsed": 416,
     "status": "ok",
     "timestamp": 1635777225265,
     "user": {
      "displayName": "Penny Tiwari",
      "photoUrl": "https://lh3.googleusercontent.com/a/default-user=s64",
      "userId": "14007942765575684471"
     },
     "user_tz": -330
    },
    "id": "yElv8AUcuqb7"
   },
   "outputs": [],
   "source": [
    "mask=data2.label==2\n",
    "data7=data2.loc[mask]"
   ]
  },
  {
   "cell_type": "code",
   "execution_count": 28,
   "metadata": {
    "colab": {
     "base_uri": "https://localhost:8080/"
    },
    "executionInfo": {
     "elapsed": 419,
     "status": "ok",
     "timestamp": 1635777300617,
     "user": {
      "displayName": "Penny Tiwari",
      "photoUrl": "https://lh3.googleusercontent.com/a/default-user=s64",
      "userId": "14007942765575684471"
     },
     "user_tz": -330
    },
    "id": "1HSLlt-N65a8",
    "outputId": "3304462d-af7f-49a9-dc86-1ff814106fc0"
   },
   "outputs": [
    {
     "data": {
      "text/plain": [
       "(10000, 2)"
      ]
     },
     "execution_count": 28,
     "metadata": {},
     "output_type": "execute_result"
    }
   ],
   "source": [
    "o=np.random.randint(0,len(data7),(10000))\n",
    "data7=data7.iloc[o]\n",
    "data7.shape"
   ]
  },
  {
   "cell_type": "code",
   "execution_count": null,
   "metadata": {
    "id": "t3rHufZW65YZ"
   },
   "outputs": [],
   "source": []
  },
  {
   "cell_type": "code",
   "execution_count": 29,
   "metadata": {
    "colab": {
     "base_uri": "https://localhost:8080/"
    },
    "executionInfo": {
     "elapsed": 346,
     "status": "ok",
     "timestamp": 1635777306995,
     "user": {
      "displayName": "Penny Tiwari",
      "photoUrl": "https://lh3.googleusercontent.com/a/default-user=s64",
      "userId": "14007942765575684471"
     },
     "user_tz": -330
    },
    "id": "XU3JGp-wmScP",
    "outputId": "c06b224b-0419-48f4-81c7-b50c2233e242"
   },
   "outputs": [
    {
     "data": {
      "text/plain": [
       "2    10000\n",
       "4     7495\n",
       "3     2116\n",
       "Name: label, dtype: int64"
      ]
     },
     "execution_count": 29,
     "metadata": {},
     "output_type": "execute_result"
    }
   ],
   "source": [
    "data5=pd.concat([data6,data7,data3])\n",
    "data5.label.value_counts()"
   ]
  },
  {
   "cell_type": "code",
   "execution_count": 30,
   "metadata": {
    "colab": {
     "base_uri": "https://localhost:8080/"
    },
    "executionInfo": {
     "elapsed": 4,
     "status": "ok",
     "timestamp": 1635777307630,
     "user": {
      "displayName": "Penny Tiwari",
      "photoUrl": "https://lh3.googleusercontent.com/a/default-user=s64",
      "userId": "14007942765575684471"
     },
     "user_tz": -330
    },
    "id": "je_Pj9ucmb0Y",
    "outputId": "5bda1882-8d5d-402d-a83c-29fb77431cd0"
   },
   "outputs": [
    {
     "data": {
      "text/plain": [
       "(19611, 2)"
      ]
     },
     "execution_count": 30,
     "metadata": {},
     "output_type": "execute_result"
    }
   ],
   "source": [
    "data5.dropna(inplace=True)\n",
    "data5.shape"
   ]
  },
  {
   "cell_type": "code",
   "execution_count": 31,
   "metadata": {
    "executionInfo": {
     "elapsed": 3,
     "status": "ok",
     "timestamp": 1635777308166,
     "user": {
      "displayName": "Penny Tiwari",
      "photoUrl": "https://lh3.googleusercontent.com/a/default-user=s64",
      "userId": "14007942765575684471"
     },
     "user_tz": -330
    },
    "id": "P6tI5d40dtXg"
   },
   "outputs": [],
   "source": [
    "y=data5['label']\n",
    "x=data5['tweet']"
   ]
  },
  {
   "cell_type": "code",
   "execution_count": 32,
   "metadata": {
    "colab": {
     "base_uri": "https://localhost:8080/"
    },
    "executionInfo": {
     "elapsed": 2,
     "status": "ok",
     "timestamp": 1635777309825,
     "user": {
      "displayName": "Penny Tiwari",
      "photoUrl": "https://lh3.googleusercontent.com/a/default-user=s64",
      "userId": "14007942765575684471"
     },
     "user_tz": -330
    },
    "id": "MjgkVyTrdvCn",
    "outputId": "968b65b8-88d1-4fc7-9633-93705ca13835"
   },
   "outputs": [
    {
     "name": "stdout",
     "output_type": "stream",
     "text": [
      "(15688,) (15688,)\n",
      "(3923,) (3923,)\n"
     ]
    }
   ],
   "source": [
    "from sklearn.model_selection import train_test_split\n",
    "X_train, X_test, y_train, y_test = train_test_split(x, y, test_size=0.20, stratify=y)\n",
    "#X_train, X_cv, y_train, y_cv = train_test_split(X_train, y_train, test_size=0.20, stratify=y_train)\n",
    "\n",
    "print(X_train.shape, y_train.shape)\n",
    "#print(X_cv.shape, y_cv.shape)\n",
    "\n",
    "print(X_test.shape, y_test.shape)\n"
   ]
  },
  {
   "cell_type": "code",
   "execution_count": 33,
   "metadata": {
    "colab": {
     "base_uri": "https://localhost:8080/"
    },
    "executionInfo": {
     "elapsed": 4,
     "status": "ok",
     "timestamp": 1635777311551,
     "user": {
      "displayName": "Penny Tiwari",
      "photoUrl": "https://lh3.googleusercontent.com/a/default-user=s64",
      "userId": "14007942765575684471"
     },
     "user_tz": -330
    },
    "id": "ezTtfETY5e07",
    "outputId": "eeff00e9-9954-4b2f-e821-191879d319e2"
   },
   "outputs": [
    {
     "name": "stdout",
     "output_type": "stream",
     "text": [
      "{4: 1499, 2: 2001, 3: 423}\n"
     ]
    }
   ],
   "source": [
    "d={}\n",
    "for i in y_test:\n",
    "  if i not in d:\n",
    "    d[i]=1\n",
    "  else:\n",
    "    d[i]+=1\n",
    "print(d)"
   ]
  },
  {
   "cell_type": "code",
   "execution_count": 34,
   "metadata": {
    "executionInfo": {
     "elapsed": 707,
     "status": "ok",
     "timestamp": 1635777315975,
     "user": {
      "displayName": "Penny Tiwari",
      "photoUrl": "https://lh3.googleusercontent.com/a/default-user=s64",
      "userId": "14007942765575684471"
     },
     "user_tz": -330
    },
    "id": "qmnFY_12dwiO"
   },
   "outputs": [],
   "source": [
    "from sklearn.feature_extraction.text import TfidfVectorizer\n",
    "from sklearn.feature_extraction.text import CountVectorizer\n",
    "from sklearn.metrics import confusion_matrix\n",
    "from sklearn import metrics\n",
    "from sklearn.metrics import roc_curve, auc\n",
    "from sklearn.naive_bayes import MultinomialNB\n"
   ]
  },
  {
   "cell_type": "code",
   "execution_count": 35,
   "metadata": {
    "colab": {
     "base_uri": "https://localhost:8080/"
    },
    "executionInfo": {
     "elapsed": 72322,
     "status": "ok",
     "timestamp": 1635777392116,
     "user": {
      "displayName": "Penny Tiwari",
      "photoUrl": "https://lh3.googleusercontent.com/a/default-user=s64",
      "userId": "14007942765575684471"
     },
     "user_tz": -330
    },
    "id": "YaYzRSOOdx_a",
    "outputId": "706e7e5b-fb6d-43d2-a05f-f430d938fbd4"
   },
   "outputs": [
    {
     "name": "stdout",
     "output_type": "stream",
     "text": [
      "After Embedding vectorizations\n",
      "(15688, 512) (15688,)\n",
      "(3923, 512) (3923,)\n",
      "====================================================================================================\n"
     ]
    }
   ],
   "source": [
    "X_train_tweet = embed(list(X_train))\n",
    "#X_cv_tweet = embed(list(X_cv))\n",
    "\n",
    "X_test_tweet = embed(list(X_test))\n",
    "\n",
    "print(\"After Embedding vectorizations\")\n",
    "print(X_train_tweet.shape, y_train.shape)\n",
    "#print(X_cv_tweet.shape, y_cv.shape)\n",
    "print(X_test_tweet.shape, y_test.shape)\n",
    "print(\"=\"*100)"
   ]
  },
  {
   "cell_type": "code",
   "execution_count": 36,
   "metadata": {
    "executionInfo": {
     "elapsed": 15,
     "status": "ok",
     "timestamp": 1635777392117,
     "user": {
      "displayName": "Penny Tiwari",
      "photoUrl": "https://lh3.googleusercontent.com/a/default-user=s64",
      "userId": "14007942765575684471"
     },
     "user_tz": -330
    },
    "id": "mE5opeUfdzwp"
   },
   "outputs": [],
   "source": [
    "labels_=['neither','Tobacco','Suicide']"
   ]
  },
  {
   "cell_type": "code",
   "execution_count": 37,
   "metadata": {
    "executionInfo": {
     "elapsed": 11,
     "status": "ok",
     "timestamp": 1635777392118,
     "user": {
      "displayName": "Penny Tiwari",
      "photoUrl": "https://lh3.googleusercontent.com/a/default-user=s64",
      "userId": "14007942765575684471"
     },
     "user_tz": -330
    },
    "id": "QZLDK3KjvaRm"
   },
   "outputs": [],
   "source": [
    "from sklearn.multiclass import OneVsRestClassifier\n",
    "from sklearn.naive_bayes import MultinomialNB\n",
    "from sklearn.linear_model import LogisticRegression\n",
    "from sklearn.svm import LinearSVC\n",
    "from sklearn.ensemble import RandomForestRegressor\n",
    "from sklearn.ensemble import RandomForestClassifier\n",
    "from sklearn.metrics import confusion_matrix\n",
    "import joblib\n",
    "from sklearn.svm import SVC\n",
    "from sklearn.metrics import f1_score\n",
    "from sklearn.model_selection import GridSearchCV\n",
    "\n",
    "from sklearn.feature_extraction.text import CountVectorizer, TfidfVectorizer\n",
    "from sklearn import preprocessing\n",
    "from sklearn.model_selection import train_test_split, StratifiedKFold, KFold\n",
    "\n",
    "from sklearn.naive_bayes import MultinomialNB\n",
    "from sklearn.linear_model import SGDClassifier\n",
    "from sklearn.linear_model import LogisticRegression\n",
    "from sklearn.svm import LinearSVC\n",
    "from sklearn.ensemble import RandomForestClassifier, GradientBoostingClassifier\n",
    "\n",
    "from sklearn.metrics import classification_report\n",
    "from sklearn.metrics import confusion_matrix\n",
    "from sklearn.metrics import plot_confusion_matrix\n",
    "from sklearn.metrics import precision_recall_fscore_support as score"
   ]
  },
  {
   "cell_type": "code",
   "execution_count": 38,
   "metadata": {
    "executionInfo": {
     "elapsed": 11,
     "status": "ok",
     "timestamp": 1635777392119,
     "user": {
      "displayName": "Penny Tiwari",
      "photoUrl": "https://lh3.googleusercontent.com/a/default-user=s64",
      "userId": "14007942765575684471"
     },
     "user_tz": -330
    },
    "id": "UX3y9OCqvcZB"
   },
   "outputs": [],
   "source": [
    "def train_test_model(model, X_train, X_test, y_train, y_test,labels):\n",
    "    print('Start training...', end='')\n",
    "    model.fit(X_train, y_train)\n",
    "    print('done!')\n",
    "    print(\"=\"*80)\n",
    "    print('Start testing...', end='')\n",
    "    predictions = model.predict(X_test)\n",
    "    accuracy = model.score(X_test, y_test)\n",
    "    metrics_report = classification_report(y_test, predictions, target_names=labels)\n",
    "    precision, recall, fscore, train_support = score(y_test, predictions, average='weighted')\n",
    "    print('done!')\n",
    "    print(\"=\"*80)\n",
    "    return predictions, accuracy, metrics_report, (precision, recall, fscore)"
   ]
  },
  {
   "cell_type": "code",
   "execution_count": 39,
   "metadata": {
    "colab": {
     "base_uri": "https://localhost:8080/",
     "height": 598
    },
    "executionInfo": {
     "elapsed": 4258,
     "status": "ok",
     "timestamp": 1635777396367,
     "user": {
      "displayName": "Penny Tiwari",
      "photoUrl": "https://lh3.googleusercontent.com/a/default-user=s64",
      "userId": "14007942765575684471"
     },
     "user_tz": -330
    },
    "id": "LxosEqfevkVz",
    "outputId": "08af7821-87a2-4b5c-8699-efdec8812f04"
   },
   "outputs": [
    {
     "name": "stdout",
     "output_type": "stream",
     "text": [
      "Start training...done!\n",
      "================================================================================\n",
      "Start testing...done!\n",
      "================================================================================\n",
      "accuracy: 0.9773132806525618\n",
      "====================================================================================================\n",
      "              precision    recall  f1-score   support\n",
      "\n",
      "     neither       0.97      0.99      0.98      2001\n",
      "     Tobacco       0.98      0.95      0.96       423\n",
      "     Suicide       0.99      0.97      0.98      1499\n",
      "\n",
      "    accuracy                           0.98      3923\n",
      "   macro avg       0.98      0.97      0.97      3923\n",
      "weighted avg       0.98      0.98      0.98      3923\n",
      "\n"
     ]
    },
    {
     "data": {
      "text/plain": [
       "<sklearn.metrics._plot.confusion_matrix.ConfusionMatrixDisplay at 0x7fe089c2dc10>"
      ]
     },
     "execution_count": 39,
     "metadata": {},
     "output_type": "execute_result"
    },
    {
     "data": {
      "image/png": "[encoded data removed]",
      "text/plain": [
       "<Figure size 432x288 with 2 Axes>"
      ]
     },
     "metadata": {
      "needs_background": "light"
     },
     "output_type": "display_data"
    }
   ],
   "source": [
    "log_model=LogisticRegression(penalty='l2',max_iter=1000)\n",
    "predictions, accuracy, metrics_report, log_prf = train_test_model(log_model, X_train_tweet, X_test_tweet, y_train, y_test, labels_)\n",
    "\n",
    "\n",
    "print('accuracy: {}'.format(accuracy))\n",
    "print('='*100)\n",
    "print(metrics_report)\n",
    "\n",
    "plot_confusion_matrix(log_model, X_test_tweet, y_test, display_labels=labels_, xticks_rotation='vertical', cmap=\"BuPu\")"
   ]
  },
  {
   "cell_type": "code",
   "execution_count": 40,
   "metadata": {
    "colab": {
     "base_uri": "https://localhost:8080/",
     "height": 598
    },
    "executionInfo": {
     "elapsed": 980,
     "status": "ok",
     "timestamp": 1635777397333,
     "user": {
      "displayName": "Penny Tiwari",
      "photoUrl": "https://lh3.googleusercontent.com/a/default-user=s64",
      "userId": "14007942765575684471"
     },
     "user_tz": -330
    },
    "id": "Z-tByhUtvmOx",
    "outputId": "7b2d57cd-51c3-477c-9b72-54b2fb5e8a2e"
   },
   "outputs": [
    {
     "name": "stdout",
     "output_type": "stream",
     "text": [
      "Start training...done!\n",
      "================================================================================\n",
      "Start testing...done!\n",
      "================================================================================\n",
      "accuracy: 0.9770583736936018\n",
      "====================================================================================================\n",
      "              precision    recall  f1-score   support\n",
      "\n",
      "     neither       0.97      0.99      0.98      2001\n",
      "     Tobacco       0.97      0.96      0.96       423\n",
      "     Suicide       0.99      0.97      0.98      1499\n",
      "\n",
      "    accuracy                           0.98      3923\n",
      "   macro avg       0.98      0.97      0.97      3923\n",
      "weighted avg       0.98      0.98      0.98      3923\n",
      "\n"
     ]
    },
    {
     "data": {
      "text/plain": [
       "<sklearn.metrics._plot.confusion_matrix.ConfusionMatrixDisplay at 0x7fe083fd5890>"
      ]
     },
     "execution_count": 40,
     "metadata": {},
     "output_type": "execute_result"
    },
    {
     "data": {
      "image/png": "[encoded data removed]",
      "text/plain": [
       "<Figure size 432x288 with 2 Axes>"
      ]
     },
     "metadata": {
      "needs_background": "light"
     },
     "output_type": "display_data"
    }
   ],
   "source": [
    "svm = LinearSVC(class_weight='balanced', verbose=False, max_iter=10000, tol=1e-4, C=0.1)\n",
    "\n",
    "predictions, accuracy, metrics_report, svm_prf = train_test_model(svm, X_train_tweet, X_test_tweet, y_train, y_test, labels_)\n",
    "\n",
    "\n",
    "print('accuracy: {}'.format(accuracy))\n",
    "print('='*100)\n",
    "print(metrics_report)\n",
    "\n",
    "plot_confusion_matrix(svm, X_test_tweet, y_test, display_labels=labels_, xticks_rotation='vertical', cmap=\"BuPu\")"
   ]
  },
  {
   "cell_type": "code",
   "execution_count": null,
   "metadata": {
    "id": "KiOTgPH3vq20"
   },
   "outputs": [],
   "source": []
  },
  {
   "cell_type": "code",
   "execution_count": null,
   "metadata": {
    "id": "qIiVt1vRwGtP"
   },
   "outputs": [],
   "source": []
  },
  {
   "cell_type": "code",
   "execution_count": null,
   "metadata": {
    "id": "XyoJsCukwGqP"
   },
   "outputs": [],
   "source": []
  },
  {
   "cell_type": "code",
   "execution_count": null,
   "metadata": {
    "id": "cNnylTw4wGnY"
   },
   "outputs": [],
   "source": []
  },
  {
   "cell_type": "code",
   "execution_count": null,
   "metadata": {
    "id": "2hjyvQ--wGkh"
   },
   "outputs": [],
   "source": []
  },
  {
   "cell_type": "code",
   "execution_count": null,
   "metadata": {
    "id": "rJZQO1sAwGhq"
   },
   "outputs": [],
   "source": []
  },
  {
   "cell_type": "code",
   "execution_count": null,
   "metadata": {
    "id": "tuTeAWoewGei"
   },
   "outputs": [],
   "source": []
  },
  {
   "cell_type": "code",
   "execution_count": null,
   "metadata": {
    "id": "N6Dgem5TwGbq"
   },
   "outputs": [],
   "source": []
  },
  {
   "cell_type": "code",
   "execution_count": null,
   "metadata": {
    "id": "a1udSbBywGYz"
   },
   "outputs": [],
   "source": []
  },
  {
   "cell_type": "code",
   "execution_count": null,
   "metadata": {
    "id": "Kd2NObRvwGWR"
   },
   "outputs": [],
   "source": []
  },
  {
   "cell_type": "code",
   "execution_count": null,
   "metadata": {
    "id": "ZX_Ij0WHwGQe"
   },
   "outputs": [],
   "source": []
  },
  {
   "cell_type": "code",
   "execution_count": null,
   "metadata": {
    "id": "rQ2YkNR7wGNT"
   },
   "outputs": [],
   "source": []
  },
  {
   "cell_type": "code",
   "execution_count": null,
   "metadata": {
    "id": "JexfOLZ9wO_4"
   },
   "outputs": [],
   "source": []
  },
  {
   "cell_type": "code",
   "execution_count": null,
   "metadata": {
    "id": "n3GFoCAlwO8x"
   },
   "outputs": [],
   "source": []
  },
  {
   "cell_type": "code",
   "execution_count": null,
   "metadata": {
    "id": "hwJt2YgywO5o"
   },
   "outputs": [],
   "source": []
  },
  {
   "cell_type": "code",
   "execution_count": null,
   "metadata": {
    "id": "OpePquEwwO27"
   },
   "outputs": [],
   "source": []
  }
 ],
 "metadata": {
  "accelerator": "GPU",
  "colab": {
   "authorship_tag": "ABX9TyMaRcd2XHX1taGDhjPNRrOJ",
   "mount_file_id": "12AQKWsxbNuM7hQ8M1uXAsnysxCDuMwN_",
   "name": "Suicide.ipynb",
   "provenance": []
  },
  "kernelspec": {
   "display_name": "Python 3 (ipykernel)",
   "language": "python",
   "name": "python3"
  },
  "language_info": {
   "codemirror_mode": {
    "name": "ipython",
    "version": 3
   },
   "file_extension": ".py",
   "mimetype": "text/x-python",
   "name": "python",
   "nbconvert_exporter": "python",
   "pygments_lexer": "ipython3",
   "version": "3.9.7"
  }
 },
 "nbformat": 4,
 "nbformat_minor": 1
}
