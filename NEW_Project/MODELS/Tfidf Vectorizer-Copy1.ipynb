{
 "cells": [
  {
   "cell_type": "code",
   "execution_count": 1,
   "id": "b629242c",
   "metadata": {},
   "outputs": [],
   "source": [
    "import pandas as pd\n",
    "import numpy as np\n",
    "import re"
   ]
  },
  {
   "cell_type": "code",
   "execution_count": 3,
   "id": "514d20d9",
   "metadata": {},
   "outputs": [
    {
     "data": {
      "text/html": [
       "<div>\n",
       "<style scoped>\n",
       "    .dataframe tbody tr th:only-of-type {\n",
       "        vertical-align: middle;\n",
       "    }\n",
       "\n",
       "    .dataframe tbody tr th {\n",
       "        vertical-align: top;\n",
       "    }\n",
       "\n",
       "    .dataframe thead th {\n",
       "        text-align: right;\n",
       "    }\n",
       "</style>\n",
       "<table border=\"1\" class=\"dataframe\">\n",
       "  <thead>\n",
       "    <tr style=\"text-align: right;\">\n",
       "      <th></th>\n",
       "      <th>Unnamed: 0</th>\n",
       "      <th>tweet</th>\n",
       "      <th>label</th>\n",
       "    </tr>\n",
       "  </thead>\n",
       "  <tbody>\n",
       "    <tr>\n",
       "      <th>0</th>\n",
       "      <td>0</td>\n",
       "      <td>as a woman you should not complain abo...</td>\n",
       "      <td>2</td>\n",
       "    </tr>\n",
       "    <tr>\n",
       "      <th>1</th>\n",
       "      <td>1</td>\n",
       "      <td>boy dats cold   tyga dwn bad for cuf...</td>\n",
       "      <td>1</td>\n",
       "    </tr>\n",
       "    <tr>\n",
       "      <th>2</th>\n",
       "      <td>2</td>\n",
       "      <td>dawg         you ever fuck a bitch a...</td>\n",
       "      <td>1</td>\n",
       "    </tr>\n",
       "    <tr>\n",
       "      <th>3</th>\n",
       "      <td>3</td>\n",
       "      <td>she look like a tranny</td>\n",
       "      <td>1</td>\n",
       "    </tr>\n",
       "    <tr>\n",
       "      <th>4</th>\n",
       "      <td>4</td>\n",
       "      <td>the shit you hear about me m...</td>\n",
       "      <td>1</td>\n",
       "    </tr>\n",
       "    <tr>\n",
       "      <th>...</th>\n",
       "      <td>...</td>\n",
       "      <td>...</td>\n",
       "      <td>...</td>\n",
       "    </tr>\n",
       "    <tr>\n",
       "      <th>87760</th>\n",
       "      <td>14609</td>\n",
       "      <td>the msm will never repo  on themselves or he...</td>\n",
       "      <td>0</td>\n",
       "    </tr>\n",
       "    <tr>\n",
       "      <th>87761</th>\n",
       "      <td>14610</td>\n",
       "      <td>fucking retard</td>\n",
       "      <td>0</td>\n",
       "    </tr>\n",
       "    <tr>\n",
       "      <th>87762</th>\n",
       "      <td>14611</td>\n",
       "      <td>i was routinely suspended for saying fuck  a...</td>\n",
       "      <td>0</td>\n",
       "    </tr>\n",
       "    <tr>\n",
       "      <th>87763</th>\n",
       "      <td>14612</td>\n",
       "      <td>they got me for dropping the cunt bomb    a ...</td>\n",
       "      <td>0</td>\n",
       "    </tr>\n",
       "    <tr>\n",
       "      <th>87764</th>\n",
       "      <td>14613</td>\n",
       "      <td>how absolutely unbelievably fascinating  a p...</td>\n",
       "      <td>0</td>\n",
       "    </tr>\n",
       "  </tbody>\n",
       "</table>\n",
       "<p>87765 rows × 3 columns</p>\n",
       "</div>"
      ],
      "text/plain": [
       "       Unnamed: 0                                              tweet  label\n",
       "0               0          as a woman you should not complain abo...      2\n",
       "1               1            boy dats cold   tyga dwn bad for cuf...      1\n",
       "2               2            dawg         you ever fuck a bitch a...      1\n",
       "3               3                             she look like a tranny      1\n",
       "4               4                    the shit you hear about me m...      1\n",
       "...           ...                                                ...    ...\n",
       "87760       14609    the msm will never repo  on themselves or he...      0\n",
       "87761       14610                                     fucking retard      0\n",
       "87762       14611    i was routinely suspended for saying fuck  a...      0\n",
       "87763       14612    they got me for dropping the cunt bomb    a ...      0\n",
       "87764       14613    how absolutely unbelievably fascinating  a p...      0\n",
       "\n",
       "[87765 rows x 3 columns]"
      ]
     },
     "execution_count": 3,
     "metadata": {},
     "output_type": "execute_result"
    }
   ],
   "source": [
    "data=pd.read_csv(\"DATA_Reddit_Gab.csv\")\n",
    "data"
   ]
  },
  {
   "cell_type": "code",
   "execution_count": 4,
   "id": "2fa8a00e",
   "metadata": {},
   "outputs": [
    {
     "data": {
      "text/html": [
       "<div>\n",
       "<style scoped>\n",
       "    .dataframe tbody tr th:only-of-type {\n",
       "        vertical-align: middle;\n",
       "    }\n",
       "\n",
       "    .dataframe tbody tr th {\n",
       "        vertical-align: top;\n",
       "    }\n",
       "\n",
       "    .dataframe thead th {\n",
       "        text-align: right;\n",
       "    }\n",
       "</style>\n",
       "<table border=\"1\" class=\"dataframe\">\n",
       "  <thead>\n",
       "    <tr style=\"text-align: right;\">\n",
       "      <th></th>\n",
       "      <th>tweet</th>\n",
       "      <th>label</th>\n",
       "    </tr>\n",
       "  </thead>\n",
       "  <tbody>\n",
       "    <tr>\n",
       "      <th>0</th>\n",
       "      <td>as a woman you should not complain abo...</td>\n",
       "      <td>2</td>\n",
       "    </tr>\n",
       "    <tr>\n",
       "      <th>1</th>\n",
       "      <td>boy dats cold   tyga dwn bad for cuf...</td>\n",
       "      <td>1</td>\n",
       "    </tr>\n",
       "    <tr>\n",
       "      <th>2</th>\n",
       "      <td>dawg         you ever fuck a bitch a...</td>\n",
       "      <td>1</td>\n",
       "    </tr>\n",
       "    <tr>\n",
       "      <th>3</th>\n",
       "      <td>she look like a tranny</td>\n",
       "      <td>1</td>\n",
       "    </tr>\n",
       "    <tr>\n",
       "      <th>4</th>\n",
       "      <td>the shit you hear about me m...</td>\n",
       "      <td>1</td>\n",
       "    </tr>\n",
       "    <tr>\n",
       "      <th>...</th>\n",
       "      <td>...</td>\n",
       "      <td>...</td>\n",
       "    </tr>\n",
       "    <tr>\n",
       "      <th>87760</th>\n",
       "      <td>the msm will never repo  on themselves or he...</td>\n",
       "      <td>0</td>\n",
       "    </tr>\n",
       "    <tr>\n",
       "      <th>87761</th>\n",
       "      <td>fucking retard</td>\n",
       "      <td>0</td>\n",
       "    </tr>\n",
       "    <tr>\n",
       "      <th>87762</th>\n",
       "      <td>i was routinely suspended for saying fuck  a...</td>\n",
       "      <td>0</td>\n",
       "    </tr>\n",
       "    <tr>\n",
       "      <th>87763</th>\n",
       "      <td>they got me for dropping the cunt bomb    a ...</td>\n",
       "      <td>0</td>\n",
       "    </tr>\n",
       "    <tr>\n",
       "      <th>87764</th>\n",
       "      <td>how absolutely unbelievably fascinating  a p...</td>\n",
       "      <td>0</td>\n",
       "    </tr>\n",
       "  </tbody>\n",
       "</table>\n",
       "<p>87765 rows × 2 columns</p>\n",
       "</div>"
      ],
      "text/plain": [
       "                                                   tweet  label\n",
       "0              as a woman you should not complain abo...      2\n",
       "1                boy dats cold   tyga dwn bad for cuf...      1\n",
       "2                dawg         you ever fuck a bitch a...      1\n",
       "3                                 she look like a tranny      1\n",
       "4                        the shit you hear about me m...      1\n",
       "...                                                  ...    ...\n",
       "87760    the msm will never repo  on themselves or he...      0\n",
       "87761                                     fucking retard      0\n",
       "87762    i was routinely suspended for saying fuck  a...      0\n",
       "87763    they got me for dropping the cunt bomb    a ...      0\n",
       "87764    how absolutely unbelievably fascinating  a p...      0\n",
       "\n",
       "[87765 rows x 2 columns]"
      ]
     },
     "execution_count": 4,
     "metadata": {},
     "output_type": "execute_result"
    }
   ],
   "source": [
    "data.drop(\"Unnamed: 0\",axis=1,inplace=True)\n",
    "data"
   ]
  },
  {
   "cell_type": "code",
   "execution_count": 5,
   "id": "6300fd90",
   "metadata": {},
   "outputs": [
    {
     "data": {
      "text/html": [
       "<div>\n",
       "<style scoped>\n",
       "    .dataframe tbody tr th:only-of-type {\n",
       "        vertical-align: middle;\n",
       "    }\n",
       "\n",
       "    .dataframe tbody tr th {\n",
       "        vertical-align: top;\n",
       "    }\n",
       "\n",
       "    .dataframe thead th {\n",
       "        text-align: right;\n",
       "    }\n",
       "</style>\n",
       "<table border=\"1\" class=\"dataframe\">\n",
       "  <thead>\n",
       "    <tr style=\"text-align: right;\">\n",
       "      <th></th>\n",
       "      <th>tweet</th>\n",
       "      <th>label</th>\n",
       "    </tr>\n",
       "  </thead>\n",
       "  <tbody>\n",
       "    <tr>\n",
       "      <th>0</th>\n",
       "      <td>as a woman you should not complain abo...</td>\n",
       "      <td>2</td>\n",
       "    </tr>\n",
       "    <tr>\n",
       "      <th>1</th>\n",
       "      <td>boy dats cold   tyga dwn bad for cuf...</td>\n",
       "      <td>1</td>\n",
       "    </tr>\n",
       "    <tr>\n",
       "      <th>2</th>\n",
       "      <td>dawg         you ever fuck a bitch a...</td>\n",
       "      <td>1</td>\n",
       "    </tr>\n",
       "    <tr>\n",
       "      <th>3</th>\n",
       "      <td>she look like a tranny</td>\n",
       "      <td>1</td>\n",
       "    </tr>\n",
       "    <tr>\n",
       "      <th>4</th>\n",
       "      <td>the shit you hear about me m...</td>\n",
       "      <td>1</td>\n",
       "    </tr>\n",
       "    <tr>\n",
       "      <th>...</th>\n",
       "      <td>...</td>\n",
       "      <td>...</td>\n",
       "    </tr>\n",
       "    <tr>\n",
       "      <th>87760</th>\n",
       "      <td>the msm will never repo  on themselves or he...</td>\n",
       "      <td>0</td>\n",
       "    </tr>\n",
       "    <tr>\n",
       "      <th>87761</th>\n",
       "      <td>fucking retard</td>\n",
       "      <td>0</td>\n",
       "    </tr>\n",
       "    <tr>\n",
       "      <th>87762</th>\n",
       "      <td>i was routinely suspended for saying fuck  a...</td>\n",
       "      <td>0</td>\n",
       "    </tr>\n",
       "    <tr>\n",
       "      <th>87763</th>\n",
       "      <td>they got me for dropping the cunt bomb    a ...</td>\n",
       "      <td>0</td>\n",
       "    </tr>\n",
       "    <tr>\n",
       "      <th>87764</th>\n",
       "      <td>how absolutely unbelievably fascinating  a p...</td>\n",
       "      <td>0</td>\n",
       "    </tr>\n",
       "  </tbody>\n",
       "</table>\n",
       "<p>87763 rows × 2 columns</p>\n",
       "</div>"
      ],
      "text/plain": [
       "                                                   tweet  label\n",
       "0              as a woman you should not complain abo...      2\n",
       "1                boy dats cold   tyga dwn bad for cuf...      1\n",
       "2                dawg         you ever fuck a bitch a...      1\n",
       "3                                 she look like a tranny      1\n",
       "4                        the shit you hear about me m...      1\n",
       "...                                                  ...    ...\n",
       "87760    the msm will never repo  on themselves or he...      0\n",
       "87761                                     fucking retard      0\n",
       "87762    i was routinely suspended for saying fuck  a...      0\n",
       "87763    they got me for dropping the cunt bomb    a ...      0\n",
       "87764    how absolutely unbelievably fascinating  a p...      0\n",
       "\n",
       "[87763 rows x 2 columns]"
      ]
     },
     "execution_count": 5,
     "metadata": {},
     "output_type": "execute_result"
    }
   ],
   "source": [
    "data.dropna(inplace=True)\n",
    "data"
   ]
  },
  {
   "cell_type": "code",
   "execution_count": 17,
   "id": "a8c3a6ec",
   "metadata": {},
   "outputs": [
    {
     "data": {
      "text/plain": [
       "2    30454\n",
       "1    28446\n",
       "0    26749\n",
       "3     2114\n",
       "Name: label, dtype: int64"
      ]
     },
     "execution_count": 17,
     "metadata": {},
     "output_type": "execute_result"
    }
   ],
   "source": [
    "data.label.value_counts()"
   ]
  },
  {
   "cell_type": "code",
   "execution_count": 18,
   "id": "a0493018",
   "metadata": {},
   "outputs": [
    {
     "data": {
      "text/plain": [
       "2    30454\n",
       "1    28446\n",
       "0    26749\n",
       "Name: label, dtype: int64"
      ]
     },
     "execution_count": 18,
     "metadata": {},
     "output_type": "execute_result"
    }
   ],
   "source": [
    "mask=data.label==3\n",
    "data=data[~mask]\n",
    "data.label.value_counts()"
   ]
  },
  {
   "cell_type": "code",
   "execution_count": 20,
   "id": "8adddc54",
   "metadata": {},
   "outputs": [],
   "source": [
    "data.to_csv(\"new_merged_preprocessed_data.csv\")"
   ]
  },
  {
   "cell_type": "code",
   "execution_count": 19,
   "id": "66dda63b",
   "metadata": {},
   "outputs": [],
   "source": [
    "y=data['label']\n",
    "x=data['tweet']"
   ]
  },
  {
   "cell_type": "code",
   "execution_count": 20,
   "id": "b86f53ef",
   "metadata": {},
   "outputs": [
    {
     "name": "stdout",
     "output_type": "stream",
     "text": [
      "(64236,) (64236,)\n",
      "(21413,) (21413,)\n"
     ]
    }
   ],
   "source": [
    "from sklearn.model_selection import train_test_split\n",
    "X_train, X_test, y_train, y_test = train_test_split(x, y, test_size=0.25, stratify=y)\n",
    "\n",
    "\n",
    "print(X_train.shape, y_train.shape)\n",
    "\n",
    "print(X_test.shape, y_test.shape)"
   ]
  },
  {
   "cell_type": "code",
   "execution_count": 21,
   "id": "952a84be",
   "metadata": {},
   "outputs": [],
   "source": [
    "from sklearn.feature_extraction.text import TfidfVectorizer\n",
    "from sklearn.feature_extraction.text import CountVectorizer\n",
    "from sklearn.metrics import confusion_matrix\n",
    "from sklearn import metrics\n",
    "from sklearn.metrics import roc_curve, auc\n",
    "from sklearn.naive_bayes import MultinomialNB\n"
   ]
  },
  {
   "cell_type": "code",
   "execution_count": 22,
   "id": "cd167643",
   "metadata": {},
   "outputs": [
    {
     "name": "stdout",
     "output_type": "stream",
     "text": [
      "After TFIDF vectorizations\n",
      "(64236, 2147365) (64236,)\n",
      "(21413, 2147365) (21413,)\n",
      "====================================================================================================\n"
     ]
    }
   ],
   "source": [
    "\n",
    "#fitting tfidf vectorizer for set \n",
    "vectorizer_tfidf1 = TfidfVectorizer(min_df=1,ngram_range=(1,4))\n",
    "vectorizer_tfidf1.fit(X_train.values) \n",
    "\n",
    "\n",
    "X_train_tweet_tfidf = vectorizer_tfidf1.transform(X_train.values)\n",
    "\n",
    "X_test_tweet_tfidf = vectorizer_tfidf1.transform(X_test.values)\n",
    "\n",
    "print(\"After TFIDF vectorizations\")\n",
    "print(X_train_tweet_tfidf.shape, y_train.shape)\n",
    "\n",
    "print(X_test_tweet_tfidf.shape, y_test.shape)\n",
    "print(\"=\"*100)"
   ]
  },
  {
   "cell_type": "code",
   "execution_count": 23,
   "id": "6c4ab0fd",
   "metadata": {},
   "outputs": [],
   "source": [
    "from sklearn.multiclass import OneVsRestClassifier\n",
    "from sklearn.naive_bayes import MultinomialNB\n",
    "from sklearn.linear_model import LogisticRegression\n",
    "from sklearn.svm import LinearSVC\n",
    "from sklearn.ensemble import RandomForestRegressor\n",
    "from sklearn.ensemble import RandomForestClassifier\n",
    "from sklearn.metrics import confusion_matrix\n",
    "import joblib\n",
    "from sklearn.svm import SVC\n",
    "from sklearn.metrics import f1_score\n",
    "from sklearn.model_selection import GridSearchCV\n",
    "\n",
    "from sklearn.feature_extraction.text import CountVectorizer, TfidfVectorizer\n",
    "from sklearn import preprocessing\n",
    "from sklearn.model_selection import train_test_split, StratifiedKFold, KFold\n",
    "\n",
    "from sklearn.naive_bayes import MultinomialNB\n",
    "from sklearn.linear_model import SGDClassifier\n",
    "from sklearn.linear_model import LogisticRegression\n",
    "from sklearn.svm import LinearSVC\n",
    "from sklearn.ensemble import RandomForestClassifier, GradientBoostingClassifier\n",
    "\n",
    "from sklearn.metrics import classification_report\n",
    "from sklearn.metrics import confusion_matrix\n",
    "from sklearn.metrics import plot_confusion_matrix\n",
    "from sklearn.metrics import precision_recall_fscore_support as score"
   ]
  },
  {
   "cell_type": "code",
   "execution_count": 24,
   "id": "2efd671b",
   "metadata": {},
   "outputs": [],
   "source": [
    "def train_test_model(model, X_train, X_test, y_train, y_test,labels):\n",
    "    print('Start training...', end='')\n",
    "    model.fit(X_train, y_train)\n",
    "    print('done!')\n",
    "    print(\"=\"*80)\n",
    "    print('Start testing...', end='')\n",
    "    predictions = model.predict(X_test)\n",
    "    accuracy = model.score(X_test, y_test)\n",
    "    metrics_report = classification_report(y_test, predictions, target_names=labels)\n",
    "    precision, recall, fscore, train_support = score(y_test, predictions, average='weighted')\n",
    "    print('done!')\n",
    "    print(\"=\"*80)\n",
    "    return predictions, accuracy, metrics_report, (precision, recall, fscore)"
   ]
  },
  {
   "cell_type": "code",
   "execution_count": 25,
   "id": "2d510611",
   "metadata": {},
   "outputs": [],
   "source": [
    "labels_=['hatefull','offensive','neither','Tobacco']"
   ]
  },
  {
   "cell_type": "code",
   "execution_count": 27,
   "id": "711b61e3",
   "metadata": {},
   "outputs": [],
   "source": [
    "labels_=['hatefull','offensive','neither']"
   ]
  },
  {
   "cell_type": "code",
   "execution_count": 28,
   "id": "acff12ed",
   "metadata": {},
   "outputs": [
    {
     "name": "stdout",
     "output_type": "stream",
     "text": [
      "Start training...done!\n",
      "================================================================================\n",
      "Start testing...done!\n",
      "================================================================================\n",
      "accuracy: 0.8221641059169663\n",
      "====================================================================================================\n",
      "              precision    recall  f1-score   support\n",
      "\n",
      "    hatefull       0.79      0.87      0.83      6687\n",
      "   offensive       0.84      0.79      0.82      7112\n",
      "     neither       0.83      0.82      0.82      7614\n",
      "\n",
      "    accuracy                           0.82     21413\n",
      "   macro avg       0.82      0.82      0.82     21413\n",
      "weighted avg       0.82      0.82      0.82     21413\n",
      "\n"
     ]
    },
    {
     "data": {
      "text/plain": [
       "<sklearn.metrics._plot.confusion_matrix.ConfusionMatrixDisplay at 0x7fa2ffe44710>"
      ]
     },
     "execution_count": 28,
     "metadata": {},
     "output_type": "execute_result"
    },
    {
     "data": {
      "image/png": "[encoded data removed]",
      "text/plain": [
       "<Figure size 432x288 with 2 Axes>"
      ]
     },
     "metadata": {
      "needs_background": "light"
     },
     "output_type": "display_data"
    }
   ],
   "source": [
    "log_model=LogisticRegression(penalty='l2',max_iter=1000)\n",
    "predictions, accuracy, metrics_report, log_prf = train_test_model(log_model, X_train_tweet_tfidf, X_test_tweet_tfidf, y_train, y_test, labels_)\n",
    "\n",
    "\n",
    "print('accuracy: {}'.format(accuracy))\n",
    "print('='*100)\n",
    "print(metrics_report)\n",
    "\n",
    "plot_confusion_matrix(log_model, X_test_tweet_tfidf, y_test, display_labels=labels_, xticks_rotation='vertical', cmap=\"BuPu\")"
   ]
  },
  {
   "cell_type": "code",
   "execution_count": 29,
   "id": "4add963e",
   "metadata": {},
   "outputs": [
    {
     "name": "stdout",
     "output_type": "stream",
     "text": [
      "Start training...done!\n",
      "================================================================================\n",
      "Start testing...done!\n",
      "================================================================================\n",
      "accuracy: 0.7988138046980806\n",
      "====================================================================================================\n",
      "              precision    recall  f1-score   support\n",
      "\n",
      "    hatefull       0.78      0.86      0.82      6687\n",
      "   offensive       0.83      0.73      0.78      7112\n",
      "     neither       0.79      0.81      0.80      7614\n",
      "\n",
      "    accuracy                           0.80     21413\n",
      "   macro avg       0.80      0.80      0.80     21413\n",
      "weighted avg       0.80      0.80      0.80     21413\n",
      "\n"
     ]
    },
    {
     "data": {
      "text/plain": [
       "<sklearn.metrics._plot.confusion_matrix.ConfusionMatrixDisplay at 0x7fa2fecc9a90>"
      ]
     },
     "execution_count": 29,
     "metadata": {},
     "output_type": "execute_result"
    },
    {
     "data": {
      "image/png": "[encoded data removed]",
      "text/plain": [
       "<Figure size 432x288 with 2 Axes>"
      ]
     },
     "metadata": {
      "needs_background": "light"
     },
     "output_type": "display_data"
    }
   ],
   "source": [
    "svm = LinearSVC(class_weight='balanced', verbose=False, max_iter=10000, tol=1e-4, C=0.1)\n",
    "\n",
    "predictions, accuracy, metrics_report, svm_prf = train_test_model(svm, X_train_tweet_tfidf, X_test_tweet_tfidf, y_train, y_test, labels_)\n",
    "\n",
    "\n",
    "print('accuracy: {}'.format(accuracy))\n",
    "print('='*100)\n",
    "print(metrics_report)\n",
    "\n",
    "plot_confusion_matrix(svm, X_test_tweet_tfidf, y_test, display_labels=labels_, xticks_rotation='vertical', cmap=\"BuPu\")"
   ]
  },
  {
   "cell_type": "code",
   "execution_count": 30,
   "id": "704962c9",
   "metadata": {},
   "outputs": [
    {
     "name": "stdout",
     "output_type": "stream",
     "text": [
      "Start training...done!\n",
      "================================================================================\n",
      "Start testing...done!\n",
      "================================================================================\n",
      "accuracy: 0.7393172371923598\n",
      "====================================================================================================\n",
      "              precision    recall  f1-score   support\n",
      "\n",
      "    hatefull       0.91      0.57      0.70      6687\n",
      "   offensive       0.75      0.75      0.75      7112\n",
      "     neither       0.66      0.89      0.76      7614\n",
      "\n",
      "    accuracy                           0.74     21413\n",
      "   macro avg       0.78      0.73      0.73     21413\n",
      "weighted avg       0.77      0.74      0.74     21413\n",
      "\n"
     ]
    },
    {
     "data": {
      "text/plain": [
       "<sklearn.metrics._plot.confusion_matrix.ConfusionMatrixDisplay at 0x7fa3704b4e10>"
      ]
     },
     "execution_count": 30,
     "metadata": {},
     "output_type": "execute_result"
    },
    {
     "data": {
      "image/png": "[encoded data removed]",
      "text/plain": [
       "<Figure size 432x288 with 2 Axes>"
      ]
     },
     "metadata": {
      "needs_background": "light"
     },
     "output_type": "display_data"
    }
   ],
   "source": [
    "rf_model = RandomForestClassifier(n_estimators=100, max_depth=100, min_samples_split=10, n_jobs=-1, verbose=0)\n",
    "\n",
    "predictions, accuracy, metrics_report, rf_prf = train_test_model(rf_model, X_train_tweet_tfidf, X_test_tweet_tfidf, y_train, y_test, labels_)\n",
    "\n",
    "print('accuracy: {}'.format(accuracy))\n",
    "print('='*100)\n",
    "print(metrics_report)\n",
    "\n",
    "plot_confusion_matrix(rf_model, X_test_tweet_tfidf, y_test, display_labels=labels_, xticks_rotation='vertical', cmap=\"BuPu\")"
   ]
  },
  {
   "cell_type": "code",
   "execution_count": 31,
   "id": "3f11d6bc",
   "metadata": {},
   "outputs": [],
   "source": [
    "from xgboost import XGBClassifier"
   ]
  },
  {
   "cell_type": "code",
   "execution_count": 32,
   "id": "ec60f607",
   "metadata": {},
   "outputs": [
    {
     "name": "stdout",
     "output_type": "stream",
     "text": [
      "Start training...done!\n",
      "================================================================================\n",
      "Start testing...done!\n",
      "================================================================================\n",
      "accuracy: 0.7388969317704198\n",
      "====================================================================================================\n",
      "              precision    recall  f1-score   support\n",
      "\n",
      "    hatefull       0.91      0.58      0.70      6687\n",
      "   offensive       0.77      0.73      0.75      7112\n",
      "     neither       0.65      0.89      0.75      7614\n",
      "\n",
      "    accuracy                           0.74     21413\n",
      "   macro avg       0.78      0.73      0.73     21413\n",
      "weighted avg       0.77      0.74      0.74     21413\n",
      "\n"
     ]
    },
    {
     "ename": "NotFittedError",
     "evalue": "need to call fit or load_model beforehand",
     "output_type": "error",
     "traceback": [
      "\u001b[0;31m---------------------------------------------------------------------------\u001b[0m",
      "\u001b[0;31mNotFittedError\u001b[0m                            Traceback (most recent call last)",
      "\u001b[0;32m/var/folders/h5/l574k7xd1rz2s2cg4wvtt1q00000gn/T/ipykernel_14593/3062620394.py\u001b[0m in \u001b[0;36m<module>\u001b[0;34m\u001b[0m\n\u001b[1;32m      7\u001b[0m \u001b[0mprint\u001b[0m\u001b[0;34m(\u001b[0m\u001b[0mmetrics_report\u001b[0m\u001b[0;34m)\u001b[0m\u001b[0;34m\u001b[0m\u001b[0;34m\u001b[0m\u001b[0m\n\u001b[1;32m      8\u001b[0m \u001b[0;34m\u001b[0m\u001b[0m\n\u001b[0;32m----> 9\u001b[0;31m \u001b[0mplot_confusion_matrix\u001b[0m\u001b[0;34m(\u001b[0m\u001b[0mxgb_model\u001b[0m\u001b[0;34m,\u001b[0m \u001b[0mX_test_tweet_tfidf\u001b[0m\u001b[0;34m,\u001b[0m \u001b[0my_test\u001b[0m\u001b[0;34m,\u001b[0m \u001b[0mdisplay_labels\u001b[0m\u001b[0;34m=\u001b[0m\u001b[0mlabels_\u001b[0m\u001b[0;34m,\u001b[0m \u001b[0mxticks_rotation\u001b[0m\u001b[0;34m=\u001b[0m\u001b[0;34m'vertical'\u001b[0m\u001b[0;34m,\u001b[0m \u001b[0mcmap\u001b[0m\u001b[0;34m=\u001b[0m\u001b[0;34m\"BuPu\"\u001b[0m\u001b[0;34m)\u001b[0m\u001b[0;34m\u001b[0m\u001b[0;34m\u001b[0m\u001b[0m\n\u001b[0m",
      "\u001b[0;32m~/opt/anaconda3/envs/tf/lib/python3.7/site-packages/sklearn/utils/validation.py\u001b[0m in \u001b[0;36minner_f\u001b[0;34m(*args, **kwargs)\u001b[0m\n\u001b[1;32m     61\u001b[0m             \u001b[0mextra_args\u001b[0m \u001b[0;34m=\u001b[0m \u001b[0mlen\u001b[0m\u001b[0;34m(\u001b[0m\u001b[0margs\u001b[0m\u001b[0;34m)\u001b[0m \u001b[0;34m-\u001b[0m \u001b[0mlen\u001b[0m\u001b[0;34m(\u001b[0m\u001b[0mall_args\u001b[0m\u001b[0;34m)\u001b[0m\u001b[0;34m\u001b[0m\u001b[0;34m\u001b[0m\u001b[0m\n\u001b[1;32m     62\u001b[0m             \u001b[0;32mif\u001b[0m \u001b[0mextra_args\u001b[0m \u001b[0;34m<=\u001b[0m \u001b[0;36m0\u001b[0m\u001b[0;34m:\u001b[0m\u001b[0;34m\u001b[0m\u001b[0;34m\u001b[0m\u001b[0m\n\u001b[0;32m---> 63\u001b[0;31m                 \u001b[0;32mreturn\u001b[0m \u001b[0mf\u001b[0m\u001b[0;34m(\u001b[0m\u001b[0;34m*\u001b[0m\u001b[0margs\u001b[0m\u001b[0;34m,\u001b[0m \u001b[0;34m**\u001b[0m\u001b[0mkwargs\u001b[0m\u001b[0;34m)\u001b[0m\u001b[0;34m\u001b[0m\u001b[0;34m\u001b[0m\u001b[0m\n\u001b[0m\u001b[1;32m     64\u001b[0m \u001b[0;34m\u001b[0m\u001b[0m\n\u001b[1;32m     65\u001b[0m             \u001b[0;31m# extra_args > 0\u001b[0m\u001b[0;34m\u001b[0m\u001b[0;34m\u001b[0m\u001b[0;34m\u001b[0m\u001b[0m\n",
      "\u001b[0;32m~/opt/anaconda3/envs/tf/lib/python3.7/site-packages/sklearn/metrics/_plot/confusion_matrix.py\u001b[0m in \u001b[0;36mplot_confusion_matrix\u001b[0;34m(estimator, X, y_true, labels, sample_weight, normalize, display_labels, include_values, xticks_rotation, values_format, cmap, ax, colorbar)\u001b[0m\n\u001b[1;32m    261\u001b[0m         \u001b[0;32mraise\u001b[0m \u001b[0mValueError\u001b[0m\u001b[0;34m(\u001b[0m\u001b[0;34m\"plot_confusion_matrix only supports classifiers\"\u001b[0m\u001b[0;34m)\u001b[0m\u001b[0;34m\u001b[0m\u001b[0;34m\u001b[0m\u001b[0m\n\u001b[1;32m    262\u001b[0m \u001b[0;34m\u001b[0m\u001b[0m\n\u001b[0;32m--> 263\u001b[0;31m     \u001b[0my_pred\u001b[0m \u001b[0;34m=\u001b[0m \u001b[0mestimator\u001b[0m\u001b[0;34m.\u001b[0m\u001b[0mpredict\u001b[0m\u001b[0;34m(\u001b[0m\u001b[0mX\u001b[0m\u001b[0;34m)\u001b[0m\u001b[0;34m\u001b[0m\u001b[0;34m\u001b[0m\u001b[0m\n\u001b[0m\u001b[1;32m    264\u001b[0m     cm = confusion_matrix(y_true, y_pred, sample_weight=sample_weight,\n\u001b[1;32m    265\u001b[0m                           labels=labels, normalize=normalize)\n",
      "\u001b[0;32m~/opt/anaconda3/envs/tf/lib/python3.7/site-packages/xgboost/sklearn.py\u001b[0m in \u001b[0;36mpredict\u001b[0;34m(self, X, output_margin, ntree_limit, validate_features, base_margin, iteration_range)\u001b[0m\n\u001b[1;32m   1288\u001b[0m             \u001b[0mvalidate_features\u001b[0m\u001b[0;34m=\u001b[0m\u001b[0mvalidate_features\u001b[0m\u001b[0;34m,\u001b[0m\u001b[0;34m\u001b[0m\u001b[0;34m\u001b[0m\u001b[0m\n\u001b[1;32m   1289\u001b[0m             \u001b[0mbase_margin\u001b[0m\u001b[0;34m=\u001b[0m\u001b[0mbase_margin\u001b[0m\u001b[0;34m,\u001b[0m\u001b[0;34m\u001b[0m\u001b[0;34m\u001b[0m\u001b[0m\n\u001b[0;32m-> 1290\u001b[0;31m             \u001b[0miteration_range\u001b[0m\u001b[0;34m=\u001b[0m\u001b[0miteration_range\u001b[0m\u001b[0;34m,\u001b[0m\u001b[0;34m\u001b[0m\u001b[0;34m\u001b[0m\u001b[0m\n\u001b[0m\u001b[1;32m   1291\u001b[0m         )\n\u001b[1;32m   1292\u001b[0m         \u001b[0;32mif\u001b[0m \u001b[0moutput_margin\u001b[0m\u001b[0;34m:\u001b[0m\u001b[0;34m\u001b[0m\u001b[0;34m\u001b[0m\u001b[0m\n",
      "\u001b[0;32m~/opt/anaconda3/envs/tf/lib/python3.7/site-packages/xgboost/sklearn.py\u001b[0m in \u001b[0;36mpredict\u001b[0;34m(self, X, output_margin, ntree_limit, validate_features, base_margin, iteration_range)\u001b[0m\n\u001b[1;32m    874\u001b[0m         \"\"\"\n\u001b[1;32m    875\u001b[0m         iteration_range = _convert_ntree_limit(\n\u001b[0;32m--> 876\u001b[0;31m             \u001b[0mself\u001b[0m\u001b[0;34m.\u001b[0m\u001b[0mget_booster\u001b[0m\u001b[0;34m(\u001b[0m\u001b[0;34m)\u001b[0m\u001b[0;34m,\u001b[0m \u001b[0mntree_limit\u001b[0m\u001b[0;34m,\u001b[0m \u001b[0miteration_range\u001b[0m\u001b[0;34m\u001b[0m\u001b[0;34m\u001b[0m\u001b[0m\n\u001b[0m\u001b[1;32m    877\u001b[0m         )\n\u001b[1;32m    878\u001b[0m         \u001b[0miteration_range\u001b[0m \u001b[0;34m=\u001b[0m \u001b[0mself\u001b[0m\u001b[0;34m.\u001b[0m\u001b[0m_get_iteration_range\u001b[0m\u001b[0;34m(\u001b[0m\u001b[0miteration_range\u001b[0m\u001b[0;34m)\u001b[0m\u001b[0;34m\u001b[0m\u001b[0;34m\u001b[0m\u001b[0m\n",
      "\u001b[0;32m~/opt/anaconda3/envs/tf/lib/python3.7/site-packages/xgboost/sklearn.py\u001b[0m in \u001b[0;36mget_booster\u001b[0;34m(self)\u001b[0m\n\u001b[1;32m    457\u001b[0m         \u001b[0;32mif\u001b[0m \u001b[0;32mnot\u001b[0m \u001b[0mself\u001b[0m\u001b[0;34m.\u001b[0m\u001b[0m__sklearn_is_fitted__\u001b[0m\u001b[0;34m(\u001b[0m\u001b[0;34m)\u001b[0m\u001b[0;34m:\u001b[0m\u001b[0;34m\u001b[0m\u001b[0;34m\u001b[0m\u001b[0m\n\u001b[1;32m    458\u001b[0m             \u001b[0;32mfrom\u001b[0m \u001b[0msklearn\u001b[0m\u001b[0;34m.\u001b[0m\u001b[0mexceptions\u001b[0m \u001b[0;32mimport\u001b[0m \u001b[0mNotFittedError\u001b[0m\u001b[0;34m\u001b[0m\u001b[0;34m\u001b[0m\u001b[0m\n\u001b[0;32m--> 459\u001b[0;31m             \u001b[0;32mraise\u001b[0m \u001b[0mNotFittedError\u001b[0m\u001b[0;34m(\u001b[0m\u001b[0;34m'need to call fit or load_model beforehand'\u001b[0m\u001b[0;34m)\u001b[0m\u001b[0;34m\u001b[0m\u001b[0;34m\u001b[0m\u001b[0m\n\u001b[0m\u001b[1;32m    460\u001b[0m         \u001b[0;32mreturn\u001b[0m \u001b[0mself\u001b[0m\u001b[0;34m.\u001b[0m\u001b[0m_Booster\u001b[0m\u001b[0;34m\u001b[0m\u001b[0;34m\u001b[0m\u001b[0m\n\u001b[1;32m    461\u001b[0m \u001b[0;34m\u001b[0m\u001b[0m\n",
      "\u001b[0;31mNotFittedError\u001b[0m: need to call fit or load_model beforehand"
     ]
    }
   ],
   "source": [
    "xgb_model = XGBClassifier(n_estimators=100, max_depth=100, min_samples_split=10, n_jobs=-1, verbose=0)\n",
    "\n",
    "predictions, accuracy, metrics_report, rf_prf = train_test_model(rf_model, X_train_tweet_tfidf, X_test_tweet_tfidf, y_train, y_test, labels_)\n",
    "\n",
    "print('accuracy: {}'.format(accuracy))\n",
    "print('='*100)\n",
    "print(metrics_report)\n",
    "\n",
    "plot_confusion_matrix(xgb_model, X_test_tweet_tfidf, y_test, display_labels=labels_, xticks_rotation='vertical', cmap=\"BuPu\")"
   ]
  },
  {
   "cell_type": "markdown",
   "id": "e2929021",
   "metadata": {},
   "source": [
    "# Upsampling Technique-SMOTE"
   ]
  },
  {
   "cell_type": "code",
   "execution_count": 16,
   "id": "bf4c1af8",
   "metadata": {},
   "outputs": [
    {
     "name": "stdout",
     "output_type": "stream",
     "text": [
      "(94176, 1324646)\n",
      "(94176,)\n",
      "Counter({2: 23544, 1: 23544, 0: 23544, 3: 23544})\n"
     ]
    }
   ],
   "source": [
    "from collections import Counter\n",
    "from imblearn.over_sampling import SMOTE\n",
    "smote=SMOTE(sampling_strategy='not majority')\n",
    "\n",
    "X_tr,Y_tr=smote.fit_resample(X_train_tweet_tfidf,y_train)\n",
    "print(X_tr.shape)\n",
    "print(Y_tr.shape)\n",
    "ccounter=Counter(Y_tr)\n",
    "print(ccounter)"
   ]
  },
  {
   "cell_type": "code",
   "execution_count": 17,
   "id": "4e48c607",
   "metadata": {},
   "outputs": [
    {
     "name": "stdout",
     "output_type": "stream",
     "text": [
      "Start training...done!\n",
      "================================================================================\n",
      "Start testing...done!\n",
      "================================================================================\n",
      "accuracy: 0.7941618851317476\n",
      "====================================================================================================\n",
      "              precision    recall  f1-score   support\n",
      "\n",
      "    hatefull       0.45      0.62      0.52      1798\n",
      "   offensive       0.86      0.78      0.82      7848\n",
      "     neither       0.83      0.84      0.83      7776\n",
      "     Tobacco       0.98      0.94      0.96       529\n",
      "\n",
      "    accuracy                           0.79     17951\n",
      "   macro avg       0.78      0.80      0.78     17951\n",
      "weighted avg       0.81      0.79      0.80     17951\n",
      "\n"
     ]
    },
    {
     "data": {
      "text/plain": [
       "<sklearn.metrics._plot.confusion_matrix.ConfusionMatrixDisplay at 0x7fe9a8943550>"
      ]
     },
     "execution_count": 17,
     "metadata": {},
     "output_type": "execute_result"
    },
    {
     "data": {
      "image/png": "[encoded data removed]",
      "text/plain": [
       "<Figure size 432x288 with 2 Axes>"
      ]
     },
     "metadata": {
      "needs_background": "light"
     },
     "output_type": "display_data"
    }
   ],
   "source": [
    "log_model=LogisticRegression(penalty='l2',max_iter=1000)\n",
    "predictions, accuracy, metrics_report, log_prf = train_test_model(log_model, X_tr, X_test_tweet_tfidf, Y_tr, y_test, labels_)\n",
    "\n",
    "\n",
    "print('accuracy: {}'.format(accuracy))\n",
    "print('='*100)\n",
    "print(metrics_report)\n",
    "\n",
    "plot_confusion_matrix(log_model, X_test_tweet_tfidf, y_test, display_labels=labels_, xticks_rotation='vertical', cmap=\"BuPu\")"
   ]
  },
  {
   "cell_type": "code",
   "execution_count": 18,
   "id": "3420fede",
   "metadata": {},
   "outputs": [
    {
     "name": "stdout",
     "output_type": "stream",
     "text": [
      "Start training...done!\n",
      "================================================================================\n",
      "Start testing...done!\n",
      "================================================================================\n",
      "accuracy: 0.7697621302434404\n",
      "====================================================================================================\n",
      "              precision    recall  f1-score   support\n",
      "\n",
      "    hatefull       0.44      0.63      0.52      1798\n",
      "   offensive       0.85      0.73      0.79      7848\n",
      "     neither       0.79      0.83      0.81      7776\n",
      "     Tobacco       0.97      0.96      0.96       529\n",
      "\n",
      "    accuracy                           0.77     17951\n",
      "   macro avg       0.76      0.79      0.77     17951\n",
      "weighted avg       0.79      0.77      0.78     17951\n",
      "\n"
     ]
    },
    {
     "data": {
      "text/plain": [
       "<sklearn.metrics._plot.confusion_matrix.ConfusionMatrixDisplay at 0x7fe9ad5ef3d0>"
      ]
     },
     "execution_count": 18,
     "metadata": {},
     "output_type": "execute_result"
    },
    {
     "data": {
      "image/png": "[encoded data removed]",
      "text/plain": [
       "<Figure size 432x288 with 2 Axes>"
      ]
     },
     "metadata": {
      "needs_background": "light"
     },
     "output_type": "display_data"
    }
   ],
   "source": [
    "svm = LinearSVC(class_weight='balanced', verbose=False, max_iter=10000, tol=1e-4, C=0.1)\n",
    "\n",
    "predictions, accuracy, metrics_report, svm_prf = train_test_model(svm, X_tr, X_test_tweet_tfidf, Y_tr, y_test, labels_)\n",
    "\n",
    "\n",
    "print('accuracy: {}'.format(accuracy))\n",
    "print('='*100)\n",
    "print(metrics_report)\n",
    "\n",
    "plot_confusion_matrix(svm, X_test_tweet_tfidf, y_test, display_labels=labels_, xticks_rotation='vertical', cmap=\"BuPu\")"
   ]
  },
  {
   "cell_type": "code",
   "execution_count": null,
   "id": "58ab693b",
   "metadata": {},
   "outputs": [],
   "source": []
  }
 ],
 "metadata": {
  "kernelspec": {
   "display_name": "Python 3 (ipykernel)",
   "language": "python",
   "name": "python3"
  },
  "language_info": {
   "codemirror_mode": {
    "name": "ipython",
    "version": 3
   },
   "file_extension": ".py",
   "mimetype": "text/x-python",
   "name": "python",
   "nbconvert_exporter": "python",
   "pygments_lexer": "ipython3",
   "version": "3.7.11"
  }
 },
 "nbformat": 4,
 "nbformat_minor": 5
}
