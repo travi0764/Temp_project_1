{
 "cells": [
  {
   "cell_type": "code",
   "execution_count": 1,
   "id": "0151d2b7",
   "metadata": {},
   "outputs": [],
   "source": [
    "import pandas as pd\n",
    "import numpy as np\n",
    "import matplotlib.pyplot as plt\n",
    "import seaborn as sns\n",
    "import re"
   ]
  },
  {
   "cell_type": "code",
   "execution_count": 2,
   "id": "44474ec3",
   "metadata": {},
   "outputs": [
    {
     "name": "stdout",
     "output_type": "stream",
     "text": [
      "  % Total    % Received % Xferd  Average Speed   Time    Time     Time  Current\n",
      "                                 Dload  Upload   Total   Spent    Left  Speed\n",
      "100 1453M  100 1453M    0     0  6545k      0  0:03:47  0:03:47 --:--:-- 8028k 4900k1kk:01:29  585k0:01:02 8104k97k      0  0:03:52  0:03:30  0:00:22 8624k 0:03:52  0:03:32  0:00:20 8282k  0:03:47  0:03:47 --:--:-- 8057k\n",
      "Archive:  fastText/crawl-300d-2M.vec.zip\n",
      "  inflating: fastText/crawl-300d-2M.vec  \n"
     ]
    }
   ],
   "source": [
    "#!mkdir GloVe\n",
    "#!curl -Lo GloVe/glove.840B.300d.zip http://nlp.stanford.edu/data/glove.840B.300d.zip\n",
    "#!unzip GloVe/glove.840B.300d.zip -d GloVe/\n",
    "!mkdir fastText\n",
    "!curl -Lo fastText/crawl-300d-2M.vec.zip https://dl.fbaipublicfiles.com/fasttext/vectors-english/crawl-300d-2M.vec.zip\n",
    "!unzip fastText/crawl-300d-2M.vec.zip -d fastText/"
   ]
  },
  {
   "cell_type": "code",
   "execution_count": 3,
   "id": "d7325a36",
   "metadata": {},
   "outputs": [
    {
     "name": "stdout",
     "output_type": "stream",
     "text": [
      "  % Total    % Received % Xferd  Average Speed   Time    Time     Time  Current\n",
      "                                 Dload  Upload   Total   Spent    Left  Speed\n",
      "100  146M  100  146M    0     0  7134k      0  0:00:21  0:00:21 --:--:-- 8323k\n",
      "  % Total    % Received % Xferd  Average Speed   Time    Time     Time  Current\n",
      "                                 Dload  Upload   Total   Spent    Left  Speed\n",
      "100  146M  100  146M    0     0  6537k      0  0:00:23  0:00:23 --:--:-- 8134k-:--     0k00:23  0:00:16  0:00:07 8911k\n"
     ]
    }
   ],
   "source": [
    "!mkdir encoder\n",
    "!curl -Lo encoder/infersent1.pkl https://dl.fbaipublicfiles.com/infersent/infersent1.pkl\n",
    "!curl -Lo encoder/infersent2.pkl https://dl.fbaipublicfiles.com/infersent/infersent2.pkl"
   ]
  },
  {
   "cell_type": "code",
   "execution_count": 4,
   "id": "a9160cd0",
   "metadata": {},
   "outputs": [
    {
     "name": "stderr",
     "output_type": "stream",
     "text": [
      "[nltk_data] Downloading package punkt to\n",
      "[nltk_data]     /Users/ravitiwari/nltk_data...\n",
      "[nltk_data]   Package punkt is already up-to-date!\n"
     ]
    },
    {
     "data": {
      "text/plain": [
       "True"
      ]
     },
     "execution_count": 4,
     "metadata": {},
     "output_type": "execute_result"
    }
   ],
   "source": [
    "import nltk\n",
    "nltk.download('punkt')"
   ]
  },
  {
   "cell_type": "code",
   "execution_count": null,
   "id": "a9e75a49",
   "metadata": {},
   "outputs": [],
   "source": [
    "!pip install torchvision "
   ]
  },
  {
   "cell_type": "code",
   "execution_count": 5,
   "id": "970f48b9",
   "metadata": {},
   "outputs": [],
   "source": [
    "import torch"
   ]
  },
  {
   "cell_type": "code",
   "execution_count": 7,
   "id": "47389b44",
   "metadata": {},
   "outputs": [
    {
     "data": {
      "text/plain": [
       "<All keys matched successfully>"
      ]
     },
     "execution_count": 7,
     "metadata": {},
     "output_type": "execute_result"
    }
   ],
   "source": [
    "from models import InferSent\n",
    "V = 2\n",
    "MODEL_PATH = 'encoder/infersent%s.pkl' % V\n",
    "params_model = {'bsize': 64, 'word_emb_dim': 300, 'enc_lstm_dim': 2048,\n",
    "                'pool_type': 'max', 'dpout_model': 0.0, 'version': V}\n",
    "infersent = InferSent(params_model)\n",
    "infersent.load_state_dict(torch.load(MODEL_PATH))"
   ]
  },
  {
   "cell_type": "code",
   "execution_count": 8,
   "id": "157d5daf",
   "metadata": {},
   "outputs": [],
   "source": [
    "W2V_PATH = 'fastText/crawl-300d-2M.vec'\n",
    "infersent.set_w2v_path(W2V_PATH)"
   ]
  },
  {
   "cell_type": "code",
   "execution_count": 9,
   "id": "bce9a19f",
   "metadata": {},
   "outputs": [
    {
     "data": {
      "text/html": [
       "<div>\n",
       "<style scoped>\n",
       "    .dataframe tbody tr th:only-of-type {\n",
       "        vertical-align: middle;\n",
       "    }\n",
       "\n",
       "    .dataframe tbody tr th {\n",
       "        vertical-align: top;\n",
       "    }\n",
       "\n",
       "    .dataframe thead th {\n",
       "        text-align: right;\n",
       "    }\n",
       "</style>\n",
       "<table border=\"1\" class=\"dataframe\">\n",
       "  <thead>\n",
       "    <tr style=\"text-align: right;\">\n",
       "      <th></th>\n",
       "      <th>Unnamed: 0</th>\n",
       "      <th>tweet</th>\n",
       "      <th>label</th>\n",
       "    </tr>\n",
       "  </thead>\n",
       "  <tbody>\n",
       "    <tr>\n",
       "      <th>0</th>\n",
       "      <td>0</td>\n",
       "      <td>a a woman you should not complain about cleani...</td>\n",
       "      <td>2</td>\n",
       "    </tr>\n",
       "    <tr>\n",
       "      <th>1</th>\n",
       "      <td>1</td>\n",
       "      <td>boy dat cold tyga dwn bad for cuffin dat hoe i...</td>\n",
       "      <td>1</td>\n",
       "    </tr>\n",
       "    <tr>\n",
       "      <th>2</th>\n",
       "      <td>2</td>\n",
       "      <td>dawg you ever fuck a bitch and she sta to cry ...</td>\n",
       "      <td>1</td>\n",
       "    </tr>\n",
       "    <tr>\n",
       "      <th>3</th>\n",
       "      <td>3</td>\n",
       "      <td>she look like a tranny</td>\n",
       "      <td>1</td>\n",
       "    </tr>\n",
       "    <tr>\n",
       "      <th>4</th>\n",
       "      <td>4</td>\n",
       "      <td>the shit you hear about me might be true or it...</td>\n",
       "      <td>1</td>\n",
       "    </tr>\n",
       "    <tr>\n",
       "      <th>...</th>\n",
       "      <td>...</td>\n",
       "      <td>...</td>\n",
       "      <td>...</td>\n",
       "    </tr>\n",
       "    <tr>\n",
       "      <th>71994</th>\n",
       "      <td>71994</td>\n",
       "      <td>whose twitter interest sta with food is he eve...</td>\n",
       "      <td>2</td>\n",
       "    </tr>\n",
       "    <tr>\n",
       "      <th>71995</th>\n",
       "      <td>71995</td>\n",
       "      <td>how did the press get the letter</td>\n",
       "      <td>2</td>\n",
       "    </tr>\n",
       "    <tr>\n",
       "      <th>71996</th>\n",
       "      <td>71996</td>\n",
       "      <td>sorry about your son i am sure he would not wa...</td>\n",
       "      <td>2</td>\n",
       "    </tr>\n",
       "    <tr>\n",
       "      <th>71997</th>\n",
       "      <td>71997</td>\n",
       "      <td>fuck alan im sorry</td>\n",
       "      <td>1</td>\n",
       "    </tr>\n",
       "    <tr>\n",
       "      <th>71998</th>\n",
       "      <td>71998</td>\n",
       "      <td>conservative sajidjavid productive discussion ...</td>\n",
       "      <td>2</td>\n",
       "    </tr>\n",
       "  </tbody>\n",
       "</table>\n",
       "<p>71999 rows × 3 columns</p>\n",
       "</div>"
      ],
      "text/plain": [
       "       Unnamed: 0                                              tweet  label\n",
       "0               0  a a woman you should not complain about cleani...      2\n",
       "1               1  boy dat cold tyga dwn bad for cuffin dat hoe i...      1\n",
       "2               2  dawg you ever fuck a bitch and she sta to cry ...      1\n",
       "3               3                             she look like a tranny      1\n",
       "4               4  the shit you hear about me might be true or it...      1\n",
       "...           ...                                                ...    ...\n",
       "71994       71994  whose twitter interest sta with food is he eve...      2\n",
       "71995       71995                   how did the press get the letter      2\n",
       "71996       71996  sorry about your son i am sure he would not wa...      2\n",
       "71997       71997                                 fuck alan im sorry      1\n",
       "71998       71998  conservative sajidjavid productive discussion ...      2\n",
       "\n",
       "[71999 rows x 3 columns]"
      ]
     },
     "execution_count": 9,
     "metadata": {},
     "output_type": "execute_result"
    }
   ],
   "source": [
    "data=pd.read_csv(\"NEW_DATASET_PREPROCESSED.csv\")\n",
    "data"
   ]
  },
  {
   "cell_type": "code",
   "execution_count": 10,
   "id": "90b28b91",
   "metadata": {},
   "outputs": [
    {
     "data": {
      "text/html": [
       "<div>\n",
       "<style scoped>\n",
       "    .dataframe tbody tr th:only-of-type {\n",
       "        vertical-align: middle;\n",
       "    }\n",
       "\n",
       "    .dataframe tbody tr th {\n",
       "        vertical-align: top;\n",
       "    }\n",
       "\n",
       "    .dataframe thead th {\n",
       "        text-align: right;\n",
       "    }\n",
       "</style>\n",
       "<table border=\"1\" class=\"dataframe\">\n",
       "  <thead>\n",
       "    <tr style=\"text-align: right;\">\n",
       "      <th></th>\n",
       "      <th>tweet</th>\n",
       "      <th>label</th>\n",
       "    </tr>\n",
       "  </thead>\n",
       "  <tbody>\n",
       "    <tr>\n",
       "      <th>0</th>\n",
       "      <td>a a woman you should not complain about cleani...</td>\n",
       "      <td>2</td>\n",
       "    </tr>\n",
       "    <tr>\n",
       "      <th>1</th>\n",
       "      <td>boy dat cold tyga dwn bad for cuffin dat hoe i...</td>\n",
       "      <td>1</td>\n",
       "    </tr>\n",
       "    <tr>\n",
       "      <th>2</th>\n",
       "      <td>dawg you ever fuck a bitch and she sta to cry ...</td>\n",
       "      <td>1</td>\n",
       "    </tr>\n",
       "    <tr>\n",
       "      <th>3</th>\n",
       "      <td>she look like a tranny</td>\n",
       "      <td>1</td>\n",
       "    </tr>\n",
       "    <tr>\n",
       "      <th>4</th>\n",
       "      <td>the shit you hear about me might be true or it...</td>\n",
       "      <td>1</td>\n",
       "    </tr>\n",
       "    <tr>\n",
       "      <th>...</th>\n",
       "      <td>...</td>\n",
       "      <td>...</td>\n",
       "    </tr>\n",
       "    <tr>\n",
       "      <th>71994</th>\n",
       "      <td>whose twitter interest sta with food is he eve...</td>\n",
       "      <td>2</td>\n",
       "    </tr>\n",
       "    <tr>\n",
       "      <th>71995</th>\n",
       "      <td>how did the press get the letter</td>\n",
       "      <td>2</td>\n",
       "    </tr>\n",
       "    <tr>\n",
       "      <th>71996</th>\n",
       "      <td>sorry about your son i am sure he would not wa...</td>\n",
       "      <td>2</td>\n",
       "    </tr>\n",
       "    <tr>\n",
       "      <th>71997</th>\n",
       "      <td>fuck alan im sorry</td>\n",
       "      <td>1</td>\n",
       "    </tr>\n",
       "    <tr>\n",
       "      <th>71998</th>\n",
       "      <td>conservative sajidjavid productive discussion ...</td>\n",
       "      <td>2</td>\n",
       "    </tr>\n",
       "  </tbody>\n",
       "</table>\n",
       "<p>71999 rows × 2 columns</p>\n",
       "</div>"
      ],
      "text/plain": [
       "                                                   tweet  label\n",
       "0      a a woman you should not complain about cleani...      2\n",
       "1      boy dat cold tyga dwn bad for cuffin dat hoe i...      1\n",
       "2      dawg you ever fuck a bitch and she sta to cry ...      1\n",
       "3                                 she look like a tranny      1\n",
       "4      the shit you hear about me might be true or it...      1\n",
       "...                                                  ...    ...\n",
       "71994  whose twitter interest sta with food is he eve...      2\n",
       "71995                   how did the press get the letter      2\n",
       "71996  sorry about your son i am sure he would not wa...      2\n",
       "71997                                 fuck alan im sorry      1\n",
       "71998  conservative sajidjavid productive discussion ...      2\n",
       "\n",
       "[71999 rows x 2 columns]"
      ]
     },
     "execution_count": 10,
     "metadata": {},
     "output_type": "execute_result"
    }
   ],
   "source": [
    "data.drop(\"Unnamed: 0\",axis=1,inplace=True)\n",
    "data"
   ]
  },
  {
   "cell_type": "code",
   "execution_count": 11,
   "id": "a404c4d4",
   "metadata": {},
   "outputs": [
    {
     "data": {
      "text/plain": [
       "(71804, 2)"
      ]
     },
     "execution_count": 11,
     "metadata": {},
     "output_type": "execute_result"
    }
   ],
   "source": [
    "data.dropna(inplace=True)\n",
    "data.shape"
   ]
  },
  {
   "cell_type": "code",
   "execution_count": 12,
   "id": "141ca2fe",
   "metadata": {},
   "outputs": [
    {
     "data": {
      "text/plain": [
       "1    31392\n",
       "2    31105\n",
       "0     7193\n",
       "3     2114\n",
       "Name: label, dtype: int64"
      ]
     },
     "execution_count": 12,
     "metadata": {},
     "output_type": "execute_result"
    }
   ],
   "source": [
    "data.label.value_counts()"
   ]
  },
  {
   "cell_type": "code",
   "execution_count": 13,
   "id": "8dc7e68a",
   "metadata": {},
   "outputs": [],
   "source": [
    "y=data['label']\n",
    "x=data['tweet']"
   ]
  },
  {
   "cell_type": "markdown",
   "id": "681da0b7",
   "metadata": {},
   "source": [
    "## Spliting the Dataset"
   ]
  },
  {
   "cell_type": "code",
   "execution_count": 14,
   "id": "9af1e27f",
   "metadata": {},
   "outputs": [
    {
     "name": "stdout",
     "output_type": "stream",
     "text": [
      "(53853,) (53853,)\n",
      "(17951,) (17951,)\n"
     ]
    }
   ],
   "source": [
    "from sklearn.model_selection import train_test_split\n",
    "X_train, X_test, y_train, y_test = train_test_split(x, y, test_size=0.25, stratify=y)\n",
    "\n",
    "\n",
    "print(X_train.shape, y_train.shape)\n",
    "\n",
    "print(X_test.shape, y_test.shape)\n"
   ]
  },
  {
   "cell_type": "markdown",
   "id": "97d19676",
   "metadata": {},
   "source": [
    "## Building Vocab of 100000 words"
   ]
  },
  {
   "cell_type": "code",
   "execution_count": 15,
   "id": "24ac3897",
   "metadata": {},
   "outputs": [
    {
     "name": "stdout",
     "output_type": "stream",
     "text": [
      "Vocab size : 100000\n"
     ]
    }
   ],
   "source": [
    "infersent.build_vocab_k_words(K=100000)"
   ]
  },
  {
   "cell_type": "code",
   "execution_count": 16,
   "id": "d03b4791",
   "metadata": {},
   "outputs": [
    {
     "name": "stderr",
     "output_type": "stream",
     "text": [
      "/Users/ravitiwari/Desktop/NEW_Project/MODELS/models.py:207: VisibleDeprecationWarning: Creating an ndarray from ragged nested sequences (which is a list-or-tuple of lists-or-tuples-or ndarrays with different lengths or shapes) is deprecated. If you meant to do this, you must specify 'dtype=object' when creating the ndarray.\n",
      "  sentences = np.array(sentences)[idx_sort]\n"
     ]
    },
    {
     "name": "stdout",
     "output_type": "stream",
     "text": [
      "X_Train Done\n",
      "====================================================================================================================================================================================\n",
      "After Embedding vectorizations\n",
      "(53853, 4096) (53853,)\n",
      "(17951, 4096) (17951,)\n",
      "====================================================================================================\n",
      "CPU times: user 47min 42s, sys: 21.3 s, total: 48min 3s\n",
      "Wall time: 45min 49s\n"
     ]
    }
   ],
   "source": [
    "%%time\n",
    "X_train_tweet = infersent.encode(X_train, tokenize=True)\n",
    "print(\"X_Train Done\")\n",
    "print(\"=\"*180)\n",
    "\n",
    "X_test_tweet = infersent.encode(X_test, tokenize=True)\n",
    "\n",
    "print(\"After Embedding vectorizations\")\n",
    "print(X_train_tweet.shape, y_train.shape)\n",
    "\n",
    "print(X_test_tweet.shape, y_test.shape)\n",
    "print(\"=\"*100)"
   ]
  },
  {
   "cell_type": "code",
   "execution_count": null,
   "id": "b48efdee",
   "metadata": {},
   "outputs": [],
   "source": [
    "from sklearn.multiclass import OneVsRestClassifier\n",
    "from sklearn.naive_bayes import MultinomialNB\n",
    "from sklearn.linear_model import LogisticRegression\n",
    "from sklearn.svm import LinearSVC\n",
    "from sklearn.ensemble import RandomForestRegressor\n",
    "from sklearn.ensemble import RandomForestClassifier\n",
    "from sklearn.metrics import confusion_matrix\n",
    "\n",
    "from sklearn.svm import SVC\n",
    "from sklearn.metrics import f1_score\n",
    "from sklearn.model_selection import GridSearchCV\n",
    "\n",
    "from sklearn.feature_extraction.text import CountVectorizer, TfidfVectorizer\n",
    "from sklearn import preprocessing\n",
    "from sklearn.model_selection import train_test_split, StratifiedKFold, KFold\n",
    "\n",
    "\n",
    "from sklearn.metrics import classification_report\n",
    "from sklearn.metrics import confusion_matrix\n",
    "from sklearn.metrics import plot_confusion_matrix\n",
    "from sklearn.metrics import precision_recall_fscore_support as score"
   ]
  },
  {
   "cell_type": "code",
   "execution_count": null,
   "id": "4ca0a89b",
   "metadata": {},
   "outputs": [],
   "source": [
    "def train_test_model(model, X_train, X_test, y_train, y_test,labels):\n",
    "    print('Start training...', end='')\n",
    "    model.fit(X_train, y_train)\n",
    "    print('done!')\n",
    "    print(\"=\"*80)\n",
    "    print('Start testing...', end='')\n",
    "    predictions = model.predict(X_test)\n",
    "    accuracy = model.score(X_test, y_test)\n",
    "    metrics_report = classification_report(y_test, predictions, target_names=labels)\n",
    "    precision, recall, fscore, train_support = score(y_test, predictions, average='weighted')\n",
    "    print('done!')\n",
    "    print(\"=\"*80)\n",
    "    return predictions, accuracy, metrics_report, (precision, recall, fscore)"
   ]
  },
  {
   "cell_type": "code",
   "execution_count": null,
   "id": "d396ef83",
   "metadata": {},
   "outputs": [],
   "source": [
    "labels_=['hatefull','offensive','neither','Tobacco']"
   ]
  },
  {
   "cell_type": "markdown",
   "id": "0ee4d4db",
   "metadata": {},
   "source": [
    "# With Class_Weights"
   ]
  },
  {
   "cell_type": "code",
   "execution_count": 18,
   "id": "1e8afe3c",
   "metadata": {},
   "outputs": [],
   "source": [
    "weights={0:0.259068,1:0.079680,2:0.154860,3:1}"
   ]
  },
  {
   "cell_type": "code",
   "execution_count": 17,
   "id": "413f0673",
   "metadata": {},
   "outputs": [
    {
     "data": {
      "text/plain": [
       "1    26531\n",
       "2    13651\n",
       "0     8160\n",
       "3     2114\n",
       "Name: label, dtype: int64"
      ]
     },
     "execution_count": 17,
     "metadata": {},
     "output_type": "execute_result"
    }
   ],
   "source": [
    "data.label.value_counts()"
   ]
  },
  {
   "cell_type": "code",
   "execution_count": 19,
   "id": "ee6ccd0c",
   "metadata": {},
   "outputs": [
    {
     "name": "stdout",
     "output_type": "stream",
     "text": [
      "Start training...done!\n",
      "================================================================================\n",
      "Start testing...done!\n",
      "================================================================================\n",
      "accuracy: 0.739971460282226\n",
      "====================================================================================================\n",
      "              precision    recall  f1-score   support\n",
      "\n",
      "    hatefull       0.53      0.68      0.60      2040\n",
      "   offensive       0.89      0.68      0.77      6633\n",
      "     neither       0.67      0.86      0.75      3413\n",
      "     Tobacco       0.91      0.96      0.93       528\n",
      "\n",
      "    accuracy                           0.74     12614\n",
      "   macro avg       0.75      0.79      0.76     12614\n",
      "weighted avg       0.77      0.74      0.74     12614\n",
      "\n"
     ]
    },
    {
     "data": {
      "text/plain": [
       "<sklearn.metrics._plot.confusion_matrix.ConfusionMatrixDisplay at 0x7f9988847f50>"
      ]
     },
     "execution_count": 19,
     "metadata": {},
     "output_type": "execute_result"
    },
    {
     "data": {
      "image/png": "[encoded data removed]",
      "text/plain": [
       "<Figure size 432x288 with 2 Axes>"
      ]
     },
     "metadata": {
      "needs_background": "light"
     },
     "output_type": "display_data"
    }
   ],
   "source": [
    "log_model=LogisticRegression(penalty='l2',max_iter=1000,class_weight=weights)\n",
    "predictions, accuracy, metrics_report, log_prf = train_test_model(log_model, X_train_tweet, X_test_tweet, y_train, y_test, labels_)\n",
    "\n",
    "\n",
    "print('accuracy: {}'.format(accuracy))\n",
    "print('='*100)\n",
    "print(metrics_report)\n",
    "\n",
    "plot_confusion_matrix(log_model, X_test_tweet, y_test, display_labels=labels_, xticks_rotation='vertical', cmap=\"BuPu\")"
   ]
  },
  {
   "cell_type": "code",
   "execution_count": 20,
   "id": "d9c436f3",
   "metadata": {},
   "outputs": [
    {
     "name": "stdout",
     "output_type": "stream",
     "text": [
      "Start training...done!\n",
      "================================================================================\n",
      "Start testing...done!\n",
      "================================================================================\n",
      "accuracy: 0.7555890280640558\n",
      "====================================================================================================\n",
      "              precision    recall  f1-score   support\n",
      "\n",
      "    hatefull       0.59      0.61      0.60      2040\n",
      "   offensive       0.86      0.74      0.80      6633\n",
      "     neither       0.68      0.83      0.75      3413\n",
      "     Tobacco       0.87      0.96      0.92       528\n",
      "\n",
      "    accuracy                           0.76     12614\n",
      "   macro avg       0.75      0.79      0.77     12614\n",
      "weighted avg       0.77      0.76      0.76     12614\n",
      "\n"
     ]
    },
    {
     "data": {
      "text/plain": [
       "<sklearn.metrics._plot.confusion_matrix.ConfusionMatrixDisplay at 0x7f99793e9c90>"
      ]
     },
     "execution_count": 20,
     "metadata": {},
     "output_type": "execute_result"
    },
    {
     "data": {
      "image/png": "[encoded data removed]",
      "text/plain": [
       "<Figure size 432x288 with 2 Axes>"
      ]
     },
     "metadata": {
      "needs_background": "light"
     },
     "output_type": "display_data"
    }
   ],
   "source": [
    "svm = LinearSVC(class_weight=weights, verbose=False, max_iter=10000, tol=1e-4, C=0.1)\n",
    "\n",
    "predictions, accuracy, metrics_report, svm_prf = train_test_model(svm, X_train_tweet, X_test_tweet, y_train, y_test, labels_)\n",
    "\n",
    "\n",
    "print('accuracy: {}'.format(accuracy))\n",
    "print('='*100)\n",
    "print(metrics_report)\n",
    "\n",
    "plot_confusion_matrix(svm, X_test_tweet, y_test, display_labels=labels_, xticks_rotation='vertical', cmap=\"BuPu\")"
   ]
  },
  {
   "cell_type": "code",
   "execution_count": null,
   "id": "79938dae",
   "metadata": {},
   "outputs": [],
   "source": []
  },
  {
   "cell_type": "code",
   "execution_count": null,
   "id": "688ed995",
   "metadata": {},
   "outputs": [],
   "source": []
  },
  {
   "cell_type": "code",
   "execution_count": null,
   "id": "e1b4c1bf",
   "metadata": {},
   "outputs": [],
   "source": []
  },
  {
   "cell_type": "code",
   "execution_count": null,
   "id": "e8944dcb",
   "metadata": {},
   "outputs": [],
   "source": []
  },
  {
   "cell_type": "code",
   "execution_count": null,
   "id": "b53eefca",
   "metadata": {},
   "outputs": [],
   "source": []
  },
  {
   "cell_type": "code",
   "execution_count": null,
   "id": "b0a87f07",
   "metadata": {},
   "outputs": [],
   "source": []
  },
  {
   "cell_type": "code",
   "execution_count": null,
   "id": "706dda4d",
   "metadata": {},
   "outputs": [],
   "source": []
  },
  {
   "cell_type": "code",
   "execution_count": null,
   "id": "0c29b78f",
   "metadata": {},
   "outputs": [],
   "source": []
  },
  {
   "cell_type": "code",
   "execution_count": null,
   "id": "c5e3b616",
   "metadata": {},
   "outputs": [],
   "source": []
  },
  {
   "cell_type": "code",
   "execution_count": null,
   "id": "d2c062a3",
   "metadata": {},
   "outputs": [],
   "source": []
  },
  {
   "cell_type": "code",
   "execution_count": null,
   "id": "755a4512",
   "metadata": {},
   "outputs": [],
   "source": []
  },
  {
   "cell_type": "code",
   "execution_count": null,
   "id": "7f485a3b",
   "metadata": {},
   "outputs": [],
   "source": []
  },
  {
   "cell_type": "code",
   "execution_count": null,
   "id": "ea494b2d",
   "metadata": {},
   "outputs": [],
   "source": []
  },
  {
   "cell_type": "code",
   "execution_count": null,
   "id": "8779bcee",
   "metadata": {},
   "outputs": [],
   "source": []
  },
  {
   "cell_type": "code",
   "execution_count": null,
   "id": "f0e2aaf0",
   "metadata": {},
   "outputs": [],
   "source": []
  },
  {
   "cell_type": "code",
   "execution_count": null,
   "id": "af2433f1",
   "metadata": {},
   "outputs": [],
   "source": []
  }
 ],
 "metadata": {
  "kernelspec": {
   "display_name": "Python 3 (ipykernel)",
   "language": "python",
   "name": "python3"
  },
  "language_info": {
   "codemirror_mode": {
    "name": "ipython",
    "version": 3
   },
   "file_extension": ".py",
   "mimetype": "text/x-python",
   "name": "python",
   "nbconvert_exporter": "python",
   "pygments_lexer": "ipython3",
   "version": "3.7.11"
  }
 },
 "nbformat": 4,
 "nbformat_minor": 5
}
