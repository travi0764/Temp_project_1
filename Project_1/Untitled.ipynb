{
 "cells": [
  {
   "cell_type": "code",
   "execution_count": 26,
   "id": "9365ba55",
   "metadata": {},
   "outputs": [
    {
     "name": "stderr",
     "output_type": "stream",
     "text": [
      "[nltk_data] Downloading package punkt to\n",
      "[nltk_data]     /Users/ravitiwari/nltk_data...\n",
      "[nltk_data]   Package punkt is already up-to-date!\n",
      "[nltk_data] Downloading package stopwords to\n",
      "[nltk_data]     /Users/ravitiwari/nltk_data...\n",
      "[nltk_data]   Package stopwords is already up-to-date!\n",
      "2021-12-02 10:13:35.566001: I tensorflow/core/grappler/optimizers/custom_graph_optimizer_registry.cc:112] Plugin optimizer for device_type GPU is enabled.\n"
     ]
    },
    {
     "name": "stdout",
     "output_type": "stream",
     "text": [
      "module https://tfhub.dev/google/universal-sentence-encoder/4 loaded\n"
     ]
    },
    {
     "name": "stderr",
     "output_type": "stream",
     "text": [
      "2021-12-02 10:13:36.287418: I tensorflow/core/grappler/optimizers/custom_graph_optimizer_registry.cc:112] Plugin optimizer for device_type GPU is enabled.\n"
     ]
    }
   ],
   "source": [
    "import pandas as pd\n",
    "import numpy as np\n",
    "import nltk\n",
    "import re\n",
    "import string\n",
    "from nltk.corpus import stopwords\n",
    "nltk.download('punkt')\n",
    "nltk.download('stopwords')\n",
    "from nltk.tokenize import word_tokenize\n",
    "from nltk.stem import WordNetLemmatizer \n",
    "from nltk import sent_tokenize\n",
    "from nltk import word_tokenize\n",
    "\n",
    "import tensorflow as tf\n",
    "import tensorflow_hub as hub\n",
    "\n",
    "stop_words = stopwords.words()\n",
    "\n",
    "def cleaning(text):        \n",
    "    \n",
    "    text = re.sub(r\"won't\", \"will not\",text)\n",
    "    text = re.sub(r\"can\\'t\", \"can not\",text)\n",
    "    text = re.sub(r\"n\\'t\", \" not\",text)\n",
    "    text = re.sub(r\"\\'re\", \" are\",text)\n",
    "    text = re.sub(r\"\\'s\", \" is\",text)\n",
    "    text = re.sub(r\"\\'d\", \" would\",text)\n",
    "    text = re.sub(r\"\\'ll\", \" will\",text)\n",
    "    text = re.sub(r\"\\'t\", \" not\",text)\n",
    "    text = re.sub(r\"\\'ve\", \" have\",text)\n",
    "    text = re.sub(r\"\\'m\", \" am\",text)\n",
    "    text = re.sub('RT',\" \", text)\n",
    "    \n",
    "\n",
    "    text = re.sub(\"\\$RESERVED\\$ \\$MENTION\\$|\\$NUMBER\\$|\\$MENTION\\$\",' ', text)\n",
    "    text = text.lower()\n",
    "    text = re.sub('https?://\\S+|www\\.\\S+', ' ', text)\n",
    "    text = re.sub('<.*?>+', ' ', text)\n",
    "    text = re.sub('[%s]' % re.escape(string.punctuation), ' ', text)\n",
    "    text = re.sub('\\n', ' ', text)\n",
    "    text = re.sub('[’“”…]', ' ', text)   \n",
    "    \n",
    "    \n",
    "    text = re.sub('user',\" \", text)\n",
    "    text = re.sub('url',\" \", text)\n",
    "    \n",
    "    text = re.sub('reserved',\" \", text)\n",
    "    \n",
    "    \n",
    "    \n",
    "    \n",
    "    \n",
    "    \n",
    "    text = re.sub(\"[^A-Za-z]\",' ',text)\n",
    "    \n",
    "\n",
    "    # removing the emojies               \n",
    "    emoji_pattern = re.compile(\"[\"\n",
    "                           u\"\\U0001F600-\\U0001F64F\"  # emoticons\n",
    "                           u\"\\U0001F300-\\U0001F5FF\"  # symbols & pictographs\n",
    "                           u\"\\U0001F680-\\U0001F6FF\"  # transport & map symbols\n",
    "                           u\"\\U0001F1E0-\\U0001F1FF\"  # flags (iOS)\n",
    "                           u\"\\U00002702-\\U000027B0\"\n",
    "                           u\"\\U000024C2-\\U0001F251\"\n",
    "                           \"]+\", flags=re.UNICODE)\n",
    "    text = emoji_pattern.sub(r' ', text)   \n",
    "    \n",
    "    \n",
    "    \n",
    "    \n",
    "    \n",
    "    \n",
    "    return text\n",
    "\n",
    "\n",
    "\n",
    "\n",
    "    \n",
    "module_url = \"https://tfhub.dev/google/universal-sentence-encoder/4\" \n",
    "model = hub.load(module_url)\n",
    "print (\"module %s loaded\" % module_url)\n",
    "def embed(text):\n",
    "    return model(text)"
   ]
  },
  {
   "cell_type": "code",
   "execution_count": 27,
   "id": "3c359615",
   "metadata": {},
   "outputs": [],
   "source": [
    "import numpy as np\n",
    "import pandas as pd\n",
    "import pickle\n",
    "from sklearn.linear_model import LogisticRegression\n",
    "from sklearn.svm import LinearSVC\n",
    "from sklearn.metrics import confusion_matrix\n",
    "import joblib\n",
    "from sklearn.metrics import classification_report\n",
    "from sklearn.metrics import confusion_matrix\n",
    "from sklearn.metrics import plot_confusion_matrix\n",
    "from sklearn.metrics import precision_recall_fscore_support as score\n",
    "from sklearn.model_selection import train_test_split"
   ]
  },
  {
   "cell_type": "code",
   "execution_count": 28,
   "id": "7e136196",
   "metadata": {},
   "outputs": [
    {
     "name": "stderr",
     "output_type": "stream",
     "text": [
      "2021-12-02 10:13:41.461573: I tensorflow/core/grappler/optimizers/custom_graph_optimizer_registry.cc:112] Plugin optimizer for device_type GPU is enabled.\n"
     ]
    }
   ],
   "source": [
    "data=pd.read_csv(\"NEW_DATA_RT.csv\")\n",
    "data.drop(['Unnamed: 0'],axis=1,inplace=True)\n",
    "data.dropna(inplace=True)\n",
    "\n",
    "data.tweet=data.tweet.apply(cleaning)\n",
    "\n",
    "y=data['label']\n",
    "x=data['tweet']    \n",
    "\n",
    "X_train, X_test, y_train, y_test = train_test_split(x, y, test_size=0.20, stratify=y)\n",
    "\n",
    "X_train_tweet = embed(list(X_train))\n",
    "X_test_tweet = embed(list(X_test))\n",
    "\n",
    "#X_train=embed(list(x))\n",
    "\n",
    "\n"
   ]
  },
  {
   "cell_type": "code",
   "execution_count": 29,
   "id": "faaaf4fa",
   "metadata": {},
   "outputs": [
    {
     "data": {
      "text/plain": [
       "normal        19658\n",
       "depression     8000\n",
       "suicide        4384\n",
       "Name: label, dtype: int64"
      ]
     },
     "execution_count": 29,
     "metadata": {},
     "output_type": "execute_result"
    }
   ],
   "source": [
    "data.label.value_counts()"
   ]
  },
  {
   "cell_type": "code",
   "execution_count": 30,
   "id": "3acd458f",
   "metadata": {},
   "outputs": [],
   "source": [
    "svm = LinearSVC(class_weight='balanced', verbose=False, max_iter=10000, tol=1e-4, C=0.1)\n",
    "svm.fit(X_train_tweet, y_train)\n",
    "\n",
    "pickle.dump(svm,open(\"model.pkl\",\"wb\"))\n"
   ]
  },
  {
   "cell_type": "code",
   "execution_count": 31,
   "id": "6b25e8bd",
   "metadata": {},
   "outputs": [
    {
     "name": "stdout",
     "output_type": "stream",
     "text": [
      "ill never forget how the depression and loneliness felt good and bad at the same time  still does \n"
     ]
    }
   ],
   "source": [
    "model_1 = pickle.load(open(\"model.pkl\",\"rb\"))\n",
    "\n",
    "test_input=input()\n",
    "li=[]\n",
    "li.append(test_input)\n",
    "\n",
    "test_embed=embed(li)\n",
    "\n"
   ]
  },
  {
   "cell_type": "code",
   "execution_count": 32,
   "id": "d315ff55",
   "metadata": {},
   "outputs": [
    {
     "name": "stdout",
     "output_type": "stream",
     "text": [
      "['normal']\n"
     ]
    }
   ],
   "source": [
    "predicted=model_1.predict(test_embed)\n",
    "print(predicted)"
   ]
  },
  {
   "cell_type": "code",
   "execution_count": 33,
   "id": "fa2b654a",
   "metadata": {},
   "outputs": [
    {
     "data": {
      "text/plain": [
       "array(['normal'], dtype=object)"
      ]
     },
     "execution_count": 33,
     "metadata": {},
     "output_type": "execute_result"
    }
   ],
   "source": [
    "svm.predict(test_embed)"
   ]
  },
  {
   "cell_type": "code",
   "execution_count": 34,
   "id": "fbc0a2a8",
   "metadata": {},
   "outputs": [
    {
     "data": {
      "text/plain": [
       "array(['normal'], dtype=object)"
      ]
     },
     "execution_count": 34,
     "metadata": {},
     "output_type": "execute_result"
    }
   ],
   "source": [
    "svm = LinearSVC(class_weight='balanced', verbose=False, max_iter=10000, tol=1e-4, C=0.1)\n",
    "svm.fit(X_train_tweet, y_train)\n",
    "svm.predict(test_embed)"
   ]
  },
  {
   "cell_type": "code",
   "execution_count": 35,
   "id": "6a420fc4",
   "metadata": {},
   "outputs": [],
   "source": [
    "from sklearn.multiclass import OneVsRestClassifier\n",
    "from sklearn.naive_bayes import MultinomialNB\n",
    "from sklearn.linear_model import LogisticRegression\n",
    "from sklearn.svm import LinearSVC\n",
    "from sklearn.ensemble import RandomForestRegressor\n",
    "from sklearn.ensemble import RandomForestClassifier\n",
    "from sklearn.metrics import confusion_matrix\n",
    "import joblib\n",
    "from sklearn.svm import SVC\n",
    "from sklearn.metrics import f1_score\n",
    "from sklearn.model_selection import GridSearchCV\n",
    "\n",
    "from sklearn.feature_extraction.text import CountVectorizer, TfidfVectorizer\n",
    "from sklearn import preprocessing\n",
    "from sklearn.model_selection import train_test_split, StratifiedKFold, KFold\n",
    "\n",
    "from sklearn.naive_bayes import MultinomialNB\n",
    "from sklearn.linear_model import SGDClassifier\n",
    "from sklearn.linear_model import LogisticRegression\n",
    "from sklearn.svm import LinearSVC\n",
    "from sklearn.ensemble import RandomForestClassifier, GradientBoostingClassifier\n",
    "\n",
    "from sklearn.metrics import classification_report\n",
    "from sklearn.metrics import confusion_matrix\n",
    "from sklearn.metrics import plot_confusion_matrix\n",
    "from sklearn.metrics import precision_recall_fscore_support as score"
   ]
  },
  {
   "cell_type": "code",
   "execution_count": 36,
   "id": "3215cf19",
   "metadata": {},
   "outputs": [],
   "source": [
    "def train_test_model(model, X_train, X_test, y_train, y_test,labels):\n",
    "    print('Start training...', end='')\n",
    "    model.fit(X_train, y_train)\n",
    "    print('done!')\n",
    "    print(\"=\"*80)\n",
    "    print('Start testing...', end='')\n",
    "    predictions = model.predict(X_test)\n",
    "    accuracy = model.score(X_test, y_test)\n",
    "    metrics_report = classification_report(y_test, predictions, target_names=labels)\n",
    "    precision, recall, fscore, train_support = score(y_test, predictions, average='weighted')\n",
    "    print('done!')\n",
    "    print(\"=\"*80)\n",
    "    return predictions, accuracy, metrics_report, (precision, recall, fscore)"
   ]
  },
  {
   "cell_type": "code",
   "execution_count": 37,
   "id": "dfdea7a7",
   "metadata": {},
   "outputs": [],
   "source": [
    "labels_=['Depression','Normal','Smoking']"
   ]
  },
  {
   "cell_type": "code",
   "execution_count": 38,
   "id": "0c15239d",
   "metadata": {},
   "outputs": [
    {
     "name": "stdout",
     "output_type": "stream",
     "text": [
      "Start training...done!\n",
      "================================================================================\n",
      "Start testing...done!\n",
      "================================================================================\n",
      "accuracy: 0.6135122484006865\n",
      "====================================================================================================\n",
      "              precision    recall  f1-score   support\n",
      "\n",
      "  Depression       0.00      0.00      0.00      1600\n",
      "      Normal       0.61      1.00      0.76      3932\n",
      "     Smoking       0.00      0.00      0.00       877\n",
      "\n",
      "    accuracy                           0.61      6409\n",
      "   macro avg       0.20      0.33      0.25      6409\n",
      "weighted avg       0.38      0.61      0.47      6409\n",
      "\n"
     ]
    },
    {
     "name": "stderr",
     "output_type": "stream",
     "text": [
      "/Users/ravitiwari/miniforge3/envs/tf/lib/python3.9/site-packages/sklearn/metrics/_classification.py:1308: UndefinedMetricWarning: Precision and F-score are ill-defined and being set to 0.0 in labels with no predicted samples. Use `zero_division` parameter to control this behavior.\n",
      "  _warn_prf(average, modifier, msg_start, len(result))\n",
      "/Users/ravitiwari/miniforge3/envs/tf/lib/python3.9/site-packages/sklearn/metrics/_classification.py:1308: UndefinedMetricWarning: Precision and F-score are ill-defined and being set to 0.0 in labels with no predicted samples. Use `zero_division` parameter to control this behavior.\n",
      "  _warn_prf(average, modifier, msg_start, len(result))\n",
      "/Users/ravitiwari/miniforge3/envs/tf/lib/python3.9/site-packages/sklearn/metrics/_classification.py:1308: UndefinedMetricWarning: Precision and F-score are ill-defined and being set to 0.0 in labels with no predicted samples. Use `zero_division` parameter to control this behavior.\n",
      "  _warn_prf(average, modifier, msg_start, len(result))\n",
      "/Users/ravitiwari/miniforge3/envs/tf/lib/python3.9/site-packages/sklearn/metrics/_classification.py:1308: UndefinedMetricWarning: Precision and F-score are ill-defined and being set to 0.0 in labels with no predicted samples. Use `zero_division` parameter to control this behavior.\n",
      "  _warn_prf(average, modifier, msg_start, len(result))\n",
      "/Users/ravitiwari/miniforge3/envs/tf/lib/python3.9/site-packages/sklearn/utils/deprecation.py:87: FutureWarning: Function plot_confusion_matrix is deprecated; Function `plot_confusion_matrix` is deprecated in 1.0 and will be removed in 1.2. Use one of the class methods: ConfusionMatrixDisplay.from_predictions or ConfusionMatrixDisplay.from_estimator.\n",
      "  warnings.warn(msg, category=FutureWarning)\n"
     ]
    },
    {
     "data": {
      "text/plain": [
       "<sklearn.metrics._plot.confusion_matrix.ConfusionMatrixDisplay at 0x148f14dc0>"
      ]
     },
     "execution_count": 38,
     "metadata": {},
     "output_type": "execute_result"
    },
    {
     "data": {
      "image/png": "[encoded data removed]",
      "text/plain": [
       "<Figure size 432x288 with 2 Axes>"
      ]
     },
     "metadata": {
      "needs_background": "light"
     },
     "output_type": "display_data"
    }
   ],
   "source": [
    "log_model=LogisticRegression(penalty='l2',max_iter=1000)\n",
    "predictions, accuracy, metrics_report, log_prf = train_test_model(log_model, X_train_tweet, X_test_tweet, y_train, y_test, labels_)\n",
    "\n",
    "\n",
    "print('accuracy: {}'.format(accuracy))\n",
    "print('='*100)\n",
    "print(metrics_report)\n",
    "\n",
    "plot_confusion_matrix(log_model, X_test_tweet, y_test, display_labels=labels_, xticks_rotation='vertical', cmap=\"BuPu\")"
   ]
  },
  {
   "cell_type": "code",
   "execution_count": 4,
   "id": "00f4550c",
   "metadata": {},
   "outputs": [],
   "source": [
    "data=pd.read_csv(\"dummy_data.csv\")"
   ]
  },
  {
   "cell_type": "code",
   "execution_count": 5,
   "id": "883d7c45",
   "metadata": {},
   "outputs": [
    {
     "data": {
      "text/html": [
       "<div>\n",
       "<style scoped>\n",
       "    .dataframe tbody tr th:only-of-type {\n",
       "        vertical-align: middle;\n",
       "    }\n",
       "\n",
       "    .dataframe tbody tr th {\n",
       "        vertical-align: top;\n",
       "    }\n",
       "\n",
       "    .dataframe thead th {\n",
       "        text-align: right;\n",
       "    }\n",
       "</style>\n",
       "<table border=\"1\" class=\"dataframe\">\n",
       "  <thead>\n",
       "    <tr style=\"text-align: right;\">\n",
       "      <th></th>\n",
       "      <th>Unnamed: 0</th>\n",
       "      <th>text</th>\n",
       "      <th>label</th>\n",
       "    </tr>\n",
       "  </thead>\n",
       "  <tbody>\n",
       "    <tr>\n",
       "      <th>0</th>\n",
       "      <td>616</td>\n",
       "      <td>he is here every one on council is here</td>\n",
       "      <td>normal</td>\n",
       "    </tr>\n",
       "    <tr>\n",
       "      <th>1</th>\n",
       "      <td>460</td>\n",
       "      <td>how many women commited jouhar to avoid rape a...</td>\n",
       "      <td>normal</td>\n",
       "    </tr>\n",
       "    <tr>\n",
       "      <th>2</th>\n",
       "      <td>372</td>\n",
       "      <td>well you are dumped</td>\n",
       "      <td>normal</td>\n",
       "    </tr>\n",
       "    <tr>\n",
       "      <th>3</th>\n",
       "      <td>287</td>\n",
       "      <td>could you guys go say  hey  to this guy for me...</td>\n",
       "      <td>suicide</td>\n",
       "    </tr>\n",
       "    <tr>\n",
       "      <th>4</th>\n",
       "      <td>136</td>\n",
       "      <td>depression is the inability to construct a fut...</td>\n",
       "      <td>depression</td>\n",
       "    </tr>\n",
       "    <tr>\n",
       "      <th>...</th>\n",
       "      <td>...</td>\n",
       "      <td>...</td>\n",
       "      <td>...</td>\n",
       "    </tr>\n",
       "    <tr>\n",
       "      <th>615</th>\n",
       "      <td>584</td>\n",
       "      <td>bitch you are so brave and smart and hysterica...</td>\n",
       "      <td>normal</td>\n",
       "    </tr>\n",
       "    <tr>\n",
       "      <th>616</th>\n",
       "      <td>219</td>\n",
       "      <td>im almost done i posted on here months ago say...</td>\n",
       "      <td>suicide</td>\n",
       "    </tr>\n",
       "    <tr>\n",
       "      <th>617</th>\n",
       "      <td>394</td>\n",
       "      <td>says he is the best tx he is for ending open b...</td>\n",
       "      <td>normal</td>\n",
       "    </tr>\n",
       "    <tr>\n",
       "      <th>618</th>\n",
       "      <td>18</td>\n",
       "      <td>the perfect is the enemy of the good</td>\n",
       "      <td>depression</td>\n",
       "    </tr>\n",
       "    <tr>\n",
       "      <th>619</th>\n",
       "      <td>165</td>\n",
       "      <td>i dont want to do anything  i dont even want t...</td>\n",
       "      <td>depression</td>\n",
       "    </tr>\n",
       "  </tbody>\n",
       "</table>\n",
       "<p>620 rows × 3 columns</p>\n",
       "</div>"
      ],
      "text/plain": [
       "     Unnamed: 0                                               text       label\n",
       "0           616            he is here every one on council is here      normal\n",
       "1           460  how many women commited jouhar to avoid rape a...      normal\n",
       "2           372                                well you are dumped      normal\n",
       "3           287  could you guys go say  hey  to this guy for me...     suicide\n",
       "4           136  depression is the inability to construct a fut...  depression\n",
       "..          ...                                                ...         ...\n",
       "615         584  bitch you are so brave and smart and hysterica...      normal\n",
       "616         219  im almost done i posted on here months ago say...     suicide\n",
       "617         394  says he is the best tx he is for ending open b...      normal\n",
       "618          18              the perfect is the enemy of the good   depression\n",
       "619         165  i dont want to do anything  i dont even want t...  depression\n",
       "\n",
       "[620 rows x 3 columns]"
      ]
     },
     "execution_count": 5,
     "metadata": {},
     "output_type": "execute_result"
    }
   ],
   "source": [
    "data"
   ]
  },
  {
   "cell_type": "code",
   "execution_count": 6,
   "id": "38810fd0",
   "metadata": {},
   "outputs": [
    {
     "data": {
      "text/plain": [
       "normal        298\n",
       "depression    171\n",
       "suicide       151\n",
       "Name: label, dtype: int64"
      ]
     },
     "execution_count": 6,
     "metadata": {},
     "output_type": "execute_result"
    }
   ],
   "source": [
    "data.label.value_counts()"
   ]
  },
  {
   "cell_type": "code",
   "execution_count": 7,
   "id": "44e81f68",
   "metadata": {},
   "outputs": [],
   "source": [
    "li=['My worst habit used to be smoking but I quit.',\n",
    "   \"Just when it can't get any worse, you run out of cigarettes.\",\n",
    "   \"Bless the saints! It's an ashtray! I’ve been thinking of taking up smoking, this clinches it.\",\n",
    "   \"Jonathan Mardukas: Come on, cigarettes are killers.\",\n",
    "   \"Mister Young, we have got to talk. Would you like a cigarette?\",\n",
    "   \"No thanks, that shit'll kill ya.\",\n",
    "   \"Sergeant, you get that contraband stokey out of my face, or I'll shove it up your ass so far you'll have to set fire to your nose to light it.\",\n",
    "   \"I smoke ten to fifteen cigars a day. At my age I have to hold on to something.\",\n",
    "    \"Frankly, my dear, I don't give a damn.\",\n",
    "   \"I'm going to make him an offer he can't refuse.\",\n",
    "   \"You don't understand! I coulda had class. I coulda been a contender. I could've been somebody, instead of a bum, which is what I am\",\n",
    "    \"Toto, I've got a feeling we're not in Kansas anymore.\",\n",
    "   \"Fasten your seatbelts. It's going to be a bumpy night.\"]"
   ]
  },
  {
   "cell_type": "code",
   "execution_count": 8,
   "id": "97fb5d5e",
   "metadata": {},
   "outputs": [],
   "source": [
    "data=pd.DataFrame((li))"
   ]
  },
  {
   "cell_type": "code",
   "execution_count": 9,
   "id": "3678ce3c",
   "metadata": {},
   "outputs": [
    {
     "data": {
      "text/html": [
       "<div>\n",
       "<style scoped>\n",
       "    .dataframe tbody tr th:only-of-type {\n",
       "        vertical-align: middle;\n",
       "    }\n",
       "\n",
       "    .dataframe tbody tr th {\n",
       "        vertical-align: top;\n",
       "    }\n",
       "\n",
       "    .dataframe thead th {\n",
       "        text-align: right;\n",
       "    }\n",
       "</style>\n",
       "<table border=\"1\" class=\"dataframe\">\n",
       "  <thead>\n",
       "    <tr style=\"text-align: right;\">\n",
       "      <th></th>\n",
       "      <th>0</th>\n",
       "    </tr>\n",
       "  </thead>\n",
       "  <tbody>\n",
       "    <tr>\n",
       "      <th>0</th>\n",
       "      <td>My worst habit used to be smoking but I quit.</td>\n",
       "    </tr>\n",
       "    <tr>\n",
       "      <th>1</th>\n",
       "      <td>Just when it can't get any worse, you run out ...</td>\n",
       "    </tr>\n",
       "    <tr>\n",
       "      <th>2</th>\n",
       "      <td>Bless the saints! It's an ashtray! I’ve been t...</td>\n",
       "    </tr>\n",
       "    <tr>\n",
       "      <th>3</th>\n",
       "      <td>Jonathan Mardukas: Come on, cigarettes are kil...</td>\n",
       "    </tr>\n",
       "    <tr>\n",
       "      <th>4</th>\n",
       "      <td>Mister Young, we have got to talk. Would you l...</td>\n",
       "    </tr>\n",
       "    <tr>\n",
       "      <th>5</th>\n",
       "      <td>No thanks, that shit'll kill ya.</td>\n",
       "    </tr>\n",
       "    <tr>\n",
       "      <th>6</th>\n",
       "      <td>Sergeant, you get that contraband stokey out o...</td>\n",
       "    </tr>\n",
       "    <tr>\n",
       "      <th>7</th>\n",
       "      <td>I smoke ten to fifteen cigars a day. At my age...</td>\n",
       "    </tr>\n",
       "    <tr>\n",
       "      <th>8</th>\n",
       "      <td>Frankly, my dear, I don't give a damn.</td>\n",
       "    </tr>\n",
       "    <tr>\n",
       "      <th>9</th>\n",
       "      <td>I'm going to make him an offer he can't refuse.</td>\n",
       "    </tr>\n",
       "    <tr>\n",
       "      <th>10</th>\n",
       "      <td>You don't understand! I coulda had class. I co...</td>\n",
       "    </tr>\n",
       "    <tr>\n",
       "      <th>11</th>\n",
       "      <td>Toto, I've got a feeling we're not in Kansas a...</td>\n",
       "    </tr>\n",
       "    <tr>\n",
       "      <th>12</th>\n",
       "      <td>Fasten your seatbelts. It's going to be a bump...</td>\n",
       "    </tr>\n",
       "  </tbody>\n",
       "</table>\n",
       "</div>"
      ],
      "text/plain": [
       "                                                    0\n",
       "0       My worst habit used to be smoking but I quit.\n",
       "1   Just when it can't get any worse, you run out ...\n",
       "2   Bless the saints! It's an ashtray! I’ve been t...\n",
       "3   Jonathan Mardukas: Come on, cigarettes are kil...\n",
       "4   Mister Young, we have got to talk. Would you l...\n",
       "5                    No thanks, that shit'll kill ya.\n",
       "6   Sergeant, you get that contraband stokey out o...\n",
       "7   I smoke ten to fifteen cigars a day. At my age...\n",
       "8              Frankly, my dear, I don't give a damn.\n",
       "9     I'm going to make him an offer he can't refuse.\n",
       "10  You don't understand! I coulda had class. I co...\n",
       "11  Toto, I've got a feeling we're not in Kansas a...\n",
       "12  Fasten your seatbelts. It's going to be a bump..."
      ]
     },
     "execution_count": 9,
     "metadata": {},
     "output_type": "execute_result"
    }
   ],
   "source": [
    "data"
   ]
  },
  {
   "cell_type": "code",
   "execution_count": 10,
   "id": "9e69ddde",
   "metadata": {},
   "outputs": [],
   "source": [
    "p=[]\n",
    "for i in range(len(li)):\n",
    "    if i<=7:\n",
    "        p.append('smoking')\n",
    "    else:\n",
    "        p.append('normal')"
   ]
  },
  {
   "cell_type": "code",
   "execution_count": 11,
   "id": "74024153",
   "metadata": {},
   "outputs": [
    {
     "data": {
      "text/plain": [
       "['smoking',\n",
       " 'smoking',\n",
       " 'smoking',\n",
       " 'smoking',\n",
       " 'smoking',\n",
       " 'smoking',\n",
       " 'smoking',\n",
       " 'smoking',\n",
       " 'normal',\n",
       " 'normal',\n",
       " 'normal',\n",
       " 'normal',\n",
       " 'normal']"
      ]
     },
     "execution_count": 11,
     "metadata": {},
     "output_type": "execute_result"
    }
   ],
   "source": [
    "p"
   ]
  },
  {
   "cell_type": "code",
   "execution_count": 12,
   "id": "8f657689",
   "metadata": {},
   "outputs": [
    {
     "data": {
      "text/html": [
       "<div>\n",
       "<style scoped>\n",
       "    .dataframe tbody tr th:only-of-type {\n",
       "        vertical-align: middle;\n",
       "    }\n",
       "\n",
       "    .dataframe tbody tr th {\n",
       "        vertical-align: top;\n",
       "    }\n",
       "\n",
       "    .dataframe thead th {\n",
       "        text-align: right;\n",
       "    }\n",
       "</style>\n",
       "<table border=\"1\" class=\"dataframe\">\n",
       "  <thead>\n",
       "    <tr style=\"text-align: right;\">\n",
       "      <th></th>\n",
       "      <th>0</th>\n",
       "      <th>label</th>\n",
       "    </tr>\n",
       "  </thead>\n",
       "  <tbody>\n",
       "    <tr>\n",
       "      <th>0</th>\n",
       "      <td>My worst habit used to be smoking but I quit.</td>\n",
       "      <td>smoking</td>\n",
       "    </tr>\n",
       "    <tr>\n",
       "      <th>1</th>\n",
       "      <td>Just when it can't get any worse, you run out ...</td>\n",
       "      <td>smoking</td>\n",
       "    </tr>\n",
       "    <tr>\n",
       "      <th>2</th>\n",
       "      <td>Bless the saints! It's an ashtray! I’ve been t...</td>\n",
       "      <td>smoking</td>\n",
       "    </tr>\n",
       "    <tr>\n",
       "      <th>3</th>\n",
       "      <td>Jonathan Mardukas: Come on, cigarettes are kil...</td>\n",
       "      <td>smoking</td>\n",
       "    </tr>\n",
       "    <tr>\n",
       "      <th>4</th>\n",
       "      <td>Mister Young, we have got to talk. Would you l...</td>\n",
       "      <td>smoking</td>\n",
       "    </tr>\n",
       "    <tr>\n",
       "      <th>5</th>\n",
       "      <td>No thanks, that shit'll kill ya.</td>\n",
       "      <td>smoking</td>\n",
       "    </tr>\n",
       "    <tr>\n",
       "      <th>6</th>\n",
       "      <td>Sergeant, you get that contraband stokey out o...</td>\n",
       "      <td>smoking</td>\n",
       "    </tr>\n",
       "    <tr>\n",
       "      <th>7</th>\n",
       "      <td>I smoke ten to fifteen cigars a day. At my age...</td>\n",
       "      <td>smoking</td>\n",
       "    </tr>\n",
       "    <tr>\n",
       "      <th>8</th>\n",
       "      <td>Frankly, my dear, I don't give a damn.</td>\n",
       "      <td>normal</td>\n",
       "    </tr>\n",
       "    <tr>\n",
       "      <th>9</th>\n",
       "      <td>I'm going to make him an offer he can't refuse.</td>\n",
       "      <td>normal</td>\n",
       "    </tr>\n",
       "    <tr>\n",
       "      <th>10</th>\n",
       "      <td>You don't understand! I coulda had class. I co...</td>\n",
       "      <td>normal</td>\n",
       "    </tr>\n",
       "    <tr>\n",
       "      <th>11</th>\n",
       "      <td>Toto, I've got a feeling we're not in Kansas a...</td>\n",
       "      <td>normal</td>\n",
       "    </tr>\n",
       "    <tr>\n",
       "      <th>12</th>\n",
       "      <td>Fasten your seatbelts. It's going to be a bump...</td>\n",
       "      <td>normal</td>\n",
       "    </tr>\n",
       "  </tbody>\n",
       "</table>\n",
       "</div>"
      ],
      "text/plain": [
       "                                                    0    label\n",
       "0       My worst habit used to be smoking but I quit.  smoking\n",
       "1   Just when it can't get any worse, you run out ...  smoking\n",
       "2   Bless the saints! It's an ashtray! I’ve been t...  smoking\n",
       "3   Jonathan Mardukas: Come on, cigarettes are kil...  smoking\n",
       "4   Mister Young, we have got to talk. Would you l...  smoking\n",
       "5                    No thanks, that shit'll kill ya.  smoking\n",
       "6   Sergeant, you get that contraband stokey out o...  smoking\n",
       "7   I smoke ten to fifteen cigars a day. At my age...  smoking\n",
       "8              Frankly, my dear, I don't give a damn.   normal\n",
       "9     I'm going to make him an offer he can't refuse.   normal\n",
       "10  You don't understand! I coulda had class. I co...   normal\n",
       "11  Toto, I've got a feeling we're not in Kansas a...   normal\n",
       "12  Fasten your seatbelts. It's going to be a bump...   normal"
      ]
     },
     "execution_count": 12,
     "metadata": {},
     "output_type": "execute_result"
    }
   ],
   "source": [
    "data['label']=p\n",
    "data"
   ]
  },
  {
   "cell_type": "code",
   "execution_count": 13,
   "id": "9a591aa5",
   "metadata": {},
   "outputs": [
    {
     "data": {
      "text/html": [
       "<div>\n",
       "<style scoped>\n",
       "    .dataframe tbody tr th:only-of-type {\n",
       "        vertical-align: middle;\n",
       "    }\n",
       "\n",
       "    .dataframe tbody tr th {\n",
       "        vertical-align: top;\n",
       "    }\n",
       "\n",
       "    .dataframe thead th {\n",
       "        text-align: right;\n",
       "    }\n",
       "</style>\n",
       "<table border=\"1\" class=\"dataframe\">\n",
       "  <thead>\n",
       "    <tr style=\"text-align: right;\">\n",
       "      <th></th>\n",
       "      <th>text</th>\n",
       "      <th>label</th>\n",
       "    </tr>\n",
       "  </thead>\n",
       "  <tbody>\n",
       "    <tr>\n",
       "      <th>0</th>\n",
       "      <td>My worst habit used to be smoking but I quit.</td>\n",
       "      <td>smoking</td>\n",
       "    </tr>\n",
       "    <tr>\n",
       "      <th>1</th>\n",
       "      <td>Just when it can't get any worse, you run out ...</td>\n",
       "      <td>smoking</td>\n",
       "    </tr>\n",
       "    <tr>\n",
       "      <th>2</th>\n",
       "      <td>Bless the saints! It's an ashtray! I’ve been t...</td>\n",
       "      <td>smoking</td>\n",
       "    </tr>\n",
       "    <tr>\n",
       "      <th>3</th>\n",
       "      <td>Jonathan Mardukas: Come on, cigarettes are kil...</td>\n",
       "      <td>smoking</td>\n",
       "    </tr>\n",
       "    <tr>\n",
       "      <th>4</th>\n",
       "      <td>Mister Young, we have got to talk. Would you l...</td>\n",
       "      <td>smoking</td>\n",
       "    </tr>\n",
       "    <tr>\n",
       "      <th>5</th>\n",
       "      <td>No thanks, that shit'll kill ya.</td>\n",
       "      <td>smoking</td>\n",
       "    </tr>\n",
       "    <tr>\n",
       "      <th>6</th>\n",
       "      <td>Sergeant, you get that contraband stokey out o...</td>\n",
       "      <td>smoking</td>\n",
       "    </tr>\n",
       "    <tr>\n",
       "      <th>7</th>\n",
       "      <td>I smoke ten to fifteen cigars a day. At my age...</td>\n",
       "      <td>smoking</td>\n",
       "    </tr>\n",
       "    <tr>\n",
       "      <th>8</th>\n",
       "      <td>Frankly, my dear, I don't give a damn.</td>\n",
       "      <td>normal</td>\n",
       "    </tr>\n",
       "    <tr>\n",
       "      <th>9</th>\n",
       "      <td>I'm going to make him an offer he can't refuse.</td>\n",
       "      <td>normal</td>\n",
       "    </tr>\n",
       "    <tr>\n",
       "      <th>10</th>\n",
       "      <td>You don't understand! I coulda had class. I co...</td>\n",
       "      <td>normal</td>\n",
       "    </tr>\n",
       "    <tr>\n",
       "      <th>11</th>\n",
       "      <td>Toto, I've got a feeling we're not in Kansas a...</td>\n",
       "      <td>normal</td>\n",
       "    </tr>\n",
       "    <tr>\n",
       "      <th>12</th>\n",
       "      <td>Fasten your seatbelts. It's going to be a bump...</td>\n",
       "      <td>normal</td>\n",
       "    </tr>\n",
       "  </tbody>\n",
       "</table>\n",
       "</div>"
      ],
      "text/plain": [
       "                                                 text    label\n",
       "0       My worst habit used to be smoking but I quit.  smoking\n",
       "1   Just when it can't get any worse, you run out ...  smoking\n",
       "2   Bless the saints! It's an ashtray! I’ve been t...  smoking\n",
       "3   Jonathan Mardukas: Come on, cigarettes are kil...  smoking\n",
       "4   Mister Young, we have got to talk. Would you l...  smoking\n",
       "5                    No thanks, that shit'll kill ya.  smoking\n",
       "6   Sergeant, you get that contraband stokey out o...  smoking\n",
       "7   I smoke ten to fifteen cigars a day. At my age...  smoking\n",
       "8              Frankly, my dear, I don't give a damn.   normal\n",
       "9     I'm going to make him an offer he can't refuse.   normal\n",
       "10  You don't understand! I coulda had class. I co...   normal\n",
       "11  Toto, I've got a feeling we're not in Kansas a...   normal\n",
       "12  Fasten your seatbelts. It's going to be a bump...   normal"
      ]
     },
     "execution_count": 13,
     "metadata": {},
     "output_type": "execute_result"
    }
   ],
   "source": [
    "data.rename(columns={0:'text'},inplace=True)\n",
    "data"
   ]
  },
  {
   "cell_type": "code",
   "execution_count": 14,
   "id": "8a07b8ae",
   "metadata": {},
   "outputs": [],
   "source": [
    "data.to_csv(\"Dummy_Data.csv\")"
   ]
  },
  {
   "cell_type": "code",
   "execution_count": null,
   "id": "ae4d8281",
   "metadata": {},
   "outputs": [],
   "source": []
  }
 ],
 "metadata": {
  "kernelspec": {
   "display_name": "Python 3 (ipykernel)",
   "language": "python",
   "name": "python3"
  },
  "language_info": {
   "codemirror_mode": {
    "name": "ipython",
    "version": 3
   },
   "file_extension": ".py",
   "mimetype": "text/x-python",
   "name": "python",
   "nbconvert_exporter": "python",
   "pygments_lexer": "ipython3",
   "version": "3.9.7"
  }
 },
 "nbformat": 4,
 "nbformat_minor": 5
}
