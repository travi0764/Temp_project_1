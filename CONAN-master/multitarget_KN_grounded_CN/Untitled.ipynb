{
 "cells": [
  {
   "cell_type": "code",
   "execution_count": 1,
   "id": "7dee2c9f",
   "metadata": {},
   "outputs": [],
   "source": [
    "import pandas as pd"
   ]
  },
  {
   "cell_type": "code",
   "execution_count": 2,
   "id": "995ebc70",
   "metadata": {},
   "outputs": [],
   "source": [
    "data=pd.read_csv(\"multitarget_KN_grounded_CN.csv\")"
   ]
  },
  {
   "cell_type": "code",
   "execution_count": 3,
   "id": "5f9410e7",
   "metadata": {},
   "outputs": [
    {
     "data": {
      "text/html": [
       "<div>\n",
       "<style scoped>\n",
       "    .dataframe tbody tr th:only-of-type {\n",
       "        vertical-align: middle;\n",
       "    }\n",
       "\n",
       "    .dataframe tbody tr th {\n",
       "        vertical-align: top;\n",
       "    }\n",
       "\n",
       "    .dataframe thead th {\n",
       "        text-align: right;\n",
       "    }\n",
       "</style>\n",
       "<table border=\"1\" class=\"dataframe\">\n",
       "  <thead>\n",
       "    <tr style=\"text-align: right;\">\n",
       "      <th></th>\n",
       "      <th>hate_speech</th>\n",
       "      <th>knowledge_sentence</th>\n",
       "      <th>counter_narrative</th>\n",
       "      <th>target</th>\n",
       "    </tr>\n",
       "  </thead>\n",
       "  <tbody>\n",
       "    <tr>\n",
       "      <th>0</th>\n",
       "      <td>Jews are selfish, cheap and greedy.</td>\n",
       "      <td>One tutor teaches each student Hebrew, the oth...</td>\n",
       "      <td>You might not be aware of Jewish tradition of ...</td>\n",
       "      <td>Antisemitism</td>\n",
       "    </tr>\n",
       "    <tr>\n",
       "      <th>1</th>\n",
       "      <td>Jews are Christ Killers.</td>\n",
       "      <td>Pope Benedict XVI has made a sweeping exonerat...</td>\n",
       "      <td>While the Catholic Church has for decades taug...</td>\n",
       "      <td>Antisemitism</td>\n",
       "    </tr>\n",
       "    <tr>\n",
       "      <th>2</th>\n",
       "      <td>Go and reat the Protocols of the elders of Zio...</td>\n",
       "      <td>When talk turns to worldwide conspiracies, the...</td>\n",
       "      <td>When talk turns to worldwide conspiracies, the...</td>\n",
       "      <td>Antisemitism</td>\n",
       "    </tr>\n",
       "    <tr>\n",
       "      <th>3</th>\n",
       "      <td>Go and reat the Protocols of the elders of Zio...</td>\n",
       "      <td>When talk turns to worldwide conspiracies, the...</td>\n",
       "      <td>When talk turns to worldwide conspiracies, the...</td>\n",
       "      <td>Antisemitism</td>\n",
       "    </tr>\n",
       "    <tr>\n",
       "      <th>4</th>\n",
       "      <td>Go and reat the Protocols of the elders of Zio...</td>\n",
       "      <td>When talk turns to worldwide conspiracies, the...</td>\n",
       "      <td>When talk turns to worldwide conspiracies, the...</td>\n",
       "      <td>Antisemitism</td>\n",
       "    </tr>\n",
       "    <tr>\n",
       "      <th>...</th>\n",
       "      <td>...</td>\n",
       "      <td>...</td>\n",
       "      <td>...</td>\n",
       "      <td>...</td>\n",
       "    </tr>\n",
       "    <tr>\n",
       "      <th>190</th>\n",
       "      <td>Many philosophers argue that humans are not bo...</td>\n",
       "      <td>defense is that it’s a classic argument from a...</td>\n",
       "      <td>This is a classic argument from authority, a l...</td>\n",
       "      <td>Racism</td>\n",
       "    </tr>\n",
       "    <tr>\n",
       "      <th>191</th>\n",
       "      <td>We cannot coexist in a society with millions o...</td>\n",
       "      <td>We call it the “Aloha Spirit”: the mood of wel...</td>\n",
       "      <td>This reminds me of the Hawaii, which has been ...</td>\n",
       "      <td>Racism</td>\n",
       "    </tr>\n",
       "    <tr>\n",
       "      <th>192</th>\n",
       "      <td>We cannot coexist in a society with millions o...</td>\n",
       "      <td>We call it the “Aloha Spirit”: the mood of wel...</td>\n",
       "      <td>Why don't we build on the “Aloha Spirit” inste...</td>\n",
       "      <td>Racism</td>\n",
       "    </tr>\n",
       "    <tr>\n",
       "      <th>193</th>\n",
       "      <td>This is an invasion: we cannot coexist with mi...</td>\n",
       "      <td>\"Our vision at RANSW is for an inclusive socie...</td>\n",
       "      <td>Why don't we discuss about it? I hope that you...</td>\n",
       "      <td>Racism</td>\n",
       "    </tr>\n",
       "    <tr>\n",
       "      <th>194</th>\n",
       "      <td>Some races are poor because they are inferior,...</td>\n",
       "      <td>Young people, and even adults, often wonder ho...</td>\n",
       "      <td>You and I today may not carry the genes to pro...</td>\n",
       "      <td>Racism</td>\n",
       "    </tr>\n",
       "  </tbody>\n",
       "</table>\n",
       "<p>195 rows × 4 columns</p>\n",
       "</div>"
      ],
      "text/plain": [
       "                                           hate_speech  \\\n",
       "0                  Jews are selfish, cheap and greedy.   \n",
       "1                             Jews are Christ Killers.   \n",
       "2    Go and reat the Protocols of the elders of Zio...   \n",
       "3    Go and reat the Protocols of the elders of Zio...   \n",
       "4    Go and reat the Protocols of the elders of Zio...   \n",
       "..                                                 ...   \n",
       "190  Many philosophers argue that humans are not bo...   \n",
       "191  We cannot coexist in a society with millions o...   \n",
       "192  We cannot coexist in a society with millions o...   \n",
       "193  This is an invasion: we cannot coexist with mi...   \n",
       "194  Some races are poor because they are inferior,...   \n",
       "\n",
       "                                    knowledge_sentence  \\\n",
       "0    One tutor teaches each student Hebrew, the oth...   \n",
       "1    Pope Benedict XVI has made a sweeping exonerat...   \n",
       "2    When talk turns to worldwide conspiracies, the...   \n",
       "3    When talk turns to worldwide conspiracies, the...   \n",
       "4    When talk turns to worldwide conspiracies, the...   \n",
       "..                                                 ...   \n",
       "190  defense is that it’s a classic argument from a...   \n",
       "191  We call it the “Aloha Spirit”: the mood of wel...   \n",
       "192  We call it the “Aloha Spirit”: the mood of wel...   \n",
       "193  \"Our vision at RANSW is for an inclusive socie...   \n",
       "194  Young people, and even adults, often wonder ho...   \n",
       "\n",
       "                                     counter_narrative        target  \n",
       "0    You might not be aware of Jewish tradition of ...  Antisemitism  \n",
       "1    While the Catholic Church has for decades taug...  Antisemitism  \n",
       "2    When talk turns to worldwide conspiracies, the...  Antisemitism  \n",
       "3    When talk turns to worldwide conspiracies, the...  Antisemitism  \n",
       "4    When talk turns to worldwide conspiracies, the...  Antisemitism  \n",
       "..                                                 ...           ...  \n",
       "190  This is a classic argument from authority, a l...        Racism  \n",
       "191  This reminds me of the Hawaii, which has been ...        Racism  \n",
       "192  Why don't we build on the “Aloha Spirit” inste...        Racism  \n",
       "193  Why don't we discuss about it? I hope that you...        Racism  \n",
       "194  You and I today may not carry the genes to pro...        Racism  \n",
       "\n",
       "[195 rows x 4 columns]"
      ]
     },
     "execution_count": 3,
     "metadata": {},
     "output_type": "execute_result"
    }
   ],
   "source": [
    "data"
   ]
  },
  {
   "cell_type": "code",
   "execution_count": 4,
   "id": "b0cc5eff",
   "metadata": {},
   "outputs": [
    {
     "data": {
      "text/plain": [
       "(195, 4)"
      ]
     },
     "execution_count": 4,
     "metadata": {},
     "output_type": "execute_result"
    }
   ],
   "source": [
    "data.shape"
   ]
  },
  {
   "cell_type": "code",
   "execution_count": 5,
   "id": "7facd063",
   "metadata": {},
   "outputs": [
    {
     "data": {
      "text/plain": [
       "Islamophobia    51\n",
       "Antisemitism    50\n",
       "Homophobia      39\n",
       "Racism          29\n",
       "Misogyny        26\n",
       "Name: target, dtype: int64"
      ]
     },
     "execution_count": 5,
     "metadata": {},
     "output_type": "execute_result"
    }
   ],
   "source": [
    "data.target.value_counts()"
   ]
  },
  {
   "cell_type": "code",
   "execution_count": null,
   "id": "8b22ff75",
   "metadata": {},
   "outputs": [],
   "source": []
  }
 ],
 "metadata": {
  "kernelspec": {
   "display_name": "Python 3 (ipykernel)",
   "language": "python",
   "name": "python3"
  },
  "language_info": {
   "codemirror_mode": {
    "name": "ipython",
    "version": 3
   },
   "file_extension": ".py",
   "mimetype": "text/x-python",
   "name": "python",
   "nbconvert_exporter": "python",
   "pygments_lexer": "ipython3",
   "version": "3.9.7"
  }
 },
 "nbformat": 4,
 "nbformat_minor": 5
}
